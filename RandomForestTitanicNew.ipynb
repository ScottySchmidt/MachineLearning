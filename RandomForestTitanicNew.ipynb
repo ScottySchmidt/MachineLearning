{
 "cells": [
  {
   "cell_type": "markdown",
   "id": "a38db26d",
   "metadata": {
    "papermill": {
     "duration": 0.034822,
     "end_time": "2025-07-05T22:25:55.213116",
     "exception": false,
     "start_time": "2025-07-05T22:25:55.178294",
     "status": "completed"
    },
    "tags": []
   },
   "source": [
    "# \"Random Forest Grid Search | Avoid Overfitting | Top 5% Kaggle Titanic\"\n",
    "If you’ve ever struggled with your models overfitting the training data, you’re not alone.\n",
    "In my last video, I showed how a decision tree overfits the Titanic dataset: www.youtube.com/watch?v=offRb9fBOuw&t=29s\n",
    "Today, we’ll fix that using Random Forest, and I’ll show you how I tuned it with Grid Search to land in the Top 5% on Kaggle\n",
    "\n",
    "Top 5% Score on Titanic Data\n",
    "All My Models: https://github.com/ScottySchmidt/Kaggle/blob/main/Titanic.ipynb"
   ]
  },
  {
   "cell_type": "markdown",
   "id": "d47b7b46",
   "metadata": {
    "papermill": {
     "duration": 0.026744,
     "end_time": "2025-07-05T22:25:55.266485",
     "exception": false,
     "start_time": "2025-07-05T22:25:55.239741",
     "status": "completed"
    },
    "tags": []
   },
   "source": [
    "# Train Data\n",
    "Train.csv will contain the details of a subset of the passengers on board (891 to be exact) and whether they survive or not. The shape of the train data is (891, 12). "
   ]
  },
  {
   "cell_type": "code",
   "execution_count": 1,
   "id": "c31a18f9",
   "metadata": {
    "execution": {
     "iopub.execute_input": "2025-07-05T22:25:55.321274Z",
     "iopub.status.busy": "2025-07-05T22:25:55.320774Z",
     "iopub.status.idle": "2025-07-05T22:25:56.830374Z",
     "shell.execute_reply": "2025-07-05T22:25:56.829478Z"
    },
    "papermill": {
     "duration": 1.540676,
     "end_time": "2025-07-05T22:25:56.833471",
     "exception": false,
     "start_time": "2025-07-05T22:25:55.292795",
     "status": "completed"
    },
    "tags": []
   },
   "outputs": [
    {
     "name": "stdout",
     "output_type": "stream",
     "text": [
      "(891, 12)\n"
     ]
    },
    {
     "data": {
      "text/html": [
       "<div>\n",
       "<style scoped>\n",
       "    .dataframe tbody tr th:only-of-type {\n",
       "        vertical-align: middle;\n",
       "    }\n",
       "\n",
       "    .dataframe tbody tr th {\n",
       "        vertical-align: top;\n",
       "    }\n",
       "\n",
       "    .dataframe thead th {\n",
       "        text-align: right;\n",
       "    }\n",
       "</style>\n",
       "<table border=\"1\" class=\"dataframe\">\n",
       "  <thead>\n",
       "    <tr style=\"text-align: right;\">\n",
       "      <th></th>\n",
       "      <th>PassengerId</th>\n",
       "      <th>Survived</th>\n",
       "      <th>Pclass</th>\n",
       "      <th>Name</th>\n",
       "      <th>Sex</th>\n",
       "      <th>Age</th>\n",
       "      <th>SibSp</th>\n",
       "      <th>Parch</th>\n",
       "      <th>Ticket</th>\n",
       "      <th>Fare</th>\n",
       "      <th>Cabin</th>\n",
       "      <th>Embarked</th>\n",
       "    </tr>\n",
       "  </thead>\n",
       "  <tbody>\n",
       "    <tr>\n",
       "      <th>0</th>\n",
       "      <td>1</td>\n",
       "      <td>0</td>\n",
       "      <td>3</td>\n",
       "      <td>Braund, Mr. Owen Harris</td>\n",
       "      <td>male</td>\n",
       "      <td>22.0</td>\n",
       "      <td>1</td>\n",
       "      <td>0</td>\n",
       "      <td>A/5 21171</td>\n",
       "      <td>7.2500</td>\n",
       "      <td>NaN</td>\n",
       "      <td>S</td>\n",
       "    </tr>\n",
       "    <tr>\n",
       "      <th>1</th>\n",
       "      <td>2</td>\n",
       "      <td>1</td>\n",
       "      <td>1</td>\n",
       "      <td>Cumings, Mrs. John Bradley (Florence Briggs Th...</td>\n",
       "      <td>female</td>\n",
       "      <td>38.0</td>\n",
       "      <td>1</td>\n",
       "      <td>0</td>\n",
       "      <td>PC 17599</td>\n",
       "      <td>71.2833</td>\n",
       "      <td>C85</td>\n",
       "      <td>C</td>\n",
       "    </tr>\n",
       "    <tr>\n",
       "      <th>2</th>\n",
       "      <td>3</td>\n",
       "      <td>1</td>\n",
       "      <td>3</td>\n",
       "      <td>Heikkinen, Miss. Laina</td>\n",
       "      <td>female</td>\n",
       "      <td>26.0</td>\n",
       "      <td>0</td>\n",
       "      <td>0</td>\n",
       "      <td>STON/O2. 3101282</td>\n",
       "      <td>7.9250</td>\n",
       "      <td>NaN</td>\n",
       "      <td>S</td>\n",
       "    </tr>\n",
       "    <tr>\n",
       "      <th>3</th>\n",
       "      <td>4</td>\n",
       "      <td>1</td>\n",
       "      <td>1</td>\n",
       "      <td>Futrelle, Mrs. Jacques Heath (Lily May Peel)</td>\n",
       "      <td>female</td>\n",
       "      <td>35.0</td>\n",
       "      <td>1</td>\n",
       "      <td>0</td>\n",
       "      <td>113803</td>\n",
       "      <td>53.1000</td>\n",
       "      <td>C123</td>\n",
       "      <td>S</td>\n",
       "    </tr>\n",
       "    <tr>\n",
       "      <th>4</th>\n",
       "      <td>5</td>\n",
       "      <td>0</td>\n",
       "      <td>3</td>\n",
       "      <td>Allen, Mr. William Henry</td>\n",
       "      <td>male</td>\n",
       "      <td>35.0</td>\n",
       "      <td>0</td>\n",
       "      <td>0</td>\n",
       "      <td>373450</td>\n",
       "      <td>8.0500</td>\n",
       "      <td>NaN</td>\n",
       "      <td>S</td>\n",
       "    </tr>\n",
       "  </tbody>\n",
       "</table>\n",
       "</div>"
      ],
      "text/plain": [
       "   PassengerId  Survived  Pclass  \\\n",
       "0            1         0       3   \n",
       "1            2         1       1   \n",
       "2            3         1       3   \n",
       "3            4         1       1   \n",
       "4            5         0       3   \n",
       "\n",
       "                                                Name     Sex   Age  SibSp  \\\n",
       "0                            Braund, Mr. Owen Harris    male  22.0      1   \n",
       "1  Cumings, Mrs. John Bradley (Florence Briggs Th...  female  38.0      1   \n",
       "2                             Heikkinen, Miss. Laina  female  26.0      0   \n",
       "3       Futrelle, Mrs. Jacques Heath (Lily May Peel)  female  35.0      1   \n",
       "4                           Allen, Mr. William Henry    male  35.0      0   \n",
       "\n",
       "   Parch            Ticket     Fare Cabin Embarked  \n",
       "0      0         A/5 21171   7.2500   NaN        S  \n",
       "1      0          PC 17599  71.2833   C85        C  \n",
       "2      0  STON/O2. 3101282   7.9250   NaN        S  \n",
       "3      0            113803  53.1000  C123        S  \n",
       "4      0            373450   8.0500   NaN        S  "
      ]
     },
     "execution_count": 1,
     "metadata": {},
     "output_type": "execute_result"
    }
   ],
   "source": [
    "import numpy as np\n",
    "import pandas as pd\n",
    "import seaborn as sns\n",
    "import matplotlib.pyplot as plt\n",
    "from sklearn.model_selection import train_test_split, cross_validate\n",
    "from statistics import mean\n",
    "from sklearn.metrics import accuracy_score, classification_report, mean_absolute_error, mean_squared_error, r2_score\n",
    "from sklearn.datasets import make_classification\n",
    "from sklearn import ensemble\n",
    "import sklearn.metrics as metrics\n",
    "import time\n",
    "from math import sqrt\n",
    "\n",
    "train=r'/kaggle/input/titanic/train.csv'\n",
    "test=r'/kaggle/input/titanic/test.csv' \n",
    "\n",
    "df=pd.read_csv(train)\n",
    "test=pd.read_csv(test)\n",
    "\n",
    "print(df.shape)\n",
    "df.head()"
   ]
  },
  {
   "cell_type": "code",
   "execution_count": 2,
   "id": "3f43d09a",
   "metadata": {
    "execution": {
     "iopub.execute_input": "2025-07-05T22:25:56.892457Z",
     "iopub.status.busy": "2025-07-05T22:25:56.891779Z",
     "iopub.status.idle": "2025-07-05T22:25:56.899075Z",
     "shell.execute_reply": "2025-07-05T22:25:56.898229Z"
    },
    "papermill": {
     "duration": 0.037558,
     "end_time": "2025-07-05T22:25:56.901010",
     "exception": false,
     "start_time": "2025-07-05T22:25:56.863452",
     "status": "completed"
    },
    "tags": []
   },
   "outputs": [
    {
     "data": {
      "text/plain": [
       "PassengerId      int64\n",
       "Survived         int64\n",
       "Pclass           int64\n",
       "Name            object\n",
       "Sex             object\n",
       "Age            float64\n",
       "SibSp            int64\n",
       "Parch            int64\n",
       "Ticket          object\n",
       "Fare           float64\n",
       "Cabin           object\n",
       "Embarked        object\n",
       "dtype: object"
      ]
     },
     "execution_count": 2,
     "metadata": {},
     "output_type": "execute_result"
    }
   ],
   "source": [
    "df.dtypes"
   ]
  },
  {
   "cell_type": "code",
   "execution_count": 3,
   "id": "ffe6979d",
   "metadata": {
    "execution": {
     "iopub.execute_input": "2025-07-05T22:25:56.958473Z",
     "iopub.status.busy": "2025-07-05T22:25:56.958092Z",
     "iopub.status.idle": "2025-07-05T22:25:56.982563Z",
     "shell.execute_reply": "2025-07-05T22:25:56.981667Z"
    },
    "papermill": {
     "duration": 0.055244,
     "end_time": "2025-07-05T22:25:56.984447",
     "exception": false,
     "start_time": "2025-07-05T22:25:56.929203",
     "status": "completed"
    },
    "tags": []
   },
   "outputs": [
    {
     "name": "stdout",
     "output_type": "stream",
     "text": [
      "Total no of duplicate values in Training Dataset = 0\n"
     ]
    },
    {
     "data": {
      "text/html": [
       "<div>\n",
       "<style scoped>\n",
       "    .dataframe tbody tr th:only-of-type {\n",
       "        vertical-align: middle;\n",
       "    }\n",
       "\n",
       "    .dataframe tbody tr th {\n",
       "        vertical-align: top;\n",
       "    }\n",
       "\n",
       "    .dataframe thead th {\n",
       "        text-align: right;\n",
       "    }\n",
       "</style>\n",
       "<table border=\"1\" class=\"dataframe\">\n",
       "  <thead>\n",
       "    <tr style=\"text-align: right;\">\n",
       "      <th></th>\n",
       "      <th>PassengerId</th>\n",
       "      <th>Survived</th>\n",
       "      <th>Pclass</th>\n",
       "      <th>Name</th>\n",
       "      <th>Sex</th>\n",
       "      <th>Age</th>\n",
       "      <th>SibSp</th>\n",
       "      <th>Parch</th>\n",
       "      <th>Ticket</th>\n",
       "      <th>Fare</th>\n",
       "      <th>Cabin</th>\n",
       "      <th>Embarked</th>\n",
       "    </tr>\n",
       "  </thead>\n",
       "  <tbody>\n",
       "  </tbody>\n",
       "</table>\n",
       "</div>"
      ],
      "text/plain": [
       "Empty DataFrame\n",
       "Columns: [PassengerId, Survived, Pclass, Name, Sex, Age, SibSp, Parch, Ticket, Fare, Cabin, Embarked]\n",
       "Index: []"
      ]
     },
     "execution_count": 3,
     "metadata": {},
     "output_type": "execute_result"
    }
   ],
   "source": [
    "#Check Duplicates:\n",
    "dupstr = df.duplicated()\n",
    "print('Total no of duplicate values in Training Dataset = %d' % (dupstr.sum()))\n",
    "df[dupstr]"
   ]
  },
  {
   "cell_type": "code",
   "execution_count": 4,
   "id": "239995ae",
   "metadata": {
    "execution": {
     "iopub.execute_input": "2025-07-05T22:25:57.043597Z",
     "iopub.status.busy": "2025-07-05T22:25:57.043310Z",
     "iopub.status.idle": "2025-07-05T22:25:57.053386Z",
     "shell.execute_reply": "2025-07-05T22:25:57.052506Z"
    },
    "papermill": {
     "duration": 0.042358,
     "end_time": "2025-07-05T22:25:57.055513",
     "exception": false,
     "start_time": "2025-07-05T22:25:57.013155",
     "status": "completed"
    },
    "tags": []
   },
   "outputs": [
    {
     "name": "stdout",
     "output_type": "stream",
     "text": [
      "Missing data by column as a percent:\n",
      "Cabin          0.771044\n",
      "Age            0.198653\n",
      "Embarked       0.002245\n",
      "PassengerId    0.000000\n",
      "Survived       0.000000\n",
      "dtype: float64\n"
     ]
    }
   ],
   "source": [
    "#search for columns with missing values:\n",
    "def findNA():\n",
    "    print(\"Missing data by column as a percent:\")\n",
    "    findNA=df.isnull().sum().sort_values(ascending=False)/len(df)\n",
    "    print(findNA.head())\n",
    "findNA() "
   ]
  },
  {
   "cell_type": "markdown",
   "id": "25a76afc",
   "metadata": {
    "papermill": {
     "duration": 0.02921,
     "end_time": "2025-07-05T22:25:57.113858",
     "exception": false,
     "start_time": "2025-07-05T22:25:57.084648",
     "status": "completed"
    },
    "tags": []
   },
   "source": [
    "# Feature Engineer\n",
    "We need to replace male and female into numbers. This is a very important part of the process because gender is one of the highest predictors on if a person survived or not."
   ]
  },
  {
   "cell_type": "code",
   "execution_count": 5,
   "id": "9b9b6eb4",
   "metadata": {
    "execution": {
     "iopub.execute_input": "2025-07-05T22:25:57.172821Z",
     "iopub.status.busy": "2025-07-05T22:25:57.172502Z",
     "iopub.status.idle": "2025-07-05T22:25:57.178548Z",
     "shell.execute_reply": "2025-07-05T22:25:57.177827Z"
    },
    "papermill": {
     "duration": 0.037652,
     "end_time": "2025-07-05T22:25:57.180320",
     "exception": false,
     "start_time": "2025-07-05T22:25:57.142668",
     "status": "completed"
    },
    "tags": []
   },
   "outputs": [],
   "source": [
    "#GENDER\n",
    "df['Sex']=df['Sex'].map({'female':0,'male':1})"
   ]
  },
  {
   "cell_type": "markdown",
   "id": "f258886d",
   "metadata": {
    "papermill": {
     "duration": 0.028194,
     "end_time": "2025-07-05T22:25:57.236867",
     "exception": false,
     "start_time": "2025-07-05T22:25:57.208673",
     "status": "completed"
    },
    "tags": []
   },
   "source": [
    "Females whose number is 0 had a much higher chance of surving than males. Later on, doing the importance feature analysis we will view that gender is actually one of the highest predictors. "
   ]
  },
  {
   "cell_type": "code",
   "execution_count": 6,
   "id": "6ff03c82",
   "metadata": {
    "execution": {
     "iopub.execute_input": "2025-07-05T22:25:57.295652Z",
     "iopub.status.busy": "2025-07-05T22:25:57.295359Z",
     "iopub.status.idle": "2025-07-05T22:25:57.325391Z",
     "shell.execute_reply": "2025-07-05T22:25:57.324560Z"
    },
    "papermill": {
     "duration": 0.061919,
     "end_time": "2025-07-05T22:25:57.327454",
     "exception": false,
     "start_time": "2025-07-05T22:25:57.265535",
     "status": "completed"
    },
    "tags": []
   },
   "outputs": [
    {
     "data": {
      "text/html": [
       "<div>\n",
       "<style scoped>\n",
       "    .dataframe tbody tr th:only-of-type {\n",
       "        vertical-align: middle;\n",
       "    }\n",
       "\n",
       "    .dataframe tbody tr th {\n",
       "        vertical-align: top;\n",
       "    }\n",
       "\n",
       "    .dataframe thead th {\n",
       "        text-align: right;\n",
       "    }\n",
       "</style>\n",
       "<table border=\"1\" class=\"dataframe\">\n",
       "  <thead>\n",
       "    <tr style=\"text-align: right;\">\n",
       "      <th>Sex</th>\n",
       "      <th>0</th>\n",
       "      <th>1</th>\n",
       "    </tr>\n",
       "    <tr>\n",
       "      <th>Survived</th>\n",
       "      <th></th>\n",
       "      <th></th>\n",
       "    </tr>\n",
       "  </thead>\n",
       "  <tbody>\n",
       "    <tr>\n",
       "      <th>0</th>\n",
       "      <td>81</td>\n",
       "      <td>468</td>\n",
       "    </tr>\n",
       "    <tr>\n",
       "      <th>1</th>\n",
       "      <td>233</td>\n",
       "      <td>109</td>\n",
       "    </tr>\n",
       "  </tbody>\n",
       "</table>\n",
       "</div>"
      ],
      "text/plain": [
       "Sex         0    1\n",
       "Survived          \n",
       "0          81  468\n",
       "1         233  109"
      ]
     },
     "execution_count": 6,
     "metadata": {},
     "output_type": "execute_result"
    }
   ],
   "source": [
    "genderTable = pd.crosstab(df['Survived'],df['Sex'])\n",
    "genderTable"
   ]
  },
  {
   "cell_type": "markdown",
   "id": "34dc5133",
   "metadata": {
    "papermill": {
     "duration": 0.028475,
     "end_time": "2025-07-05T22:25:57.384812",
     "exception": false,
     "start_time": "2025-07-05T22:25:57.356337",
     "status": "completed"
    },
    "tags": []
   },
   "source": [
    "# Encode Categorical Variables\n",
    "Encode Categorical Variables is needed for this dataset since there are many important variables that are not numeric yet. \n",
    "\n",
    "There are three classes C, Q, and S. Class C seems to have the highest chance of survival. Class S has the lowest chance of survival. Unfornately this would tend to show that economic status seems to played a part in the decision if someone survived or not. Embarked does not play role major role in feature importance. "
   ]
  },
  {
   "cell_type": "code",
   "execution_count": 7,
   "id": "e1cab1d4",
   "metadata": {
    "execution": {
     "iopub.execute_input": "2025-07-05T22:25:57.445164Z",
     "iopub.status.busy": "2025-07-05T22:25:57.444854Z",
     "iopub.status.idle": "2025-07-05T22:25:57.626436Z",
     "shell.execute_reply": "2025-07-05T22:25:57.625670Z"
    },
    "papermill": {
     "duration": 0.215389,
     "end_time": "2025-07-05T22:25:57.628765",
     "exception": false,
     "start_time": "2025-07-05T22:25:57.413376",
     "status": "completed"
    },
    "tags": []
   },
   "outputs": [],
   "source": [
    "import category_encoders as ce\n",
    "#encoder = ce.OrdinalEncoder(cols=['Embarked'])\n",
    "\n",
    "#df = encoder.fit_transform(df)\n",
    "#test = encoder.fit_transform(test)\n",
    "#test.head()"
   ]
  },
  {
   "cell_type": "markdown",
   "id": "513bee19",
   "metadata": {
    "papermill": {
     "duration": 0.029172,
     "end_time": "2025-07-05T22:25:57.687839",
     "exception": false,
     "start_time": "2025-07-05T22:25:57.658667",
     "status": "completed"
    },
    "tags": []
   },
   "source": [
    "# Examine Target Variable\n",
    "Survived is the Y variable we will be analyzing. Since the survival rete is 0.384 the data is not considered unbalanced. "
   ]
  },
  {
   "cell_type": "code",
   "execution_count": 8,
   "id": "d529c78c",
   "metadata": {
    "execution": {
     "iopub.execute_input": "2025-07-05T22:25:57.748461Z",
     "iopub.status.busy": "2025-07-05T22:25:57.748174Z",
     "iopub.status.idle": "2025-07-05T22:25:57.755731Z",
     "shell.execute_reply": "2025-07-05T22:25:57.754871Z"
    },
    "papermill": {
     "duration": 0.039806,
     "end_time": "2025-07-05T22:25:57.757838",
     "exception": false,
     "start_time": "2025-07-05T22:25:57.718032",
     "status": "completed"
    },
    "tags": []
   },
   "outputs": [
    {
     "name": "stdout",
     "output_type": "stream",
     "text": [
      "0    549\n",
      "1    342\n",
      "Name: Survived, dtype: int64\n",
      "Percent that survived:  0.384\n"
     ]
    }
   ],
   "source": [
    "temp=df['Survived'].value_counts()\n",
    "print(temp)\n",
    "no=temp[0]\n",
    "yes=temp[1]\n",
    "percent=round(yes/(yes+no),3)\n",
    "print(\"Percent that survived: \", percent)"
   ]
  },
  {
   "cell_type": "markdown",
   "id": "42b1aeb9",
   "metadata": {
    "papermill": {
     "duration": 0.029847,
     "end_time": "2025-07-05T22:25:57.817299",
     "exception": false,
     "start_time": "2025-07-05T22:25:57.787452",
     "status": "completed"
    },
    "tags": []
   },
   "source": [
    "# Numeric DataFrame\n",
    "For now, we will analyze only numeric values. Categorical values will need to be encoded or analyzed individually."
   ]
  },
  {
   "cell_type": "code",
   "execution_count": 9,
   "id": "68675dc9",
   "metadata": {
    "execution": {
     "iopub.execute_input": "2025-07-05T22:25:57.877818Z",
     "iopub.status.busy": "2025-07-05T22:25:57.877154Z",
     "iopub.status.idle": "2025-07-05T22:25:57.891084Z",
     "shell.execute_reply": "2025-07-05T22:25:57.890212Z"
    },
    "papermill": {
     "duration": 0.046617,
     "end_time": "2025-07-05T22:25:57.893301",
     "exception": false,
     "start_time": "2025-07-05T22:25:57.846684",
     "status": "completed"
    },
    "tags": []
   },
   "outputs": [
    {
     "data": {
      "text/html": [
       "<div>\n",
       "<style scoped>\n",
       "    .dataframe tbody tr th:only-of-type {\n",
       "        vertical-align: middle;\n",
       "    }\n",
       "\n",
       "    .dataframe tbody tr th {\n",
       "        vertical-align: top;\n",
       "    }\n",
       "\n",
       "    .dataframe thead th {\n",
       "        text-align: right;\n",
       "    }\n",
       "</style>\n",
       "<table border=\"1\" class=\"dataframe\">\n",
       "  <thead>\n",
       "    <tr style=\"text-align: right;\">\n",
       "      <th></th>\n",
       "      <th>PassengerId</th>\n",
       "      <th>Survived</th>\n",
       "      <th>Pclass</th>\n",
       "      <th>Sex</th>\n",
       "      <th>Age</th>\n",
       "      <th>SibSp</th>\n",
       "      <th>Parch</th>\n",
       "      <th>Fare</th>\n",
       "    </tr>\n",
       "  </thead>\n",
       "  <tbody>\n",
       "    <tr>\n",
       "      <th>0</th>\n",
       "      <td>1</td>\n",
       "      <td>0</td>\n",
       "      <td>3</td>\n",
       "      <td>1</td>\n",
       "      <td>22.0</td>\n",
       "      <td>1</td>\n",
       "      <td>0</td>\n",
       "      <td>7.2500</td>\n",
       "    </tr>\n",
       "    <tr>\n",
       "      <th>1</th>\n",
       "      <td>2</td>\n",
       "      <td>1</td>\n",
       "      <td>1</td>\n",
       "      <td>0</td>\n",
       "      <td>38.0</td>\n",
       "      <td>1</td>\n",
       "      <td>0</td>\n",
       "      <td>71.2833</td>\n",
       "    </tr>\n",
       "    <tr>\n",
       "      <th>2</th>\n",
       "      <td>3</td>\n",
       "      <td>1</td>\n",
       "      <td>3</td>\n",
       "      <td>0</td>\n",
       "      <td>26.0</td>\n",
       "      <td>0</td>\n",
       "      <td>0</td>\n",
       "      <td>7.9250</td>\n",
       "    </tr>\n",
       "    <tr>\n",
       "      <th>3</th>\n",
       "      <td>4</td>\n",
       "      <td>1</td>\n",
       "      <td>1</td>\n",
       "      <td>0</td>\n",
       "      <td>35.0</td>\n",
       "      <td>1</td>\n",
       "      <td>0</td>\n",
       "      <td>53.1000</td>\n",
       "    </tr>\n",
       "    <tr>\n",
       "      <th>4</th>\n",
       "      <td>5</td>\n",
       "      <td>0</td>\n",
       "      <td>3</td>\n",
       "      <td>1</td>\n",
       "      <td>35.0</td>\n",
       "      <td>0</td>\n",
       "      <td>0</td>\n",
       "      <td>8.0500</td>\n",
       "    </tr>\n",
       "  </tbody>\n",
       "</table>\n",
       "</div>"
      ],
      "text/plain": [
       "   PassengerId  Survived  Pclass  Sex   Age  SibSp  Parch     Fare\n",
       "0            1         0       3    1  22.0      1      0   7.2500\n",
       "1            2         1       1    0  38.0      1      0  71.2833\n",
       "2            3         1       3    0  26.0      0      0   7.9250\n",
       "3            4         1       1    0  35.0      1      0  53.1000\n",
       "4            5         0       3    1  35.0      0      0   8.0500"
      ]
     },
     "execution_count": 9,
     "metadata": {},
     "output_type": "execute_result"
    }
   ],
   "source": [
    "numerics = ['int16', 'int32', 'int64', 'float16', 'float32', 'float64']\n",
    "df = df.select_dtypes(include=numerics)\n",
    "df.head()"
   ]
  },
  {
   "cell_type": "markdown",
   "id": "e9dcda14",
   "metadata": {
    "papermill": {
     "duration": 0.029317,
     "end_time": "2025-07-05T22:25:57.952359",
     "exception": false,
     "start_time": "2025-07-05T22:25:57.923042",
     "status": "completed"
    },
    "tags": []
   },
   "source": [
    "# Check for missing values\n",
    "Age is missing around 20% of values.Therefore, we can simply fill in the mean for that one column."
   ]
  },
  {
   "cell_type": "code",
   "execution_count": 10,
   "id": "1826d8cb",
   "metadata": {
    "execution": {
     "iopub.execute_input": "2025-07-05T22:25:58.013713Z",
     "iopub.status.busy": "2025-07-05T22:25:58.013447Z",
     "iopub.status.idle": "2025-07-05T22:25:58.021936Z",
     "shell.execute_reply": "2025-07-05T22:25:58.021074Z"
    },
    "papermill": {
     "duration": 0.042052,
     "end_time": "2025-07-05T22:25:58.023890",
     "exception": false,
     "start_time": "2025-07-05T22:25:57.981838",
     "status": "completed"
    },
    "tags": []
   },
   "outputs": [
    {
     "name": "stdout",
     "output_type": "stream",
     "text": [
      "Missing data by column as a percent:\n",
      "Age            0.198653\n",
      "PassengerId    0.000000\n",
      "Survived       0.000000\n",
      "Pclass         0.000000\n",
      "Sex            0.000000\n",
      "dtype: float64\n"
     ]
    }
   ],
   "source": [
    "#search for columns with missing values:\n",
    "def findNA():\n",
    "    print(\"Missing data by column as a percent:\")\n",
    "    findNA=df.isnull().sum().sort_values(ascending=False)/len(df)\n",
    "    print(findNA.head())\n",
    "findNA() "
   ]
  },
  {
   "cell_type": "code",
   "execution_count": 11,
   "id": "0edb8497",
   "metadata": {
    "execution": {
     "iopub.execute_input": "2025-07-05T22:25:58.086173Z",
     "iopub.status.busy": "2025-07-05T22:25:58.085844Z",
     "iopub.status.idle": "2025-07-05T22:25:58.093882Z",
     "shell.execute_reply": "2025-07-05T22:25:58.093035Z"
    },
    "papermill": {
     "duration": 0.041878,
     "end_time": "2025-07-05T22:25:58.095904",
     "exception": false,
     "start_time": "2025-07-05T22:25:58.054026",
     "status": "completed"
    },
    "tags": []
   },
   "outputs": [],
   "source": [
    "df= df.fillna(df.mean())"
   ]
  },
  {
   "cell_type": "markdown",
   "id": "79278119",
   "metadata": {
    "papermill": {
     "duration": 0.029555,
     "end_time": "2025-07-05T22:25:58.157769",
     "exception": false,
     "start_time": "2025-07-05T22:25:58.128214",
     "status": "completed"
    },
    "tags": []
   },
   "source": [
    "# Split Data"
   ]
  },
  {
   "cell_type": "code",
   "execution_count": 12,
   "id": "9f872239",
   "metadata": {
    "execution": {
     "iopub.execute_input": "2025-07-05T22:25:58.218555Z",
     "iopub.status.busy": "2025-07-05T22:25:58.218237Z",
     "iopub.status.idle": "2025-07-05T22:25:58.226930Z",
     "shell.execute_reply": "2025-07-05T22:25:58.225920Z"
    },
    "papermill": {
     "duration": 0.041538,
     "end_time": "2025-07-05T22:25:58.228884",
     "exception": false,
     "start_time": "2025-07-05T22:25:58.187346",
     "status": "completed"
    },
    "tags": []
   },
   "outputs": [],
   "source": [
    "X=df.drop('Survived', axis=1)\n",
    "y=df['Survived']\n",
    "\n",
    "X_train, X_test, y_train, y_test = train_test_split(\n",
    "    X, y, test_size = 0.33, random_state = 42)"
   ]
  },
  {
   "cell_type": "markdown",
   "id": "f986bbe6",
   "metadata": {
    "papermill": {
     "duration": 0.029752,
     "end_time": "2025-07-05T22:25:58.288419",
     "exception": false,
     "start_time": "2025-07-05T22:25:58.258667",
     "status": "completed"
    },
    "tags": []
   },
   "source": [
    "# Highly Correlated Features\n",
    "There are no highly correlated variables above 80%. Therefore, we do not need to be concerned about removing variables that are too highly correlated. "
   ]
  },
  {
   "cell_type": "markdown",
   "id": "e38f7bed",
   "metadata": {
    "_kg_hide-output": true,
    "papermill": {
     "duration": 0.030606,
     "end_time": "2025-07-05T22:25:58.348988",
     "exception": false,
     "start_time": "2025-07-05T22:25:58.318382",
     "status": "completed"
    },
    "tags": []
   },
   "source": [
    "# Tunning Forest\n",
    "Random forest AUC:  0.8503 which is good results considering forest does not overfit data."
   ]
  },
  {
   "cell_type": "code",
   "execution_count": 13,
   "id": "2575922d",
   "metadata": {
    "execution": {
     "iopub.execute_input": "2025-07-05T22:25:58.410903Z",
     "iopub.status.busy": "2025-07-05T22:25:58.410600Z",
     "iopub.status.idle": "2025-07-05T22:25:59.340004Z",
     "shell.execute_reply": "2025-07-05T22:25:59.339219Z"
    },
    "papermill": {
     "duration": 0.963088,
     "end_time": "2025-07-05T22:25:59.342254",
     "exception": false,
     "start_time": "2025-07-05T22:25:58.379166",
     "status": "completed"
    },
    "tags": []
   },
   "outputs": [
    {
     "name": "stderr",
     "output_type": "stream",
     "text": [
      "/opt/conda/lib/python3.7/site-packages/sklearn/ensemble/_forest.py:564: UserWarning: Some inputs do not have OOB scores. This probably means too few trees were used to compute any reliable OOB estimates.\n",
      "  UserWarning,\n"
     ]
    },
    {
     "data": {
      "image/png": "[encoded data removed]",
      "text/plain": [
       "<Figure size 432x288 with 1 Axes>"
      ]
     },
     "metadata": {
      "needs_background": "light"
     },
     "output_type": "display_data"
    },
    {
     "data": {
      "image/png": "[encoded data removed]",
      "text/plain": [
       "<Figure size 432x288 with 1 Axes>"
      ]
     },
     "metadata": {
      "needs_background": "light"
     },
     "output_type": "display_data"
    }
   ],
   "source": [
    "from sklearn.ensemble import RandomForestRegressor, RandomForestClassifier\n",
    "\n",
    "#Check for Error and find Best n_estimators:\n",
    "def forestNumEst():\n",
    "    numbers= [2, 20, 40, 50, 60, 100]\n",
    "    maeList=[] #error\n",
    "    accList=[]\n",
    "    \n",
    "    for n in numbers:\n",
    "        forest = RandomForestClassifier(n_estimators=n, oob_score = True)\n",
    "        forest.fit(X_train, y_train)\n",
    "        y_pred = forest.predict(X_test)\n",
    "        mae=metrics.mean_absolute_error(y_test, y_pred).round(2)\n",
    "        forest_auc = round( metrics.roc_auc_score(y_test, y_pred), 4 ) \n",
    "        #print(\"Random forest AUC: \", forest_auc) \n",
    "      \n",
    "        accList.append(forest_auc)\n",
    "        maeList.append(mae)\n",
    "        \n",
    "    plt.plot(numbers,accList)\n",
    "    plt.title(\"Forest Estimators\" )\n",
    "    plt.xlabel(\"Estimators\")\n",
    "    plt.ylabel('Accuracy')\n",
    "    plt.legend()\n",
    "    plt.show() \n",
    "    \n",
    "    plt.plot(numbers, maeList)\n",
    "    plt.title(\"Forest Estimators\" )\n",
    "    plt.xlabel(\"Estimators\")\n",
    "    plt.ylabel('error')\n",
    "    plt.legend()\n",
    "    plt.show() \n",
    "\n",
    "forestNumEst() "
   ]
  },
  {
   "cell_type": "code",
   "execution_count": 14,
   "id": "7ed4c2f0",
   "metadata": {
    "execution": {
     "iopub.execute_input": "2025-07-05T22:25:59.407935Z",
     "iopub.status.busy": "2025-07-05T22:25:59.407607Z",
     "iopub.status.idle": "2025-07-05T22:26:00.935258Z",
     "shell.execute_reply": "2025-07-05T22:26:00.934332Z"
    },
    "papermill": {
     "duration": 1.563341,
     "end_time": "2025-07-05T22:26:00.937451",
     "exception": false,
     "start_time": "2025-07-05T22:25:59.374110",
     "status": "completed"
    },
    "tags": []
   },
   "outputs": [
    {
     "data": {
      "image/png": "[encoded data removed]",
      "text/plain": [
       "<Figure size 432x288 with 1 Axes>"
      ]
     },
     "metadata": {
      "needs_background": "light"
     },
     "output_type": "display_data"
    },
    {
     "data": {
      "image/png": "[encoded data removed]",
      "text/plain": [
       "<Figure size 432x288 with 1 Axes>"
      ]
     },
     "metadata": {
      "needs_background": "light"
     },
     "output_type": "display_data"
    }
   ],
   "source": [
    "def forestDepth():\n",
    "    numbers=[None, 2, 3, 4, 5, 7, 10]\n",
    "    accList=[] #accuracy train data\n",
    "    maeList=[] #error\n",
    "    \n",
    "    for n in numbers:\n",
    "        forest = RandomForestClassifier(max_depth=n)\n",
    "        forest.fit(X_train, y_train)\n",
    "        y_pred = forest.predict(X_test)\n",
    "        mae=metrics.mean_absolute_error(y_test, y_pred).round(2)\n",
    "        forest_auc = round( metrics.roc_auc_score(y_test, y_pred), 4 ) \n",
    "        #print(\"Random forest AUC: \", forest_auc) \n",
    "       \n",
    "        accList.append(forest_auc)\n",
    "        maeList.append(mae)\n",
    "        \n",
    "    plt.plot(numbers,accList)\n",
    "    plt.title(\"Forest Max_Depth\")\n",
    "    plt.xlabel('max_depth')\n",
    "    plt.ylabel('Accuracy')\n",
    "    plt.legend()\n",
    "    plt.show() \n",
    "    \n",
    "    plt.plot(numbers, maeList)\n",
    "    plt.title(\"Forest Max_Depth\")\n",
    "    plt.xlabel(\"max_depth\")\n",
    "    plt.ylabel('error')\n",
    "    plt.legend()\n",
    "    plt.show() \n",
    "\n",
    "forestDepth()"
   ]
  },
  {
   "cell_type": "code",
   "execution_count": 15,
   "id": "89523eae",
   "metadata": {
    "execution": {
     "iopub.execute_input": "2025-07-05T22:26:01.009356Z",
     "iopub.status.busy": "2025-07-05T22:26:01.009041Z",
     "iopub.status.idle": "2025-07-05T22:26:02.542234Z",
     "shell.execute_reply": "2025-07-05T22:26:02.541372Z"
    },
    "papermill": {
     "duration": 1.571483,
     "end_time": "2025-07-05T22:26:02.544272",
     "exception": false,
     "start_time": "2025-07-05T22:26:00.972789",
     "status": "completed"
    },
    "tags": []
   },
   "outputs": [
    {
     "data": {
      "image/png": "[encoded data removed]",
      "text/plain": [
       "<Figure size 432x288 with 1 Axes>"
      ]
     },
     "metadata": {
      "needs_background": "light"
     },
     "output_type": "display_data"
    },
    {
     "data": {
      "image/png": "[encoded data removed]",
      "text/plain": [
       "<Figure size 432x288 with 1 Axes>"
      ]
     },
     "metadata": {
      "needs_background": "light"
     },
     "output_type": "display_data"
    }
   ],
   "source": [
    "def forestLeaf():\n",
    "    numbers=[2, 3, 4, 5, 7, 10]\n",
    "    accList=[] #accuracy train data\n",
    "    maeList=[] #error\n",
    "    \n",
    "    for n in numbers:\n",
    "        forest = RandomForestClassifier(min_samples_split=n)\n",
    "        forest.fit(X_train, y_train)\n",
    "        y_pred = forest.predict(X_test)\n",
    "        mae=metrics.mean_absolute_error(y_test, y_pred).round(2)\n",
    "        forest_auc = round( metrics.roc_auc_score(y_test, y_pred), 4 ) \n",
    "        #print(\"Random forest AUC: \", forest_auc) \n",
    "       \n",
    "        accList.append(forest_auc)\n",
    "        maeList.append(mae)\n",
    "        \n",
    "    plt.plot(numbers,accList)\n",
    "    plt.title(\"Forest\")\n",
    "    plt.xlabel('min_samples_split')\n",
    "    plt.ylabel('Accuracy')\n",
    "    plt.legend()\n",
    "    plt.show() \n",
    "    \n",
    "    plt.plot(numbers, maeList)\n",
    "    plt.title(\"Forest\")\n",
    "    plt.xlabel(\"min_samples_split\")\n",
    "    plt.ylabel('error')\n",
    "    plt.legend()\n",
    "    plt.show() \n",
    "\n",
    "forestLeaf()"
   ]
  },
  {
   "cell_type": "code",
   "execution_count": 16,
   "id": "b1867558",
   "metadata": {
    "execution": {
     "iopub.execute_input": "2025-07-05T22:26:02.621029Z",
     "iopub.status.busy": "2025-07-05T22:26:02.620222Z",
     "iopub.status.idle": "2025-07-05T22:26:04.066722Z",
     "shell.execute_reply": "2025-07-05T22:26:04.065860Z"
    },
    "papermill": {
     "duration": 1.487047,
     "end_time": "2025-07-05T22:26:04.069048",
     "exception": false,
     "start_time": "2025-07-05T22:26:02.582001",
     "status": "completed"
    },
    "tags": []
   },
   "outputs": [
    {
     "data": {
      "image/png": "[encoded data removed]",
      "text/plain": [
       "<Figure size 432x288 with 1 Axes>"
      ]
     },
     "metadata": {
      "needs_background": "light"
     },
     "output_type": "display_data"
    },
    {
     "data": {
      "image/png": "[encoded data removed]",
      "text/plain": [
       "<Figure size 432x288 with 1 Axes>"
      ]
     },
     "metadata": {
      "needs_background": "light"
     },
     "output_type": "display_data"
    }
   ],
   "source": [
    "def forestMinLeaf():\n",
    "    numbers=[1, 2, 3, 4, 5, 7, 10]\n",
    "    accList=[] #accuracy train data\n",
    "    maeList=[] #error\n",
    "    \n",
    "    for n in numbers:\n",
    "        forest = RandomForestClassifier(min_samples_leaf=n)\n",
    "        forest.fit(X_train, y_train)\n",
    "        y_pred = forest.predict(X_test)\n",
    "        mae=metrics.mean_absolute_error(y_test, y_pred).round(2)\n",
    "        forest_auc = round( metrics.roc_auc_score(y_test, y_pred), 4 ) \n",
    "        #print(\"Random forest AUC: \", forest_auc) \n",
    "       \n",
    "        accList.append(forest_auc)\n",
    "        maeList.append(mae)\n",
    "        \n",
    "    plt.plot(numbers,accList)\n",
    "    plt.title(\"Forest\")\n",
    "    plt.xlabel('min_samples_leaf')\n",
    "    plt.ylabel('Accuracy')\n",
    "    plt.legend()\n",
    "    plt.show() \n",
    "    \n",
    "    plt.plot(numbers, maeList)\n",
    "    plt.title(\"Forest\")\n",
    "    plt.xlabel(\"min_samples_leaf\")\n",
    "    plt.ylabel('error')\n",
    "    plt.legend()\n",
    "    plt.show() \n",
    "\n",
    "forestMinLeaf()"
   ]
  },
  {
   "cell_type": "markdown",
   "id": "dbb41797",
   "metadata": {
    "papermill": {
     "duration": 0.038461,
     "end_time": "2025-07-05T22:26:04.145633",
     "exception": false,
     "start_time": "2025-07-05T22:26:04.107172",
     "status": "completed"
    },
    "tags": []
   },
   "source": [
    "# GridSearch CV"
   ]
  },
  {
   "cell_type": "code",
   "execution_count": 17,
   "id": "3137b313",
   "metadata": {
    "execution": {
     "iopub.execute_input": "2025-07-05T22:26:04.224198Z",
     "iopub.status.busy": "2025-07-05T22:26:04.223457Z",
     "iopub.status.idle": "2025-07-05T22:26:14.439765Z",
     "shell.execute_reply": "2025-07-05T22:26:14.438927Z"
    },
    "papermill": {
     "duration": 10.257939,
     "end_time": "2025-07-05T22:26:14.441912",
     "exception": false,
     "start_time": "2025-07-05T22:26:04.183973",
     "status": "completed"
    },
    "tags": []
   },
   "outputs": [
    {
     "data": {
      "text/plain": [
       "{'max_depth': 6,\n",
       " 'min_samples_leaf': 1,\n",
       " 'min_samples_split': 3,\n",
       " 'n_estimators': 50}"
      ]
     },
     "execution_count": 17,
     "metadata": {},
     "output_type": "execute_result"
    }
   ],
   "source": [
    "from sklearn.model_selection import GridSearchCV, StratifiedKFold, cross_val_score\n",
    "\n",
    "params = {\n",
    "    'n_estimators':[50, 60, 100],\n",
    "    'max_depth':[5, 6, 10],\n",
    "    'min_samples_split':[2, 3],  #2 is default\n",
    "    'min_samples_leaf':[1]   #1 is default\n",
    "    #'max_features':['auto', 'sqrt', 'log2'],\n",
    "    #'criterion':['gini', 'entropy'],\n",
    "}\n",
    "\n",
    "#kfold = StratifiedKFold(n_splits=5, shuffle=True, random_state=7)\n",
    "forestGrid=GridSearchCV(estimator=RandomForestClassifier(), param_grid=params, cv=5, scoring='accuracy')\n",
    "forestGrid.fit(X_train, y_train)\n",
    "forestGrid.best_params_"
   ]
  },
  {
   "cell_type": "markdown",
   "id": "a831d781",
   "metadata": {
    "papermill": {
     "duration": 0.038499,
     "end_time": "2025-07-05T22:26:14.520617",
     "exception": false,
     "start_time": "2025-07-05T22:26:14.482118",
     "status": "completed"
    },
    "tags": []
   },
   "source": [
    "#### Final Random Forest Prediction\n",
    "* Top 5% Using {'max_depth': 5, 'n_estimators': 60} 0.79425"
   ]
  },
  {
   "cell_type": "code",
   "execution_count": 18,
   "id": "b9fb0e85",
   "metadata": {
    "execution": {
     "iopub.execute_input": "2025-07-05T22:26:14.623350Z",
     "iopub.status.busy": "2025-07-05T22:26:14.622846Z",
     "iopub.status.idle": "2025-07-05T22:26:15.266884Z",
     "shell.execute_reply": "2025-07-05T22:26:15.266069Z"
    },
    "papermill": {
     "duration": 0.69662,
     "end_time": "2025-07-05T22:26:15.268974",
     "exception": false,
     "start_time": "2025-07-05T22:26:14.572354",
     "status": "completed"
    },
    "tags": []
   },
   "outputs": [
    {
     "name": "stdout",
     "output_type": "stream",
     "text": [
      "Random forest AUC:  0.8004\n",
      "Random forest MAE:  0.18\n",
      "0.8237\n",
      "0.7869\n",
      "0.036799999999999944\n"
     ]
    }
   ],
   "source": [
    "forestFinal = RandomForestClassifier(\n",
    "   n_estimators=60, \n",
    "   max_depth=5,\n",
    "   min_samples_split=2,#2 is default\n",
    "   min_samples_leaf=1, #1 is default\n",
    "   criterion='entropy',\n",
    "   # max_features='auto',\n",
    ")\n",
    "forestFinal.fit(X_train, y_train)\n",
    "y_pred = forestFinal.predict(X_test)\n",
    "\n",
    "#Print Metrics:\n",
    "forest_r2 = r2_score(y_test, y_pred).round(4)  \n",
    "forest_auc = round( metrics.roc_auc_score(y_test, y_pred), 4 ) \n",
    "print(\"Random forest AUC: \", forest_auc) \n",
    "\n",
    "mae=metrics.mean_absolute_error(y_test, y_pred).round(2)\n",
    "print(\"Random forest MAE: \", mae)\n",
    "\n",
    "forestScore =  forestFinal.score(X_test, y_test).round(4)  \n",
    "forestCV = cross_validate(forestFinal, X, y, cv = 5, scoring='accuracy')\n",
    "forestCV=forestCV['test_score'].mean().round(4)\n",
    "print(forestScore)\n",
    "print(forestCV)\n",
    "print(forestScore-forestCV)"
   ]
  },
  {
   "cell_type": "markdown",
   "id": "d5891a3a",
   "metadata": {
    "papermill": {
     "duration": 0.040069,
     "end_time": "2025-07-05T22:26:15.348358",
     "exception": false,
     "start_time": "2025-07-05T22:26:15.308289",
     "status": "completed"
    },
    "tags": []
   },
   "source": [
    "# Support Vector \n",
    "The initial results for SVM AUC with no parameter tunning is 0.5336.  The model does not seem worth investing lots of time into due to poor AUC performance. \n",
    "\n",
    "#### GridSearch Tune\n",
    "The best parameters from tunning SVM is SVC(C=1000, gamma=0.0001)."
   ]
  },
  {
   "cell_type": "code",
   "execution_count": 19,
   "id": "790d0a41",
   "metadata": {
    "execution": {
     "iopub.execute_input": "2025-07-05T22:26:15.431193Z",
     "iopub.status.busy": "2025-07-05T22:26:15.430371Z",
     "iopub.status.idle": "2025-07-05T22:26:15.436856Z",
     "shell.execute_reply": "2025-07-05T22:26:15.435968Z"
    },
    "papermill": {
     "duration": 0.051224,
     "end_time": "2025-07-05T22:26:15.438979",
     "exception": false,
     "start_time": "2025-07-05T22:26:15.387755",
     "status": "completed"
    },
    "tags": []
   },
   "outputs": [],
   "source": [
    "from sklearn.model_selection import GridSearchCV\n",
    "from sklearn.svm import SVC\n",
    " \n",
    "def tuneSVM():\n",
    "    # defining parameter range\n",
    "    param_grid = {'C': [0.1, 1, 10, 100, 1000],\n",
    "                  'gamma': [1, 0.1, 0.01, 0.001, 0.0001],\n",
    "                  'kernel': ['rbf']}\n",
    "\n",
    "    grid = GridSearchCV(SVC(), param_grid, refit = True, verbose = 3)\n",
    "\n",
    "    # fitting the model for grid search\n",
    "    grid.fit(X_train, y_train)\n",
    "\n",
    "    # print best parameter after tuning\n",
    "    print(grid.best_params_)\n",
    "\n",
    "    # print how our model looks after hyper-parameter tuning\n",
    "    print(grid.best_estimator_)"
   ]
  },
  {
   "cell_type": "markdown",
   "id": "bd67bdf5",
   "metadata": {
    "papermill": {
     "duration": 0.039069,
     "end_time": "2025-07-05T22:26:15.518926",
     "exception": false,
     "start_time": "2025-07-05T22:26:15.479857",
     "status": "completed"
    },
    "tags": []
   },
   "source": [
    "#### Final SVM Prediction"
   ]
  },
  {
   "cell_type": "code",
   "execution_count": 20,
   "id": "5ed89689",
   "metadata": {
    "execution": {
     "iopub.execute_input": "2025-07-05T22:26:15.599792Z",
     "iopub.status.busy": "2025-07-05T22:26:15.599525Z",
     "iopub.status.idle": "2025-07-05T22:26:15.607099Z",
     "shell.execute_reply": "2025-07-05T22:26:15.606278Z"
    },
    "papermill": {
     "duration": 0.050084,
     "end_time": "2025-07-05T22:26:15.608966",
     "exception": false,
     "start_time": "2025-07-05T22:26:15.558882",
     "status": "completed"
    },
    "tags": []
   },
   "outputs": [],
   "source": [
    "#Fit and Predict:\n",
    "def runSVM():\n",
    "    svm=SVC(C=1000, gamma=0.0001, kernel = 'linear')\n",
    "    svm.fit(X_train, y_train)\n",
    "    svmPedict = svm.predict(X_test)\n",
    "    np.shape(svmPedict)\n",
    "    np.shape(y_test)\n",
    "    #y_class = np.argmax(y_pred, axis = 0)\n",
    "\n",
    "    #calculate AUC of model\n",
    "    svmAUC = round( metrics.roc_auc_score(y_test, svmPedict, multi_class='ovr'), 4 ) \n",
    "    print(\"SVC AUC is: \", svmAUC)\n",
    "\n",
    "    svmR2 = r2_score(y_test, svmPedict).round(4) \n",
    "    print(\"SVM r2: \", svmR2) \n",
    "\n",
    "    svmMAE=metrics.mean_absolute_error(y_test, svmPedict)\n",
    "    \n",
    "    plt.figure(figsize=(5, 7))\n",
    "    ax = sns.distplot(y, hist=False, color=\"r\", label=\"Actual Value\")\n",
    "    sns.distplot(y_test, hist=False, color=\"b\", label=\"Fitted Values\" , ax=ax)\n",
    "    plt.title('Actual vs Fitted Values')\n",
    "    plt.show()\n",
    "    plt.close()"
   ]
  },
  {
   "cell_type": "markdown",
   "id": "fd17febb",
   "metadata": {
    "papermill": {
     "duration": 0.038774,
     "end_time": "2025-07-05T22:26:15.687249",
     "exception": false,
     "start_time": "2025-07-05T22:26:15.648475",
     "status": "completed"
    },
    "tags": []
   },
   "source": [
    "# Test Data"
   ]
  },
  {
   "cell_type": "code",
   "execution_count": 21,
   "id": "148a5f36",
   "metadata": {
    "execution": {
     "iopub.execute_input": "2025-07-05T22:26:15.767218Z",
     "iopub.status.busy": "2025-07-05T22:26:15.766481Z",
     "iopub.status.idle": "2025-07-05T22:26:15.784190Z",
     "shell.execute_reply": "2025-07-05T22:26:15.783350Z"
    },
    "papermill": {
     "duration": 0.059981,
     "end_time": "2025-07-05T22:26:15.786181",
     "exception": false,
     "start_time": "2025-07-05T22:26:15.726200",
     "status": "completed"
    },
    "tags": []
   },
   "outputs": [
    {
     "data": {
      "text/html": [
       "<div>\n",
       "<style scoped>\n",
       "    .dataframe tbody tr th:only-of-type {\n",
       "        vertical-align: middle;\n",
       "    }\n",
       "\n",
       "    .dataframe tbody tr th {\n",
       "        vertical-align: top;\n",
       "    }\n",
       "\n",
       "    .dataframe thead th {\n",
       "        text-align: right;\n",
       "    }\n",
       "</style>\n",
       "<table border=\"1\" class=\"dataframe\">\n",
       "  <thead>\n",
       "    <tr style=\"text-align: right;\">\n",
       "      <th></th>\n",
       "      <th>PassengerId</th>\n",
       "      <th>Pclass</th>\n",
       "      <th>Sex</th>\n",
       "      <th>Age</th>\n",
       "      <th>SibSp</th>\n",
       "      <th>Parch</th>\n",
       "      <th>Fare</th>\n",
       "    </tr>\n",
       "  </thead>\n",
       "  <tbody>\n",
       "    <tr>\n",
       "      <th>0</th>\n",
       "      <td>892</td>\n",
       "      <td>3</td>\n",
       "      <td>1</td>\n",
       "      <td>34.5</td>\n",
       "      <td>0</td>\n",
       "      <td>0</td>\n",
       "      <td>7.8292</td>\n",
       "    </tr>\n",
       "    <tr>\n",
       "      <th>1</th>\n",
       "      <td>893</td>\n",
       "      <td>3</td>\n",
       "      <td>0</td>\n",
       "      <td>47.0</td>\n",
       "      <td>1</td>\n",
       "      <td>0</td>\n",
       "      <td>7.0000</td>\n",
       "    </tr>\n",
       "    <tr>\n",
       "      <th>2</th>\n",
       "      <td>894</td>\n",
       "      <td>2</td>\n",
       "      <td>1</td>\n",
       "      <td>62.0</td>\n",
       "      <td>0</td>\n",
       "      <td>0</td>\n",
       "      <td>9.6875</td>\n",
       "    </tr>\n",
       "    <tr>\n",
       "      <th>3</th>\n",
       "      <td>895</td>\n",
       "      <td>3</td>\n",
       "      <td>1</td>\n",
       "      <td>27.0</td>\n",
       "      <td>0</td>\n",
       "      <td>0</td>\n",
       "      <td>8.6625</td>\n",
       "    </tr>\n",
       "    <tr>\n",
       "      <th>4</th>\n",
       "      <td>896</td>\n",
       "      <td>3</td>\n",
       "      <td>0</td>\n",
       "      <td>22.0</td>\n",
       "      <td>1</td>\n",
       "      <td>1</td>\n",
       "      <td>12.2875</td>\n",
       "    </tr>\n",
       "  </tbody>\n",
       "</table>\n",
       "</div>"
      ],
      "text/plain": [
       "   PassengerId  Pclass  Sex   Age  SibSp  Parch     Fare\n",
       "0          892       3    1  34.5      0      0   7.8292\n",
       "1          893       3    0  47.0      1      0   7.0000\n",
       "2          894       2    1  62.0      0      0   9.6875\n",
       "3          895       3    1  27.0      0      0   8.6625\n",
       "4          896       3    0  22.0      1      1  12.2875"
      ]
     },
     "execution_count": 21,
     "metadata": {},
     "output_type": "execute_result"
    }
   ],
   "source": [
    "#GENDER\n",
    "test['Sex']=test['Sex'].map({'female':0,'male':1})\n",
    "\n",
    "features=list(X.columns)\n",
    "test=test[features]\n",
    "\n",
    "test=test.fillna(test.mean())\n",
    "test.head()"
   ]
  },
  {
   "cell_type": "markdown",
   "id": "12c8dd17",
   "metadata": {
    "papermill": {
     "duration": 0.039219,
     "end_time": "2025-07-05T22:26:15.865043",
     "exception": false,
     "start_time": "2025-07-05T22:26:15.825824",
     "status": "completed"
    },
    "tags": []
   },
   "source": [
    "# Final Prediction"
   ]
  },
  {
   "cell_type": "code",
   "execution_count": 22,
   "id": "a8736ac2",
   "metadata": {
    "execution": {
     "iopub.execute_input": "2025-07-05T22:26:15.945663Z",
     "iopub.status.busy": "2025-07-05T22:26:15.945384Z",
     "iopub.status.idle": "2025-07-05T22:26:15.967268Z",
     "shell.execute_reply": "2025-07-05T22:26:15.966443Z"
    },
    "papermill": {
     "duration": 0.064973,
     "end_time": "2025-07-05T22:26:15.969281",
     "exception": false,
     "start_time": "2025-07-05T22:26:15.904308",
     "status": "completed"
    },
    "tags": []
   },
   "outputs": [
    {
     "data": {
      "text/html": [
       "<div>\n",
       "<style scoped>\n",
       "    .dataframe tbody tr th:only-of-type {\n",
       "        vertical-align: middle;\n",
       "    }\n",
       "\n",
       "    .dataframe tbody tr th {\n",
       "        vertical-align: top;\n",
       "    }\n",
       "\n",
       "    .dataframe thead th {\n",
       "        text-align: right;\n",
       "    }\n",
       "</style>\n",
       "<table border=\"1\" class=\"dataframe\">\n",
       "  <thead>\n",
       "    <tr style=\"text-align: right;\">\n",
       "      <th></th>\n",
       "      <th>PassengerId</th>\n",
       "      <th>Survived</th>\n",
       "    </tr>\n",
       "  </thead>\n",
       "  <tbody>\n",
       "    <tr>\n",
       "      <th>0</th>\n",
       "      <td>892</td>\n",
       "      <td>0</td>\n",
       "    </tr>\n",
       "    <tr>\n",
       "      <th>1</th>\n",
       "      <td>893</td>\n",
       "      <td>0</td>\n",
       "    </tr>\n",
       "    <tr>\n",
       "      <th>2</th>\n",
       "      <td>894</td>\n",
       "      <td>0</td>\n",
       "    </tr>\n",
       "    <tr>\n",
       "      <th>3</th>\n",
       "      <td>895</td>\n",
       "      <td>0</td>\n",
       "    </tr>\n",
       "    <tr>\n",
       "      <th>4</th>\n",
       "      <td>896</td>\n",
       "      <td>0</td>\n",
       "    </tr>\n",
       "    <tr>\n",
       "      <th>5</th>\n",
       "      <td>897</td>\n",
       "      <td>0</td>\n",
       "    </tr>\n",
       "    <tr>\n",
       "      <th>6</th>\n",
       "      <td>898</td>\n",
       "      <td>0</td>\n",
       "    </tr>\n",
       "  </tbody>\n",
       "</table>\n",
       "</div>"
      ],
      "text/plain": [
       "   PassengerId  Survived\n",
       "0          892         0\n",
       "1          893         0\n",
       "2          894         0\n",
       "3          895         0\n",
       "4          896         0\n",
       "5          897         0\n",
       "6          898         0"
      ]
     },
     "execution_count": 22,
     "metadata": {},
     "output_type": "execute_result"
    }
   ],
   "source": [
    "test_predictions = forestFinal.predict(test)\n",
    "passID=test['PassengerId']\n",
    "tupleData = list(zip(passID, test_predictions))\n",
    "output = pd.DataFrame(tupleData, columns = ['PassengerId', 'Survived'])\n",
    "output.head(7)"
   ]
  },
  {
   "cell_type": "code",
   "execution_count": 23,
   "id": "7ed92a7c",
   "metadata": {
    "execution": {
     "iopub.execute_input": "2025-07-05T22:26:16.051505Z",
     "iopub.status.busy": "2025-07-05T22:26:16.050667Z",
     "iopub.status.idle": "2025-07-05T22:26:16.059087Z",
     "shell.execute_reply": "2025-07-05T22:26:16.058167Z"
    },
    "papermill": {
     "duration": 0.051643,
     "end_time": "2025-07-05T22:26:16.061116",
     "exception": false,
     "start_time": "2025-07-05T22:26:16.009473",
     "status": "completed"
    },
    "tags": []
   },
   "outputs": [
    {
     "name": "stdout",
     "output_type": "stream",
     "text": [
      "Your submission was successfully saved!\n"
     ]
    }
   ],
   "source": [
    "output.to_csv('submission.csv', index=False)\n",
    "print(\"Your submission was successfully saved!\")"
   ]
  },
  {
   "cell_type": "code",
   "execution_count": 24,
   "id": "90ead8b2",
   "metadata": {
    "execution": {
     "iopub.execute_input": "2025-07-05T22:26:16.144170Z",
     "iopub.status.busy": "2025-07-05T22:26:16.143855Z",
     "iopub.status.idle": "2025-07-05T22:26:16.149033Z",
     "shell.execute_reply": "2025-07-05T22:26:16.148182Z"
    },
    "papermill": {
     "duration": 0.04902,
     "end_time": "2025-07-05T22:26:16.151056",
     "exception": false,
     "start_time": "2025-07-05T22:26:16.102036",
     "status": "completed"
    },
    "tags": []
   },
   "outputs": [
    {
     "name": "stdout",
     "output_type": "stream",
     "text": [
      "Files in current directory: ['submission.csv', '__notebook__.ipynb']\n"
     ]
    }
   ],
   "source": [
    "import os\n",
    "print(\"Files in current directory:\", os.listdir())"
   ]
  },
  {
   "cell_type": "markdown",
   "id": "cd38ee51",
   "metadata": {
    "papermill": {
     "duration": 0.040311,
     "end_time": "2025-07-05T22:26:16.232003",
     "exception": false,
     "start_time": "2025-07-05T22:26:16.191692",
     "status": "completed"
    },
    "tags": []
   },
   "source": [
    "#### Notes:\n",
    "Being a wife makes no difference in the final prediction: <br>\n",
    "` df['Titles'] = df['Name'].str.extract(r', (\\w+\\.)') \n",
    "df['Titles'] = df['Titles'].apply(lambda x: 1 if x=='Mrs.' else 0) `"
   ]
  }
 ],
 "metadata": {
  "kaggle": {
   "accelerator": "none",
   "dataSources": [
    {
     "databundleVersionId": 26502,
     "sourceId": 3136,
     "sourceType": "competition"
    }
   ],
   "dockerImageVersionId": 30184,
   "isGpuEnabled": false,
   "isInternetEnabled": true,
   "language": "python",
   "sourceType": "notebook"
  },
  "kernelspec": {
   "display_name": "Python 3",
   "language": "python",
   "name": "python3"
  },
  "language_info": {
   "codemirror_mode": {
    "name": "ipython",
    "version": 3
   },
   "file_extension": ".py",
   "mimetype": "text/x-python",
   "name": "python",
   "nbconvert_exporter": "python",
   "pygments_lexer": "ipython3",
   "version": "3.7.12"
  },
  "papermill": {
   "default_parameters": {},
   "duration": 30.414809,
   "end_time": "2025-07-05T22:26:16.993111",
   "environment_variables": {},
   "exception": null,
   "input_path": "__notebook__.ipynb",
   "output_path": "__notebook__.ipynb",
   "parameters": {},
   "start_time": "2025-07-05T22:25:46.578302",
   "version": "2.3.4"
  }
 },
 "nbformat": 4,
 "nbformat_minor": 5
}
