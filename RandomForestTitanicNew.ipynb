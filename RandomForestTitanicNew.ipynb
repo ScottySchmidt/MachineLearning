{
 "cells": [
  {
   "cell_type": "markdown",
   "id": "b35d41f5",
   "metadata": {
    "papermill": {
     "duration": 0.025818,
     "end_time": "2025-07-05T23:28:36.146529",
     "exception": false,
     "start_time": "2025-07-05T23:28:36.120711",
     "status": "completed"
    },
    "tags": []
   },
   "source": [
    "# Random Forest Grid Search | Avoid Overfitting | Top 5% Kaggle Titanic\n",
    "In my last video, I showed how a decision tree overfits the Titanic dataset: www.youtube.com/watch?v=offRb9fBOuw&t=29s\n",
    "\n",
    "Today, we’ll fix that using Random Forest, and I’ll show you how I tuned it with Grid Search to land in the Top 5% on Kaggle.\n",
    "\n",
    "Random Forest reduces overfitting by combining many decision trees that each see different random parts of the data and features.  In this model, I used n_estimators=50, meaning it builds 50 decision trees and averages their results.\n",
    "\n",
    "## Why Tune These Random Forest Parameters?\n",
    "1. n_estimators\n",
    "Controls how many trees are built. More trees usually improve accuracy by averaging out noise, but too many can slow down training.\n",
    "➤ Common range: 50–200\n",
    "\n",
    "2. max_depth\n",
    "Limits how deep each tree can grow. Shallow trees reduce overfitting by preventing the model from memorizing the training data.\n",
    "➤ Common range: 3–10\n",
    "\n",
    "3. min_samples_split\n",
    "Minimum number of samples needed to split a node. Higher values force the model to make splits only when enough data is available, which reduces model complexity.\n",
    "➤ Common range: 2–10\n",
    "\n",
    "All My Models: https://github.com/ScottySchmidt/Kaggle/blob/main/Titanic.ipynb"
   ]
  },
  {
   "cell_type": "markdown",
   "id": "511196b3",
   "metadata": {
    "papermill": {
     "duration": 0.026886,
     "end_time": "2025-07-05T23:28:36.199457",
     "exception": false,
     "start_time": "2025-07-05T23:28:36.172571",
     "status": "completed"
    },
    "tags": []
   },
   "source": [
    "# Train Data\n",
    "Train.csv will contain the details of a subset of the passengers on board (891 to be exact) and whether they survive or not. The shape of the train data is (891, 12). "
   ]
  },
  {
   "cell_type": "code",
   "execution_count": 1,
   "id": "6ec26d05",
   "metadata": {
    "execution": {
     "iopub.execute_input": "2025-07-05T23:28:36.255343Z",
     "iopub.status.busy": "2025-07-05T23:28:36.254790Z",
     "iopub.status.idle": "2025-07-05T23:28:38.062029Z",
     "shell.execute_reply": "2025-07-05T23:28:38.061124Z"
    },
    "papermill": {
     "duration": 1.837683,
     "end_time": "2025-07-05T23:28:38.065293",
     "exception": false,
     "start_time": "2025-07-05T23:28:36.227610",
     "status": "completed"
    },
    "tags": []
   },
   "outputs": [
    {
     "name": "stdout",
     "output_type": "stream",
     "text": [
      "(891, 12)\n"
     ]
    },
    {
     "data": {
      "text/html": [
       "<div>\n",
       "<style scoped>\n",
       "    .dataframe tbody tr th:only-of-type {\n",
       "        vertical-align: middle;\n",
       "    }\n",
       "\n",
       "    .dataframe tbody tr th {\n",
       "        vertical-align: top;\n",
       "    }\n",
       "\n",
       "    .dataframe thead th {\n",
       "        text-align: right;\n",
       "    }\n",
       "</style>\n",
       "<table border=\"1\" class=\"dataframe\">\n",
       "  <thead>\n",
       "    <tr style=\"text-align: right;\">\n",
       "      <th></th>\n",
       "      <th>PassengerId</th>\n",
       "      <th>Survived</th>\n",
       "      <th>Pclass</th>\n",
       "      <th>Name</th>\n",
       "      <th>Sex</th>\n",
       "      <th>Age</th>\n",
       "      <th>SibSp</th>\n",
       "      <th>Parch</th>\n",
       "      <th>Ticket</th>\n",
       "      <th>Fare</th>\n",
       "      <th>Cabin</th>\n",
       "      <th>Embarked</th>\n",
       "    </tr>\n",
       "  </thead>\n",
       "  <tbody>\n",
       "    <tr>\n",
       "      <th>0</th>\n",
       "      <td>1</td>\n",
       "      <td>0</td>\n",
       "      <td>3</td>\n",
       "      <td>Braund, Mr. Owen Harris</td>\n",
       "      <td>male</td>\n",
       "      <td>22.0</td>\n",
       "      <td>1</td>\n",
       "      <td>0</td>\n",
       "      <td>A/5 21171</td>\n",
       "      <td>7.2500</td>\n",
       "      <td>NaN</td>\n",
       "      <td>S</td>\n",
       "    </tr>\n",
       "    <tr>\n",
       "      <th>1</th>\n",
       "      <td>2</td>\n",
       "      <td>1</td>\n",
       "      <td>1</td>\n",
       "      <td>Cumings, Mrs. John Bradley (Florence Briggs Th...</td>\n",
       "      <td>female</td>\n",
       "      <td>38.0</td>\n",
       "      <td>1</td>\n",
       "      <td>0</td>\n",
       "      <td>PC 17599</td>\n",
       "      <td>71.2833</td>\n",
       "      <td>C85</td>\n",
       "      <td>C</td>\n",
       "    </tr>\n",
       "    <tr>\n",
       "      <th>2</th>\n",
       "      <td>3</td>\n",
       "      <td>1</td>\n",
       "      <td>3</td>\n",
       "      <td>Heikkinen, Miss. Laina</td>\n",
       "      <td>female</td>\n",
       "      <td>26.0</td>\n",
       "      <td>0</td>\n",
       "      <td>0</td>\n",
       "      <td>STON/O2. 3101282</td>\n",
       "      <td>7.9250</td>\n",
       "      <td>NaN</td>\n",
       "      <td>S</td>\n",
       "    </tr>\n",
       "    <tr>\n",
       "      <th>3</th>\n",
       "      <td>4</td>\n",
       "      <td>1</td>\n",
       "      <td>1</td>\n",
       "      <td>Futrelle, Mrs. Jacques Heath (Lily May Peel)</td>\n",
       "      <td>female</td>\n",
       "      <td>35.0</td>\n",
       "      <td>1</td>\n",
       "      <td>0</td>\n",
       "      <td>113803</td>\n",
       "      <td>53.1000</td>\n",
       "      <td>C123</td>\n",
       "      <td>S</td>\n",
       "    </tr>\n",
       "    <tr>\n",
       "      <th>4</th>\n",
       "      <td>5</td>\n",
       "      <td>0</td>\n",
       "      <td>3</td>\n",
       "      <td>Allen, Mr. William Henry</td>\n",
       "      <td>male</td>\n",
       "      <td>35.0</td>\n",
       "      <td>0</td>\n",
       "      <td>0</td>\n",
       "      <td>373450</td>\n",
       "      <td>8.0500</td>\n",
       "      <td>NaN</td>\n",
       "      <td>S</td>\n",
       "    </tr>\n",
       "  </tbody>\n",
       "</table>\n",
       "</div>"
      ],
      "text/plain": [
       "   PassengerId  Survived  Pclass  \\\n",
       "0            1         0       3   \n",
       "1            2         1       1   \n",
       "2            3         1       3   \n",
       "3            4         1       1   \n",
       "4            5         0       3   \n",
       "\n",
       "                                                Name     Sex   Age  SibSp  \\\n",
       "0                            Braund, Mr. Owen Harris    male  22.0      1   \n",
       "1  Cumings, Mrs. John Bradley (Florence Briggs Th...  female  38.0      1   \n",
       "2                             Heikkinen, Miss. Laina  female  26.0      0   \n",
       "3       Futrelle, Mrs. Jacques Heath (Lily May Peel)  female  35.0      1   \n",
       "4                           Allen, Mr. William Henry    male  35.0      0   \n",
       "\n",
       "   Parch            Ticket     Fare Cabin Embarked  \n",
       "0      0         A/5 21171   7.2500   NaN        S  \n",
       "1      0          PC 17599  71.2833   C85        C  \n",
       "2      0  STON/O2. 3101282   7.9250   NaN        S  \n",
       "3      0            113803  53.1000  C123        S  \n",
       "4      0            373450   8.0500   NaN        S  "
      ]
     },
     "execution_count": 1,
     "metadata": {},
     "output_type": "execute_result"
    }
   ],
   "source": [
    "import numpy as np\n",
    "import pandas as pd\n",
    "import seaborn as sns\n",
    "import matplotlib.pyplot as plt\n",
    "from sklearn.model_selection import train_test_split, cross_validate\n",
    "from statistics import mean\n",
    "from sklearn.metrics import accuracy_score, classification_report, mean_absolute_error, mean_squared_error, r2_score\n",
    "from sklearn.datasets import make_classification\n",
    "from sklearn import ensemble\n",
    "import sklearn.metrics as metrics\n",
    "import time\n",
    "from math import sqrt\n",
    "\n",
    "train=r'/kaggle/input/titanic/train.csv'\n",
    "test=r'/kaggle/input/titanic/test.csv' \n",
    "\n",
    "df=pd.read_csv(train)\n",
    "test=pd.read_csv(test)\n",
    "\n",
    "print(df.shape)\n",
    "df.head()"
   ]
  },
  {
   "cell_type": "code",
   "execution_count": 2,
   "id": "166094bc",
   "metadata": {
    "execution": {
     "iopub.execute_input": "2025-07-05T23:28:38.120127Z",
     "iopub.status.busy": "2025-07-05T23:28:38.119838Z",
     "iopub.status.idle": "2025-07-05T23:28:38.128619Z",
     "shell.execute_reply": "2025-07-05T23:28:38.127524Z"
    },
    "papermill": {
     "duration": 0.038989,
     "end_time": "2025-07-05T23:28:38.130859",
     "exception": false,
     "start_time": "2025-07-05T23:28:38.091870",
     "status": "completed"
    },
    "tags": []
   },
   "outputs": [
    {
     "data": {
      "text/plain": [
       "PassengerId      int64\n",
       "Survived         int64\n",
       "Pclass           int64\n",
       "Name            object\n",
       "Sex             object\n",
       "Age            float64\n",
       "SibSp            int64\n",
       "Parch            int64\n",
       "Ticket          object\n",
       "Fare           float64\n",
       "Cabin           object\n",
       "Embarked        object\n",
       "dtype: object"
      ]
     },
     "execution_count": 2,
     "metadata": {},
     "output_type": "execute_result"
    }
   ],
   "source": [
    "df.dtypes"
   ]
  },
  {
   "cell_type": "code",
   "execution_count": 3,
   "id": "50545e65",
   "metadata": {
    "execution": {
     "iopub.execute_input": "2025-07-05T23:28:38.191034Z",
     "iopub.status.busy": "2025-07-05T23:28:38.190770Z",
     "iopub.status.idle": "2025-07-05T23:28:38.217964Z",
     "shell.execute_reply": "2025-07-05T23:28:38.217060Z"
    },
    "papermill": {
     "duration": 0.061485,
     "end_time": "2025-07-05T23:28:38.221197",
     "exception": false,
     "start_time": "2025-07-05T23:28:38.159712",
     "status": "completed"
    },
    "tags": []
   },
   "outputs": [
    {
     "name": "stdout",
     "output_type": "stream",
     "text": [
      "Total no of duplicate values in Training Dataset = 0\n"
     ]
    },
    {
     "data": {
      "text/html": [
       "<div>\n",
       "<style scoped>\n",
       "    .dataframe tbody tr th:only-of-type {\n",
       "        vertical-align: middle;\n",
       "    }\n",
       "\n",
       "    .dataframe tbody tr th {\n",
       "        vertical-align: top;\n",
       "    }\n",
       "\n",
       "    .dataframe thead th {\n",
       "        text-align: right;\n",
       "    }\n",
       "</style>\n",
       "<table border=\"1\" class=\"dataframe\">\n",
       "  <thead>\n",
       "    <tr style=\"text-align: right;\">\n",
       "      <th></th>\n",
       "      <th>PassengerId</th>\n",
       "      <th>Survived</th>\n",
       "      <th>Pclass</th>\n",
       "      <th>Name</th>\n",
       "      <th>Sex</th>\n",
       "      <th>Age</th>\n",
       "      <th>SibSp</th>\n",
       "      <th>Parch</th>\n",
       "      <th>Ticket</th>\n",
       "      <th>Fare</th>\n",
       "      <th>Cabin</th>\n",
       "      <th>Embarked</th>\n",
       "    </tr>\n",
       "  </thead>\n",
       "  <tbody>\n",
       "  </tbody>\n",
       "</table>\n",
       "</div>"
      ],
      "text/plain": [
       "Empty DataFrame\n",
       "Columns: [PassengerId, Survived, Pclass, Name, Sex, Age, SibSp, Parch, Ticket, Fare, Cabin, Embarked]\n",
       "Index: []"
      ]
     },
     "execution_count": 3,
     "metadata": {},
     "output_type": "execute_result"
    }
   ],
   "source": [
    "#Check Duplicates:\n",
    "dupstr = df.duplicated()\n",
    "print('Total no of duplicate values in Training Dataset = %d' % (dupstr.sum()))\n",
    "df[dupstr]"
   ]
  },
  {
   "cell_type": "code",
   "execution_count": 4,
   "id": "c1d67e7e",
   "metadata": {
    "execution": {
     "iopub.execute_input": "2025-07-05T23:28:38.276134Z",
     "iopub.status.busy": "2025-07-05T23:28:38.275848Z",
     "iopub.status.idle": "2025-07-05T23:28:38.285526Z",
     "shell.execute_reply": "2025-07-05T23:28:38.284677Z"
    },
    "papermill": {
     "duration": 0.040498,
     "end_time": "2025-07-05T23:28:38.288534",
     "exception": false,
     "start_time": "2025-07-05T23:28:38.248036",
     "status": "completed"
    },
    "tags": []
   },
   "outputs": [
    {
     "name": "stdout",
     "output_type": "stream",
     "text": [
      "Missing data by column as a percent:\n",
      "Cabin          0.771044\n",
      "Age            0.198653\n",
      "Embarked       0.002245\n",
      "PassengerId    0.000000\n",
      "Survived       0.000000\n",
      "dtype: float64\n"
     ]
    }
   ],
   "source": [
    "#search for columns with missing values:\n",
    "def findNA():\n",
    "    print(\"Missing data by column as a percent:\")\n",
    "    findNA=df.isnull().sum().sort_values(ascending=False)/len(df)\n",
    "    print(findNA.head())\n",
    "findNA() "
   ]
  },
  {
   "cell_type": "markdown",
   "id": "d3e7b1c5",
   "metadata": {
    "papermill": {
     "duration": 0.026717,
     "end_time": "2025-07-05T23:28:38.342813",
     "exception": false,
     "start_time": "2025-07-05T23:28:38.316096",
     "status": "completed"
    },
    "tags": []
   },
   "source": [
    "# Feature Engineer\n",
    "We need to replace male and female into numbers. This is a very important part of the process because gender is one of the highest predictors on if a person survived or not."
   ]
  },
  {
   "cell_type": "code",
   "execution_count": 5,
   "id": "a322b06a",
   "metadata": {
    "execution": {
     "iopub.execute_input": "2025-07-05T23:28:38.398723Z",
     "iopub.status.busy": "2025-07-05T23:28:38.398450Z",
     "iopub.status.idle": "2025-07-05T23:28:38.406368Z",
     "shell.execute_reply": "2025-07-05T23:28:38.405431Z"
    },
    "papermill": {
     "duration": 0.037803,
     "end_time": "2025-07-05T23:28:38.408413",
     "exception": false,
     "start_time": "2025-07-05T23:28:38.370610",
     "status": "completed"
    },
    "tags": []
   },
   "outputs": [],
   "source": [
    "#GENDER\n",
    "df['Sex']=df['Sex'].map({'female':0,'male':1})"
   ]
  },
  {
   "cell_type": "markdown",
   "id": "336a5ee5",
   "metadata": {
    "papermill": {
     "duration": 0.029171,
     "end_time": "2025-07-05T23:28:38.466686",
     "exception": false,
     "start_time": "2025-07-05T23:28:38.437515",
     "status": "completed"
    },
    "tags": []
   },
   "source": [
    "Females whose number is 0 had a much higher chance of surving than males. Later on, doing the importance feature analysis we will view that gender is actually one of the highest predictors. "
   ]
  },
  {
   "cell_type": "code",
   "execution_count": 6,
   "id": "4aa5b964",
   "metadata": {
    "execution": {
     "iopub.execute_input": "2025-07-05T23:28:38.523625Z",
     "iopub.status.busy": "2025-07-05T23:28:38.523355Z",
     "iopub.status.idle": "2025-07-05T23:28:38.554578Z",
     "shell.execute_reply": "2025-07-05T23:28:38.553641Z"
    },
    "papermill": {
     "duration": 0.061462,
     "end_time": "2025-07-05T23:28:38.556857",
     "exception": false,
     "start_time": "2025-07-05T23:28:38.495395",
     "status": "completed"
    },
    "tags": []
   },
   "outputs": [
    {
     "data": {
      "text/html": [
       "<div>\n",
       "<style scoped>\n",
       "    .dataframe tbody tr th:only-of-type {\n",
       "        vertical-align: middle;\n",
       "    }\n",
       "\n",
       "    .dataframe tbody tr th {\n",
       "        vertical-align: top;\n",
       "    }\n",
       "\n",
       "    .dataframe thead th {\n",
       "        text-align: right;\n",
       "    }\n",
       "</style>\n",
       "<table border=\"1\" class=\"dataframe\">\n",
       "  <thead>\n",
       "    <tr style=\"text-align: right;\">\n",
       "      <th>Sex</th>\n",
       "      <th>0</th>\n",
       "      <th>1</th>\n",
       "    </tr>\n",
       "    <tr>\n",
       "      <th>Survived</th>\n",
       "      <th></th>\n",
       "      <th></th>\n",
       "    </tr>\n",
       "  </thead>\n",
       "  <tbody>\n",
       "    <tr>\n",
       "      <th>0</th>\n",
       "      <td>81</td>\n",
       "      <td>468</td>\n",
       "    </tr>\n",
       "    <tr>\n",
       "      <th>1</th>\n",
       "      <td>233</td>\n",
       "      <td>109</td>\n",
       "    </tr>\n",
       "  </tbody>\n",
       "</table>\n",
       "</div>"
      ],
      "text/plain": [
       "Sex         0    1\n",
       "Survived          \n",
       "0          81  468\n",
       "1         233  109"
      ]
     },
     "execution_count": 6,
     "metadata": {},
     "output_type": "execute_result"
    }
   ],
   "source": [
    "genderTable = pd.crosstab(df['Survived'],df['Sex'])\n",
    "genderTable"
   ]
  },
  {
   "cell_type": "markdown",
   "id": "3a427312",
   "metadata": {
    "papermill": {
     "duration": 0.027879,
     "end_time": "2025-07-05T23:28:38.612786",
     "exception": false,
     "start_time": "2025-07-05T23:28:38.584907",
     "status": "completed"
    },
    "tags": []
   },
   "source": [
    "# Encode Categorical Variables\n",
    "Encode Categorical Variables is needed for this dataset since there are many important variables that are not numeric yet. \n",
    "\n",
    "There are three classes C, Q, and S. Class C seems to have the highest chance of survival. Class S has the lowest chance of survival. Unfornately this would tend to show that economic status seems to played a part in the decision if someone survived or not. Embarked does not play role major role in feature importance. "
   ]
  },
  {
   "cell_type": "code",
   "execution_count": 7,
   "id": "64694970",
   "metadata": {
    "execution": {
     "iopub.execute_input": "2025-07-05T23:28:38.670994Z",
     "iopub.status.busy": "2025-07-05T23:28:38.670731Z",
     "iopub.status.idle": "2025-07-05T23:28:38.883445Z",
     "shell.execute_reply": "2025-07-05T23:28:38.882474Z"
    },
    "papermill": {
     "duration": 0.243806,
     "end_time": "2025-07-05T23:28:38.885834",
     "exception": false,
     "start_time": "2025-07-05T23:28:38.642028",
     "status": "completed"
    },
    "tags": []
   },
   "outputs": [],
   "source": [
    "import category_encoders as ce\n",
    "#encoder = ce.OrdinalEncoder(cols=['Embarked'])\n",
    "\n",
    "#df = encoder.fit_transform(df)\n",
    "#test = encoder.fit_transform(test)\n",
    "#test.head()"
   ]
  },
  {
   "cell_type": "markdown",
   "id": "a446d3eb",
   "metadata": {
    "papermill": {
     "duration": 0.026802,
     "end_time": "2025-07-05T23:28:38.941405",
     "exception": false,
     "start_time": "2025-07-05T23:28:38.914603",
     "status": "completed"
    },
    "tags": []
   },
   "source": [
    "# Examine Target Variable\n",
    "Survived is the Y variable we will be analyzing. Since the survival rete is 0.384 the data is not considered unbalanced. "
   ]
  },
  {
   "cell_type": "code",
   "execution_count": 8,
   "id": "b1bd8442",
   "metadata": {
    "execution": {
     "iopub.execute_input": "2025-07-05T23:28:39.000800Z",
     "iopub.status.busy": "2025-07-05T23:28:39.000509Z",
     "iopub.status.idle": "2025-07-05T23:28:39.008282Z",
     "shell.execute_reply": "2025-07-05T23:28:39.007092Z"
    },
    "papermill": {
     "duration": 0.041256,
     "end_time": "2025-07-05T23:28:39.010622",
     "exception": false,
     "start_time": "2025-07-05T23:28:38.969366",
     "status": "completed"
    },
    "tags": []
   },
   "outputs": [
    {
     "name": "stdout",
     "output_type": "stream",
     "text": [
      "0    549\n",
      "1    342\n",
      "Name: Survived, dtype: int64\n",
      "Percent that survived:  0.384\n"
     ]
    }
   ],
   "source": [
    "temp=df['Survived'].value_counts()\n",
    "print(temp)\n",
    "no=temp[0]\n",
    "yes=temp[1]\n",
    "percent=round(yes/(yes+no),3)\n",
    "print(\"Percent that survived: \", percent)"
   ]
  },
  {
   "cell_type": "markdown",
   "id": "8588daa5",
   "metadata": {
    "papermill": {
     "duration": 0.028035,
     "end_time": "2025-07-05T23:28:39.065899",
     "exception": false,
     "start_time": "2025-07-05T23:28:39.037864",
     "status": "completed"
    },
    "tags": []
   },
   "source": [
    "# Numeric DataFrame\n",
    "For now, we will analyze only numeric values. Categorical values will need to be encoded or analyzed individually."
   ]
  },
  {
   "cell_type": "code",
   "execution_count": 9,
   "id": "db711de7",
   "metadata": {
    "execution": {
     "iopub.execute_input": "2025-07-05T23:28:39.122990Z",
     "iopub.status.busy": "2025-07-05T23:28:39.122691Z",
     "iopub.status.idle": "2025-07-05T23:28:39.138736Z",
     "shell.execute_reply": "2025-07-05T23:28:39.137642Z"
    },
    "papermill": {
     "duration": 0.04642,
     "end_time": "2025-07-05T23:28:39.141076",
     "exception": false,
     "start_time": "2025-07-05T23:28:39.094656",
     "status": "completed"
    },
    "tags": []
   },
   "outputs": [
    {
     "data": {
      "text/html": [
       "<div>\n",
       "<style scoped>\n",
       "    .dataframe tbody tr th:only-of-type {\n",
       "        vertical-align: middle;\n",
       "    }\n",
       "\n",
       "    .dataframe tbody tr th {\n",
       "        vertical-align: top;\n",
       "    }\n",
       "\n",
       "    .dataframe thead th {\n",
       "        text-align: right;\n",
       "    }\n",
       "</style>\n",
       "<table border=\"1\" class=\"dataframe\">\n",
       "  <thead>\n",
       "    <tr style=\"text-align: right;\">\n",
       "      <th></th>\n",
       "      <th>PassengerId</th>\n",
       "      <th>Survived</th>\n",
       "      <th>Pclass</th>\n",
       "      <th>Sex</th>\n",
       "      <th>Age</th>\n",
       "      <th>SibSp</th>\n",
       "      <th>Parch</th>\n",
       "      <th>Fare</th>\n",
       "    </tr>\n",
       "  </thead>\n",
       "  <tbody>\n",
       "    <tr>\n",
       "      <th>0</th>\n",
       "      <td>1</td>\n",
       "      <td>0</td>\n",
       "      <td>3</td>\n",
       "      <td>1</td>\n",
       "      <td>22.0</td>\n",
       "      <td>1</td>\n",
       "      <td>0</td>\n",
       "      <td>7.2500</td>\n",
       "    </tr>\n",
       "    <tr>\n",
       "      <th>1</th>\n",
       "      <td>2</td>\n",
       "      <td>1</td>\n",
       "      <td>1</td>\n",
       "      <td>0</td>\n",
       "      <td>38.0</td>\n",
       "      <td>1</td>\n",
       "      <td>0</td>\n",
       "      <td>71.2833</td>\n",
       "    </tr>\n",
       "    <tr>\n",
       "      <th>2</th>\n",
       "      <td>3</td>\n",
       "      <td>1</td>\n",
       "      <td>3</td>\n",
       "      <td>0</td>\n",
       "      <td>26.0</td>\n",
       "      <td>0</td>\n",
       "      <td>0</td>\n",
       "      <td>7.9250</td>\n",
       "    </tr>\n",
       "    <tr>\n",
       "      <th>3</th>\n",
       "      <td>4</td>\n",
       "      <td>1</td>\n",
       "      <td>1</td>\n",
       "      <td>0</td>\n",
       "      <td>35.0</td>\n",
       "      <td>1</td>\n",
       "      <td>0</td>\n",
       "      <td>53.1000</td>\n",
       "    </tr>\n",
       "    <tr>\n",
       "      <th>4</th>\n",
       "      <td>5</td>\n",
       "      <td>0</td>\n",
       "      <td>3</td>\n",
       "      <td>1</td>\n",
       "      <td>35.0</td>\n",
       "      <td>0</td>\n",
       "      <td>0</td>\n",
       "      <td>8.0500</td>\n",
       "    </tr>\n",
       "  </tbody>\n",
       "</table>\n",
       "</div>"
      ],
      "text/plain": [
       "   PassengerId  Survived  Pclass  Sex   Age  SibSp  Parch     Fare\n",
       "0            1         0       3    1  22.0      1      0   7.2500\n",
       "1            2         1       1    0  38.0      1      0  71.2833\n",
       "2            3         1       3    0  26.0      0      0   7.9250\n",
       "3            4         1       1    0  35.0      1      0  53.1000\n",
       "4            5         0       3    1  35.0      0      0   8.0500"
      ]
     },
     "execution_count": 9,
     "metadata": {},
     "output_type": "execute_result"
    }
   ],
   "source": [
    "numerics = ['int16', 'int32', 'int64', 'float16', 'float32', 'float64']\n",
    "df = df.select_dtypes(include=numerics)\n",
    "df.head()"
   ]
  },
  {
   "cell_type": "markdown",
   "id": "1b22b8ff",
   "metadata": {
    "papermill": {
     "duration": 0.029772,
     "end_time": "2025-07-05T23:28:39.198503",
     "exception": false,
     "start_time": "2025-07-05T23:28:39.168731",
     "status": "completed"
    },
    "tags": []
   },
   "source": [
    "# Check for missing values\n",
    "Age is missing around 20% of values.Therefore, we can simply fill in the mean for that one column."
   ]
  },
  {
   "cell_type": "code",
   "execution_count": 10,
   "id": "af950f5a",
   "metadata": {
    "execution": {
     "iopub.execute_input": "2025-07-05T23:28:39.255257Z",
     "iopub.status.busy": "2025-07-05T23:28:39.254245Z",
     "iopub.status.idle": "2025-07-05T23:28:39.263948Z",
     "shell.execute_reply": "2025-07-05T23:28:39.263081Z"
    },
    "papermill": {
     "duration": 0.040108,
     "end_time": "2025-07-05T23:28:39.265994",
     "exception": false,
     "start_time": "2025-07-05T23:28:39.225886",
     "status": "completed"
    },
    "tags": []
   },
   "outputs": [
    {
     "name": "stdout",
     "output_type": "stream",
     "text": [
      "Missing data by column as a percent:\n",
      "Age            0.198653\n",
      "PassengerId    0.000000\n",
      "Survived       0.000000\n",
      "Pclass         0.000000\n",
      "Sex            0.000000\n",
      "dtype: float64\n"
     ]
    }
   ],
   "source": [
    "#search for columns with missing values:\n",
    "def findNA():\n",
    "    print(\"Missing data by column as a percent:\")\n",
    "    findNA=df.isnull().sum().sort_values(ascending=False)/len(df)\n",
    "    print(findNA.head())\n",
    "findNA() "
   ]
  },
  {
   "cell_type": "code",
   "execution_count": 11,
   "id": "1237c6ff",
   "metadata": {
    "execution": {
     "iopub.execute_input": "2025-07-05T23:28:39.325537Z",
     "iopub.status.busy": "2025-07-05T23:28:39.325241Z",
     "iopub.status.idle": "2025-07-05T23:28:39.339143Z",
     "shell.execute_reply": "2025-07-05T23:28:39.337984Z"
    },
    "papermill": {
     "duration": 0.047334,
     "end_time": "2025-07-05T23:28:39.341492",
     "exception": false,
     "start_time": "2025-07-05T23:28:39.294158",
     "status": "completed"
    },
    "tags": []
   },
   "outputs": [],
   "source": [
    "df= df.fillna(df.mean())"
   ]
  },
  {
   "cell_type": "markdown",
   "id": "1331472a",
   "metadata": {
    "papermill": {
     "duration": 0.029939,
     "end_time": "2025-07-05T23:28:39.400776",
     "exception": false,
     "start_time": "2025-07-05T23:28:39.370837",
     "status": "completed"
    },
    "tags": []
   },
   "source": [
    "# Split Data"
   ]
  },
  {
   "cell_type": "code",
   "execution_count": 12,
   "id": "d1d4a641",
   "metadata": {
    "execution": {
     "iopub.execute_input": "2025-07-05T23:28:39.456665Z",
     "iopub.status.busy": "2025-07-05T23:28:39.456373Z",
     "iopub.status.idle": "2025-07-05T23:28:39.464948Z",
     "shell.execute_reply": "2025-07-05T23:28:39.464052Z"
    },
    "papermill": {
     "duration": 0.039082,
     "end_time": "2025-07-05T23:28:39.467103",
     "exception": false,
     "start_time": "2025-07-05T23:28:39.428021",
     "status": "completed"
    },
    "tags": []
   },
   "outputs": [],
   "source": [
    "X=df.drop('Survived', axis=1)\n",
    "y=df['Survived']\n",
    "\n",
    "X_train, X_test, y_train, y_test = train_test_split(\n",
    "    X, y, test_size = 0.33, random_state = 42)"
   ]
  },
  {
   "cell_type": "markdown",
   "id": "534e17a4",
   "metadata": {
    "papermill": {
     "duration": 0.028553,
     "end_time": "2025-07-05T23:28:39.524184",
     "exception": false,
     "start_time": "2025-07-05T23:28:39.495631",
     "status": "completed"
    },
    "tags": []
   },
   "source": [
    "# Highly Correlated Features\n",
    "There are no highly correlated variables above 80%. Therefore, we do not need to be concerned about removing variables that are too highly correlated. "
   ]
  },
  {
   "cell_type": "markdown",
   "id": "b5a04c23",
   "metadata": {
    "_kg_hide-output": true,
    "papermill": {
     "duration": 0.027752,
     "end_time": "2025-07-05T23:28:39.580364",
     "exception": false,
     "start_time": "2025-07-05T23:28:39.552612",
     "status": "completed"
    },
    "tags": []
   },
   "source": [
    "# Tunning Forest\n",
    "Random forest AUC:  0.8503 which is good results considering forest does not overfit data."
   ]
  },
  {
   "cell_type": "code",
   "execution_count": 13,
   "id": "021ee7e4",
   "metadata": {
    "execution": {
     "iopub.execute_input": "2025-07-05T23:28:39.639147Z",
     "iopub.status.busy": "2025-07-05T23:28:39.638329Z",
     "iopub.status.idle": "2025-07-05T23:28:40.623478Z",
     "shell.execute_reply": "2025-07-05T23:28:40.622567Z"
    },
    "papermill": {
     "duration": 1.01629,
     "end_time": "2025-07-05T23:28:40.626091",
     "exception": false,
     "start_time": "2025-07-05T23:28:39.609801",
     "status": "completed"
    },
    "tags": []
   },
   "outputs": [
    {
     "name": "stderr",
     "output_type": "stream",
     "text": [
      "/opt/conda/lib/python3.7/site-packages/sklearn/ensemble/_forest.py:564: UserWarning: Some inputs do not have OOB scores. This probably means too few trees were used to compute any reliable OOB estimates.\n",
      "  UserWarning,\n"
     ]
    },
    {
     "data": {
      "image/png": "[encoded data removed]",
      "text/plain": [
       "<Figure size 432x288 with 1 Axes>"
      ]
     },
     "metadata": {
      "needs_background": "light"
     },
     "output_type": "display_data"
    },
    {
     "data": {
      "image/png": "[encoded data removed]",
      "text/plain": [
       "<Figure size 432x288 with 1 Axes>"
      ]
     },
     "metadata": {
      "needs_background": "light"
     },
     "output_type": "display_data"
    }
   ],
   "source": [
    "from sklearn.ensemble import RandomForestRegressor, RandomForestClassifier\n",
    "\n",
    "#Check for Error and find Best n_estimators:\n",
    "def forestNumEst():\n",
    "    numbers= [2, 20, 40, 50, 60, 100]\n",
    "    maeList=[] #error\n",
    "    accList=[]\n",
    "    \n",
    "    for n in numbers:\n",
    "        forest = RandomForestClassifier(n_estimators=n, oob_score = True)\n",
    "        forest.fit(X_train, y_train)\n",
    "        y_pred = forest.predict(X_test)\n",
    "        mae=metrics.mean_absolute_error(y_test, y_pred).round(2)\n",
    "        forest_auc = round( metrics.roc_auc_score(y_test, y_pred), 4 ) \n",
    "        #print(\"Random forest AUC: \", forest_auc) \n",
    "      \n",
    "        accList.append(forest_auc)\n",
    "        maeList.append(mae)\n",
    "        \n",
    "    plt.plot(numbers,accList)\n",
    "    plt.title(\"Forest Estimators\" )\n",
    "    plt.xlabel(\"Estimators\")\n",
    "    plt.ylabel('Accuracy')\n",
    "    plt.legend()\n",
    "    plt.show() \n",
    "    \n",
    "    plt.plot(numbers, maeList)\n",
    "    plt.title(\"Forest Estimators\" )\n",
    "    plt.xlabel(\"Estimators\")\n",
    "    plt.ylabel('error')\n",
    "    plt.legend()\n",
    "    plt.show() \n",
    "\n",
    "forestNumEst() "
   ]
  },
  {
   "cell_type": "code",
   "execution_count": 14,
   "id": "7c31c964",
   "metadata": {
    "execution": {
     "iopub.execute_input": "2025-07-05T23:28:40.689721Z",
     "iopub.status.busy": "2025-07-05T23:28:40.689441Z",
     "iopub.status.idle": "2025-07-05T23:28:42.171352Z",
     "shell.execute_reply": "2025-07-05T23:28:42.170471Z"
    },
    "papermill": {
     "duration": 1.516985,
     "end_time": "2025-07-05T23:28:42.173419",
     "exception": false,
     "start_time": "2025-07-05T23:28:40.656434",
     "status": "completed"
    },
    "tags": []
   },
   "outputs": [
    {
     "data": {
      "image/png": "[encoded data removed]",
      "text/plain": [
       "<Figure size 432x288 with 1 Axes>"
      ]
     },
     "metadata": {
      "needs_background": "light"
     },
     "output_type": "display_data"
    },
    {
     "data": {
      "image/png": "[encoded data removed]",
      "text/plain": [
       "<Figure size 432x288 with 1 Axes>"
      ]
     },
     "metadata": {
      "needs_background": "light"
     },
     "output_type": "display_data"
    }
   ],
   "source": [
    "def forestDepth():\n",
    "    numbers=[None, 2, 3, 4, 5, 7, 10]\n",
    "    accList=[] #accuracy train data\n",
    "    maeList=[] #error\n",
    "    \n",
    "    for n in numbers:\n",
    "        forest = RandomForestClassifier(max_depth=n)\n",
    "        forest.fit(X_train, y_train)\n",
    "        y_pred = forest.predict(X_test)\n",
    "        mae=metrics.mean_absolute_error(y_test, y_pred).round(2)\n",
    "        forest_auc = round( metrics.roc_auc_score(y_test, y_pred), 4 ) \n",
    "        #print(\"Random forest AUC: \", forest_auc) \n",
    "       \n",
    "        accList.append(forest_auc)\n",
    "        maeList.append(mae)\n",
    "        \n",
    "    plt.plot(numbers,accList)\n",
    "    plt.title(\"Forest Max_Depth\")\n",
    "    plt.xlabel('max_depth')\n",
    "    plt.ylabel('Accuracy')\n",
    "    plt.legend()\n",
    "    plt.show() \n",
    "    \n",
    "    plt.plot(numbers, maeList)\n",
    "    plt.title(\"Forest Max_Depth\")\n",
    "    plt.xlabel(\"max_depth\")\n",
    "    plt.ylabel('error')\n",
    "    plt.legend()\n",
    "    plt.show() \n",
    "\n",
    "forestDepth()"
   ]
  },
  {
   "cell_type": "code",
   "execution_count": 15,
   "id": "76ecf9f3",
   "metadata": {
    "execution": {
     "iopub.execute_input": "2025-07-05T23:28:42.242710Z",
     "iopub.status.busy": "2025-07-05T23:28:42.242008Z",
     "iopub.status.idle": "2025-07-05T23:28:43.787461Z",
     "shell.execute_reply": "2025-07-05T23:28:43.786600Z"
    },
    "papermill": {
     "duration": 1.584314,
     "end_time": "2025-07-05T23:28:43.790064",
     "exception": false,
     "start_time": "2025-07-05T23:28:42.205750",
     "status": "completed"
    },
    "tags": []
   },
   "outputs": [
    {
     "data": {
      "image/png": "[encoded data removed]",
      "text/plain": [
       "<Figure size 432x288 with 1 Axes>"
      ]
     },
     "metadata": {
      "needs_background": "light"
     },
     "output_type": "display_data"
    },
    {
     "data": {
      "image/png": "[encoded data removed]",
      "text/plain": [
       "<Figure size 432x288 with 1 Axes>"
      ]
     },
     "metadata": {
      "needs_background": "light"
     },
     "output_type": "display_data"
    }
   ],
   "source": [
    "def forestLeaf():\n",
    "    numbers=[2, 3, 4, 5, 7, 10]\n",
    "    accList=[] #accuracy train data\n",
    "    maeList=[] #error\n",
    "    \n",
    "    for n in numbers:\n",
    "        forest = RandomForestClassifier(min_samples_split=n)\n",
    "        forest.fit(X_train, y_train)\n",
    "        y_pred = forest.predict(X_test)\n",
    "        mae=metrics.mean_absolute_error(y_test, y_pred).round(2)\n",
    "        forest_auc = round( metrics.roc_auc_score(y_test, y_pred), 4 ) \n",
    "        #print(\"Random forest AUC: \", forest_auc) \n",
    "       \n",
    "        accList.append(forest_auc)\n",
    "        maeList.append(mae)\n",
    "        \n",
    "    plt.plot(numbers,accList)\n",
    "    plt.title(\"Forest\")\n",
    "    plt.xlabel('min_samples_split')\n",
    "    plt.ylabel('Accuracy')\n",
    "    plt.legend()\n",
    "    plt.show() \n",
    "    \n",
    "    plt.plot(numbers, maeList)\n",
    "    plt.title(\"Forest\")\n",
    "    plt.xlabel(\"min_samples_split\")\n",
    "    plt.ylabel('error')\n",
    "    plt.legend()\n",
    "    plt.show() \n",
    "\n",
    "forestLeaf()"
   ]
  },
  {
   "cell_type": "code",
   "execution_count": 16,
   "id": "c8bb3dc1",
   "metadata": {
    "execution": {
     "iopub.execute_input": "2025-07-05T23:28:43.861331Z",
     "iopub.status.busy": "2025-07-05T23:28:43.861013Z",
     "iopub.status.idle": "2025-07-05T23:28:45.430410Z",
     "shell.execute_reply": "2025-07-05T23:28:45.429424Z"
    },
    "papermill": {
     "duration": 1.608593,
     "end_time": "2025-07-05T23:28:45.432569",
     "exception": false,
     "start_time": "2025-07-05T23:28:43.823976",
     "status": "completed"
    },
    "tags": []
   },
   "outputs": [
    {
     "data": {
      "image/png": "[encoded data removed]",
      "text/plain": [
       "<Figure size 432x288 with 1 Axes>"
      ]
     },
     "metadata": {
      "needs_background": "light"
     },
     "output_type": "display_data"
    },
    {
     "data": {
      "image/png": "[encoded data removed]",
      "text/plain": [
       "<Figure size 432x288 with 1 Axes>"
      ]
     },
     "metadata": {
      "needs_background": "light"
     },
     "output_type": "display_data"
    }
   ],
   "source": [
    "def forestMinLeaf():\n",
    "    numbers=[1, 2, 3, 4, 5, 7, 10]\n",
    "    accList=[] #accuracy train data\n",
    "    maeList=[] #error\n",
    "    \n",
    "    for n in numbers:\n",
    "        forest = RandomForestClassifier(min_samples_leaf=n)\n",
    "        forest.fit(X_train, y_train)\n",
    "        y_pred = forest.predict(X_test)\n",
    "        mae=metrics.mean_absolute_error(y_test, y_pred).round(2)\n",
    "        forest_auc = round( metrics.roc_auc_score(y_test, y_pred), 4 ) \n",
    "        #print(\"Random forest AUC: \", forest_auc) \n",
    "       \n",
    "        accList.append(forest_auc)\n",
    "        maeList.append(mae)\n",
    "        \n",
    "    plt.plot(numbers,accList)\n",
    "    plt.title(\"Forest\")\n",
    "    plt.xlabel('min_samples_leaf')\n",
    "    plt.ylabel('Accuracy')\n",
    "    plt.legend()\n",
    "    plt.show() \n",
    "    \n",
    "    plt.plot(numbers, maeList)\n",
    "    plt.title(\"Forest\")\n",
    "    plt.xlabel(\"min_samples_leaf\")\n",
    "    plt.ylabel('error')\n",
    "    plt.legend()\n",
    "    plt.show() \n",
    "\n",
    "forestMinLeaf()"
   ]
  },
  {
   "cell_type": "markdown",
   "id": "d367c247",
   "metadata": {
    "papermill": {
     "duration": 0.036748,
     "end_time": "2025-07-05T23:28:45.506573",
     "exception": false,
     "start_time": "2025-07-05T23:28:45.469825",
     "status": "completed"
    },
    "tags": []
   },
   "source": [
    "# GridSearch CV\n",
    "GridSearchCV helps find the best combination of model parameters by testing all possible combinations from a grid you define. It trains the model multiple times using cross-validation and returns the settings that give the highest accuracy (or lowest error). This helps automate model tuning and improves performance by avoiding guesswork."
   ]
  },
  {
   "cell_type": "code",
   "execution_count": 17,
   "id": "0e1e8ad5",
   "metadata": {
    "execution": {
     "iopub.execute_input": "2025-07-05T23:28:45.583785Z",
     "iopub.status.busy": "2025-07-05T23:28:45.582949Z",
     "iopub.status.idle": "2025-07-05T23:28:45.589426Z",
     "shell.execute_reply": "2025-07-05T23:28:45.588500Z"
    },
    "papermill": {
     "duration": 0.046392,
     "end_time": "2025-07-05T23:28:45.591616",
     "exception": false,
     "start_time": "2025-07-05T23:28:45.545224",
     "status": "completed"
    },
    "tags": []
   },
   "outputs": [],
   "source": [
    "from sklearn.model_selection import GridSearchCV, StratifiedKFold, cross_val_score\n",
    "\n",
    "def runGridSearch():\n",
    "    params = {\n",
    "        'n_estimators':[50, 60, 70],\n",
    "        'max_depth':[6, 9, 12],\n",
    "        'min_samples_split':[2, 3],  #2 is default\n",
    "        'min_samples_leaf':[1, 3, 5]   #1 is default\n",
    "        #'max_features':['auto', 'sqrt', 'log2'],\n",
    "        #'criterion':['gini', 'entropy'],\n",
    "    }\n",
    "    \n",
    "    #kfold = StratifiedKFold(n_splits=5, shuffle=True, random_state=7)\n",
    "    forestGrid=GridSearchCV(estimator=RandomForestClassifier(), param_grid=params, cv=5, scoring='accuracy')\n",
    "    forestGrid.fit(X_train, y_train)\n",
    "    forestGrid.best_params_\n",
    "#runGridSearch()"
   ]
  },
  {
   "cell_type": "markdown",
   "id": "b9d787e1",
   "metadata": {
    "papermill": {
     "duration": 0.036864,
     "end_time": "2025-07-05T23:28:45.664326",
     "exception": false,
     "start_time": "2025-07-05T23:28:45.627462",
     "status": "completed"
    },
    "tags": []
   },
   "source": [
    "#### Final Random Forest Prediction\n",
    "* Top 5% Using {'max_depth': 5, 'n_estimators': 60} 0.79425"
   ]
  },
  {
   "cell_type": "code",
   "execution_count": 18,
   "id": "86edba08",
   "metadata": {
    "execution": {
     "iopub.execute_input": "2025-07-05T23:28:45.742696Z",
     "iopub.status.busy": "2025-07-05T23:28:45.742419Z",
     "iopub.status.idle": "2025-07-05T23:28:46.885747Z",
     "shell.execute_reply": "2025-07-05T23:28:46.884269Z"
    },
    "papermill": {
     "duration": 1.184008,
     "end_time": "2025-07-05T23:28:46.887889",
     "exception": false,
     "start_time": "2025-07-05T23:28:45.703881",
     "status": "completed"
    },
    "tags": []
   },
   "outputs": [
    {
     "name": "stdout",
     "output_type": "stream",
     "text": [
      "Random Forest AUC: 0.8032\n",
      "Random Forest MAE: 0.17\n",
      "Random Forest R²: 0.2836\n",
      "Test Accuracy: 0.8271\n",
      "5-Fold CV Accuracy: 0.8048\n",
      "Accuracy Gap (Test - CV): 0.0223\n"
     ]
    }
   ],
   "source": [
    "from sklearn.ensemble import RandomForestClassifier\n",
    "from sklearn.model_selection import cross_validate\n",
    "from sklearn import metrics\n",
    "from sklearn.metrics import r2_score\n",
    "\n",
    "# Final model\n",
    "forestFinal = RandomForestClassifier(\n",
    "    n_estimators=100,             # Try increasing this from 50 to 100 for smoother averaging\n",
    "    max_depth=9,\n",
    "    min_samples_split=3,\n",
    "    min_samples_leaf=2,\n",
    "    criterion='entropy',\n",
    "    random_state=42               # For reproducibility\n",
    ")\n",
    "\n",
    "# Fit model and predict\n",
    "forestFinal.fit(X_train, y_train)\n",
    "y_pred = forestFinal.predict(X_test)\n",
    "\n",
    "# Evaluation Metrics\n",
    "forest_auc = metrics.roc_auc_score(y_test, y_pred).round(4)\n",
    "mae = metrics.mean_absolute_error(y_test, y_pred).round(2)\n",
    "forest_r2 = r2_score(y_test, y_pred).round(4)\n",
    "forestScore = forestFinal.score(X_test, y_test).round(4)\n",
    "\n",
    "# Cross-Validation (on full data)\n",
    "forestCV = cross_validate(forestFinal, X, y, cv=5, scoring='accuracy', return_train_score=False)\n",
    "forestCV_mean = forestCV['test_score'].mean().round(4)\n",
    "\n",
    "# Results\n",
    "print(\"Random Forest AUC:\", forest_auc)\n",
    "print(\"Random Forest MAE:\", mae)\n",
    "print(\"Random Forest R²:\", forest_r2)\n",
    "print(\"Test Accuracy:\", forestScore)\n",
    "print(\"5-Fold CV Accuracy:\", forestCV_mean)\n",
    "print(\"Accuracy Gap (Test - CV):\", round(forestScore - forestCV_mean, 4))\n",
    "\n"
   ]
  },
  {
   "cell_type": "markdown",
   "id": "7608c143",
   "metadata": {
    "papermill": {
     "duration": 0.036798,
     "end_time": "2025-07-05T23:28:46.962165",
     "exception": false,
     "start_time": "2025-07-05T23:28:46.925367",
     "status": "completed"
    },
    "tags": []
   },
   "source": [
    "# Test Data"
   ]
  },
  {
   "cell_type": "code",
   "execution_count": 19,
   "id": "1295b1d2",
   "metadata": {
    "execution": {
     "iopub.execute_input": "2025-07-05T23:28:47.040979Z",
     "iopub.status.busy": "2025-07-05T23:28:47.040687Z",
     "iopub.status.idle": "2025-07-05T23:28:47.059830Z",
     "shell.execute_reply": "2025-07-05T23:28:47.059031Z"
    },
    "papermill": {
     "duration": 0.062265,
     "end_time": "2025-07-05T23:28:47.061709",
     "exception": false,
     "start_time": "2025-07-05T23:28:46.999444",
     "status": "completed"
    },
    "tags": []
   },
   "outputs": [
    {
     "data": {
      "text/html": [
       "<div>\n",
       "<style scoped>\n",
       "    .dataframe tbody tr th:only-of-type {\n",
       "        vertical-align: middle;\n",
       "    }\n",
       "\n",
       "    .dataframe tbody tr th {\n",
       "        vertical-align: top;\n",
       "    }\n",
       "\n",
       "    .dataframe thead th {\n",
       "        text-align: right;\n",
       "    }\n",
       "</style>\n",
       "<table border=\"1\" class=\"dataframe\">\n",
       "  <thead>\n",
       "    <tr style=\"text-align: right;\">\n",
       "      <th></th>\n",
       "      <th>PassengerId</th>\n",
       "      <th>Pclass</th>\n",
       "      <th>Sex</th>\n",
       "      <th>Age</th>\n",
       "      <th>SibSp</th>\n",
       "      <th>Parch</th>\n",
       "      <th>Fare</th>\n",
       "    </tr>\n",
       "  </thead>\n",
       "  <tbody>\n",
       "    <tr>\n",
       "      <th>0</th>\n",
       "      <td>892</td>\n",
       "      <td>3</td>\n",
       "      <td>1</td>\n",
       "      <td>34.5</td>\n",
       "      <td>0</td>\n",
       "      <td>0</td>\n",
       "      <td>7.8292</td>\n",
       "    </tr>\n",
       "    <tr>\n",
       "      <th>1</th>\n",
       "      <td>893</td>\n",
       "      <td>3</td>\n",
       "      <td>0</td>\n",
       "      <td>47.0</td>\n",
       "      <td>1</td>\n",
       "      <td>0</td>\n",
       "      <td>7.0000</td>\n",
       "    </tr>\n",
       "    <tr>\n",
       "      <th>2</th>\n",
       "      <td>894</td>\n",
       "      <td>2</td>\n",
       "      <td>1</td>\n",
       "      <td>62.0</td>\n",
       "      <td>0</td>\n",
       "      <td>0</td>\n",
       "      <td>9.6875</td>\n",
       "    </tr>\n",
       "    <tr>\n",
       "      <th>3</th>\n",
       "      <td>895</td>\n",
       "      <td>3</td>\n",
       "      <td>1</td>\n",
       "      <td>27.0</td>\n",
       "      <td>0</td>\n",
       "      <td>0</td>\n",
       "      <td>8.6625</td>\n",
       "    </tr>\n",
       "    <tr>\n",
       "      <th>4</th>\n",
       "      <td>896</td>\n",
       "      <td>3</td>\n",
       "      <td>0</td>\n",
       "      <td>22.0</td>\n",
       "      <td>1</td>\n",
       "      <td>1</td>\n",
       "      <td>12.2875</td>\n",
       "    </tr>\n",
       "  </tbody>\n",
       "</table>\n",
       "</div>"
      ],
      "text/plain": [
       "   PassengerId  Pclass  Sex   Age  SibSp  Parch     Fare\n",
       "0          892       3    1  34.5      0      0   7.8292\n",
       "1          893       3    0  47.0      1      0   7.0000\n",
       "2          894       2    1  62.0      0      0   9.6875\n",
       "3          895       3    1  27.0      0      0   8.6625\n",
       "4          896       3    0  22.0      1      1  12.2875"
      ]
     },
     "execution_count": 19,
     "metadata": {},
     "output_type": "execute_result"
    }
   ],
   "source": [
    "#GENDER\n",
    "test['Sex']=test['Sex'].map({'female':0,'male':1})\n",
    "\n",
    "features=list(X.columns)\n",
    "test=test[features]\n",
    "\n",
    "test=test.fillna(test.mean())\n",
    "test.head()"
   ]
  },
  {
   "cell_type": "markdown",
   "id": "f9f39937",
   "metadata": {
    "papermill": {
     "duration": 0.036184,
     "end_time": "2025-07-05T23:28:47.134058",
     "exception": false,
     "start_time": "2025-07-05T23:28:47.097874",
     "status": "completed"
    },
    "tags": []
   },
   "source": [
    "# Final Prediction"
   ]
  },
  {
   "cell_type": "code",
   "execution_count": 20,
   "id": "79e386a4",
   "metadata": {
    "execution": {
     "iopub.execute_input": "2025-07-05T23:28:47.210208Z",
     "iopub.status.busy": "2025-07-05T23:28:47.209869Z",
     "iopub.status.idle": "2025-07-05T23:28:47.239004Z",
     "shell.execute_reply": "2025-07-05T23:28:47.238137Z"
    },
    "papermill": {
     "duration": 0.070172,
     "end_time": "2025-07-05T23:28:47.241237",
     "exception": false,
     "start_time": "2025-07-05T23:28:47.171065",
     "status": "completed"
    },
    "tags": []
   },
   "outputs": [
    {
     "data": {
      "text/html": [
       "<div>\n",
       "<style scoped>\n",
       "    .dataframe tbody tr th:only-of-type {\n",
       "        vertical-align: middle;\n",
       "    }\n",
       "\n",
       "    .dataframe tbody tr th {\n",
       "        vertical-align: top;\n",
       "    }\n",
       "\n",
       "    .dataframe thead th {\n",
       "        text-align: right;\n",
       "    }\n",
       "</style>\n",
       "<table border=\"1\" class=\"dataframe\">\n",
       "  <thead>\n",
       "    <tr style=\"text-align: right;\">\n",
       "      <th></th>\n",
       "      <th>PassengerId</th>\n",
       "      <th>Survived</th>\n",
       "    </tr>\n",
       "  </thead>\n",
       "  <tbody>\n",
       "    <tr>\n",
       "      <th>0</th>\n",
       "      <td>892</td>\n",
       "      <td>0</td>\n",
       "    </tr>\n",
       "    <tr>\n",
       "      <th>1</th>\n",
       "      <td>893</td>\n",
       "      <td>0</td>\n",
       "    </tr>\n",
       "    <tr>\n",
       "      <th>2</th>\n",
       "      <td>894</td>\n",
       "      <td>0</td>\n",
       "    </tr>\n",
       "    <tr>\n",
       "      <th>3</th>\n",
       "      <td>895</td>\n",
       "      <td>0</td>\n",
       "    </tr>\n",
       "    <tr>\n",
       "      <th>4</th>\n",
       "      <td>896</td>\n",
       "      <td>0</td>\n",
       "    </tr>\n",
       "    <tr>\n",
       "      <th>5</th>\n",
       "      <td>897</td>\n",
       "      <td>0</td>\n",
       "    </tr>\n",
       "    <tr>\n",
       "      <th>6</th>\n",
       "      <td>898</td>\n",
       "      <td>1</td>\n",
       "    </tr>\n",
       "  </tbody>\n",
       "</table>\n",
       "</div>"
      ],
      "text/plain": [
       "   PassengerId  Survived\n",
       "0          892         0\n",
       "1          893         0\n",
       "2          894         0\n",
       "3          895         0\n",
       "4          896         0\n",
       "5          897         0\n",
       "6          898         1"
      ]
     },
     "execution_count": 20,
     "metadata": {},
     "output_type": "execute_result"
    }
   ],
   "source": [
    "test_predictions = forestFinal.predict(test)\n",
    "passID=test['PassengerId']\n",
    "tupleData = list(zip(passID, test_predictions))\n",
    "output = pd.DataFrame(tupleData, columns = ['PassengerId', 'Survived'])\n",
    "output.head(7)"
   ]
  },
  {
   "cell_type": "code",
   "execution_count": 21,
   "id": "13125845",
   "metadata": {
    "execution": {
     "iopub.execute_input": "2025-07-05T23:28:47.321978Z",
     "iopub.status.busy": "2025-07-05T23:28:47.321686Z",
     "iopub.status.idle": "2025-07-05T23:28:47.330164Z",
     "shell.execute_reply": "2025-07-05T23:28:47.329180Z"
    },
    "papermill": {
     "duration": 0.050369,
     "end_time": "2025-07-05T23:28:47.332211",
     "exception": false,
     "start_time": "2025-07-05T23:28:47.281842",
     "status": "completed"
    },
    "tags": []
   },
   "outputs": [
    {
     "name": "stdout",
     "output_type": "stream",
     "text": [
      "Your submission was successfully saved!\n"
     ]
    }
   ],
   "source": [
    "output.to_csv('submission.csv', index=False)\n",
    "print(\"Your submission was successfully saved!\")"
   ]
  },
  {
   "cell_type": "code",
   "execution_count": 22,
   "id": "f435b828",
   "metadata": {
    "execution": {
     "iopub.execute_input": "2025-07-05T23:28:47.411531Z",
     "iopub.status.busy": "2025-07-05T23:28:47.411186Z",
     "iopub.status.idle": "2025-07-05T23:28:47.416805Z",
     "shell.execute_reply": "2025-07-05T23:28:47.415861Z"
    },
    "papermill": {
     "duration": 0.045735,
     "end_time": "2025-07-05T23:28:47.418746",
     "exception": false,
     "start_time": "2025-07-05T23:28:47.373011",
     "status": "completed"
    },
    "tags": []
   },
   "outputs": [
    {
     "name": "stdout",
     "output_type": "stream",
     "text": [
      "Files in current directory: ['submission.csv', '__notebook__.ipynb']\n"
     ]
    }
   ],
   "source": [
    "import os\n",
    "print(\"Files in current directory:\", os.listdir())"
   ]
  },
  {
   "cell_type": "markdown",
   "id": "ccd0ff0d",
   "metadata": {
    "papermill": {
     "duration": 0.039596,
     "end_time": "2025-07-05T23:28:47.495844",
     "exception": false,
     "start_time": "2025-07-05T23:28:47.456248",
     "status": "completed"
    },
    "tags": []
   },
   "source": [
    "#### Notes:\n",
    "Being a wife makes no difference in the final prediction: <br>\n",
    "` df['Titles'] = df['Name'].str.extract(r', (\\w+\\.)') \n",
    "df['Titles'] = df['Titles'].apply(lambda x: 1 if x=='Mrs.' else 0) `"
   ]
  }
 ],
 "metadata": {
  "kaggle": {
   "accelerator": "none",
   "dataSources": [
    {
     "databundleVersionId": 26502,
     "sourceId": 3136,
     "sourceType": "competition"
    }
   ],
   "dockerImageVersionId": 30184,
   "isGpuEnabled": false,
   "isInternetEnabled": true,
   "language": "python",
   "sourceType": "notebook"
  },
  "kernelspec": {
   "display_name": "Python 3",
   "language": "python",
   "name": "python3"
  },
  "language_info": {
   "codemirror_mode": {
    "name": "ipython",
    "version": 3
   },
   "file_extension": ".py",
   "mimetype": "text/x-python",
   "name": "python",
   "nbconvert_exporter": "python",
   "pygments_lexer": "ipython3",
   "version": "3.7.12"
  },
  "papermill": {
   "default_parameters": {},
   "duration": 22.096215,
   "end_time": "2025-07-05T23:28:48.359835",
   "environment_variables": {},
   "exception": null,
   "input_path": "__notebook__.ipynb",
   "output_path": "__notebook__.ipynb",
   "parameters": {},
   "start_time": "2025-07-05T23:28:26.263620",
   "version": "2.3.4"
  }
 },
 "nbformat": 4,
 "nbformat_minor": 5
}
