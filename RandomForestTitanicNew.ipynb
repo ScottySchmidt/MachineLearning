{
 "cells": [
  {
   "cell_type": "markdown",
   "id": "5c2b62b0",
   "metadata": {
    "papermill": {
     "duration": 0.023034,
     "end_time": "2025-07-06T17:05:59.639575",
     "exception": false,
     "start_time": "2025-07-06T17:05:59.616541",
     "status": "completed"
    },
    "tags": []
   },
   "source": [
    "# Random Forest Grid Search | Avoid Overfitting | Top 6% Kaggle Titanic\n",
    "In my last video, I showed how a decision tree overfits the Titanic dataset: www.youtube.com/watch?v=offRb9fBOuw&t=29s\n",
    "\n",
    "Today, we’ll fix that using Random Forest, and I’ll show you how I tuned it with Grid Search to land in the Top 5% on Kaggle.\n",
    "\n",
    "Random Forest reduces overfitting by combining many decision trees that each see different random parts of the data and features.  In this model, I used n_estimators=50, meaning it builds 50 decision trees and averages their results.\n",
    "\n",
    "## Why Tune These Random Forest Parameters?\n",
    "1. n_estimators\n",
    "Controls how many trees are built. More trees usually improve accuracy by averaging out noise, but too many can slow down training.\n",
    "➤ Common range: 50–200\n",
    "\n",
    "2. max_depth\n",
    "Limits how deep each tree can grow. Shallow trees reduce overfitting by preventing the model from memorizing the training data.\n",
    "➤ Common range: 3–10\n",
    "\n",
    "3. min_samples_split\n",
    "Minimum number of samples needed to split a node. Higher values force the model to make splits only when enough data is available, which reduces model complexity.\n",
    "➤ Common range: 2–10\n",
    "\n",
    "All My Models: https://github.com/ScottySchmidt/Kaggle/blob/main/Titanic.ipynb"
   ]
  },
  {
   "cell_type": "markdown",
   "id": "0b5a0874",
   "metadata": {
    "papermill": {
     "duration": 0.020849,
     "end_time": "2025-07-06T17:05:59.682745",
     "exception": false,
     "start_time": "2025-07-06T17:05:59.661896",
     "status": "completed"
    },
    "tags": []
   },
   "source": [
    "# Train Data\n",
    "Train.csv will contain the details of a subset of the passengers on board (891 to be exact) and whether they survive or not. The shape of the train data is (891, 12). "
   ]
  },
  {
   "cell_type": "code",
   "execution_count": 1,
   "id": "524c244d",
   "metadata": {
    "execution": {
     "iopub.execute_input": "2025-07-06T17:05:59.727705Z",
     "iopub.status.busy": "2025-07-06T17:05:59.727216Z",
     "iopub.status.idle": "2025-07-06T17:06:01.380379Z",
     "shell.execute_reply": "2025-07-06T17:06:01.379369Z"
    },
    "papermill": {
     "duration": 1.67952,
     "end_time": "2025-07-06T17:06:01.383598",
     "exception": false,
     "start_time": "2025-07-06T17:05:59.704078",
     "status": "completed"
    },
    "tags": []
   },
   "outputs": [
    {
     "name": "stdout",
     "output_type": "stream",
     "text": [
      "(891, 12)\n"
     ]
    },
    {
     "data": {
      "text/html": [
       "<div>\n",
       "<style scoped>\n",
       "    .dataframe tbody tr th:only-of-type {\n",
       "        vertical-align: middle;\n",
       "    }\n",
       "\n",
       "    .dataframe tbody tr th {\n",
       "        vertical-align: top;\n",
       "    }\n",
       "\n",
       "    .dataframe thead th {\n",
       "        text-align: right;\n",
       "    }\n",
       "</style>\n",
       "<table border=\"1\" class=\"dataframe\">\n",
       "  <thead>\n",
       "    <tr style=\"text-align: right;\">\n",
       "      <th></th>\n",
       "      <th>PassengerId</th>\n",
       "      <th>Survived</th>\n",
       "      <th>Pclass</th>\n",
       "      <th>Name</th>\n",
       "      <th>Sex</th>\n",
       "      <th>Age</th>\n",
       "      <th>SibSp</th>\n",
       "      <th>Parch</th>\n",
       "      <th>Ticket</th>\n",
       "      <th>Fare</th>\n",
       "      <th>Cabin</th>\n",
       "      <th>Embarked</th>\n",
       "    </tr>\n",
       "  </thead>\n",
       "  <tbody>\n",
       "    <tr>\n",
       "      <th>0</th>\n",
       "      <td>1</td>\n",
       "      <td>0</td>\n",
       "      <td>3</td>\n",
       "      <td>Braund, Mr. Owen Harris</td>\n",
       "      <td>male</td>\n",
       "      <td>22.0</td>\n",
       "      <td>1</td>\n",
       "      <td>0</td>\n",
       "      <td>A/5 21171</td>\n",
       "      <td>7.2500</td>\n",
       "      <td>NaN</td>\n",
       "      <td>S</td>\n",
       "    </tr>\n",
       "    <tr>\n",
       "      <th>1</th>\n",
       "      <td>2</td>\n",
       "      <td>1</td>\n",
       "      <td>1</td>\n",
       "      <td>Cumings, Mrs. John Bradley (Florence Briggs Th...</td>\n",
       "      <td>female</td>\n",
       "      <td>38.0</td>\n",
       "      <td>1</td>\n",
       "      <td>0</td>\n",
       "      <td>PC 17599</td>\n",
       "      <td>71.2833</td>\n",
       "      <td>C85</td>\n",
       "      <td>C</td>\n",
       "    </tr>\n",
       "    <tr>\n",
       "      <th>2</th>\n",
       "      <td>3</td>\n",
       "      <td>1</td>\n",
       "      <td>3</td>\n",
       "      <td>Heikkinen, Miss. Laina</td>\n",
       "      <td>female</td>\n",
       "      <td>26.0</td>\n",
       "      <td>0</td>\n",
       "      <td>0</td>\n",
       "      <td>STON/O2. 3101282</td>\n",
       "      <td>7.9250</td>\n",
       "      <td>NaN</td>\n",
       "      <td>S</td>\n",
       "    </tr>\n",
       "    <tr>\n",
       "      <th>3</th>\n",
       "      <td>4</td>\n",
       "      <td>1</td>\n",
       "      <td>1</td>\n",
       "      <td>Futrelle, Mrs. Jacques Heath (Lily May Peel)</td>\n",
       "      <td>female</td>\n",
       "      <td>35.0</td>\n",
       "      <td>1</td>\n",
       "      <td>0</td>\n",
       "      <td>113803</td>\n",
       "      <td>53.1000</td>\n",
       "      <td>C123</td>\n",
       "      <td>S</td>\n",
       "    </tr>\n",
       "    <tr>\n",
       "      <th>4</th>\n",
       "      <td>5</td>\n",
       "      <td>0</td>\n",
       "      <td>3</td>\n",
       "      <td>Allen, Mr. William Henry</td>\n",
       "      <td>male</td>\n",
       "      <td>35.0</td>\n",
       "      <td>0</td>\n",
       "      <td>0</td>\n",
       "      <td>373450</td>\n",
       "      <td>8.0500</td>\n",
       "      <td>NaN</td>\n",
       "      <td>S</td>\n",
       "    </tr>\n",
       "  </tbody>\n",
       "</table>\n",
       "</div>"
      ],
      "text/plain": [
       "   PassengerId  Survived  Pclass  \\\n",
       "0            1         0       3   \n",
       "1            2         1       1   \n",
       "2            3         1       3   \n",
       "3            4         1       1   \n",
       "4            5         0       3   \n",
       "\n",
       "                                                Name     Sex   Age  SibSp  \\\n",
       "0                            Braund, Mr. Owen Harris    male  22.0      1   \n",
       "1  Cumings, Mrs. John Bradley (Florence Briggs Th...  female  38.0      1   \n",
       "2                             Heikkinen, Miss. Laina  female  26.0      0   \n",
       "3       Futrelle, Mrs. Jacques Heath (Lily May Peel)  female  35.0      1   \n",
       "4                           Allen, Mr. William Henry    male  35.0      0   \n",
       "\n",
       "   Parch            Ticket     Fare Cabin Embarked  \n",
       "0      0         A/5 21171   7.2500   NaN        S  \n",
       "1      0          PC 17599  71.2833   C85        C  \n",
       "2      0  STON/O2. 3101282   7.9250   NaN        S  \n",
       "3      0            113803  53.1000  C123        S  \n",
       "4      0            373450   8.0500   NaN        S  "
      ]
     },
     "execution_count": 1,
     "metadata": {},
     "output_type": "execute_result"
    }
   ],
   "source": [
    "import numpy as np\n",
    "import pandas as pd\n",
    "import seaborn as sns\n",
    "import matplotlib.pyplot as plt\n",
    "from sklearn.model_selection import train_test_split, cross_validate\n",
    "from statistics import mean\n",
    "from sklearn.metrics import accuracy_score, classification_report, mean_absolute_error, mean_squared_error, r2_score\n",
    "from sklearn.datasets import make_classification\n",
    "from sklearn import ensemble\n",
    "import sklearn.metrics as metrics\n",
    "import time\n",
    "from math import sqrt\n",
    "\n",
    "train=r'/kaggle/input/titanic/train.csv'\n",
    "test=r'/kaggle/input/titanic/test.csv' \n",
    "\n",
    "df=pd.read_csv(train)\n",
    "test=pd.read_csv(test)\n",
    "\n",
    "print(df.shape)\n",
    "df.head()"
   ]
  },
  {
   "cell_type": "code",
   "execution_count": 2,
   "id": "467cb338",
   "metadata": {
    "execution": {
     "iopub.execute_input": "2025-07-06T17:06:01.430032Z",
     "iopub.status.busy": "2025-07-06T17:06:01.429706Z",
     "iopub.status.idle": "2025-07-06T17:06:01.437777Z",
     "shell.execute_reply": "2025-07-06T17:06:01.436788Z"
    },
    "papermill": {
     "duration": 0.033593,
     "end_time": "2025-07-06T17:06:01.439900",
     "exception": false,
     "start_time": "2025-07-06T17:06:01.406307",
     "status": "completed"
    },
    "tags": []
   },
   "outputs": [
    {
     "data": {
      "text/plain": [
       "PassengerId      int64\n",
       "Survived         int64\n",
       "Pclass           int64\n",
       "Name            object\n",
       "Sex             object\n",
       "Age            float64\n",
       "SibSp            int64\n",
       "Parch            int64\n",
       "Ticket          object\n",
       "Fare           float64\n",
       "Cabin           object\n",
       "Embarked        object\n",
       "dtype: object"
      ]
     },
     "execution_count": 2,
     "metadata": {},
     "output_type": "execute_result"
    }
   ],
   "source": [
    "df.dtypes"
   ]
  },
  {
   "cell_type": "code",
   "execution_count": 3,
   "id": "ae144cc5",
   "metadata": {
    "execution": {
     "iopub.execute_input": "2025-07-06T17:06:01.488339Z",
     "iopub.status.busy": "2025-07-06T17:06:01.488058Z",
     "iopub.status.idle": "2025-07-06T17:06:01.512808Z",
     "shell.execute_reply": "2025-07-06T17:06:01.511855Z"
    },
    "papermill": {
     "duration": 0.050899,
     "end_time": "2025-07-06T17:06:01.514966",
     "exception": false,
     "start_time": "2025-07-06T17:06:01.464067",
     "status": "completed"
    },
    "tags": []
   },
   "outputs": [
    {
     "name": "stdout",
     "output_type": "stream",
     "text": [
      "Total no of duplicate values in Training Dataset = 0\n"
     ]
    },
    {
     "data": {
      "text/html": [
       "<div>\n",
       "<style scoped>\n",
       "    .dataframe tbody tr th:only-of-type {\n",
       "        vertical-align: middle;\n",
       "    }\n",
       "\n",
       "    .dataframe tbody tr th {\n",
       "        vertical-align: top;\n",
       "    }\n",
       "\n",
       "    .dataframe thead th {\n",
       "        text-align: right;\n",
       "    }\n",
       "</style>\n",
       "<table border=\"1\" class=\"dataframe\">\n",
       "  <thead>\n",
       "    <tr style=\"text-align: right;\">\n",
       "      <th></th>\n",
       "      <th>PassengerId</th>\n",
       "      <th>Survived</th>\n",
       "      <th>Pclass</th>\n",
       "      <th>Name</th>\n",
       "      <th>Sex</th>\n",
       "      <th>Age</th>\n",
       "      <th>SibSp</th>\n",
       "      <th>Parch</th>\n",
       "      <th>Ticket</th>\n",
       "      <th>Fare</th>\n",
       "      <th>Cabin</th>\n",
       "      <th>Embarked</th>\n",
       "    </tr>\n",
       "  </thead>\n",
       "  <tbody>\n",
       "  </tbody>\n",
       "</table>\n",
       "</div>"
      ],
      "text/plain": [
       "Empty DataFrame\n",
       "Columns: [PassengerId, Survived, Pclass, Name, Sex, Age, SibSp, Parch, Ticket, Fare, Cabin, Embarked]\n",
       "Index: []"
      ]
     },
     "execution_count": 3,
     "metadata": {},
     "output_type": "execute_result"
    }
   ],
   "source": [
    "#Check Duplicates:\n",
    "dupstr = df.duplicated()\n",
    "print('Total no of duplicate values in Training Dataset = %d' % (dupstr.sum()))\n",
    "df[dupstr]"
   ]
  },
  {
   "cell_type": "code",
   "execution_count": 4,
   "id": "9d57311c",
   "metadata": {
    "execution": {
     "iopub.execute_input": "2025-07-06T17:06:01.563863Z",
     "iopub.status.busy": "2025-07-06T17:06:01.563532Z",
     "iopub.status.idle": "2025-07-06T17:06:01.574117Z",
     "shell.execute_reply": "2025-07-06T17:06:01.572842Z"
    },
    "papermill": {
     "duration": 0.037488,
     "end_time": "2025-07-06T17:06:01.576293",
     "exception": false,
     "start_time": "2025-07-06T17:06:01.538805",
     "status": "completed"
    },
    "tags": []
   },
   "outputs": [
    {
     "name": "stdout",
     "output_type": "stream",
     "text": [
      "Missing data by column as a percent:\n",
      "Cabin          0.771044\n",
      "Age            0.198653\n",
      "Embarked       0.002245\n",
      "PassengerId    0.000000\n",
      "Survived       0.000000\n",
      "dtype: float64\n"
     ]
    }
   ],
   "source": [
    "#search for columns with missing values:\n",
    "def findNA():\n",
    "    print(\"Missing data by column as a percent:\")\n",
    "    findNA=df.isnull().sum().sort_values(ascending=False)/len(df)\n",
    "    print(findNA.head())\n",
    "findNA() "
   ]
  },
  {
   "cell_type": "markdown",
   "id": "2705740d",
   "metadata": {
    "papermill": {
     "duration": 0.024348,
     "end_time": "2025-07-06T17:06:01.628355",
     "exception": false,
     "start_time": "2025-07-06T17:06:01.604007",
     "status": "completed"
    },
    "tags": []
   },
   "source": [
    "# Feature Engineer\n",
    "We need to replace male and female into numbers. This is a very important part of the process because gender is one of the highest predictors on if a person survived or not."
   ]
  },
  {
   "cell_type": "code",
   "execution_count": 5,
   "id": "1c62d1f8",
   "metadata": {
    "execution": {
     "iopub.execute_input": "2025-07-06T17:06:01.679207Z",
     "iopub.status.busy": "2025-07-06T17:06:01.678914Z",
     "iopub.status.idle": "2025-07-06T17:06:01.686801Z",
     "shell.execute_reply": "2025-07-06T17:06:01.685802Z"
    },
    "papermill": {
     "duration": 0.036289,
     "end_time": "2025-07-06T17:06:01.688890",
     "exception": false,
     "start_time": "2025-07-06T17:06:01.652601",
     "status": "completed"
    },
    "tags": []
   },
   "outputs": [],
   "source": [
    "#GENDER\n",
    "df['Sex']=df['Sex'].map({'female':0,'male':1})"
   ]
  },
  {
   "cell_type": "markdown",
   "id": "6fc9f51a",
   "metadata": {
    "papermill": {
     "duration": 0.024306,
     "end_time": "2025-07-06T17:06:01.738139",
     "exception": false,
     "start_time": "2025-07-06T17:06:01.713833",
     "status": "completed"
    },
    "tags": []
   },
   "source": [
    "Females whose number is 0 had a much higher chance of surving than males. Later on, doing the importance feature analysis we will view that gender is actually one of the highest predictors. "
   ]
  },
  {
   "cell_type": "code",
   "execution_count": 6,
   "id": "c33bcd74",
   "metadata": {
    "execution": {
     "iopub.execute_input": "2025-07-06T17:06:01.788578Z",
     "iopub.status.busy": "2025-07-06T17:06:01.788294Z",
     "iopub.status.idle": "2025-07-06T17:06:01.818324Z",
     "shell.execute_reply": "2025-07-06T17:06:01.817360Z"
    },
    "papermill": {
     "duration": 0.057999,
     "end_time": "2025-07-06T17:06:01.820547",
     "exception": false,
     "start_time": "2025-07-06T17:06:01.762548",
     "status": "completed"
    },
    "tags": []
   },
   "outputs": [
    {
     "data": {
      "text/html": [
       "<div>\n",
       "<style scoped>\n",
       "    .dataframe tbody tr th:only-of-type {\n",
       "        vertical-align: middle;\n",
       "    }\n",
       "\n",
       "    .dataframe tbody tr th {\n",
       "        vertical-align: top;\n",
       "    }\n",
       "\n",
       "    .dataframe thead th {\n",
       "        text-align: right;\n",
       "    }\n",
       "</style>\n",
       "<table border=\"1\" class=\"dataframe\">\n",
       "  <thead>\n",
       "    <tr style=\"text-align: right;\">\n",
       "      <th>Sex</th>\n",
       "      <th>0</th>\n",
       "      <th>1</th>\n",
       "    </tr>\n",
       "    <tr>\n",
       "      <th>Survived</th>\n",
       "      <th></th>\n",
       "      <th></th>\n",
       "    </tr>\n",
       "  </thead>\n",
       "  <tbody>\n",
       "    <tr>\n",
       "      <th>0</th>\n",
       "      <td>81</td>\n",
       "      <td>468</td>\n",
       "    </tr>\n",
       "    <tr>\n",
       "      <th>1</th>\n",
       "      <td>233</td>\n",
       "      <td>109</td>\n",
       "    </tr>\n",
       "  </tbody>\n",
       "</table>\n",
       "</div>"
      ],
      "text/plain": [
       "Sex         0    1\n",
       "Survived          \n",
       "0          81  468\n",
       "1         233  109"
      ]
     },
     "execution_count": 6,
     "metadata": {},
     "output_type": "execute_result"
    }
   ],
   "source": [
    "genderTable = pd.crosstab(df['Survived'],df['Sex'])\n",
    "genderTable"
   ]
  },
  {
   "cell_type": "markdown",
   "id": "f0f9f561",
   "metadata": {
    "papermill": {
     "duration": 0.024542,
     "end_time": "2025-07-06T17:06:01.871817",
     "exception": false,
     "start_time": "2025-07-06T17:06:01.847275",
     "status": "completed"
    },
    "tags": []
   },
   "source": [
    "# Encode Categorical Variables\n",
    "Encode Categorical Variables is needed for this dataset since there are many important variables that are not numeric yet. \n",
    "\n",
    "There are three classes C, Q, and S. Class C seems to have the highest chance of survival. Class S has the lowest chance of survival. Unfornately this would tend to show that economic status seems to played a part in the decision if someone survived or not. Embarked does not play role major role in feature importance. "
   ]
  },
  {
   "cell_type": "code",
   "execution_count": 7,
   "id": "201c3eed",
   "metadata": {
    "execution": {
     "iopub.execute_input": "2025-07-06T17:06:01.924480Z",
     "iopub.status.busy": "2025-07-06T17:06:01.923573Z",
     "iopub.status.idle": "2025-07-06T17:06:02.136427Z",
     "shell.execute_reply": "2025-07-06T17:06:02.134982Z"
    },
    "papermill": {
     "duration": 0.241691,
     "end_time": "2025-07-06T17:06:02.139345",
     "exception": false,
     "start_time": "2025-07-06T17:06:01.897654",
     "status": "completed"
    },
    "tags": []
   },
   "outputs": [],
   "source": [
    "import category_encoders as ce\n",
    "#encoder = ce.OrdinalEncoder(cols=['Embarked'])\n",
    "\n",
    "#df = encoder.fit_transform(df)\n",
    "#test = encoder.fit_transform(test)\n",
    "#test.head()"
   ]
  },
  {
   "cell_type": "markdown",
   "id": "7bf7de2c",
   "metadata": {
    "papermill": {
     "duration": 0.024231,
     "end_time": "2025-07-06T17:06:02.189343",
     "exception": false,
     "start_time": "2025-07-06T17:06:02.165112",
     "status": "completed"
    },
    "tags": []
   },
   "source": [
    "# Examine Target Variable\n",
    "Survived is the Y variable we will be analyzing. Since the survival rete is 0.384 the data is not considered unbalanced. "
   ]
  },
  {
   "cell_type": "code",
   "execution_count": 8,
   "id": "a9ad96b0",
   "metadata": {
    "execution": {
     "iopub.execute_input": "2025-07-06T17:06:02.241735Z",
     "iopub.status.busy": "2025-07-06T17:06:02.241450Z",
     "iopub.status.idle": "2025-07-06T17:06:02.249886Z",
     "shell.execute_reply": "2025-07-06T17:06:02.248867Z"
    },
    "papermill": {
     "duration": 0.036649,
     "end_time": "2025-07-06T17:06:02.252017",
     "exception": false,
     "start_time": "2025-07-06T17:06:02.215368",
     "status": "completed"
    },
    "tags": []
   },
   "outputs": [
    {
     "name": "stdout",
     "output_type": "stream",
     "text": [
      "0    549\n",
      "1    342\n",
      "Name: Survived, dtype: int64\n",
      "Percent that survived:  0.384\n"
     ]
    }
   ],
   "source": [
    "temp=df['Survived'].value_counts()\n",
    "print(temp)\n",
    "no=temp[0]\n",
    "yes=temp[1]\n",
    "percent=round(yes/(yes+no),3)\n",
    "print(\"Percent that survived: \", percent)"
   ]
  },
  {
   "cell_type": "markdown",
   "id": "9fa867e0",
   "metadata": {
    "papermill": {
     "duration": 0.024866,
     "end_time": "2025-07-06T17:06:02.302157",
     "exception": false,
     "start_time": "2025-07-06T17:06:02.277291",
     "status": "completed"
    },
    "tags": []
   },
   "source": [
    "# Numeric DataFrame\n",
    "For now, we will analyze only numeric values. Categorical values will need to be encoded or analyzed individually."
   ]
  },
  {
   "cell_type": "code",
   "execution_count": 9,
   "id": "7be15d41",
   "metadata": {
    "execution": {
     "iopub.execute_input": "2025-07-06T17:06:02.354817Z",
     "iopub.status.busy": "2025-07-06T17:06:02.354464Z",
     "iopub.status.idle": "2025-07-06T17:06:02.370671Z",
     "shell.execute_reply": "2025-07-06T17:06:02.369715Z"
    },
    "papermill": {
     "duration": 0.045166,
     "end_time": "2025-07-06T17:06:02.372651",
     "exception": false,
     "start_time": "2025-07-06T17:06:02.327485",
     "status": "completed"
    },
    "tags": []
   },
   "outputs": [
    {
     "data": {
      "text/html": [
       "<div>\n",
       "<style scoped>\n",
       "    .dataframe tbody tr th:only-of-type {\n",
       "        vertical-align: middle;\n",
       "    }\n",
       "\n",
       "    .dataframe tbody tr th {\n",
       "        vertical-align: top;\n",
       "    }\n",
       "\n",
       "    .dataframe thead th {\n",
       "        text-align: right;\n",
       "    }\n",
       "</style>\n",
       "<table border=\"1\" class=\"dataframe\">\n",
       "  <thead>\n",
       "    <tr style=\"text-align: right;\">\n",
       "      <th></th>\n",
       "      <th>PassengerId</th>\n",
       "      <th>Survived</th>\n",
       "      <th>Pclass</th>\n",
       "      <th>Sex</th>\n",
       "      <th>Age</th>\n",
       "      <th>SibSp</th>\n",
       "      <th>Parch</th>\n",
       "      <th>Fare</th>\n",
       "    </tr>\n",
       "  </thead>\n",
       "  <tbody>\n",
       "    <tr>\n",
       "      <th>0</th>\n",
       "      <td>1</td>\n",
       "      <td>0</td>\n",
       "      <td>3</td>\n",
       "      <td>1</td>\n",
       "      <td>22.0</td>\n",
       "      <td>1</td>\n",
       "      <td>0</td>\n",
       "      <td>7.2500</td>\n",
       "    </tr>\n",
       "    <tr>\n",
       "      <th>1</th>\n",
       "      <td>2</td>\n",
       "      <td>1</td>\n",
       "      <td>1</td>\n",
       "      <td>0</td>\n",
       "      <td>38.0</td>\n",
       "      <td>1</td>\n",
       "      <td>0</td>\n",
       "      <td>71.2833</td>\n",
       "    </tr>\n",
       "    <tr>\n",
       "      <th>2</th>\n",
       "      <td>3</td>\n",
       "      <td>1</td>\n",
       "      <td>3</td>\n",
       "      <td>0</td>\n",
       "      <td>26.0</td>\n",
       "      <td>0</td>\n",
       "      <td>0</td>\n",
       "      <td>7.9250</td>\n",
       "    </tr>\n",
       "    <tr>\n",
       "      <th>3</th>\n",
       "      <td>4</td>\n",
       "      <td>1</td>\n",
       "      <td>1</td>\n",
       "      <td>0</td>\n",
       "      <td>35.0</td>\n",
       "      <td>1</td>\n",
       "      <td>0</td>\n",
       "      <td>53.1000</td>\n",
       "    </tr>\n",
       "    <tr>\n",
       "      <th>4</th>\n",
       "      <td>5</td>\n",
       "      <td>0</td>\n",
       "      <td>3</td>\n",
       "      <td>1</td>\n",
       "      <td>35.0</td>\n",
       "      <td>0</td>\n",
       "      <td>0</td>\n",
       "      <td>8.0500</td>\n",
       "    </tr>\n",
       "  </tbody>\n",
       "</table>\n",
       "</div>"
      ],
      "text/plain": [
       "   PassengerId  Survived  Pclass  Sex   Age  SibSp  Parch     Fare\n",
       "0            1         0       3    1  22.0      1      0   7.2500\n",
       "1            2         1       1    0  38.0      1      0  71.2833\n",
       "2            3         1       3    0  26.0      0      0   7.9250\n",
       "3            4         1       1    0  35.0      1      0  53.1000\n",
       "4            5         0       3    1  35.0      0      0   8.0500"
      ]
     },
     "execution_count": 9,
     "metadata": {},
     "output_type": "execute_result"
    }
   ],
   "source": [
    "numerics = ['int16', 'int32', 'int64', 'float16', 'float32', 'float64']\n",
    "df = df.select_dtypes(include=numerics)\n",
    "df.head()"
   ]
  },
  {
   "cell_type": "markdown",
   "id": "d44f3228",
   "metadata": {
    "papermill": {
     "duration": 0.026145,
     "end_time": "2025-07-06T17:06:02.424848",
     "exception": false,
     "start_time": "2025-07-06T17:06:02.398703",
     "status": "completed"
    },
    "tags": []
   },
   "source": [
    "# Check for missing values\n",
    "Age is missing around 20% of values.Therefore, we can simply fill in the mean for that one column."
   ]
  },
  {
   "cell_type": "code",
   "execution_count": 10,
   "id": "8b106a3b",
   "metadata": {
    "execution": {
     "iopub.execute_input": "2025-07-06T17:06:02.482436Z",
     "iopub.status.busy": "2025-07-06T17:06:02.482118Z",
     "iopub.status.idle": "2025-07-06T17:06:02.490983Z",
     "shell.execute_reply": "2025-07-06T17:06:02.490074Z"
    },
    "papermill": {
     "duration": 0.041786,
     "end_time": "2025-07-06T17:06:02.493062",
     "exception": false,
     "start_time": "2025-07-06T17:06:02.451276",
     "status": "completed"
    },
    "tags": []
   },
   "outputs": [
    {
     "name": "stdout",
     "output_type": "stream",
     "text": [
      "Missing data by column as a percent:\n",
      "Age            0.198653\n",
      "PassengerId    0.000000\n",
      "Survived       0.000000\n",
      "Pclass         0.000000\n",
      "Sex            0.000000\n",
      "dtype: float64\n"
     ]
    }
   ],
   "source": [
    "#search for columns with missing values:\n",
    "def findNA():\n",
    "    print(\"Missing data by column as a percent:\")\n",
    "    findNA=df.isnull().sum().sort_values(ascending=False)/len(df)\n",
    "    print(findNA.head())\n",
    "findNA() "
   ]
  },
  {
   "cell_type": "code",
   "execution_count": 11,
   "id": "9142ddbc",
   "metadata": {
    "execution": {
     "iopub.execute_input": "2025-07-06T17:06:02.551158Z",
     "iopub.status.busy": "2025-07-06T17:06:02.550864Z",
     "iopub.status.idle": "2025-07-06T17:06:02.560661Z",
     "shell.execute_reply": "2025-07-06T17:06:02.559739Z"
    },
    "papermill": {
     "duration": 0.043695,
     "end_time": "2025-07-06T17:06:02.563268",
     "exception": false,
     "start_time": "2025-07-06T17:06:02.519573",
     "status": "completed"
    },
    "tags": []
   },
   "outputs": [],
   "source": [
    "df= df.fillna(df.mean())"
   ]
  },
  {
   "cell_type": "markdown",
   "id": "9c443007",
   "metadata": {
    "papermill": {
     "duration": 0.026758,
     "end_time": "2025-07-06T17:06:02.617613",
     "exception": false,
     "start_time": "2025-07-06T17:06:02.590855",
     "status": "completed"
    },
    "tags": []
   },
   "source": [
    "# Split Data"
   ]
  },
  {
   "cell_type": "code",
   "execution_count": 12,
   "id": "4e2d4341",
   "metadata": {
    "execution": {
     "iopub.execute_input": "2025-07-06T17:06:02.672635Z",
     "iopub.status.busy": "2025-07-06T17:06:02.672330Z",
     "iopub.status.idle": "2025-07-06T17:06:02.681129Z",
     "shell.execute_reply": "2025-07-06T17:06:02.680106Z"
    },
    "papermill": {
     "duration": 0.039056,
     "end_time": "2025-07-06T17:06:02.683351",
     "exception": false,
     "start_time": "2025-07-06T17:06:02.644295",
     "status": "completed"
    },
    "tags": []
   },
   "outputs": [],
   "source": [
    "X=df.drop('Survived', axis=1)\n",
    "y=df['Survived']\n",
    "\n",
    "X_train, X_test, y_train, y_test = train_test_split(\n",
    "    X, y, test_size = 0.33, random_state = 42)"
   ]
  },
  {
   "cell_type": "markdown",
   "id": "753e9312",
   "metadata": {
    "papermill": {
     "duration": 0.026893,
     "end_time": "2025-07-06T17:06:02.736888",
     "exception": false,
     "start_time": "2025-07-06T17:06:02.709995",
     "status": "completed"
    },
    "tags": []
   },
   "source": [
    "# Highly Correlated Features\n",
    "There are no highly correlated variables above 80%. Therefore, we do not need to be concerned about removing variables that are too highly correlated. "
   ]
  },
  {
   "cell_type": "markdown",
   "id": "652a6566",
   "metadata": {
    "_kg_hide-output": true,
    "papermill": {
     "duration": 0.026764,
     "end_time": "2025-07-06T17:06:02.791251",
     "exception": false,
     "start_time": "2025-07-06T17:06:02.764487",
     "status": "completed"
    },
    "tags": []
   },
   "source": [
    "# Tunning Forest\n",
    "Random forest AUC:  0.8503 which is good results considering forest does not overfit data."
   ]
  },
  {
   "cell_type": "code",
   "execution_count": 13,
   "id": "78cd806c",
   "metadata": {
    "execution": {
     "iopub.execute_input": "2025-07-06T17:06:02.848060Z",
     "iopub.status.busy": "2025-07-06T17:06:02.847727Z",
     "iopub.status.idle": "2025-07-06T17:06:03.958801Z",
     "shell.execute_reply": "2025-07-06T17:06:03.957732Z"
    },
    "papermill": {
     "duration": 1.141821,
     "end_time": "2025-07-06T17:06:03.960951",
     "exception": false,
     "start_time": "2025-07-06T17:06:02.819130",
     "status": "completed"
    },
    "tags": []
   },
   "outputs": [
    {
     "name": "stderr",
     "output_type": "stream",
     "text": [
      "/opt/conda/lib/python3.7/site-packages/sklearn/ensemble/_forest.py:564: UserWarning: Some inputs do not have OOB scores. This probably means too few trees were used to compute any reliable OOB estimates.\n",
      "  UserWarning,\n"
     ]
    },
    {
     "data": {
      "image/png": "[encoded data removed]",
      "text/plain": [
       "<Figure size 432x288 with 1 Axes>"
      ]
     },
     "metadata": {
      "needs_background": "light"
     },
     "output_type": "display_data"
    },
    {
     "data": {
      "image/png": "[encoded data removed]",
      "text/plain": [
       "<Figure size 432x288 with 1 Axes>"
      ]
     },
     "metadata": {
      "needs_background": "light"
     },
     "output_type": "display_data"
    }
   ],
   "source": [
    "from sklearn.ensemble import RandomForestRegressor, RandomForestClassifier\n",
    "\n",
    "#Check for Error and find Best n_estimators:\n",
    "def forestNumEst():\n",
    "    numbers= [2, 20, 40, 50, 60, 100]\n",
    "    maeList=[] #error\n",
    "    accList=[]\n",
    "    \n",
    "    for n in numbers:\n",
    "        forest = RandomForestClassifier(n_estimators=n, oob_score = True)\n",
    "        forest.fit(X_train, y_train)\n",
    "        y_pred = forest.predict(X_test)\n",
    "        mae=metrics.mean_absolute_error(y_test, y_pred).round(2)\n",
    "        forest_auc = round( metrics.roc_auc_score(y_test, y_pred), 4 ) \n",
    "        #print(\"Random forest AUC: \", forest_auc) \n",
    "      \n",
    "        accList.append(forest_auc)\n",
    "        maeList.append(mae)\n",
    "        \n",
    "    plt.plot(numbers,accList)\n",
    "    plt.title(\"Forest Estimators\" )\n",
    "    plt.xlabel(\"Estimators\")\n",
    "    plt.ylabel('Accuracy')\n",
    "    plt.legend()\n",
    "    plt.show() \n",
    "    \n",
    "    plt.plot(numbers, maeList)\n",
    "    plt.title(\"Forest Estimators\" )\n",
    "    plt.xlabel(\"Estimators\")\n",
    "    plt.ylabel('error')\n",
    "    plt.legend()\n",
    "    plt.show() \n",
    "\n",
    "forestNumEst() "
   ]
  },
  {
   "cell_type": "code",
   "execution_count": 14,
   "id": "e3429c2b",
   "metadata": {
    "execution": {
     "iopub.execute_input": "2025-07-06T17:06:04.022675Z",
     "iopub.status.busy": "2025-07-06T17:06:04.021741Z",
     "iopub.status.idle": "2025-07-06T17:06:05.660458Z",
     "shell.execute_reply": "2025-07-06T17:06:05.659462Z"
    },
    "papermill": {
     "duration": 1.672828,
     "end_time": "2025-07-06T17:06:05.662936",
     "exception": false,
     "start_time": "2025-07-06T17:06:03.990108",
     "status": "completed"
    },
    "tags": []
   },
   "outputs": [
    {
     "data": {
      "image/png": "[encoded data removed]",
      "text/plain": [
       "<Figure size 432x288 with 1 Axes>"
      ]
     },
     "metadata": {
      "needs_background": "light"
     },
     "output_type": "display_data"
    },
    {
     "data": {
      "image/png": "[encoded data removed]",
      "text/plain": [
       "<Figure size 432x288 with 1 Axes>"
      ]
     },
     "metadata": {
      "needs_background": "light"
     },
     "output_type": "display_data"
    }
   ],
   "source": [
    "def forestDepth():\n",
    "    numbers=[None, 2, 3, 4, 5, 7, 10]\n",
    "    accList=[] #accuracy train data\n",
    "    maeList=[] #error\n",
    "    \n",
    "    for n in numbers:\n",
    "        forest = RandomForestClassifier(max_depth=n)\n",
    "        forest.fit(X_train, y_train)\n",
    "        y_pred = forest.predict(X_test)\n",
    "        mae=metrics.mean_absolute_error(y_test, y_pred).round(2)\n",
    "        forest_auc = round( metrics.roc_auc_score(y_test, y_pred), 4 ) \n",
    "        #print(\"Random forest AUC: \", forest_auc) \n",
    "       \n",
    "        accList.append(forest_auc)\n",
    "        maeList.append(mae)\n",
    "        \n",
    "    plt.plot(numbers,accList)\n",
    "    plt.title(\"Forest Max_Depth\")\n",
    "    plt.xlabel('max_depth')\n",
    "    plt.ylabel('Accuracy')\n",
    "    plt.legend()\n",
    "    plt.show() \n",
    "    \n",
    "    plt.plot(numbers, maeList)\n",
    "    plt.title(\"Forest Max_Depth\")\n",
    "    plt.xlabel(\"max_depth\")\n",
    "    plt.ylabel('error')\n",
    "    plt.legend()\n",
    "    plt.show() \n",
    "\n",
    "forestDepth()"
   ]
  },
  {
   "cell_type": "code",
   "execution_count": 15,
   "id": "fb07c36b",
   "metadata": {
    "execution": {
     "iopub.execute_input": "2025-07-06T17:06:05.726628Z",
     "iopub.status.busy": "2025-07-06T17:06:05.726295Z",
     "iopub.status.idle": "2025-07-06T17:06:07.440596Z",
     "shell.execute_reply": "2025-07-06T17:06:07.439530Z"
    },
    "papermill": {
     "duration": 1.748894,
     "end_time": "2025-07-06T17:06:07.443180",
     "exception": false,
     "start_time": "2025-07-06T17:06:05.694286",
     "status": "completed"
    },
    "tags": []
   },
   "outputs": [
    {
     "data": {
      "image/png": "[encoded data removed]",
      "text/plain": [
       "<Figure size 432x288 with 1 Axes>"
      ]
     },
     "metadata": {
      "needs_background": "light"
     },
     "output_type": "display_data"
    },
    {
     "data": {
      "image/png": "[encoded data removed]",
      "text/plain": [
       "<Figure size 432x288 with 1 Axes>"
      ]
     },
     "metadata": {
      "needs_background": "light"
     },
     "output_type": "display_data"
    }
   ],
   "source": [
    "def forestLeaf():\n",
    "    numbers=[2, 3, 4, 5, 7, 10]\n",
    "    accList=[] #accuracy train data\n",
    "    maeList=[] #error\n",
    "    \n",
    "    for n in numbers:\n",
    "        forest = RandomForestClassifier(min_samples_split=n)\n",
    "        forest.fit(X_train, y_train)\n",
    "        y_pred = forest.predict(X_test)\n",
    "        mae=metrics.mean_absolute_error(y_test, y_pred).round(2)\n",
    "        forest_auc = round( metrics.roc_auc_score(y_test, y_pred), 4 ) \n",
    "        #print(\"Random forest AUC: \", forest_auc) \n",
    "       \n",
    "        accList.append(forest_auc)\n",
    "        maeList.append(mae)\n",
    "        \n",
    "    plt.plot(numbers,accList)\n",
    "    plt.title(\"Forest\")\n",
    "    plt.xlabel('min_samples_split')\n",
    "    plt.ylabel('Accuracy')\n",
    "    plt.legend()\n",
    "    plt.show() \n",
    "    \n",
    "    plt.plot(numbers, maeList)\n",
    "    plt.title(\"Forest\")\n",
    "    plt.xlabel(\"min_samples_split\")\n",
    "    plt.ylabel('error')\n",
    "    plt.legend()\n",
    "    plt.show() \n",
    "\n",
    "forestLeaf()"
   ]
  },
  {
   "cell_type": "code",
   "execution_count": 16,
   "id": "47d59b3a",
   "metadata": {
    "execution": {
     "iopub.execute_input": "2025-07-06T17:06:07.513099Z",
     "iopub.status.busy": "2025-07-06T17:06:07.512743Z",
     "iopub.status.idle": "2025-07-06T17:06:09.217442Z",
     "shell.execute_reply": "2025-07-06T17:06:09.216307Z"
    },
    "papermill": {
     "duration": 1.743145,
     "end_time": "2025-07-06T17:06:09.219509",
     "exception": false,
     "start_time": "2025-07-06T17:06:07.476364",
     "status": "completed"
    },
    "tags": []
   },
   "outputs": [
    {
     "data": {
      "image/png": "[encoded data removed]",
      "text/plain": [
       "<Figure size 432x288 with 1 Axes>"
      ]
     },
     "metadata": {
      "needs_background": "light"
     },
     "output_type": "display_data"
    },
    {
     "data": {
      "image/png": "[encoded data removed]",
      "text/plain": [
       "<Figure size 432x288 with 1 Axes>"
      ]
     },
     "metadata": {
      "needs_background": "light"
     },
     "output_type": "display_data"
    }
   ],
   "source": [
    "def forestMinLeaf():\n",
    "    numbers=[1, 2, 3, 4, 5, 7, 10]\n",
    "    accList=[] #accuracy train data\n",
    "    maeList=[] #error\n",
    "    \n",
    "    for n in numbers:\n",
    "        forest = RandomForestClassifier(min_samples_leaf=n)\n",
    "        forest.fit(X_train, y_train)\n",
    "        y_pred = forest.predict(X_test)\n",
    "        mae=metrics.mean_absolute_error(y_test, y_pred).round(2)\n",
    "        forest_auc = round( metrics.roc_auc_score(y_test, y_pred), 4 ) \n",
    "        #print(\"Random forest AUC: \", forest_auc) \n",
    "       \n",
    "        accList.append(forest_auc)\n",
    "        maeList.append(mae)\n",
    "        \n",
    "    plt.plot(numbers,accList)\n",
    "    plt.title(\"Forest\")\n",
    "    plt.xlabel('min_samples_leaf')\n",
    "    plt.ylabel('Accuracy')\n",
    "    plt.legend()\n",
    "    plt.show() \n",
    "    \n",
    "    plt.plot(numbers, maeList)\n",
    "    plt.title(\"Forest\")\n",
    "    plt.xlabel(\"min_samples_leaf\")\n",
    "    plt.ylabel('error')\n",
    "    plt.legend()\n",
    "    plt.show() \n",
    "\n",
    "forestMinLeaf()"
   ]
  },
  {
   "cell_type": "markdown",
   "id": "31a75157",
   "metadata": {
    "papermill": {
     "duration": 0.035764,
     "end_time": "2025-07-06T17:06:09.290604",
     "exception": false,
     "start_time": "2025-07-06T17:06:09.254840",
     "status": "completed"
    },
    "tags": []
   },
   "source": [
    "# GridSearch CV\n",
    "GridSearchCV helps find the best combination of model parameters by testing all possible combinations from a grid you define. It trains the model multiple times using cross-validation and returns the settings that give the highest accuracy (or lowest error). This helps automate model tuning and improves performance by avoiding guesswork."
   ]
  },
  {
   "cell_type": "code",
   "execution_count": 17,
   "id": "f7d92720",
   "metadata": {
    "execution": {
     "iopub.execute_input": "2025-07-06T17:06:09.362945Z",
     "iopub.status.busy": "2025-07-06T17:06:09.362025Z",
     "iopub.status.idle": "2025-07-06T17:06:09.368600Z",
     "shell.execute_reply": "2025-07-06T17:06:09.367597Z"
    },
    "papermill": {
     "duration": 0.045032,
     "end_time": "2025-07-06T17:06:09.370848",
     "exception": false,
     "start_time": "2025-07-06T17:06:09.325816",
     "status": "completed"
    },
    "tags": []
   },
   "outputs": [],
   "source": [
    "from sklearn.model_selection import GridSearchCV, StratifiedKFold, cross_val_score\n",
    "\n",
    "def runGridSearch():\n",
    "    params = {\n",
    "        'n_estimators':[50, 60, 70],\n",
    "        'max_depth':[6, 9, 12],\n",
    "        'min_samples_split':[2, 3],  #2 is default\n",
    "        'min_samples_leaf':[1, 3, 5]   #1 is default\n",
    "        #'max_features':['auto', 'sqrt', 'log2'],\n",
    "        #'criterion':['gini', 'entropy'],\n",
    "    }\n",
    "    \n",
    "    #kfold = StratifiedKFold(n_splits=5, shuffle=True, random_state=7)\n",
    "    forestGrid=GridSearchCV(estimator=RandomForestClassifier(), param_grid=params, cv=5, scoring='accuracy')\n",
    "    forestGrid.fit(X_train, y_train)\n",
    "    forestGrid.best_params_\n",
    "#runGridSearch()"
   ]
  },
  {
   "cell_type": "markdown",
   "id": "64b99177",
   "metadata": {
    "papermill": {
     "duration": 0.035654,
     "end_time": "2025-07-06T17:06:09.441692",
     "exception": false,
     "start_time": "2025-07-06T17:06:09.406038",
     "status": "completed"
    },
    "tags": []
   },
   "source": [
    "#### Final Random Forest Prediction\n",
    "* Top 5% Using {'max_depth': 5, 'n_estimators': 60} 0.79425"
   ]
  },
  {
   "cell_type": "code",
   "execution_count": 18,
   "id": "bfdec81f",
   "metadata": {
    "execution": {
     "iopub.execute_input": "2025-07-06T17:06:09.517567Z",
     "iopub.status.busy": "2025-07-06T17:06:09.517245Z",
     "iopub.status.idle": "2025-07-06T17:06:10.151605Z",
     "shell.execute_reply": "2025-07-06T17:06:10.150671Z"
    },
    "papermill": {
     "duration": 0.675859,
     "end_time": "2025-07-06T17:06:10.153905",
     "exception": false,
     "start_time": "2025-07-06T17:06:09.478046",
     "status": "completed"
    },
    "tags": []
   },
   "outputs": [
    {
     "name": "stdout",
     "output_type": "stream",
     "text": [
      "Random Forest AUC: 0.8017\n",
      "Random Forest MAE: 0.18\n",
      "Random Forest R²: 0.2695\n",
      "Test Accuracy: 0.8237\n",
      "5-Fold CV Accuracy: 0.8059\n",
      "Accuracy Gap (Test - CV): 0.0178\n"
     ]
    }
   ],
   "source": [
    "from sklearn.ensemble import RandomForestClassifier\n",
    "from sklearn.model_selection import cross_validate\n",
    "from sklearn import metrics\n",
    "from sklearn.metrics import r2_score\n",
    "\n",
    "# Final model\n",
    "forestFinal = RandomForestClassifier(\n",
    "    n_estimators=50,             # Try increasing this from 50 to 100 for smoother averaging\n",
    "    max_depth=9,\n",
    "    min_samples_split=3,\n",
    "    min_samples_leaf=2,\n",
    "    criterion='entropy',\n",
    "    random_state=42               # For reproducibility\n",
    ")\n",
    "\n",
    "# Fit model and predict\n",
    "forestFinal.fit(X_train, y_train)\n",
    "y_pred = forestFinal.predict(X_test)\n",
    "\n",
    "# Evaluation Metrics\n",
    "forest_auc = metrics.roc_auc_score(y_test, y_pred).round(4)\n",
    "mae = metrics.mean_absolute_error(y_test, y_pred).round(2)\n",
    "forest_r2 = r2_score(y_test, y_pred).round(4)\n",
    "forestScore = forestFinal.score(X_test, y_test).round(4)\n",
    "\n",
    "# Cross-Validation (on full data)\n",
    "forestCV = cross_validate(forestFinal, X, y, cv=5, scoring='accuracy', return_train_score=False)\n",
    "forestCV_mean = forestCV['test_score'].mean().round(4)\n",
    "\n",
    "# Results\n",
    "print(\"Random Forest AUC:\", forest_auc)\n",
    "print(\"Random Forest MAE:\", mae)\n",
    "print(\"Random Forest R²:\", forest_r2)\n",
    "print(\"Test Accuracy:\", forestScore)\n",
    "print(\"5-Fold CV Accuracy:\", forestCV_mean)\n",
    "print(\"Accuracy Gap (Test - CV):\", round(forestScore - forestCV_mean, 4))\n",
    "\n"
   ]
  },
  {
   "cell_type": "markdown",
   "id": "4552deec",
   "metadata": {
    "papermill": {
     "duration": 0.036004,
     "end_time": "2025-07-06T17:06:10.225590",
     "exception": false,
     "start_time": "2025-07-06T17:06:10.189586",
     "status": "completed"
    },
    "tags": []
   },
   "source": [
    "# Test Data"
   ]
  },
  {
   "cell_type": "code",
   "execution_count": 19,
   "id": "f51ecaa5",
   "metadata": {
    "execution": {
     "iopub.execute_input": "2025-07-06T17:06:10.299819Z",
     "iopub.status.busy": "2025-07-06T17:06:10.299488Z",
     "iopub.status.idle": "2025-07-06T17:06:10.318984Z",
     "shell.execute_reply": "2025-07-06T17:06:10.318062Z"
    },
    "papermill": {
     "duration": 0.059772,
     "end_time": "2025-07-06T17:06:10.321325",
     "exception": false,
     "start_time": "2025-07-06T17:06:10.261553",
     "status": "completed"
    },
    "tags": []
   },
   "outputs": [
    {
     "data": {
      "text/html": [
       "<div>\n",
       "<style scoped>\n",
       "    .dataframe tbody tr th:only-of-type {\n",
       "        vertical-align: middle;\n",
       "    }\n",
       "\n",
       "    .dataframe tbody tr th {\n",
       "        vertical-align: top;\n",
       "    }\n",
       "\n",
       "    .dataframe thead th {\n",
       "        text-align: right;\n",
       "    }\n",
       "</style>\n",
       "<table border=\"1\" class=\"dataframe\">\n",
       "  <thead>\n",
       "    <tr style=\"text-align: right;\">\n",
       "      <th></th>\n",
       "      <th>PassengerId</th>\n",
       "      <th>Pclass</th>\n",
       "      <th>Sex</th>\n",
       "      <th>Age</th>\n",
       "      <th>SibSp</th>\n",
       "      <th>Parch</th>\n",
       "      <th>Fare</th>\n",
       "    </tr>\n",
       "  </thead>\n",
       "  <tbody>\n",
       "    <tr>\n",
       "      <th>0</th>\n",
       "      <td>892</td>\n",
       "      <td>3</td>\n",
       "      <td>1</td>\n",
       "      <td>34.5</td>\n",
       "      <td>0</td>\n",
       "      <td>0</td>\n",
       "      <td>7.8292</td>\n",
       "    </tr>\n",
       "    <tr>\n",
       "      <th>1</th>\n",
       "      <td>893</td>\n",
       "      <td>3</td>\n",
       "      <td>0</td>\n",
       "      <td>47.0</td>\n",
       "      <td>1</td>\n",
       "      <td>0</td>\n",
       "      <td>7.0000</td>\n",
       "    </tr>\n",
       "    <tr>\n",
       "      <th>2</th>\n",
       "      <td>894</td>\n",
       "      <td>2</td>\n",
       "      <td>1</td>\n",
       "      <td>62.0</td>\n",
       "      <td>0</td>\n",
       "      <td>0</td>\n",
       "      <td>9.6875</td>\n",
       "    </tr>\n",
       "    <tr>\n",
       "      <th>3</th>\n",
       "      <td>895</td>\n",
       "      <td>3</td>\n",
       "      <td>1</td>\n",
       "      <td>27.0</td>\n",
       "      <td>0</td>\n",
       "      <td>0</td>\n",
       "      <td>8.6625</td>\n",
       "    </tr>\n",
       "    <tr>\n",
       "      <th>4</th>\n",
       "      <td>896</td>\n",
       "      <td>3</td>\n",
       "      <td>0</td>\n",
       "      <td>22.0</td>\n",
       "      <td>1</td>\n",
       "      <td>1</td>\n",
       "      <td>12.2875</td>\n",
       "    </tr>\n",
       "  </tbody>\n",
       "</table>\n",
       "</div>"
      ],
      "text/plain": [
       "   PassengerId  Pclass  Sex   Age  SibSp  Parch     Fare\n",
       "0          892       3    1  34.5      0      0   7.8292\n",
       "1          893       3    0  47.0      1      0   7.0000\n",
       "2          894       2    1  62.0      0      0   9.6875\n",
       "3          895       3    1  27.0      0      0   8.6625\n",
       "4          896       3    0  22.0      1      1  12.2875"
      ]
     },
     "execution_count": 19,
     "metadata": {},
     "output_type": "execute_result"
    }
   ],
   "source": [
    "#GENDER\n",
    "test['Sex']=test['Sex'].map({'female':0,'male':1})\n",
    "\n",
    "features=list(X.columns)\n",
    "test=test[features]\n",
    "\n",
    "test=test.fillna(test.mean())\n",
    "test.head()"
   ]
  },
  {
   "cell_type": "markdown",
   "id": "46fb6c0d",
   "metadata": {
    "papermill": {
     "duration": 0.035941,
     "end_time": "2025-07-06T17:06:10.395030",
     "exception": false,
     "start_time": "2025-07-06T17:06:10.359089",
     "status": "completed"
    },
    "tags": []
   },
   "source": [
    "# Final Prediction"
   ]
  },
  {
   "cell_type": "code",
   "execution_count": 20,
   "id": "9e7b1e1c",
   "metadata": {
    "execution": {
     "iopub.execute_input": "2025-07-06T17:06:10.470500Z",
     "iopub.status.busy": "2025-07-06T17:06:10.470199Z",
     "iopub.status.idle": "2025-07-06T17:06:10.494291Z",
     "shell.execute_reply": "2025-07-06T17:06:10.493409Z"
    },
    "papermill": {
     "duration": 0.065219,
     "end_time": "2025-07-06T17:06:10.496517",
     "exception": false,
     "start_time": "2025-07-06T17:06:10.431298",
     "status": "completed"
    },
    "tags": []
   },
   "outputs": [
    {
     "data": {
      "text/html": [
       "<div>\n",
       "<style scoped>\n",
       "    .dataframe tbody tr th:only-of-type {\n",
       "        vertical-align: middle;\n",
       "    }\n",
       "\n",
       "    .dataframe tbody tr th {\n",
       "        vertical-align: top;\n",
       "    }\n",
       "\n",
       "    .dataframe thead th {\n",
       "        text-align: right;\n",
       "    }\n",
       "</style>\n",
       "<table border=\"1\" class=\"dataframe\">\n",
       "  <thead>\n",
       "    <tr style=\"text-align: right;\">\n",
       "      <th></th>\n",
       "      <th>PassengerId</th>\n",
       "      <th>Survived</th>\n",
       "    </tr>\n",
       "  </thead>\n",
       "  <tbody>\n",
       "    <tr>\n",
       "      <th>0</th>\n",
       "      <td>892</td>\n",
       "      <td>0</td>\n",
       "    </tr>\n",
       "    <tr>\n",
       "      <th>1</th>\n",
       "      <td>893</td>\n",
       "      <td>0</td>\n",
       "    </tr>\n",
       "    <tr>\n",
       "      <th>2</th>\n",
       "      <td>894</td>\n",
       "      <td>0</td>\n",
       "    </tr>\n",
       "    <tr>\n",
       "      <th>3</th>\n",
       "      <td>895</td>\n",
       "      <td>0</td>\n",
       "    </tr>\n",
       "    <tr>\n",
       "      <th>4</th>\n",
       "      <td>896</td>\n",
       "      <td>1</td>\n",
       "    </tr>\n",
       "    <tr>\n",
       "      <th>5</th>\n",
       "      <td>897</td>\n",
       "      <td>0</td>\n",
       "    </tr>\n",
       "    <tr>\n",
       "      <th>6</th>\n",
       "      <td>898</td>\n",
       "      <td>1</td>\n",
       "    </tr>\n",
       "  </tbody>\n",
       "</table>\n",
       "</div>"
      ],
      "text/plain": [
       "   PassengerId  Survived\n",
       "0          892         0\n",
       "1          893         0\n",
       "2          894         0\n",
       "3          895         0\n",
       "4          896         1\n",
       "5          897         0\n",
       "6          898         1"
      ]
     },
     "execution_count": 20,
     "metadata": {},
     "output_type": "execute_result"
    }
   ],
   "source": [
    "test_predictions = forestFinal.predict(test)\n",
    "passID=test['PassengerId']\n",
    "tupleData = list(zip(passID, test_predictions))\n",
    "output = pd.DataFrame(tupleData, columns = ['PassengerId', 'Survived'])\n",
    "output.head(7)"
   ]
  },
  {
   "cell_type": "code",
   "execution_count": 21,
   "id": "a195dd1b",
   "metadata": {
    "execution": {
     "iopub.execute_input": "2025-07-06T17:06:10.571944Z",
     "iopub.status.busy": "2025-07-06T17:06:10.571608Z",
     "iopub.status.idle": "2025-07-06T17:06:10.580138Z",
     "shell.execute_reply": "2025-07-06T17:06:10.579156Z"
    },
    "papermill": {
     "duration": 0.048524,
     "end_time": "2025-07-06T17:06:10.582158",
     "exception": false,
     "start_time": "2025-07-06T17:06:10.533634",
     "status": "completed"
    },
    "tags": []
   },
   "outputs": [
    {
     "name": "stdout",
     "output_type": "stream",
     "text": [
      "Your submission was successfully saved!\n"
     ]
    }
   ],
   "source": [
    "output.to_csv('submission.csv', index=False)\n",
    "print(\"Your submission was successfully saved!\")"
   ]
  },
  {
   "cell_type": "code",
   "execution_count": 22,
   "id": "1f2db324",
   "metadata": {
    "execution": {
     "iopub.execute_input": "2025-07-06T17:06:10.659006Z",
     "iopub.status.busy": "2025-07-06T17:06:10.658668Z",
     "iopub.status.idle": "2025-07-06T17:06:10.664288Z",
     "shell.execute_reply": "2025-07-06T17:06:10.663293Z"
    },
    "papermill": {
     "duration": 0.046725,
     "end_time": "2025-07-06T17:06:10.666573",
     "exception": false,
     "start_time": "2025-07-06T17:06:10.619848",
     "status": "completed"
    },
    "tags": []
   },
   "outputs": [
    {
     "name": "stdout",
     "output_type": "stream",
     "text": [
      "Files in current directory: ['__notebook__.ipynb', 'submission.csv']\n"
     ]
    }
   ],
   "source": [
    "import os\n",
    "print(\"Files in current directory:\", os.listdir())"
   ]
  },
  {
   "cell_type": "markdown",
   "id": "520b6dd1",
   "metadata": {
    "papermill": {
     "duration": 0.038731,
     "end_time": "2025-07-06T17:06:10.747583",
     "exception": false,
     "start_time": "2025-07-06T17:06:10.708852",
     "status": "completed"
    },
    "tags": []
   },
   "source": [
    "#### Notes:\n",
    "Being a wife makes no difference in the final prediction: <br>\n",
    "` df['Titles'] = df['Name'].str.extract(r', (\\w+\\.)') \n",
    "df['Titles'] = df['Titles'].apply(lambda x: 1 if x=='Mrs.' else 0) `"
   ]
  }
 ],
 "metadata": {
  "kaggle": {
   "accelerator": "none",
   "dataSources": [
    {
     "databundleVersionId": 26502,
     "sourceId": 3136,
     "sourceType": "competition"
    }
   ],
   "dockerImageVersionId": 30184,
   "isGpuEnabled": false,
   "isInternetEnabled": true,
   "language": "python",
   "sourceType": "notebook"
  },
  "kernelspec": {
   "display_name": "Python 3",
   "language": "python",
   "name": "python3"
  },
  "language_info": {
   "codemirror_mode": {
    "name": "ipython",
    "version": 3
   },
   "file_extension": ".py",
   "mimetype": "text/x-python",
   "name": "python",
   "nbconvert_exporter": "python",
   "pygments_lexer": "ipython3",
   "version": "3.7.12"
  },
  "papermill": {
   "default_parameters": {},
   "duration": 21.430504,
   "end_time": "2025-07-06T17:06:11.609942",
   "environment_variables": {},
   "exception": null,
   "input_path": "__notebook__.ipynb",
   "output_path": "__notebook__.ipynb",
   "parameters": {},
   "start_time": "2025-07-06T17:05:50.179438",
   "version": "2.3.4"
  }
 },
 "nbformat": 4,
 "nbformat_minor": 5
}
