{
 "cells": [
  {
   "cell_type": "markdown",
   "id": "fba2a5b4",
   "metadata": {
    "papermill": {
     "duration": 0.028115,
     "end_time": "2025-07-07T04:20:15.187461",
     "exception": false,
     "start_time": "2025-07-07T04:20:15.159346",
     "status": "completed"
    },
    "tags": []
   },
   "source": [
    "# Decision Tree vs Random Forest | Accuracy Gap Explained on Titanic\n",
    "This is a followup of the last two YouTube videos:\n",
    "* How a decision tree overfits the Titanic dataset: www.youtube.com/watch?v=offRb9fBOuw&t=29s\n",
    "* Grid Search tuning random forest scores top 6%: www.youtube.com/watch?v=yVul279EMlA&t=45s\n",
    "\n",
    "Every machine learning beginner runs into but rarely understands — the accuracy gap.\n",
    "We train a model like a decision tree, and it scores 100% on the training data. Amazing, right?\n",
    "But then... test accuracy drops. That’s overfitting. Today, I’ll compare a Decision Tree to a Random Forest using the Titanic dataset — and we’ll visually track how the accuracy gap reveals which model generalizes better."
   ]
  },
  {
   "cell_type": "markdown",
   "id": "d193680e",
   "metadata": {
    "papermill": {
     "duration": 0.027,
     "end_time": "2025-07-07T04:20:15.241946",
     "exception": false,
     "start_time": "2025-07-07T04:20:15.214946",
     "status": "completed"
    },
    "tags": []
   },
   "source": [
    "# Train Data\n",
    "Train.csv will contain the details of a subset of the passengers on board (891 to be exact) and whether they survive or not. The shape of the train data is (891, 12). "
   ]
  },
  {
   "cell_type": "code",
   "execution_count": 1,
   "id": "a4e54023",
   "metadata": {
    "execution": {
     "iopub.execute_input": "2025-07-07T04:20:15.298363Z",
     "iopub.status.busy": "2025-07-07T04:20:15.297985Z",
     "iopub.status.idle": "2025-07-07T04:20:16.767906Z",
     "shell.execute_reply": "2025-07-07T04:20:16.766894Z"
    },
    "papermill": {
     "duration": 1.502152,
     "end_time": "2025-07-07T04:20:16.770462",
     "exception": false,
     "start_time": "2025-07-07T04:20:15.268310",
     "status": "completed"
    },
    "tags": []
   },
   "outputs": [
    {
     "data": {
      "text/html": [
       "<div>\n",
       "<style scoped>\n",
       "    .dataframe tbody tr th:only-of-type {\n",
       "        vertical-align: middle;\n",
       "    }\n",
       "\n",
       "    .dataframe tbody tr th {\n",
       "        vertical-align: top;\n",
       "    }\n",
       "\n",
       "    .dataframe thead th {\n",
       "        text-align: right;\n",
       "    }\n",
       "</style>\n",
       "<table border=\"1\" class=\"dataframe\">\n",
       "  <thead>\n",
       "    <tr style=\"text-align: right;\">\n",
       "      <th></th>\n",
       "      <th>PassengerId</th>\n",
       "      <th>Survived</th>\n",
       "      <th>Pclass</th>\n",
       "      <th>Name</th>\n",
       "      <th>Sex</th>\n",
       "      <th>Age</th>\n",
       "      <th>SibSp</th>\n",
       "      <th>Parch</th>\n",
       "      <th>Ticket</th>\n",
       "      <th>Fare</th>\n",
       "      <th>Cabin</th>\n",
       "      <th>Embarked</th>\n",
       "    </tr>\n",
       "  </thead>\n",
       "  <tbody>\n",
       "    <tr>\n",
       "      <th>0</th>\n",
       "      <td>1</td>\n",
       "      <td>0</td>\n",
       "      <td>3</td>\n",
       "      <td>Braund, Mr. Owen Harris</td>\n",
       "      <td>male</td>\n",
       "      <td>22.0</td>\n",
       "      <td>1</td>\n",
       "      <td>0</td>\n",
       "      <td>A/5 21171</td>\n",
       "      <td>7.2500</td>\n",
       "      <td>NaN</td>\n",
       "      <td>S</td>\n",
       "    </tr>\n",
       "    <tr>\n",
       "      <th>1</th>\n",
       "      <td>2</td>\n",
       "      <td>1</td>\n",
       "      <td>1</td>\n",
       "      <td>Cumings, Mrs. John Bradley (Florence Briggs Th...</td>\n",
       "      <td>female</td>\n",
       "      <td>38.0</td>\n",
       "      <td>1</td>\n",
       "      <td>0</td>\n",
       "      <td>PC 17599</td>\n",
       "      <td>71.2833</td>\n",
       "      <td>C85</td>\n",
       "      <td>C</td>\n",
       "    </tr>\n",
       "    <tr>\n",
       "      <th>2</th>\n",
       "      <td>3</td>\n",
       "      <td>1</td>\n",
       "      <td>3</td>\n",
       "      <td>Heikkinen, Miss. Laina</td>\n",
       "      <td>female</td>\n",
       "      <td>26.0</td>\n",
       "      <td>0</td>\n",
       "      <td>0</td>\n",
       "      <td>STON/O2. 3101282</td>\n",
       "      <td>7.9250</td>\n",
       "      <td>NaN</td>\n",
       "      <td>S</td>\n",
       "    </tr>\n",
       "    <tr>\n",
       "      <th>3</th>\n",
       "      <td>4</td>\n",
       "      <td>1</td>\n",
       "      <td>1</td>\n",
       "      <td>Futrelle, Mrs. Jacques Heath (Lily May Peel)</td>\n",
       "      <td>female</td>\n",
       "      <td>35.0</td>\n",
       "      <td>1</td>\n",
       "      <td>0</td>\n",
       "      <td>113803</td>\n",
       "      <td>53.1000</td>\n",
       "      <td>C123</td>\n",
       "      <td>S</td>\n",
       "    </tr>\n",
       "    <tr>\n",
       "      <th>4</th>\n",
       "      <td>5</td>\n",
       "      <td>0</td>\n",
       "      <td>3</td>\n",
       "      <td>Allen, Mr. William Henry</td>\n",
       "      <td>male</td>\n",
       "      <td>35.0</td>\n",
       "      <td>0</td>\n",
       "      <td>0</td>\n",
       "      <td>373450</td>\n",
       "      <td>8.0500</td>\n",
       "      <td>NaN</td>\n",
       "      <td>S</td>\n",
       "    </tr>\n",
       "  </tbody>\n",
       "</table>\n",
       "</div>"
      ],
      "text/plain": [
       "   PassengerId  Survived  Pclass  \\\n",
       "0            1         0       3   \n",
       "1            2         1       1   \n",
       "2            3         1       3   \n",
       "3            4         1       1   \n",
       "4            5         0       3   \n",
       "\n",
       "                                                Name     Sex   Age  SibSp  \\\n",
       "0                            Braund, Mr. Owen Harris    male  22.0      1   \n",
       "1  Cumings, Mrs. John Bradley (Florence Briggs Th...  female  38.0      1   \n",
       "2                             Heikkinen, Miss. Laina  female  26.0      0   \n",
       "3       Futrelle, Mrs. Jacques Heath (Lily May Peel)  female  35.0      1   \n",
       "4                           Allen, Mr. William Henry    male  35.0      0   \n",
       "\n",
       "   Parch            Ticket     Fare Cabin Embarked  \n",
       "0      0         A/5 21171   7.2500   NaN        S  \n",
       "1      0          PC 17599  71.2833   C85        C  \n",
       "2      0  STON/O2. 3101282   7.9250   NaN        S  \n",
       "3      0            113803  53.1000  C123        S  \n",
       "4      0            373450   8.0500   NaN        S  "
      ]
     },
     "execution_count": 1,
     "metadata": {},
     "output_type": "execute_result"
    }
   ],
   "source": [
    "import pandas as pd\n",
    "import matplotlib.pyplot as plt\n",
    "from sklearn.datasets import make_classification\n",
    "from sklearn.tree import DecisionTreeClassifier\n",
    "from sklearn.ensemble import RandomForestClassifier\n",
    "from sklearn.model_selection import train_test_split\n",
    "import numpy as np\n",
    "\n",
    "df = pd.read_csv('/kaggle/input/titanic/train.csv')\n",
    "test_df = pd.read_csv('/kaggle/input/titanic/test.csv')\n",
    "\n",
    "df.head()"
   ]
  },
  {
   "cell_type": "code",
   "execution_count": 2,
   "id": "a2b3603b",
   "metadata": {
    "execution": {
     "iopub.execute_input": "2025-07-07T04:20:16.833082Z",
     "iopub.status.busy": "2025-07-07T04:20:16.832760Z",
     "iopub.status.idle": "2025-07-07T04:20:16.945345Z",
     "shell.execute_reply": "2025-07-07T04:20:16.944537Z"
    },
    "papermill": {
     "duration": 0.145272,
     "end_time": "2025-07-07T04:20:16.947744",
     "exception": false,
     "start_time": "2025-07-07T04:20:16.802472",
     "status": "completed"
    },
    "tags": []
   },
   "outputs": [],
   "source": [
    "# Preprocessing:\n",
    "df['Sex'] = df['Sex'].map({'male': 0, 'female': 1})\n",
    "test_df['Sex'] = test_df['Sex'].map({'male': 0, 'female': 1})\n",
    "passID=test_df['PassengerId']\n",
    "\n",
    "# Fill missing Age and Fare values using the train set's median\n",
    "df['Age'] = df['Age'].fillna(df['Age'].median())\n",
    "df['Fare'] = df['Fare'].fillna(df['Fare'].median())\n",
    "\n",
    "test_df['Age'] = test_df['Age'].fillna(df['Age'].median())\n",
    "test_df['Fare'] = test_df['Fare'].fillna(df['Fare'].median())\n",
    "\n",
    "# Now select features (after filling)\n",
    "df = df[['Survived', 'Pclass', 'Sex', 'Age', 'Fare']]\n",
    "test_df = test_df[['Pclass', 'Sex', 'Age', 'Fare']]\n",
    "\n",
    "# Split features and target\n",
    "X = df.drop('Survived', axis=1)\n",
    "y = df['Survived']\n",
    "\n",
    "from sklearn.model_selection import train_test_split\n",
    "X_train, X_test, y_train, y_test = train_test_split(X, y, random_state=42)\n",
    "\n",
    "# Step 2: Train models\n",
    "overfit_tree = DecisionTreeClassifier(max_depth=None).fit(X_train, y_train)\n",
    "forest = RandomForestClassifier(n_estimators=50, max_depth=5).fit(X_train, y_train)"
   ]
  },
  {
   "cell_type": "code",
   "execution_count": 3,
   "id": "c09f75b2",
   "metadata": {
    "execution": {
     "iopub.execute_input": "2025-07-07T04:20:17.005510Z",
     "iopub.status.busy": "2025-07-07T04:20:17.005244Z",
     "iopub.status.idle": "2025-07-07T04:20:17.044510Z",
     "shell.execute_reply": "2025-07-07T04:20:17.042433Z"
    },
    "papermill": {
     "duration": 0.070459,
     "end_time": "2025-07-07T04:20:17.047025",
     "exception": false,
     "start_time": "2025-07-07T04:20:16.976566",
     "status": "completed"
    },
    "tags": []
   },
   "outputs": [
    {
     "name": "stdout",
     "output_type": "stream",
     "text": [
      "Decision Tree Train Accuracy: 0.979\n",
      "Decision Tree Test Accuracy: 0.74\n",
      "Random Forest Train Accuracy: 0.855\n",
      "Random Forest Test Accuracy: 0.821\n"
     ]
    }
   ],
   "source": [
    "from sklearn.metrics import accuracy_score\n",
    "\n",
    "# Predict\n",
    "y_pred_tree = overfit_tree.predict(X_test)\n",
    "y_pred_forest = forest.predict(X_test)\n",
    "\n",
    "# Accuracy\n",
    "print(\"Decision Tree Train Accuracy:\", round(overfit_tree.score(X_train, y_train), 3))\n",
    "print(\"Decision Tree Test Accuracy:\", round(accuracy_score(y_test, y_pred_tree), 3))\n",
    "\n",
    "print(\"Random Forest Train Accuracy:\", round(forest.score(X_train, y_train), 3))\n",
    "print(\"Random Forest Test Accuracy:\", round(accuracy_score(y_test, y_pred_forest), 3))\n"
   ]
  },
  {
   "cell_type": "code",
   "execution_count": 4,
   "id": "420e6126",
   "metadata": {
    "execution": {
     "iopub.execute_input": "2025-07-07T04:20:17.106883Z",
     "iopub.status.busy": "2025-07-07T04:20:17.106495Z",
     "iopub.status.idle": "2025-07-07T04:20:20.063542Z",
     "shell.execute_reply": "2025-07-07T04:20:20.062567Z"
    },
    "papermill": {
     "duration": 2.989457,
     "end_time": "2025-07-07T04:20:20.065639",
     "exception": false,
     "start_time": "2025-07-07T04:20:17.076182",
     "status": "completed"
    },
    "tags": []
   },
   "outputs": [
    {
     "data": {
      "image/png": "[encoded data removed]",
      "text/plain": [
       "<Figure size 720x720 with 2 Axes>"
      ]
     },
     "metadata": {
      "needs_background": "light"
     },
     "output_type": "display_data"
    },
    {
     "data": {
      "image/png": "[encoded data removed]",
      "text/plain": [
       "<Figure size 432x288 with 1 Axes>"
      ]
     },
     "metadata": {
      "needs_background": "light"
     },
     "output_type": "display_data"
    }
   ],
   "source": [
    "from sklearn.tree import DecisionTreeClassifier\n",
    "from sklearn.ensemble import RandomForestClassifier\n",
    "from sklearn.metrics import accuracy_score\n",
    "import matplotlib.pyplot as plt\n",
    "\n",
    "# Create subplots\n",
    "fig, axes = plt.subplots(2, 1, figsize=(10, 10), sharex=True)\n",
    "\n",
    "# Force both plots to use the same y-axis range\n",
    "axes[0].set_ylim(0.7, 1.0)\n",
    "axes[1].set_ylim(0.7, 1.0)\n",
    "\n",
    "## --- DECISION TREE ---\n",
    "depths_dt = range(2, 25)\n",
    "train_acc_dt = []\n",
    "test_acc_dt = []\n",
    "\n",
    "for d in depths_dt:\n",
    "    model = DecisionTreeClassifier(max_depth=d)\n",
    "    model.fit(X_train, y_train)\n",
    "    train_acc_dt.append(model.score(X_train, y_train))\n",
    "    test_acc_dt.append(model.score(X_test, y_test))\n",
    "\n",
    "axes[0].plot(depths_dt, train_acc_dt, label='Train Accuracy', color='blue')\n",
    "axes[0].plot(depths_dt, test_acc_dt, label='Test Accuracy', color='orange')\n",
    "axes[0].set_title('Overfitting in Decision Trees')\n",
    "axes[0].set_ylabel('Accuracy')\n",
    "axes[0].legend()\n",
    "axes[0].grid(True)\n",
    "\n",
    "## --- RANDOM FOREST ---\n",
    "depths_rf = range(2, 20)\n",
    "rf_train_acc = []\n",
    "rf_test_acc = []\n",
    "\n",
    "for d in depths_rf:\n",
    "    model = RandomForestClassifier(n_estimators=60, max_depth=d, random_state=42)\n",
    "    model.fit(X_train, y_train)\n",
    "    rf_train_acc.append(model.score(X_train, y_train))\n",
    "    rf_test_acc.append(model.score(X_test, y_test))\n",
    "\n",
    "axes[1].plot(depths_rf, rf_train_acc, label='RF Train Accuracy', color='green')\n",
    "axes[1].plot(depths_rf, rf_test_acc, label='RF Test Accuracy', color='red')\n",
    "axes[1].set_title('Random Forest: Depth vs Accuracy')\n",
    "axes[1].set_xlabel('Tree Depth')\n",
    "axes[1].set_ylabel('Accuracy')\n",
    "axes[1].legend()\n",
    "axes[1].grid(True)\n",
    "\n",
    "plt.tight_layout()\n",
    "plt.show()\n",
    "plt.plot(depths_rf, rf_train_acc, label='RF Train Accuracy')\n",
    "plt.plot(depths_rf, rf_test_acc, label='RF Test Accuracy')\n",
    "plt.xlabel('Tree Depth')\n",
    "plt.ylabel('Accuracy')\n",
    "plt.title('Random Forest: Depth vs Accuracy')\n",
    "plt.legend()\n",
    "plt.show()\n"
   ]
  },
  {
   "cell_type": "markdown",
   "id": "bba6778d",
   "metadata": {
    "papermill": {
     "duration": 0.03023,
     "end_time": "2025-07-07T04:20:20.128181",
     "exception": false,
     "start_time": "2025-07-07T04:20:20.097951",
     "status": "completed"
    },
    "tags": []
   },
   "source": [
    "### Graph Analysis\n",
    "Train = 100%?! Test = 74%?! The decision tree is a great student — it memorizes everything perfectly... but flunks the test. That’s overfitting. The random forest, on the other hand, does a little worse on the training data — but performs more consistently on new data. That’s the power of ensemble learning"
   ]
  },
  {
   "cell_type": "markdown",
   "id": "31eb795e",
   "metadata": {
    "papermill": {
     "duration": 0.030211,
     "end_time": "2025-07-07T04:20:20.188842",
     "exception": false,
     "start_time": "2025-07-07T04:20:20.158631",
     "status": "completed"
    },
    "tags": []
   },
   "source": [
    "## Decision Boundary "
   ]
  },
  {
   "cell_type": "markdown",
   "id": "999154bb",
   "metadata": {
    "papermill": {
     "duration": 0.03015,
     "end_time": "2025-07-07T04:20:20.251179",
     "exception": false,
     "start_time": "2025-07-07T04:20:20.221029",
     "status": "completed"
    },
    "tags": []
   },
   "source": [
    "\"On the left, this single decision tree is allowed to grow deep with no restriction, and you can see it memorizes the training data with tiny, sharp regions — that’s overfitting.\n",
    "But on the right, the random forest averages 50 shallow trees, each trained on different subsets. It smooths those noisy patterns and creates a cleaner, more general boundary — that’s the power of ensembles.\""
   ]
  },
  {
   "cell_type": "code",
   "execution_count": 5,
   "id": "7d3eff93",
   "metadata": {
    "execution": {
     "iopub.execute_input": "2025-07-07T04:20:20.316041Z",
     "iopub.status.busy": "2025-07-07T04:20:20.315716Z",
     "iopub.status.idle": "2025-07-07T04:20:20.323325Z",
     "shell.execute_reply": "2025-07-07T04:20:20.322365Z"
    },
    "papermill": {
     "duration": 0.043657,
     "end_time": "2025-07-07T04:20:20.325360",
     "exception": false,
     "start_time": "2025-07-07T04:20:20.281703",
     "status": "completed"
    },
    "tags": []
   },
   "outputs": [
    {
     "data": {
      "text/plain": [
       "Survived      int64\n",
       "Pclass        int64\n",
       "Sex           int64\n",
       "Age         float64\n",
       "Fare        float64\n",
       "dtype: object"
      ]
     },
     "execution_count": 5,
     "metadata": {},
     "output_type": "execute_result"
    }
   ],
   "source": [
    "df.dtypes"
   ]
  },
  {
   "cell_type": "code",
   "execution_count": 6,
   "id": "c51b32e4",
   "metadata": {
    "execution": {
     "iopub.execute_input": "2025-07-07T04:20:20.388773Z",
     "iopub.status.busy": "2025-07-07T04:20:20.388435Z",
     "iopub.status.idle": "2025-07-07T04:20:20.407043Z",
     "shell.execute_reply": "2025-07-07T04:20:20.406132Z"
    },
    "papermill": {
     "duration": 0.052757,
     "end_time": "2025-07-07T04:20:20.409218",
     "exception": false,
     "start_time": "2025-07-07T04:20:20.356461",
     "status": "completed"
    },
    "tags": []
   },
   "outputs": [
    {
     "name": "stdout",
     "output_type": "stream",
     "text": [
      "Total no of duplicate values in Training Dataset = 128\n"
     ]
    },
    {
     "data": {
      "text/html": [
       "<div>\n",
       "<style scoped>\n",
       "    .dataframe tbody tr th:only-of-type {\n",
       "        vertical-align: middle;\n",
       "    }\n",
       "\n",
       "    .dataframe tbody tr th {\n",
       "        vertical-align: top;\n",
       "    }\n",
       "\n",
       "    .dataframe thead th {\n",
       "        text-align: right;\n",
       "    }\n",
       "</style>\n",
       "<table border=\"1\" class=\"dataframe\">\n",
       "  <thead>\n",
       "    <tr style=\"text-align: right;\">\n",
       "      <th></th>\n",
       "      <th>Survived</th>\n",
       "      <th>Pclass</th>\n",
       "      <th>Sex</th>\n",
       "      <th>Age</th>\n",
       "      <th>Fare</th>\n",
       "    </tr>\n",
       "  </thead>\n",
       "  <tbody>\n",
       "    <tr>\n",
       "      <th>42</th>\n",
       "      <td>0</td>\n",
       "      <td>3</td>\n",
       "      <td>0</td>\n",
       "      <td>28.0</td>\n",
       "      <td>7.8958</td>\n",
       "    </tr>\n",
       "    <tr>\n",
       "      <th>47</th>\n",
       "      <td>1</td>\n",
       "      <td>3</td>\n",
       "      <td>1</td>\n",
       "      <td>28.0</td>\n",
       "      <td>7.7500</td>\n",
       "    </tr>\n",
       "    <tr>\n",
       "      <th>55</th>\n",
       "      <td>1</td>\n",
       "      <td>1</td>\n",
       "      <td>0</td>\n",
       "      <td>28.0</td>\n",
       "      <td>35.5000</td>\n",
       "    </tr>\n",
       "    <tr>\n",
       "      <th>76</th>\n",
       "      <td>0</td>\n",
       "      <td>3</td>\n",
       "      <td>0</td>\n",
       "      <td>28.0</td>\n",
       "      <td>7.8958</td>\n",
       "    </tr>\n",
       "    <tr>\n",
       "      <th>77</th>\n",
       "      <td>0</td>\n",
       "      <td>3</td>\n",
       "      <td>0</td>\n",
       "      <td>28.0</td>\n",
       "      <td>8.0500</td>\n",
       "    </tr>\n",
       "    <tr>\n",
       "      <th>87</th>\n",
       "      <td>0</td>\n",
       "      <td>3</td>\n",
       "      <td>0</td>\n",
       "      <td>28.0</td>\n",
       "      <td>8.0500</td>\n",
       "    </tr>\n",
       "    <tr>\n",
       "      <th>95</th>\n",
       "      <td>0</td>\n",
       "      <td>3</td>\n",
       "      <td>0</td>\n",
       "      <td>28.0</td>\n",
       "      <td>8.0500</td>\n",
       "    </tr>\n",
       "    <tr>\n",
       "      <th>101</th>\n",
       "      <td>0</td>\n",
       "      <td>3</td>\n",
       "      <td>0</td>\n",
       "      <td>28.0</td>\n",
       "      <td>7.8958</td>\n",
       "    </tr>\n",
       "    <tr>\n",
       "      <th>105</th>\n",
       "      <td>0</td>\n",
       "      <td>3</td>\n",
       "      <td>0</td>\n",
       "      <td>28.0</td>\n",
       "      <td>7.8958</td>\n",
       "    </tr>\n",
       "    <tr>\n",
       "      <th>120</th>\n",
       "      <td>0</td>\n",
       "      <td>2</td>\n",
       "      <td>0</td>\n",
       "      <td>21.0</td>\n",
       "      <td>73.5000</td>\n",
       "    </tr>\n",
       "  </tbody>\n",
       "</table>\n",
       "</div>"
      ],
      "text/plain": [
       "     Survived  Pclass  Sex   Age     Fare\n",
       "42          0       3    0  28.0   7.8958\n",
       "47          1       3    1  28.0   7.7500\n",
       "55          1       1    0  28.0  35.5000\n",
       "76          0       3    0  28.0   7.8958\n",
       "77          0       3    0  28.0   8.0500\n",
       "87          0       3    0  28.0   8.0500\n",
       "95          0       3    0  28.0   8.0500\n",
       "101         0       3    0  28.0   7.8958\n",
       "105         0       3    0  28.0   7.8958\n",
       "120         0       2    0  21.0  73.5000"
      ]
     },
     "execution_count": 6,
     "metadata": {},
     "output_type": "execute_result"
    }
   ],
   "source": [
    "#Check Duplicates:\n",
    "dupstr = df.duplicated()\n",
    "print('Total no of duplicate values in Training Dataset = %d' % (dupstr.sum()))\n",
    "df[dupstr].head(10)"
   ]
  },
  {
   "cell_type": "code",
   "execution_count": 7,
   "id": "b50a0e0f",
   "metadata": {
    "execution": {
     "iopub.execute_input": "2025-07-07T04:20:20.474549Z",
     "iopub.status.busy": "2025-07-07T04:20:20.474234Z",
     "iopub.status.idle": "2025-07-07T04:20:20.483786Z",
     "shell.execute_reply": "2025-07-07T04:20:20.482669Z"
    },
    "papermill": {
     "duration": 0.045479,
     "end_time": "2025-07-07T04:20:20.486761",
     "exception": false,
     "start_time": "2025-07-07T04:20:20.441282",
     "status": "completed"
    },
    "tags": []
   },
   "outputs": [
    {
     "name": "stdout",
     "output_type": "stream",
     "text": [
      "Missing data by column as a percent:\n",
      "Survived    0.0\n",
      "Pclass      0.0\n",
      "Sex         0.0\n",
      "Age         0.0\n",
      "Fare        0.0\n",
      "dtype: float64\n"
     ]
    }
   ],
   "source": [
    "#search for columns with missing values:\n",
    "def findNA():\n",
    "    print(\"Missing data by column as a percent:\")\n",
    "    findNA=df.isnull().sum().sort_values(ascending=False)/len(df)\n",
    "    print(findNA.head())\n",
    "findNA() "
   ]
  },
  {
   "cell_type": "markdown",
   "id": "95038045",
   "metadata": {
    "papermill": {
     "duration": 0.031816,
     "end_time": "2025-07-07T04:20:20.550654",
     "exception": false,
     "start_time": "2025-07-07T04:20:20.518838",
     "status": "completed"
    },
    "tags": []
   },
   "source": [
    "# Feature Engineer\n",
    "We need to replace male and female into numbers. This is a very important part of the process because gender is one of the highest predictors on if a person survived or not."
   ]
  },
  {
   "cell_type": "code",
   "execution_count": 8,
   "id": "3c7d05cb",
   "metadata": {
    "execution": {
     "iopub.execute_input": "2025-07-07T04:20:20.616635Z",
     "iopub.status.busy": "2025-07-07T04:20:20.615752Z",
     "iopub.status.idle": "2025-07-07T04:20:20.622161Z",
     "shell.execute_reply": "2025-07-07T04:20:20.621184Z"
    },
    "papermill": {
     "duration": 0.041589,
     "end_time": "2025-07-07T04:20:20.624317",
     "exception": false,
     "start_time": "2025-07-07T04:20:20.582728",
     "status": "completed"
    },
    "tags": []
   },
   "outputs": [],
   "source": [
    "#GENDER\n",
    "df['Sex']=df['Sex'].map({'female':0,'male':1})"
   ]
  },
  {
   "cell_type": "markdown",
   "id": "89fbe9d2",
   "metadata": {
    "papermill": {
     "duration": 0.031773,
     "end_time": "2025-07-07T04:20:20.688184",
     "exception": false,
     "start_time": "2025-07-07T04:20:20.656411",
     "status": "completed"
    },
    "tags": []
   },
   "source": [
    "Females whose number is 0 had a much higher chance of surving than males. Later on, doing the importance feature analysis we will view that gender is actually one of the highest predictors. "
   ]
  },
  {
   "cell_type": "code",
   "execution_count": 9,
   "id": "f919ccf0",
   "metadata": {
    "execution": {
     "iopub.execute_input": "2025-07-07T04:20:20.759351Z",
     "iopub.status.busy": "2025-07-07T04:20:20.759061Z",
     "iopub.status.idle": "2025-07-07T04:20:20.789721Z",
     "shell.execute_reply": "2025-07-07T04:20:20.788746Z"
    },
    "papermill": {
     "duration": 0.069059,
     "end_time": "2025-07-07T04:20:20.792165",
     "exception": false,
     "start_time": "2025-07-07T04:20:20.723106",
     "status": "completed"
    },
    "tags": []
   },
   "outputs": [
    {
     "data": {
      "text/html": [
       "<div>\n",
       "<style scoped>\n",
       "    .dataframe tbody tr th:only-of-type {\n",
       "        vertical-align: middle;\n",
       "    }\n",
       "\n",
       "    .dataframe tbody tr th {\n",
       "        vertical-align: top;\n",
       "    }\n",
       "\n",
       "    .dataframe thead th {\n",
       "        text-align: right;\n",
       "    }\n",
       "</style>\n",
       "<table border=\"1\" class=\"dataframe\">\n",
       "  <thead>\n",
       "    <tr style=\"text-align: right;\">\n",
       "      <th>Sex</th>\n",
       "    </tr>\n",
       "    <tr>\n",
       "      <th>Survived</th>\n",
       "    </tr>\n",
       "  </thead>\n",
       "  <tbody>\n",
       "  </tbody>\n",
       "</table>\n",
       "</div>"
      ],
      "text/plain": [
       "Empty DataFrame\n",
       "Columns: []\n",
       "Index: []"
      ]
     },
     "execution_count": 9,
     "metadata": {},
     "output_type": "execute_result"
    }
   ],
   "source": [
    "genderTable = pd.crosstab(df['Survived'],df['Sex'])\n",
    "genderTable"
   ]
  },
  {
   "cell_type": "markdown",
   "id": "8f920130",
   "metadata": {
    "papermill": {
     "duration": 0.032272,
     "end_time": "2025-07-07T04:20:20.859192",
     "exception": false,
     "start_time": "2025-07-07T04:20:20.826920",
     "status": "completed"
    },
    "tags": []
   },
   "source": [
    "# Encode Categorical Variables\n",
    "Encode Categorical Variables is needed for this dataset since there are many important variables that are not numeric yet. \n",
    "\n",
    "There are three classes C, Q, and S. Class C seems to have the highest chance of survival. Class S has the lowest chance of survival. Unfornately this would tend to show that economic status seems to played a part in the decision if someone survived or not. Embarked does not play role major role in feature importance. "
   ]
  },
  {
   "cell_type": "code",
   "execution_count": 10,
   "id": "b44d95be",
   "metadata": {
    "execution": {
     "iopub.execute_input": "2025-07-07T04:20:20.925406Z",
     "iopub.status.busy": "2025-07-07T04:20:20.925146Z",
     "iopub.status.idle": "2025-07-07T04:20:21.134899Z",
     "shell.execute_reply": "2025-07-07T04:20:21.133984Z"
    },
    "papermill": {
     "duration": 0.246145,
     "end_time": "2025-07-07T04:20:21.137482",
     "exception": false,
     "start_time": "2025-07-07T04:20:20.891337",
     "status": "completed"
    },
    "tags": []
   },
   "outputs": [],
   "source": [
    "import category_encoders as ce\n",
    "#encoder = ce.OrdinalEncoder(cols=['Embarked'])\n",
    "\n",
    "#df = encoder.fit_transform(df)\n",
    "#test = encoder.fit_transform(test)\n",
    "#test.head()"
   ]
  },
  {
   "cell_type": "markdown",
   "id": "f31520fb",
   "metadata": {
    "papermill": {
     "duration": 0.032215,
     "end_time": "2025-07-07T04:20:21.202340",
     "exception": false,
     "start_time": "2025-07-07T04:20:21.170125",
     "status": "completed"
    },
    "tags": []
   },
   "source": [
    "# Examine Target Variable\n",
    "Survived is the Y variable we will be analyzing. Since the survival rete is 0.384 the data is not considered unbalanced. "
   ]
  },
  {
   "cell_type": "code",
   "execution_count": 11,
   "id": "3ee04630",
   "metadata": {
    "execution": {
     "iopub.execute_input": "2025-07-07T04:20:21.268431Z",
     "iopub.status.busy": "2025-07-07T04:20:21.268094Z",
     "iopub.status.idle": "2025-07-07T04:20:21.277247Z",
     "shell.execute_reply": "2025-07-07T04:20:21.276318Z"
    },
    "papermill": {
     "duration": 0.044463,
     "end_time": "2025-07-07T04:20:21.279348",
     "exception": false,
     "start_time": "2025-07-07T04:20:21.234885",
     "status": "completed"
    },
    "tags": []
   },
   "outputs": [
    {
     "name": "stdout",
     "output_type": "stream",
     "text": [
      "0    549\n",
      "1    342\n",
      "Name: Survived, dtype: int64\n",
      "Percent that survived:  0.384\n"
     ]
    }
   ],
   "source": [
    "temp=df['Survived'].value_counts()\n",
    "print(temp)\n",
    "no=temp[0]\n",
    "yes=temp[1]\n",
    "percent=round(yes/(yes+no),3)\n",
    "print(\"Percent that survived: \", percent)"
   ]
  },
  {
   "cell_type": "markdown",
   "id": "cc289b2c",
   "metadata": {
    "papermill": {
     "duration": 0.032649,
     "end_time": "2025-07-07T04:20:21.345880",
     "exception": false,
     "start_time": "2025-07-07T04:20:21.313231",
     "status": "completed"
    },
    "tags": []
   },
   "source": [
    "# Numeric DataFrame\n",
    "For now, we will analyze only numeric values. Categorical values will need to be encoded or analyzed individually."
   ]
  },
  {
   "cell_type": "code",
   "execution_count": 12,
   "id": "c58371ee",
   "metadata": {
    "execution": {
     "iopub.execute_input": "2025-07-07T04:20:21.412896Z",
     "iopub.status.busy": "2025-07-07T04:20:21.411991Z",
     "iopub.status.idle": "2025-07-07T04:20:21.425375Z",
     "shell.execute_reply": "2025-07-07T04:20:21.424454Z"
    },
    "papermill": {
     "duration": 0.049032,
     "end_time": "2025-07-07T04:20:21.427368",
     "exception": false,
     "start_time": "2025-07-07T04:20:21.378336",
     "status": "completed"
    },
    "tags": []
   },
   "outputs": [
    {
     "data": {
      "text/html": [
       "<div>\n",
       "<style scoped>\n",
       "    .dataframe tbody tr th:only-of-type {\n",
       "        vertical-align: middle;\n",
       "    }\n",
       "\n",
       "    .dataframe tbody tr th {\n",
       "        vertical-align: top;\n",
       "    }\n",
       "\n",
       "    .dataframe thead th {\n",
       "        text-align: right;\n",
       "    }\n",
       "</style>\n",
       "<table border=\"1\" class=\"dataframe\">\n",
       "  <thead>\n",
       "    <tr style=\"text-align: right;\">\n",
       "      <th></th>\n",
       "      <th>Survived</th>\n",
       "      <th>Pclass</th>\n",
       "      <th>Sex</th>\n",
       "      <th>Age</th>\n",
       "      <th>Fare</th>\n",
       "    </tr>\n",
       "  </thead>\n",
       "  <tbody>\n",
       "    <tr>\n",
       "      <th>0</th>\n",
       "      <td>0</td>\n",
       "      <td>3</td>\n",
       "      <td>NaN</td>\n",
       "      <td>22.0</td>\n",
       "      <td>7.2500</td>\n",
       "    </tr>\n",
       "    <tr>\n",
       "      <th>1</th>\n",
       "      <td>1</td>\n",
       "      <td>1</td>\n",
       "      <td>NaN</td>\n",
       "      <td>38.0</td>\n",
       "      <td>71.2833</td>\n",
       "    </tr>\n",
       "    <tr>\n",
       "      <th>2</th>\n",
       "      <td>1</td>\n",
       "      <td>3</td>\n",
       "      <td>NaN</td>\n",
       "      <td>26.0</td>\n",
       "      <td>7.9250</td>\n",
       "    </tr>\n",
       "    <tr>\n",
       "      <th>3</th>\n",
       "      <td>1</td>\n",
       "      <td>1</td>\n",
       "      <td>NaN</td>\n",
       "      <td>35.0</td>\n",
       "      <td>53.1000</td>\n",
       "    </tr>\n",
       "    <tr>\n",
       "      <th>4</th>\n",
       "      <td>0</td>\n",
       "      <td>3</td>\n",
       "      <td>NaN</td>\n",
       "      <td>35.0</td>\n",
       "      <td>8.0500</td>\n",
       "    </tr>\n",
       "  </tbody>\n",
       "</table>\n",
       "</div>"
      ],
      "text/plain": [
       "   Survived  Pclass  Sex   Age     Fare\n",
       "0         0       3  NaN  22.0   7.2500\n",
       "1         1       1  NaN  38.0  71.2833\n",
       "2         1       3  NaN  26.0   7.9250\n",
       "3         1       1  NaN  35.0  53.1000\n",
       "4         0       3  NaN  35.0   8.0500"
      ]
     },
     "execution_count": 12,
     "metadata": {},
     "output_type": "execute_result"
    }
   ],
   "source": [
    "numerics = ['int16', 'int32', 'int64', 'float16', 'float32', 'float64']\n",
    "df = df.select_dtypes(include=numerics)\n",
    "df.head()"
   ]
  },
  {
   "cell_type": "markdown",
   "id": "6ef83fd5",
   "metadata": {
    "papermill": {
     "duration": 0.032954,
     "end_time": "2025-07-07T04:20:21.494723",
     "exception": false,
     "start_time": "2025-07-07T04:20:21.461769",
     "status": "completed"
    },
    "tags": []
   },
   "source": [
    "# Check for missing values\n",
    "Age is missing around 20% of values.Therefore, we can simply fill in the mean for that one column."
   ]
  },
  {
   "cell_type": "code",
   "execution_count": 13,
   "id": "bf509440",
   "metadata": {
    "execution": {
     "iopub.execute_input": "2025-07-07T04:20:21.563323Z",
     "iopub.status.busy": "2025-07-07T04:20:21.563004Z",
     "iopub.status.idle": "2025-07-07T04:20:21.572763Z",
     "shell.execute_reply": "2025-07-07T04:20:21.571746Z"
    },
    "papermill": {
     "duration": 0.04589,
     "end_time": "2025-07-07T04:20:21.574699",
     "exception": false,
     "start_time": "2025-07-07T04:20:21.528809",
     "status": "completed"
    },
    "tags": []
   },
   "outputs": [
    {
     "name": "stdout",
     "output_type": "stream",
     "text": [
      "Missing data by column as a percent:\n",
      "Sex         1.0\n",
      "Survived    0.0\n",
      "Pclass      0.0\n",
      "Age         0.0\n",
      "Fare        0.0\n",
      "dtype: float64\n"
     ]
    }
   ],
   "source": [
    "#search for columns with missing values:\n",
    "def findNA():\n",
    "    print(\"Missing data by column as a percent:\")\n",
    "    findNA=df.isnull().sum().sort_values(ascending=False)/len(df)\n",
    "    print(findNA.head())\n",
    "findNA() "
   ]
  },
  {
   "cell_type": "code",
   "execution_count": 14,
   "id": "c7af311d",
   "metadata": {
    "execution": {
     "iopub.execute_input": "2025-07-07T04:20:21.642287Z",
     "iopub.status.busy": "2025-07-07T04:20:21.641997Z",
     "iopub.status.idle": "2025-07-07T04:20:21.650721Z",
     "shell.execute_reply": "2025-07-07T04:20:21.649828Z"
    },
    "papermill": {
     "duration": 0.04492,
     "end_time": "2025-07-07T04:20:21.652747",
     "exception": false,
     "start_time": "2025-07-07T04:20:21.607827",
     "status": "completed"
    },
    "tags": []
   },
   "outputs": [],
   "source": [
    "df= df.fillna(df.mean())"
   ]
  },
  {
   "cell_type": "markdown",
   "id": "04015100",
   "metadata": {
    "papermill": {
     "duration": 0.033008,
     "end_time": "2025-07-07T04:20:21.718938",
     "exception": false,
     "start_time": "2025-07-07T04:20:21.685930",
     "status": "completed"
    },
    "tags": []
   },
   "source": [
    "# Split Data"
   ]
  },
  {
   "cell_type": "code",
   "execution_count": 15,
   "id": "ca31dfe8",
   "metadata": {
    "execution": {
     "iopub.execute_input": "2025-07-07T04:20:21.793430Z",
     "iopub.status.busy": "2025-07-07T04:20:21.792617Z",
     "iopub.status.idle": "2025-07-07T04:20:21.800600Z",
     "shell.execute_reply": "2025-07-07T04:20:21.799736Z"
    },
    "papermill": {
     "duration": 0.050324,
     "end_time": "2025-07-07T04:20:21.802951",
     "exception": false,
     "start_time": "2025-07-07T04:20:21.752627",
     "status": "completed"
    },
    "tags": []
   },
   "outputs": [],
   "source": [
    "X=df.drop('Survived', axis=1)\n",
    "y=df['Survived']\n",
    "\n",
    "X_train, X_test, y_train, y_test = train_test_split(\n",
    "    X, y, test_size = 0.33, random_state = 42)"
   ]
  },
  {
   "cell_type": "markdown",
   "id": "7e1b92dd",
   "metadata": {
    "papermill": {
     "duration": 0.033534,
     "end_time": "2025-07-07T04:20:21.874519",
     "exception": false,
     "start_time": "2025-07-07T04:20:21.840985",
     "status": "completed"
    },
    "tags": []
   },
   "source": [
    "# Highly Correlated Features\n",
    "There are no highly correlated variables above 80%. Therefore, we do not need to be concerned about removing variables that are too highly correlated. "
   ]
  },
  {
   "cell_type": "markdown",
   "id": "04031066",
   "metadata": {
    "_kg_hide-output": true,
    "papermill": {
     "duration": 0.033475,
     "end_time": "2025-07-07T04:20:21.941267",
     "exception": false,
     "start_time": "2025-07-07T04:20:21.907792",
     "status": "completed"
    },
    "tags": []
   },
   "source": [
    "# Tunning Forest\n",
    "Random forest AUC:  0.8503 which is good results considering forest does not overfit data."
   ]
  },
  {
   "cell_type": "code",
   "execution_count": 16,
   "id": "c4b23723",
   "metadata": {
    "execution": {
     "iopub.execute_input": "2025-07-07T04:20:22.035422Z",
     "iopub.status.busy": "2025-07-07T04:20:22.035102Z",
     "iopub.status.idle": "2025-07-07T04:20:22.047091Z",
     "shell.execute_reply": "2025-07-07T04:20:22.045857Z"
    },
    "papermill": {
     "duration": 0.065772,
     "end_time": "2025-07-07T04:20:22.050047",
     "exception": false,
     "start_time": "2025-07-07T04:20:21.984275",
     "status": "completed"
    },
    "tags": []
   },
   "outputs": [],
   "source": [
    "from sklearn.ensemble import RandomForestRegressor, RandomForestClassifier\n",
    "\n",
    "#Check for Error and find Best n_estimators:\n",
    "def forestNumEst():\n",
    "    numbers= [2, 20, 40, 50, 60, 100]\n",
    "    maeList=[] #error\n",
    "    accList=[]\n",
    "    \n",
    "    for n in numbers:\n",
    "        forest = RandomForestClassifier(n_estimators=n, oob_score = True)\n",
    "        forest.fit(X_train, y_train)\n",
    "        y_pred = forest.predict(X_test)\n",
    "        mae=metrics.mean_absolute_error(y_test, y_pred).round(2)\n",
    "        forest_auc = round( metrics.roc_auc_score(y_test, y_pred), 4 ) \n",
    "        #print(\"Random forest AUC: \", forest_auc) \n",
    "      \n",
    "        accList.append(forest_auc)\n",
    "        maeList.append(mae)\n",
    "        \n",
    "    plt.plot(numbers,accList)\n",
    "    plt.title(\"Forest Estimators\" )\n",
    "    plt.xlabel(\"Estimators\")\n",
    "    plt.ylabel('Accuracy')\n",
    "    plt.legend()\n",
    "    plt.show() \n",
    "    \n",
    "    plt.plot(numbers, maeList)\n",
    "    plt.title(\"Forest Estimators\" )\n",
    "    plt.xlabel(\"Estimators\")\n",
    "    plt.ylabel('error')\n",
    "    plt.legend()\n",
    "    plt.show() \n",
    "\n",
    "#forestNumEst() "
   ]
  },
  {
   "cell_type": "code",
   "execution_count": 17,
   "id": "4a925a5b",
   "metadata": {
    "execution": {
     "iopub.execute_input": "2025-07-07T04:20:22.119947Z",
     "iopub.status.busy": "2025-07-07T04:20:22.119563Z",
     "iopub.status.idle": "2025-07-07T04:20:22.127614Z",
     "shell.execute_reply": "2025-07-07T04:20:22.126726Z"
    },
    "papermill": {
     "duration": 0.045998,
     "end_time": "2025-07-07T04:20:22.129928",
     "exception": false,
     "start_time": "2025-07-07T04:20:22.083930",
     "status": "completed"
    },
    "tags": []
   },
   "outputs": [],
   "source": [
    "def forestDepth():\n",
    "    numbers=[None, 2, 3, 4, 5, 7, 10]\n",
    "    accList=[] #accuracy train data\n",
    "    maeList=[] #error\n",
    "    \n",
    "    for n in numbers:\n",
    "        forest = RandomForestClassifier(max_depth=n)\n",
    "        forest.fit(X_train, y_train)\n",
    "        y_pred = forest.predict(X_test)\n",
    "        mae=metrics.mean_absolute_error(y_test, y_pred).round(2)\n",
    "        forest_auc = round( metrics.roc_auc_score(y_test, y_pred), 4 ) \n",
    "        #print(\"Random forest AUC: \", forest_auc) \n",
    "       \n",
    "        accList.append(forest_auc)\n",
    "        maeList.append(mae)\n",
    "        \n",
    "    plt.plot(numbers,accList)\n",
    "    plt.title(\"Forest Max_Depth\")\n",
    "    plt.xlabel('max_depth')\n",
    "    plt.ylabel('Accuracy')\n",
    "    plt.legend()\n",
    "    plt.show() \n",
    "    \n",
    "    plt.plot(numbers, maeList)\n",
    "    plt.title(\"Forest Max_Depth\")\n",
    "    plt.xlabel(\"max_depth\")\n",
    "    plt.ylabel('error')\n",
    "    plt.legend()\n",
    "    plt.show() \n",
    "\n",
    "#forestDepth()"
   ]
  },
  {
   "cell_type": "code",
   "execution_count": 18,
   "id": "7c5398dc",
   "metadata": {
    "execution": {
     "iopub.execute_input": "2025-07-07T04:20:22.199521Z",
     "iopub.status.busy": "2025-07-07T04:20:22.199214Z",
     "iopub.status.idle": "2025-07-07T04:20:22.207309Z",
     "shell.execute_reply": "2025-07-07T04:20:22.206211Z"
    },
    "papermill": {
     "duration": 0.046127,
     "end_time": "2025-07-07T04:20:22.209488",
     "exception": false,
     "start_time": "2025-07-07T04:20:22.163361",
     "status": "completed"
    },
    "tags": []
   },
   "outputs": [],
   "source": [
    "def forestLeaf():\n",
    "    numbers=[2, 3, 4, 5, 7, 10]\n",
    "    accList=[] #accuracy train data\n",
    "    maeList=[] #error\n",
    "    \n",
    "    for n in numbers:\n",
    "        forest = RandomForestClassifier(min_samples_split=n)\n",
    "        forest.fit(X_train, y_train)\n",
    "        y_pred = forest.predict(X_test)\n",
    "        mae=metrics.mean_absolute_error(y_test, y_pred).round(2)\n",
    "        forest_auc = round( metrics.roc_auc_score(y_test, y_pred), 4 ) \n",
    "        #print(\"Random forest AUC: \", forest_auc) \n",
    "       \n",
    "        accList.append(forest_auc)\n",
    "        maeList.append(mae)\n",
    "        \n",
    "    plt.plot(numbers,accList)\n",
    "    plt.title(\"Forest\")\n",
    "    plt.xlabel('min_samples_split')\n",
    "    plt.ylabel('Accuracy')\n",
    "    plt.legend()\n",
    "    plt.show() \n",
    "    \n",
    "    plt.plot(numbers, maeList)\n",
    "    plt.title(\"Forest\")\n",
    "    plt.xlabel(\"min_samples_split\")\n",
    "    plt.ylabel('error')\n",
    "    plt.legend()\n",
    "    plt.show() \n",
    "\n",
    "#forestLeaf()"
   ]
  },
  {
   "cell_type": "code",
   "execution_count": 19,
   "id": "117e8494",
   "metadata": {
    "execution": {
     "iopub.execute_input": "2025-07-07T04:20:22.278489Z",
     "iopub.status.busy": "2025-07-07T04:20:22.278176Z",
     "iopub.status.idle": "2025-07-07T04:20:22.286292Z",
     "shell.execute_reply": "2025-07-07T04:20:22.285358Z"
    },
    "papermill": {
     "duration": 0.045147,
     "end_time": "2025-07-07T04:20:22.288499",
     "exception": false,
     "start_time": "2025-07-07T04:20:22.243352",
     "status": "completed"
    },
    "tags": []
   },
   "outputs": [],
   "source": [
    "def forestMinLeaf():\n",
    "    numbers=[1, 2, 3, 4, 5, 7, 10]\n",
    "    accList=[] #accuracy train data\n",
    "    maeList=[] #error\n",
    "    \n",
    "    for n in numbers:\n",
    "        forest = RandomForestClassifier(min_samples_leaf=n)\n",
    "        forest.fit(X_train, y_train)\n",
    "        y_pred = forest.predict(X_test)\n",
    "        mae=metrics.mean_absolute_error(y_test, y_pred).round(2)\n",
    "        forest_auc = round( metrics.roc_auc_score(y_test, y_pred), 4 ) \n",
    "        #print(\"Random forest AUC: \", forest_auc) \n",
    "       \n",
    "        accList.append(forest_auc)\n",
    "        maeList.append(mae)\n",
    "        \n",
    "    plt.plot(numbers,accList)\n",
    "    plt.title(\"Forest\")\n",
    "    plt.xlabel('min_samples_leaf')\n",
    "    plt.ylabel('Accuracy')\n",
    "    plt.legend()\n",
    "    plt.show() \n",
    "    \n",
    "    plt.plot(numbers, maeList)\n",
    "    plt.title(\"Forest\")\n",
    "    plt.xlabel(\"min_samples_leaf\")\n",
    "    plt.ylabel('error')\n",
    "    plt.legend()\n",
    "    plt.show() \n",
    "\n",
    "#forestMinLeaf()"
   ]
  },
  {
   "cell_type": "markdown",
   "id": "4089c572",
   "metadata": {
    "papermill": {
     "duration": 0.032717,
     "end_time": "2025-07-07T04:20:22.356967",
     "exception": false,
     "start_time": "2025-07-07T04:20:22.324250",
     "status": "completed"
    },
    "tags": []
   },
   "source": [
    "# GridSearch CV\n",
    "GridSearchCV helps find the best combination of model parameters by testing all possible combinations from a grid you define. It trains the model multiple times using cross-validation and returns the settings that give the highest accuracy (or lowest error). This helps automate model tuning and improves performance by avoiding guesswork."
   ]
  },
  {
   "cell_type": "code",
   "execution_count": 20,
   "id": "7f1d0190",
   "metadata": {
    "execution": {
     "iopub.execute_input": "2025-07-07T04:20:22.426510Z",
     "iopub.status.busy": "2025-07-07T04:20:22.425568Z",
     "iopub.status.idle": "2025-07-07T04:20:22.432483Z",
     "shell.execute_reply": "2025-07-07T04:20:22.431506Z"
    },
    "papermill": {
     "duration": 0.044868,
     "end_time": "2025-07-07T04:20:22.434669",
     "exception": false,
     "start_time": "2025-07-07T04:20:22.389801",
     "status": "completed"
    },
    "tags": []
   },
   "outputs": [],
   "source": [
    "from sklearn.model_selection import GridSearchCV, StratifiedKFold, cross_val_score\n",
    "\n",
    "def runGridSearch():\n",
    "    params = {\n",
    "        'n_estimators':[50, 60, 70],\n",
    "        'max_depth':[6, 9, 12],\n",
    "        'min_samples_split':[2, 3],  #2 is default\n",
    "        'min_samples_leaf':[1, 3, 5]   #1 is default\n",
    "        #'max_features':['auto', 'sqrt', 'log2'],\n",
    "        #'criterion':['gini', 'entropy'],\n",
    "    }\n",
    "    \n",
    "    #kfold = StratifiedKFold(n_splits=5, shuffle=True, random_state=7)\n",
    "    forestGrid=GridSearchCV(estimator=RandomForestClassifier(), param_grid=params, cv=5, scoring='accuracy')\n",
    "    forestGrid.fit(X_train, y_train)\n",
    "    forestGrid.best_params_\n",
    "#runGridSearch()"
   ]
  },
  {
   "cell_type": "markdown",
   "id": "2e90f150",
   "metadata": {
    "papermill": {
     "duration": 0.033091,
     "end_time": "2025-07-07T04:20:22.504424",
     "exception": false,
     "start_time": "2025-07-07T04:20:22.471333",
     "status": "completed"
    },
    "tags": []
   },
   "source": [
    "#### Final Random Forest Prediction\n",
    "* Top 5% Using {'max_depth': 5, 'n_estimators': 60} 0.79425"
   ]
  },
  {
   "cell_type": "markdown",
   "id": "30133201",
   "metadata": {
    "papermill": {
     "duration": 0.033036,
     "end_time": "2025-07-07T04:20:22.570903",
     "exception": false,
     "start_time": "2025-07-07T04:20:22.537867",
     "status": "completed"
    },
    "tags": []
   },
   "source": [
    "# Test Data"
   ]
  },
  {
   "cell_type": "code",
   "execution_count": 21,
   "id": "673ce795",
   "metadata": {
    "execution": {
     "iopub.execute_input": "2025-07-07T04:20:22.638761Z",
     "iopub.status.busy": "2025-07-07T04:20:22.638449Z",
     "iopub.status.idle": "2025-07-07T04:20:22.650680Z",
     "shell.execute_reply": "2025-07-07T04:20:22.649809Z"
    },
    "papermill": {
     "duration": 0.0486,
     "end_time": "2025-07-07T04:20:22.652520",
     "exception": false,
     "start_time": "2025-07-07T04:20:22.603920",
     "status": "completed"
    },
    "tags": []
   },
   "outputs": [
    {
     "data": {
      "text/html": [
       "<div>\n",
       "<style scoped>\n",
       "    .dataframe tbody tr th:only-of-type {\n",
       "        vertical-align: middle;\n",
       "    }\n",
       "\n",
       "    .dataframe tbody tr th {\n",
       "        vertical-align: top;\n",
       "    }\n",
       "\n",
       "    .dataframe thead th {\n",
       "        text-align: right;\n",
       "    }\n",
       "</style>\n",
       "<table border=\"1\" class=\"dataframe\">\n",
       "  <thead>\n",
       "    <tr style=\"text-align: right;\">\n",
       "      <th></th>\n",
       "      <th>Pclass</th>\n",
       "      <th>Sex</th>\n",
       "      <th>Age</th>\n",
       "      <th>Fare</th>\n",
       "    </tr>\n",
       "  </thead>\n",
       "  <tbody>\n",
       "    <tr>\n",
       "      <th>0</th>\n",
       "      <td>3</td>\n",
       "      <td>0</td>\n",
       "      <td>34.5</td>\n",
       "      <td>7.8292</td>\n",
       "    </tr>\n",
       "    <tr>\n",
       "      <th>1</th>\n",
       "      <td>3</td>\n",
       "      <td>1</td>\n",
       "      <td>47.0</td>\n",
       "      <td>7.0000</td>\n",
       "    </tr>\n",
       "    <tr>\n",
       "      <th>2</th>\n",
       "      <td>2</td>\n",
       "      <td>0</td>\n",
       "      <td>62.0</td>\n",
       "      <td>9.6875</td>\n",
       "    </tr>\n",
       "    <tr>\n",
       "      <th>3</th>\n",
       "      <td>3</td>\n",
       "      <td>0</td>\n",
       "      <td>27.0</td>\n",
       "      <td>8.6625</td>\n",
       "    </tr>\n",
       "    <tr>\n",
       "      <th>4</th>\n",
       "      <td>3</td>\n",
       "      <td>1</td>\n",
       "      <td>22.0</td>\n",
       "      <td>12.2875</td>\n",
       "    </tr>\n",
       "  </tbody>\n",
       "</table>\n",
       "</div>"
      ],
      "text/plain": [
       "   Pclass  Sex   Age     Fare\n",
       "0       3    0  34.5   7.8292\n",
       "1       3    1  47.0   7.0000\n",
       "2       2    0  62.0   9.6875\n",
       "3       3    0  27.0   8.6625\n",
       "4       3    1  22.0  12.2875"
      ]
     },
     "execution_count": 21,
     "metadata": {},
     "output_type": "execute_result"
    }
   ],
   "source": [
    "features=list(X.columns)\n",
    "test_df=test_df[features]\n",
    "test_df.head()"
   ]
  },
  {
   "cell_type": "markdown",
   "id": "9e90f69a",
   "metadata": {
    "papermill": {
     "duration": 0.034286,
     "end_time": "2025-07-07T04:20:22.720709",
     "exception": false,
     "start_time": "2025-07-07T04:20:22.686423",
     "status": "completed"
    },
    "tags": []
   },
   "source": [
    "# Final Prediction"
   ]
  },
  {
   "cell_type": "code",
   "execution_count": 22,
   "id": "ab101ca5",
   "metadata": {
    "execution": {
     "iopub.execute_input": "2025-07-07T04:20:22.797813Z",
     "iopub.status.busy": "2025-07-07T04:20:22.797480Z",
     "iopub.status.idle": "2025-07-07T04:20:22.823500Z",
     "shell.execute_reply": "2025-07-07T04:20:22.822325Z"
    },
    "papermill": {
     "duration": 0.068739,
     "end_time": "2025-07-07T04:20:22.826703",
     "exception": false,
     "start_time": "2025-07-07T04:20:22.757964",
     "status": "completed"
    },
    "tags": []
   },
   "outputs": [
    {
     "data": {
      "text/html": [
       "<div>\n",
       "<style scoped>\n",
       "    .dataframe tbody tr th:only-of-type {\n",
       "        vertical-align: middle;\n",
       "    }\n",
       "\n",
       "    .dataframe tbody tr th {\n",
       "        vertical-align: top;\n",
       "    }\n",
       "\n",
       "    .dataframe thead th {\n",
       "        text-align: right;\n",
       "    }\n",
       "</style>\n",
       "<table border=\"1\" class=\"dataframe\">\n",
       "  <thead>\n",
       "    <tr style=\"text-align: right;\">\n",
       "      <th></th>\n",
       "      <th>PassengerId</th>\n",
       "      <th>Survived</th>\n",
       "    </tr>\n",
       "  </thead>\n",
       "  <tbody>\n",
       "    <tr>\n",
       "      <th>0</th>\n",
       "      <td>892</td>\n",
       "      <td>0</td>\n",
       "    </tr>\n",
       "    <tr>\n",
       "      <th>1</th>\n",
       "      <td>893</td>\n",
       "      <td>0</td>\n",
       "    </tr>\n",
       "    <tr>\n",
       "      <th>2</th>\n",
       "      <td>894</td>\n",
       "      <td>0</td>\n",
       "    </tr>\n",
       "    <tr>\n",
       "      <th>3</th>\n",
       "      <td>895</td>\n",
       "      <td>0</td>\n",
       "    </tr>\n",
       "    <tr>\n",
       "      <th>4</th>\n",
       "      <td>896</td>\n",
       "      <td>1</td>\n",
       "    </tr>\n",
       "    <tr>\n",
       "      <th>5</th>\n",
       "      <td>897</td>\n",
       "      <td>0</td>\n",
       "    </tr>\n",
       "    <tr>\n",
       "      <th>6</th>\n",
       "      <td>898</td>\n",
       "      <td>1</td>\n",
       "    </tr>\n",
       "  </tbody>\n",
       "</table>\n",
       "</div>"
      ],
      "text/plain": [
       "   PassengerId  Survived\n",
       "0          892         0\n",
       "1          893         0\n",
       "2          894         0\n",
       "3          895         0\n",
       "4          896         1\n",
       "5          897         0\n",
       "6          898         1"
      ]
     },
     "execution_count": 22,
     "metadata": {},
     "output_type": "execute_result"
    }
   ],
   "source": [
    "test_predictions = forest.predict(test_df)\n",
    "tupleData = list(zip(passID, test_predictions))\n",
    "output = pd.DataFrame(tupleData, columns = ['PassengerId', 'Survived'])\n",
    "output.head(7)"
   ]
  },
  {
   "cell_type": "code",
   "execution_count": 23,
   "id": "74612208",
   "metadata": {
    "execution": {
     "iopub.execute_input": "2025-07-07T04:20:22.898412Z",
     "iopub.status.busy": "2025-07-07T04:20:22.898153Z",
     "iopub.status.idle": "2025-07-07T04:20:22.906772Z",
     "shell.execute_reply": "2025-07-07T04:20:22.905696Z"
    },
    "papermill": {
     "duration": 0.046237,
     "end_time": "2025-07-07T04:20:22.908967",
     "exception": false,
     "start_time": "2025-07-07T04:20:22.862730",
     "status": "completed"
    },
    "tags": []
   },
   "outputs": [
    {
     "name": "stdout",
     "output_type": "stream",
     "text": [
      "Your submission was successfully saved!\n"
     ]
    }
   ],
   "source": [
    "output.to_csv('submission.csv', index=False)\n",
    "print(\"Your submission was successfully saved!\")"
   ]
  },
  {
   "cell_type": "code",
   "execution_count": 24,
   "id": "c7899b71",
   "metadata": {
    "execution": {
     "iopub.execute_input": "2025-07-07T04:20:22.981981Z",
     "iopub.status.busy": "2025-07-07T04:20:22.981661Z",
     "iopub.status.idle": "2025-07-07T04:20:22.988503Z",
     "shell.execute_reply": "2025-07-07T04:20:22.987236Z"
    },
    "papermill": {
     "duration": 0.045956,
     "end_time": "2025-07-07T04:20:22.990828",
     "exception": false,
     "start_time": "2025-07-07T04:20:22.944872",
     "status": "completed"
    },
    "tags": []
   },
   "outputs": [
    {
     "name": "stdout",
     "output_type": "stream",
     "text": [
      "Files in current directory: ['submission.csv', '__notebook__.ipynb']\n"
     ]
    }
   ],
   "source": [
    "import os\n",
    "print(\"Files in current directory:\", os.listdir())"
   ]
  },
  {
   "cell_type": "markdown",
   "id": "c43fba86",
   "metadata": {
    "papermill": {
     "duration": 0.035344,
     "end_time": "2025-07-07T04:20:23.062630",
     "exception": false,
     "start_time": "2025-07-07T04:20:23.027286",
     "status": "completed"
    },
    "tags": []
   },
   "source": [
    "#### Notes:\n",
    "Being a wife makes no difference in the final prediction: <br>\n",
    "` df['Titles'] = df['Name'].str.extract(r', (\\w+\\.)') \n",
    "df['Titles'] = df['Titles'].apply(lambda x: 1 if x=='Mrs.' else 0) `"
   ]
  }
 ],
 "metadata": {
  "kaggle": {
   "accelerator": "none",
   "dataSources": [
    {
     "databundleVersionId": 26502,
     "sourceId": 3136,
     "sourceType": "competition"
    }
   ],
   "dockerImageVersionId": 30184,
   "isGpuEnabled": false,
   "isInternetEnabled": true,
   "language": "python",
   "sourceType": "notebook"
  },
  "kernelspec": {
   "display_name": "Python 3",
   "language": "python",
   "name": "python3"
  },
  "language_info": {
   "codemirror_mode": {
    "name": "ipython",
    "version": 3
   },
   "file_extension": ".py",
   "mimetype": "text/x-python",
   "name": "python",
   "nbconvert_exporter": "python",
   "pygments_lexer": "ipython3",
   "version": "3.7.12"
  },
  "papermill": {
   "default_parameters": {},
   "duration": 18.414337,
   "end_time": "2025-07-07T04:20:23.920978",
   "environment_variables": {},
   "exception": null,
   "input_path": "__notebook__.ipynb",
   "output_path": "__notebook__.ipynb",
   "parameters": {},
   "start_time": "2025-07-07T04:20:05.506641",
   "version": "2.3.4"
  }
 },
 "nbformat": 4,
 "nbformat_minor": 5
}
