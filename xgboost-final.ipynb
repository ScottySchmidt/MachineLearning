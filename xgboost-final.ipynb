{
 "cells": [
  {
   "cell_type": "markdown",
   "id": "a6bc9b67",
   "metadata": {
    "papermill": {
     "duration": 0.012671,
     "end_time": "2025-07-04T23:22:15.072100",
     "exception": false,
     "start_time": "2025-07-04T23:22:15.059429",
     "status": "completed"
    },
    "tags": []
   },
   "source": [
    "# Predict House Price\n",
    "* Score top 39% in 2022 with 174 attempts original:\n",
    "  github.com/ScottySchmidt/Kaggle/blob/main/PredictHousePrices.ipynb\n",
    "\n",
    "Score is currently 47% in 2025. ChatGPT recommends the following for an improved score:\n",
    "1. Stack models together (LightGBM + Ridge + Neural Nets)\n",
    "2. Feature Engineering\n",
    "3. Sale Price Skewed (apply log1p transform)\n",
    "   * train_df['SalePrice'] = np.log1p(train_df['SalePrice'])\n",
    "5. Too many weak features\n",
    "6. Do not remove outlier house prices, use log1p.\n",
    "7. Mean encoding"
   ]
  },
  {
   "cell_type": "markdown",
   "id": "bf57133d",
   "metadata": {
    "papermill": {
     "duration": 0.012162,
     "end_time": "2025-07-04T23:22:15.095082",
     "exception": false,
     "start_time": "2025-07-04T23:22:15.082920",
     "status": "completed"
    },
    "tags": []
   },
   "source": [
    "## XG Boost Predictive Model\n",
    "Decision trees are common and powerful, but they tend to overfit—clearly demonstrated in my YouTube video:  \n",
    "🎥 https://www.youtube.com/watch?v=offRb9fBOuw&t=11s  \n",
    "\n",
    "While XGBoost often delivers higher accuracy, it comes with a trade-off: it’s less interpretable.  \n",
    "If you're working with a regulator or stakeholder who needs transparency, use Logistic or Linear Regression instead.\n",
    "\n",
    "To optimize accuracy and reduce overfitting, tune these key parameters:\n",
    "* **Max depth:** Controls model complexity, similar to a decision tree.\n",
    "* **N_estimators:** Number of trees—around 100 often yields strong performance.\n",
    "* **Gamma:** Controls the minimum loss reduction for a split; higher values make the model more conservative.\n",
    "* **Learning rate (`eta`):** Slows down learning to prevent overfitting; commonly set around 0.1.\n",
    "* **Subsample:** Builds each tree using a random fraction of the data to add regularization.\n",
    "\n",
    "XGBoost starts with a basic decision tree and then adds more trees in a sequential, boosting fashion—each new tree corrects the errors of the previous one.\n",
    "\n",
    "✅ Always validate with a test set or cross-validation to ensure your model generalizes well."
   ]
  },
  {
   "cell_type": "markdown",
   "id": "e0920e1f",
   "metadata": {
    "papermill": {
     "duration": 0.010328,
     "end_time": "2025-07-04T23:22:15.116030",
     "exception": false,
     "start_time": "2025-07-04T23:22:15.105702",
     "status": "completed"
    },
    "tags": []
   },
   "source": [
    "#### Special Notes:\n",
    "* Using .20 for test and kFold=10 improves 3% better score\n",
    "* Removing feature importance with less than .003% makes tunning more consisent with significant results\n",
    "* Tunning learning_rate improved 8% better score\n",
    "* Removing outliers improved 4% better score\n",
    "* Removing similiar features makes couple percent better score\n",
    "* Encoding condition1 improved score by less than 1%"
   ]
  },
  {
   "cell_type": "code",
   "execution_count": 1,
   "id": "e44c5248",
   "metadata": {
    "execution": {
     "iopub.execute_input": "2025-07-04T23:22:15.139140Z",
     "iopub.status.busy": "2025-07-04T23:22:15.138684Z",
     "iopub.status.idle": "2025-07-04T23:22:15.223848Z",
     "shell.execute_reply": "2025-07-04T23:22:15.222667Z"
    },
    "papermill": {
     "duration": 0.10026,
     "end_time": "2025-07-04T23:22:15.227034",
     "exception": false,
     "start_time": "2025-07-04T23:22:15.126774",
     "status": "completed"
    },
    "tags": []
   },
   "outputs": [
    {
     "name": "stdout",
     "output_type": "stream",
     "text": [
      "(1460, 81)\n"
     ]
    },
    {
     "data": {
      "text/html": [
       "<div>\n",
       "<style scoped>\n",
       "    .dataframe tbody tr th:only-of-type {\n",
       "        vertical-align: middle;\n",
       "    }\n",
       "\n",
       "    .dataframe tbody tr th {\n",
       "        vertical-align: top;\n",
       "    }\n",
       "\n",
       "    .dataframe thead th {\n",
       "        text-align: right;\n",
       "    }\n",
       "</style>\n",
       "<table border=\"1\" class=\"dataframe\">\n",
       "  <thead>\n",
       "    <tr style=\"text-align: right;\">\n",
       "      <th></th>\n",
       "      <th>Id</th>\n",
       "      <th>MSSubClass</th>\n",
       "      <th>MSZoning</th>\n",
       "      <th>LotFrontage</th>\n",
       "      <th>LotArea</th>\n",
       "      <th>Street</th>\n",
       "      <th>Alley</th>\n",
       "      <th>LotShape</th>\n",
       "      <th>LandContour</th>\n",
       "      <th>Utilities</th>\n",
       "      <th>...</th>\n",
       "      <th>PoolArea</th>\n",
       "      <th>PoolQC</th>\n",
       "      <th>Fence</th>\n",
       "      <th>MiscFeature</th>\n",
       "      <th>MiscVal</th>\n",
       "      <th>MoSold</th>\n",
       "      <th>YrSold</th>\n",
       "      <th>SaleType</th>\n",
       "      <th>SaleCondition</th>\n",
       "      <th>SalePrice</th>\n",
       "    </tr>\n",
       "  </thead>\n",
       "  <tbody>\n",
       "    <tr>\n",
       "      <th>0</th>\n",
       "      <td>1</td>\n",
       "      <td>60</td>\n",
       "      <td>RL</td>\n",
       "      <td>65.0</td>\n",
       "      <td>8450</td>\n",
       "      <td>Pave</td>\n",
       "      <td>NaN</td>\n",
       "      <td>Reg</td>\n",
       "      <td>Lvl</td>\n",
       "      <td>AllPub</td>\n",
       "      <td>...</td>\n",
       "      <td>0</td>\n",
       "      <td>NaN</td>\n",
       "      <td>NaN</td>\n",
       "      <td>NaN</td>\n",
       "      <td>0</td>\n",
       "      <td>2</td>\n",
       "      <td>2008</td>\n",
       "      <td>WD</td>\n",
       "      <td>Normal</td>\n",
       "      <td>208500</td>\n",
       "    </tr>\n",
       "    <tr>\n",
       "      <th>1</th>\n",
       "      <td>2</td>\n",
       "      <td>20</td>\n",
       "      <td>RL</td>\n",
       "      <td>80.0</td>\n",
       "      <td>9600</td>\n",
       "      <td>Pave</td>\n",
       "      <td>NaN</td>\n",
       "      <td>Reg</td>\n",
       "      <td>Lvl</td>\n",
       "      <td>AllPub</td>\n",
       "      <td>...</td>\n",
       "      <td>0</td>\n",
       "      <td>NaN</td>\n",
       "      <td>NaN</td>\n",
       "      <td>NaN</td>\n",
       "      <td>0</td>\n",
       "      <td>5</td>\n",
       "      <td>2007</td>\n",
       "      <td>WD</td>\n",
       "      <td>Normal</td>\n",
       "      <td>181500</td>\n",
       "    </tr>\n",
       "    <tr>\n",
       "      <th>2</th>\n",
       "      <td>3</td>\n",
       "      <td>60</td>\n",
       "      <td>RL</td>\n",
       "      <td>68.0</td>\n",
       "      <td>11250</td>\n",
       "      <td>Pave</td>\n",
       "      <td>NaN</td>\n",
       "      <td>IR1</td>\n",
       "      <td>Lvl</td>\n",
       "      <td>AllPub</td>\n",
       "      <td>...</td>\n",
       "      <td>0</td>\n",
       "      <td>NaN</td>\n",
       "      <td>NaN</td>\n",
       "      <td>NaN</td>\n",
       "      <td>0</td>\n",
       "      <td>9</td>\n",
       "      <td>2008</td>\n",
       "      <td>WD</td>\n",
       "      <td>Normal</td>\n",
       "      <td>223500</td>\n",
       "    </tr>\n",
       "    <tr>\n",
       "      <th>3</th>\n",
       "      <td>4</td>\n",
       "      <td>70</td>\n",
       "      <td>RL</td>\n",
       "      <td>60.0</td>\n",
       "      <td>9550</td>\n",
       "      <td>Pave</td>\n",
       "      <td>NaN</td>\n",
       "      <td>IR1</td>\n",
       "      <td>Lvl</td>\n",
       "      <td>AllPub</td>\n",
       "      <td>...</td>\n",
       "      <td>0</td>\n",
       "      <td>NaN</td>\n",
       "      <td>NaN</td>\n",
       "      <td>NaN</td>\n",
       "      <td>0</td>\n",
       "      <td>2</td>\n",
       "      <td>2006</td>\n",
       "      <td>WD</td>\n",
       "      <td>Abnorml</td>\n",
       "      <td>140000</td>\n",
       "    </tr>\n",
       "    <tr>\n",
       "      <th>4</th>\n",
       "      <td>5</td>\n",
       "      <td>60</td>\n",
       "      <td>RL</td>\n",
       "      <td>84.0</td>\n",
       "      <td>14260</td>\n",
       "      <td>Pave</td>\n",
       "      <td>NaN</td>\n",
       "      <td>IR1</td>\n",
       "      <td>Lvl</td>\n",
       "      <td>AllPub</td>\n",
       "      <td>...</td>\n",
       "      <td>0</td>\n",
       "      <td>NaN</td>\n",
       "      <td>NaN</td>\n",
       "      <td>NaN</td>\n",
       "      <td>0</td>\n",
       "      <td>12</td>\n",
       "      <td>2008</td>\n",
       "      <td>WD</td>\n",
       "      <td>Normal</td>\n",
       "      <td>250000</td>\n",
       "    </tr>\n",
       "  </tbody>\n",
       "</table>\n",
       "<p>5 rows × 81 columns</p>\n",
       "</div>"
      ],
      "text/plain": [
       "   Id  MSSubClass MSZoning  LotFrontage  LotArea Street Alley LotShape  \\\n",
       "0   1          60       RL         65.0     8450   Pave   NaN      Reg   \n",
       "1   2          20       RL         80.0     9600   Pave   NaN      Reg   \n",
       "2   3          60       RL         68.0    11250   Pave   NaN      IR1   \n",
       "3   4          70       RL         60.0     9550   Pave   NaN      IR1   \n",
       "4   5          60       RL         84.0    14260   Pave   NaN      IR1   \n",
       "\n",
       "  LandContour Utilities  ... PoolArea PoolQC Fence MiscFeature MiscVal MoSold  \\\n",
       "0         Lvl    AllPub  ...        0    NaN   NaN         NaN       0      2   \n",
       "1         Lvl    AllPub  ...        0    NaN   NaN         NaN       0      5   \n",
       "2         Lvl    AllPub  ...        0    NaN   NaN         NaN       0      9   \n",
       "3         Lvl    AllPub  ...        0    NaN   NaN         NaN       0      2   \n",
       "4         Lvl    AllPub  ...        0    NaN   NaN         NaN       0     12   \n",
       "\n",
       "  YrSold  SaleType  SaleCondition  SalePrice  \n",
       "0   2008        WD         Normal     208500  \n",
       "1   2007        WD         Normal     181500  \n",
       "2   2008        WD         Normal     223500  \n",
       "3   2006        WD        Abnorml     140000  \n",
       "4   2008        WD         Normal     250000  \n",
       "\n",
       "[5 rows x 81 columns]"
      ]
     },
     "execution_count": 1,
     "metadata": {},
     "output_type": "execute_result"
    }
   ],
   "source": [
    "import pandas as pd\n",
    "import numpy as np\n",
    "import sys\n",
    "import matplotlib.pyplot as plt\n",
    "import warnings\n",
    "import warnings\n",
    "warnings.filterwarnings('ignore')\n",
    "\n",
    "data='/kaggle/input/house-prices-advanced-regression-techniques/train.csv'\n",
    "df=pd.read_csv(data)\n",
    "print(df.shape)\n",
    "df.head()"
   ]
  },
  {
   "cell_type": "markdown",
   "id": "675abc2d",
   "metadata": {
    "papermill": {
     "duration": 0.010751,
     "end_time": "2025-07-04T23:22:15.249622",
     "exception": false,
     "start_time": "2025-07-04T23:22:15.238871",
     "status": "completed"
    },
    "tags": []
   },
   "source": [
    "# Missing Values"
   ]
  },
  {
   "cell_type": "code",
   "execution_count": 2,
   "id": "e3be0509",
   "metadata": {
    "execution": {
     "iopub.execute_input": "2025-07-04T23:22:15.273315Z",
     "iopub.status.busy": "2025-07-04T23:22:15.272932Z",
     "iopub.status.idle": "2025-07-04T23:22:15.286532Z",
     "shell.execute_reply": "2025-07-04T23:22:15.285335Z"
    },
    "papermill": {
     "duration": 0.028619,
     "end_time": "2025-07-04T23:22:15.289268",
     "exception": false,
     "start_time": "2025-07-04T23:22:15.260649",
     "status": "completed"
    },
    "tags": []
   },
   "outputs": [
    {
     "name": "stdout",
     "output_type": "stream",
     "text": [
      "Missing data by column as a percent:\n",
      "PoolQC          21.686567\n",
      "MiscFeature     20.985075\n",
      "Alley           20.432836\n",
      "Fence           17.597015\n",
      "FireplaceQu     10.298507\n",
      "LotFrontage      3.865672\n",
      "GarageYrBlt      1.208955\n",
      "GarageCond       1.208955\n",
      "GarageType       1.208955\n",
      "GarageFinish     1.208955\n",
      "dtype: float64\n"
     ]
    }
   ],
   "source": [
    "#search for columns with missing values:\n",
    "def findNA():\n",
    "    print(\"Missing data by column as a percent:\")\n",
    "    findNA=df.isnull().sum().sort_values(ascending=False)/len(data)\n",
    "    print(findNA.head(10))\n",
    "findNA() "
   ]
  },
  {
   "cell_type": "markdown",
   "id": "0902f6e4",
   "metadata": {
    "papermill": {
     "duration": 0.010726,
     "end_time": "2025-07-04T23:22:15.311512",
     "exception": false,
     "start_time": "2025-07-04T23:22:15.300786",
     "status": "completed"
    },
    "tags": []
   },
   "source": [
    "## Feature Engineer"
   ]
  },
  {
   "cell_type": "code",
   "execution_count": 3,
   "id": "f0ef112d",
   "metadata": {
    "execution": {
     "iopub.execute_input": "2025-07-04T23:22:15.335878Z",
     "iopub.status.busy": "2025-07-04T23:22:15.334846Z",
     "iopub.status.idle": "2025-07-04T23:22:15.376327Z",
     "shell.execute_reply": "2025-07-04T23:22:15.375064Z"
    },
    "papermill": {
     "duration": 0.05608,
     "end_time": "2025-07-04T23:22:15.378683",
     "exception": false,
     "start_time": "2025-07-04T23:22:15.322603",
     "status": "completed"
    },
    "tags": []
   },
   "outputs": [
    {
     "name": "stdout",
     "output_type": "stream",
     "text": [
      "(1460, 81)\n"
     ]
    }
   ],
   "source": [
    "df['SalePrice'] = np.log1p(df['SalePrice'])\n",
    "df['MiscFeature']=df['MiscFeature'].fillna(0)\n",
    "df['Alley']=df['Alley'].fillna(0)\n",
    "df['Fence']=df['Fence'].fillna(0)\n",
    "df['FireplaceQu']=df['FireplaceQu'].fillna(0)\n",
    "df=df.fillna(df.mean())\n",
    "#df=df.drop(columns=['MiscFeature', 'Alley', 'Fence', 'FireplaceQu'])\n",
    "print(df.shape)"
   ]
  },
  {
   "cell_type": "code",
   "execution_count": 4,
   "id": "cf417291",
   "metadata": {
    "execution": {
     "iopub.execute_input": "2025-07-04T23:22:15.402377Z",
     "iopub.status.busy": "2025-07-04T23:22:15.401997Z",
     "iopub.status.idle": "2025-07-04T23:22:15.409285Z",
     "shell.execute_reply": "2025-07-04T23:22:15.408245Z"
    },
    "papermill": {
     "duration": 0.021817,
     "end_time": "2025-07-04T23:22:15.411533",
     "exception": false,
     "start_time": "2025-07-04T23:22:15.389716",
     "status": "completed"
    },
    "tags": []
   },
   "outputs": [
    {
     "data": {
      "text/plain": [
       "Index(['Id', 'MSSubClass', 'MSZoning', 'LotFrontage', 'LotArea', 'Street',\n",
       "       'Alley', 'LotShape', 'LandContour', 'Utilities', 'LotConfig',\n",
       "       'LandSlope', 'Neighborhood', 'Condition1', 'Condition2', 'BldgType',\n",
       "       'HouseStyle', 'OverallQual', 'OverallCond', 'YearBuilt', 'YearRemodAdd',\n",
       "       'RoofStyle', 'RoofMatl', 'Exterior1st', 'Exterior2nd', 'MasVnrType',\n",
       "       'MasVnrArea', 'ExterQual', 'ExterCond', 'Foundation', 'BsmtQual',\n",
       "       'BsmtCond', 'BsmtExposure', 'BsmtFinType1', 'BsmtFinSF1',\n",
       "       'BsmtFinType2', 'BsmtFinSF2', 'BsmtUnfSF', 'TotalBsmtSF', 'Heating',\n",
       "       'HeatingQC', 'CentralAir', 'Electrical', '1stFlrSF', '2ndFlrSF',\n",
       "       'LowQualFinSF', 'GrLivArea', 'BsmtFullBath', 'BsmtHalfBath', 'FullBath',\n",
       "       'HalfBath', 'BedroomAbvGr', 'KitchenAbvGr', 'KitchenQual',\n",
       "       'TotRmsAbvGrd', 'Functional', 'Fireplaces', 'FireplaceQu', 'GarageType',\n",
       "       'GarageYrBlt', 'GarageFinish', 'GarageCars', 'GarageArea', 'GarageQual',\n",
       "       'GarageCond', 'PavedDrive', 'WoodDeckSF', 'OpenPorchSF',\n",
       "       'EnclosedPorch', '3SsnPorch', 'ScreenPorch', 'PoolArea', 'PoolQC',\n",
       "       'Fence', 'MiscFeature', 'MiscVal', 'MoSold', 'YrSold', 'SaleType',\n",
       "       'SaleCondition', 'SalePrice'],\n",
       "      dtype='object')"
      ]
     },
     "execution_count": 4,
     "metadata": {},
     "output_type": "execute_result"
    }
   ],
   "source": [
    "df.columns"
   ]
  },
  {
   "cell_type": "markdown",
   "id": "83969a94",
   "metadata": {
    "papermill": {
     "duration": 0.011127,
     "end_time": "2025-07-04T23:22:15.434085",
     "exception": false,
     "start_time": "2025-07-04T23:22:15.422958",
     "status": "completed"
    },
    "tags": []
   },
   "source": [
    "# Feature Engineer"
   ]
  },
  {
   "cell_type": "code",
   "execution_count": 5,
   "id": "e9bd0a0e",
   "metadata": {
    "execution": {
     "iopub.execute_input": "2025-07-04T23:22:15.458456Z",
     "iopub.status.busy": "2025-07-04T23:22:15.458096Z",
     "iopub.status.idle": "2025-07-04T23:22:15.490979Z",
     "shell.execute_reply": "2025-07-04T23:22:15.489825Z"
    },
    "papermill": {
     "duration": 0.04749,
     "end_time": "2025-07-04T23:22:15.493255",
     "exception": false,
     "start_time": "2025-07-04T23:22:15.445765",
     "status": "completed"
    },
    "tags": []
   },
   "outputs": [
    {
     "data": {
      "text/html": [
       "<div>\n",
       "<style scoped>\n",
       "    .dataframe tbody tr th:only-of-type {\n",
       "        vertical-align: middle;\n",
       "    }\n",
       "\n",
       "    .dataframe tbody tr th {\n",
       "        vertical-align: top;\n",
       "    }\n",
       "\n",
       "    .dataframe thead th {\n",
       "        text-align: right;\n",
       "    }\n",
       "</style>\n",
       "<table border=\"1\" class=\"dataframe\">\n",
       "  <thead>\n",
       "    <tr style=\"text-align: right;\">\n",
       "      <th></th>\n",
       "      <th>bathrooms</th>\n",
       "      <th>totalSQ</th>\n",
       "      <th>CentralAir</th>\n",
       "      <th>NewConstruction</th>\n",
       "      <th>PoolScore</th>\n",
       "    </tr>\n",
       "  </thead>\n",
       "  <tbody>\n",
       "    <tr>\n",
       "      <th>0</th>\n",
       "      <td>3.5</td>\n",
       "      <td>2566</td>\n",
       "      <td>0</td>\n",
       "      <td>0</td>\n",
       "      <td>NaN</td>\n",
       "    </tr>\n",
       "    <tr>\n",
       "      <th>1</th>\n",
       "      <td>2.5</td>\n",
       "      <td>2524</td>\n",
       "      <td>0</td>\n",
       "      <td>0</td>\n",
       "      <td>NaN</td>\n",
       "    </tr>\n",
       "    <tr>\n",
       "      <th>2</th>\n",
       "      <td>3.5</td>\n",
       "      <td>2706</td>\n",
       "      <td>0</td>\n",
       "      <td>0</td>\n",
       "      <td>NaN</td>\n",
       "    </tr>\n",
       "    <tr>\n",
       "      <th>3</th>\n",
       "      <td>2.0</td>\n",
       "      <td>2473</td>\n",
       "      <td>0</td>\n",
       "      <td>0</td>\n",
       "      <td>NaN</td>\n",
       "    </tr>\n",
       "    <tr>\n",
       "      <th>4</th>\n",
       "      <td>3.5</td>\n",
       "      <td>3343</td>\n",
       "      <td>0</td>\n",
       "      <td>0</td>\n",
       "      <td>NaN</td>\n",
       "    </tr>\n",
       "  </tbody>\n",
       "</table>\n",
       "</div>"
      ],
      "text/plain": [
       "   bathrooms  totalSQ  CentralAir  NewConstruction PoolScore\n",
       "0        3.5     2566           0                0       NaN\n",
       "1        2.5     2524           0                0       NaN\n",
       "2        3.5     2706           0                0       NaN\n",
       "3        2.0     2473           0                0       NaN\n",
       "4        3.5     3343           0                0       NaN"
      ]
     },
     "execution_count": 5,
     "metadata": {},
     "output_type": "execute_result"
    }
   ],
   "source": [
    "df['totalSQ']=df['1stFlrSF']+df['2ndFlrSF']+df['TotalBsmtSF']\n",
    "df['bathrooms']=df['FullBath']+df['BsmtFullBath']+(0.5 * df['BsmtHalfBath'])+(0.5 * df['HalfBath'])\n",
    "df['CentralAir'] = df['CentralAir'].replace({'Y':0, 'N':1})\n",
    "df['NewConstruction'] = (df['SaleType'] == 'New').astype('int64')\n",
    "df[\"PoolScore\"] = df[\"PoolArea\"] * df[\"PoolQC\"]\n",
    "df['home_age_when_sold']=df['YrSold']-df['YearBuilt']\n",
    "df['total_porch_area'] = df['WoodDeckSF'] + df['OpenPorchSF'] + df['EnclosedPorch'] + df['3SsnPorch'] + df['ScreenPorch'] \n",
    "#df['hasPool']=df['PoolArea'].apply(lambda x: 1 if x>0 else 0).fillna(0)\n",
    "#df['SaleCondition']=df['SaleCondition'].apply(lambda x:1 if x == 'Normal' else 0)\n",
    "#df['Condition1']=df['Condition1'].apply(lambda x: 1 if x=='Norm' else 0)\n",
    "#df['Condition2']=df['Condition2'].apply(lambda x: 1 if x=='Norm' else 0)\n",
    "#df['Street']=df['Street'].fillna(0).apply(lambda x:0 if x =='Grvl' else 1)\n",
    "\n",
    "#Newly created features. No longer need:\n",
    "df=df.drop(columns=['1stFlrSF', '2ndFlrSF','TotalBsmtSF'])\n",
    "df=df.drop(columns=['FullBath','BsmtFullBath', 'BsmtHalfBath','HalfBath', 'BsmtHalfBath'])\n",
    "\n",
    "#View newly created data:\n",
    "df[['bathrooms', 'totalSQ', 'CentralAir', 'NewConstruction', 'PoolScore']].head()"
   ]
  },
  {
   "cell_type": "markdown",
   "id": "f9da919b",
   "metadata": {
    "papermill": {
     "duration": 0.011108,
     "end_time": "2025-07-04T23:22:15.515987",
     "exception": false,
     "start_time": "2025-07-04T23:22:15.504879",
     "status": "completed"
    },
    "tags": []
   },
   "source": [
    "## Drop Unimportant Features"
   ]
  },
  {
   "cell_type": "code",
   "execution_count": 6,
   "id": "d7b67360",
   "metadata": {
    "execution": {
     "iopub.execute_input": "2025-07-04T23:22:15.540392Z",
     "iopub.status.busy": "2025-07-04T23:22:15.540027Z",
     "iopub.status.idle": "2025-07-04T23:22:15.546549Z",
     "shell.execute_reply": "2025-07-04T23:22:15.545567Z"
    },
    "papermill": {
     "duration": 0.021459,
     "end_time": "2025-07-04T23:22:15.548855",
     "exception": false,
     "start_time": "2025-07-04T23:22:15.527396",
     "status": "completed"
    },
    "tags": []
   },
   "outputs": [],
   "source": [
    "features_to_drop = ['Id', 'WoodDeckSF', 'GarageArea', 'LotArea', \n",
    "                    'GrLivArea', 'total_porch_area', 'OverallCond']\n",
    "df = df.drop(features_to_drop, axis=1)"
   ]
  },
  {
   "cell_type": "code",
   "execution_count": 7,
   "id": "df09fb35",
   "metadata": {
    "execution": {
     "iopub.execute_input": "2025-07-04T23:22:15.573750Z",
     "iopub.status.busy": "2025-07-04T23:22:15.573368Z",
     "iopub.status.idle": "2025-07-04T23:22:15.582263Z",
     "shell.execute_reply": "2025-07-04T23:22:15.581257Z"
    },
    "papermill": {
     "duration": 0.023474,
     "end_time": "2025-07-04T23:22:15.584424",
     "exception": false,
     "start_time": "2025-07-04T23:22:15.560950",
     "status": "completed"
    },
    "tags": []
   },
   "outputs": [],
   "source": [
    "#Had 0% feature importance:\n",
    "df=df.drop(['BsmtFinSF2','LowQualFinSF', \n",
    "            '3SsnPorch', 'ScreenPorch','MiscVal', \n",
    "            'MoSold', 'EnclosedPorch', 'MasVnrArea', 'YrSold',\n",
    "             'BedroomAbvGr', 'PoolArea'], axis=1)\n",
    "\n",
    "#After removing above, these had less than .004 feature importance:\n",
    "df=df.drop(['MSSubClass', 'LotFrontage', 'TotRmsAbvGrd', 'BsmtUnfSF', 'OpenPorchSF'], axis=1)"
   ]
  },
  {
   "cell_type": "code",
   "execution_count": 8,
   "id": "2ce272e8",
   "metadata": {
    "execution": {
     "iopub.execute_input": "2025-07-04T23:22:15.609866Z",
     "iopub.status.busy": "2025-07-04T23:22:15.608905Z",
     "iopub.status.idle": "2025-07-04T23:22:15.627575Z",
     "shell.execute_reply": "2025-07-04T23:22:15.626543Z"
    },
    "papermill": {
     "duration": 0.033712,
     "end_time": "2025-07-04T23:22:15.629623",
     "exception": false,
     "start_time": "2025-07-04T23:22:15.595911",
     "status": "completed"
    },
    "tags": []
   },
   "outputs": [
    {
     "data": {
      "text/html": [
       "<div>\n",
       "<style scoped>\n",
       "    .dataframe tbody tr th:only-of-type {\n",
       "        vertical-align: middle;\n",
       "    }\n",
       "\n",
       "    .dataframe tbody tr th {\n",
       "        vertical-align: top;\n",
       "    }\n",
       "\n",
       "    .dataframe thead th {\n",
       "        text-align: right;\n",
       "    }\n",
       "</style>\n",
       "<table border=\"1\" class=\"dataframe\">\n",
       "  <thead>\n",
       "    <tr style=\"text-align: right;\">\n",
       "      <th></th>\n",
       "      <th>OverallQual</th>\n",
       "      <th>YearBuilt</th>\n",
       "      <th>YearRemodAdd</th>\n",
       "      <th>BsmtFinSF1</th>\n",
       "      <th>CentralAir</th>\n",
       "      <th>KitchenAbvGr</th>\n",
       "      <th>Fireplaces</th>\n",
       "      <th>GarageYrBlt</th>\n",
       "      <th>GarageCars</th>\n",
       "      <th>SalePrice</th>\n",
       "      <th>totalSQ</th>\n",
       "      <th>bathrooms</th>\n",
       "      <th>NewConstruction</th>\n",
       "      <th>home_age_when_sold</th>\n",
       "    </tr>\n",
       "  </thead>\n",
       "  <tbody>\n",
       "    <tr>\n",
       "      <th>0</th>\n",
       "      <td>7</td>\n",
       "      <td>2003</td>\n",
       "      <td>2003</td>\n",
       "      <td>706</td>\n",
       "      <td>0</td>\n",
       "      <td>1</td>\n",
       "      <td>0</td>\n",
       "      <td>2003.0</td>\n",
       "      <td>2</td>\n",
       "      <td>12.247699</td>\n",
       "      <td>2566</td>\n",
       "      <td>3.5</td>\n",
       "      <td>0</td>\n",
       "      <td>5</td>\n",
       "    </tr>\n",
       "    <tr>\n",
       "      <th>1</th>\n",
       "      <td>6</td>\n",
       "      <td>1976</td>\n",
       "      <td>1976</td>\n",
       "      <td>978</td>\n",
       "      <td>0</td>\n",
       "      <td>1</td>\n",
       "      <td>1</td>\n",
       "      <td>1976.0</td>\n",
       "      <td>2</td>\n",
       "      <td>12.109016</td>\n",
       "      <td>2524</td>\n",
       "      <td>2.5</td>\n",
       "      <td>0</td>\n",
       "      <td>31</td>\n",
       "    </tr>\n",
       "    <tr>\n",
       "      <th>2</th>\n",
       "      <td>7</td>\n",
       "      <td>2001</td>\n",
       "      <td>2002</td>\n",
       "      <td>486</td>\n",
       "      <td>0</td>\n",
       "      <td>1</td>\n",
       "      <td>1</td>\n",
       "      <td>2001.0</td>\n",
       "      <td>2</td>\n",
       "      <td>12.317171</td>\n",
       "      <td>2706</td>\n",
       "      <td>3.5</td>\n",
       "      <td>0</td>\n",
       "      <td>7</td>\n",
       "    </tr>\n",
       "    <tr>\n",
       "      <th>3</th>\n",
       "      <td>7</td>\n",
       "      <td>1915</td>\n",
       "      <td>1970</td>\n",
       "      <td>216</td>\n",
       "      <td>0</td>\n",
       "      <td>1</td>\n",
       "      <td>1</td>\n",
       "      <td>1998.0</td>\n",
       "      <td>3</td>\n",
       "      <td>11.849405</td>\n",
       "      <td>2473</td>\n",
       "      <td>2.0</td>\n",
       "      <td>0</td>\n",
       "      <td>91</td>\n",
       "    </tr>\n",
       "    <tr>\n",
       "      <th>4</th>\n",
       "      <td>8</td>\n",
       "      <td>2000</td>\n",
       "      <td>2000</td>\n",
       "      <td>655</td>\n",
       "      <td>0</td>\n",
       "      <td>1</td>\n",
       "      <td>1</td>\n",
       "      <td>2000.0</td>\n",
       "      <td>3</td>\n",
       "      <td>12.429220</td>\n",
       "      <td>3343</td>\n",
       "      <td>3.5</td>\n",
       "      <td>0</td>\n",
       "      <td>8</td>\n",
       "    </tr>\n",
       "  </tbody>\n",
       "</table>\n",
       "</div>"
      ],
      "text/plain": [
       "   OverallQual  YearBuilt  YearRemodAdd  BsmtFinSF1  CentralAir  KitchenAbvGr  \\\n",
       "0            7       2003          2003         706           0             1   \n",
       "1            6       1976          1976         978           0             1   \n",
       "2            7       2001          2002         486           0             1   \n",
       "3            7       1915          1970         216           0             1   \n",
       "4            8       2000          2000         655           0             1   \n",
       "\n",
       "   Fireplaces  GarageYrBlt  GarageCars  SalePrice  totalSQ  bathrooms  \\\n",
       "0           0       2003.0           2  12.247699     2566        3.5   \n",
       "1           1       1976.0           2  12.109016     2524        2.5   \n",
       "2           1       2001.0           2  12.317171     2706        3.5   \n",
       "3           1       1998.0           3  11.849405     2473        2.0   \n",
       "4           1       2000.0           3  12.429220     3343        3.5   \n",
       "\n",
       "   NewConstruction  home_age_when_sold  \n",
       "0                0                   5  \n",
       "1                0                  31  \n",
       "2                0                   7  \n",
       "3                0                  91  \n",
       "4                0                   8  "
      ]
     },
     "execution_count": 8,
     "metadata": {},
     "output_type": "execute_result"
    }
   ],
   "source": [
    "df = df.select_dtypes(include=['int16', 'int32', 'int64', 'float16', 'float32', 'float64'])\n",
    "df.head()"
   ]
  },
  {
   "cell_type": "markdown",
   "id": "573c31d7",
   "metadata": {
    "papermill": {
     "duration": 0.011432,
     "end_time": "2025-07-04T23:22:15.653040",
     "exception": false,
     "start_time": "2025-07-04T23:22:15.641608",
     "status": "completed"
    },
    "tags": []
   },
   "source": [
    "# Outliers"
   ]
  },
  {
   "cell_type": "code",
   "execution_count": 9,
   "id": "075d6a62",
   "metadata": {
    "execution": {
     "iopub.execute_input": "2025-07-04T23:22:15.678537Z",
     "iopub.status.busy": "2025-07-04T23:22:15.677501Z",
     "iopub.status.idle": "2025-07-04T23:22:17.520771Z",
     "shell.execute_reply": "2025-07-04T23:22:17.519666Z"
    },
    "papermill": {
     "duration": 1.858462,
     "end_time": "2025-07-04T23:22:17.523128",
     "exception": false,
     "start_time": "2025-07-04T23:22:15.664666",
     "status": "completed"
    },
    "tags": []
   },
   "outputs": [
    {
     "data": {
      "text/plain": [
       "<seaborn.axisgrid.FacetGrid at 0x7e350a6dc750>"
      ]
     },
     "execution_count": 9,
     "metadata": {},
     "output_type": "execute_result"
    },
    {
     "data": {
      "image/png": "[encoded data removed]",
      "text/plain": [
       "<Figure size 360x360 with 1 Axes>"
      ]
     },
     "metadata": {
      "needs_background": "light"
     },
     "output_type": "display_data"
    },
    {
     "data": {
      "image/png": "[encoded data removed]",
      "text/plain": [
       "<Figure size 360x360 with 1 Axes>"
      ]
     },
     "metadata": {
      "needs_background": "light"
     },
     "output_type": "display_data"
    }
   ],
   "source": [
    "import seaborn as sns\n",
    "sns.displot(df, x='SalePrice')\n",
    "sns.displot(df, x='totalSQ')"
   ]
  },
  {
   "cell_type": "code",
   "execution_count": 10,
   "id": "81d3a74b",
   "metadata": {
    "execution": {
     "iopub.execute_input": "2025-07-04T23:22:17.549948Z",
     "iopub.status.busy": "2025-07-04T23:22:17.549541Z",
     "iopub.status.idle": "2025-07-04T23:22:17.563837Z",
     "shell.execute_reply": "2025-07-04T23:22:17.562750Z"
    },
    "papermill": {
     "duration": 0.030441,
     "end_time": "2025-07-04T23:22:17.566208",
     "exception": false,
     "start_time": "2025-07-04T23:22:17.535767",
     "status": "completed"
    },
    "tags": []
   },
   "outputs": [],
   "source": [
    "from scipy import stats\n",
    "\n",
    "outliers=[]\n",
    "def detect_outlier(data_1):\n",
    "    threshold=3\n",
    "    mean_1 = np.mean(data_1)\n",
    "    std_1 =np.std(data_1)\n",
    "    \n",
    "    for y in data_1:\n",
    "        z_score= (y - mean_1)/std_1 \n",
    "        if np.abs(z_score) > threshold:\n",
    "            outliers.append(y)\n",
    "    return outliers\n",
    "priceOutlier=list(detect_outlier(df['SalePrice']))\n",
    "#print(priceOutlier)\n",
    "sqOutlier=list(detect_outlier(df['totalSQ']))\n",
    "#print(sqOutlier)"
   ]
  },
  {
   "cell_type": "code",
   "execution_count": 11,
   "id": "6c651ba8",
   "metadata": {
    "execution": {
     "iopub.execute_input": "2025-07-04T23:22:17.592389Z",
     "iopub.status.busy": "2025-07-04T23:22:17.592027Z",
     "iopub.status.idle": "2025-07-04T23:22:17.599478Z",
     "shell.execute_reply": "2025-07-04T23:22:17.598495Z"
    },
    "papermill": {
     "duration": 0.022994,
     "end_time": "2025-07-04T23:22:17.601680",
     "exception": false,
     "start_time": "2025-07-04T23:22:17.578686",
     "status": "completed"
    },
    "tags": []
   },
   "outputs": [],
   "source": [
    "#Remove Outliers:\n",
    "df=df.loc[df['SalePrice']<500_000]\n",
    "df=df.loc[df['totalSQ']<5000]\n",
    "#print(df.shape) "
   ]
  },
  {
   "cell_type": "markdown",
   "id": "9254f50f",
   "metadata": {
    "papermill": {
     "duration": 0.011886,
     "end_time": "2025-07-04T23:22:17.625968",
     "exception": false,
     "start_time": "2025-07-04T23:22:17.614082",
     "status": "completed"
    },
    "tags": []
   },
   "source": [
    "# Correlations"
   ]
  },
  {
   "cell_type": "code",
   "execution_count": 12,
   "id": "5afe6415",
   "metadata": {
    "execution": {
     "iopub.execute_input": "2025-07-04T23:22:17.652766Z",
     "iopub.status.busy": "2025-07-04T23:22:17.652384Z",
     "iopub.status.idle": "2025-07-04T23:22:18.557551Z",
     "shell.execute_reply": "2025-07-04T23:22:18.556339Z"
    },
    "papermill": {
     "duration": 0.92167,
     "end_time": "2025-07-04T23:22:18.560745",
     "exception": false,
     "start_time": "2025-07-04T23:22:17.639075",
     "status": "completed"
    },
    "tags": []
   },
   "outputs": [
    {
     "data": {
      "text/plain": [
       "<AxesSubplot:>"
      ]
     },
     "execution_count": 12,
     "metadata": {},
     "output_type": "execute_result"
    },
    {
     "data": {
      "image/png": "[encoded data removed]",
      "text/plain": [
       "<Figure size 1440x1440 with 2 Axes>"
      ]
     },
     "metadata": {
      "needs_background": "light"
     },
     "output_type": "display_data"
    }
   ],
   "source": [
    "import seaborn as sns\n",
    "corr= df.corr()\n",
    "matrix = np.triu(corr)\n",
    "fig, ax = plt.subplots(figsize=(20,20))    \n",
    "sns.heatmap(corr, annot=True, mask=matrix)"
   ]
  },
  {
   "cell_type": "markdown",
   "id": "26123a43",
   "metadata": {
    "papermill": {
     "duration": 0.013636,
     "end_time": "2025-07-04T23:22:18.588965",
     "exception": false,
     "start_time": "2025-07-04T23:22:18.575329",
     "status": "completed"
    },
    "tags": []
   },
   "source": [
    "## Multicollinearity\n",
    "Drop highly correlated featuresDrop highly correlated features: garageYrBlt and houseYear too similiar"
   ]
  },
  {
   "cell_type": "code",
   "execution_count": 13,
   "id": "d28060be",
   "metadata": {
    "execution": {
     "iopub.execute_input": "2025-07-04T23:22:18.618327Z",
     "iopub.status.busy": "2025-07-04T23:22:18.617952Z",
     "iopub.status.idle": "2025-07-04T23:22:18.623934Z",
     "shell.execute_reply": "2025-07-04T23:22:18.622888Z"
    },
    "papermill": {
     "duration": 0.023312,
     "end_time": "2025-07-04T23:22:18.626116",
     "exception": false,
     "start_time": "2025-07-04T23:22:18.602804",
     "status": "completed"
    },
    "tags": []
   },
   "outputs": [],
   "source": [
    "#Too similiar variables:\n",
    "df=df.drop(['GarageYrBlt'], axis=1) #GarageYrBlt and houseYear too similiar"
   ]
  },
  {
   "cell_type": "markdown",
   "id": "c9eae4f4",
   "metadata": {
    "papermill": {
     "duration": 0.013644,
     "end_time": "2025-07-04T23:22:18.653903",
     "exception": false,
     "start_time": "2025-07-04T23:22:18.640259",
     "status": "completed"
    },
    "tags": []
   },
   "source": [
    "# Split Data"
   ]
  },
  {
   "cell_type": "code",
   "execution_count": 14,
   "id": "9082c988",
   "metadata": {
    "execution": {
     "iopub.execute_input": "2025-07-04T23:22:18.684147Z",
     "iopub.status.busy": "2025-07-04T23:22:18.683760Z",
     "iopub.status.idle": "2025-07-04T23:22:18.896084Z",
     "shell.execute_reply": "2025-07-04T23:22:18.894921Z"
    },
    "papermill": {
     "duration": 0.230672,
     "end_time": "2025-07-04T23:22:18.898622",
     "exception": false,
     "start_time": "2025-07-04T23:22:18.667950",
     "status": "completed"
    },
    "tags": []
   },
   "outputs": [],
   "source": [
    "from sklearn.model_selection import train_test_split, cross_validate\n",
    "\n",
    "X=df.drop(\"SalePrice\", axis='columns')\n",
    "y=df['SalePrice']\n",
    "\n",
    "X_train, X_test, y_train, y_test = train_test_split(\n",
    "X, y, test_size=.20, random_state=42)"
   ]
  },
  {
   "cell_type": "markdown",
   "id": "b4685ba3",
   "metadata": {
    "papermill": {
     "duration": 0.013796,
     "end_time": "2025-07-04T23:22:18.926418",
     "exception": false,
     "start_time": "2025-07-04T23:22:18.912622",
     "status": "completed"
    },
    "tags": []
   },
   "source": [
    "# XGBoost\n",
    "Extreme Graidennt Boosting (XGBoost) is typically the best model to use on structured data on Kaggle competitions. "
   ]
  },
  {
   "cell_type": "code",
   "execution_count": 15,
   "id": "a4de8032",
   "metadata": {
    "execution": {
     "iopub.execute_input": "2025-07-04T23:22:18.957388Z",
     "iopub.status.busy": "2025-07-04T23:22:18.956281Z",
     "iopub.status.idle": "2025-07-04T23:22:19.103591Z",
     "shell.execute_reply": "2025-07-04T23:22:19.102657Z"
    },
    "papermill": {
     "duration": 0.16532,
     "end_time": "2025-07-04T23:22:19.106164",
     "exception": false,
     "start_time": "2025-07-04T23:22:18.940844",
     "status": "completed"
    },
    "tags": []
   },
   "outputs": [],
   "source": [
    "import xgboost as xgb\n",
    "from sklearn.metrics import mean_squared_error, r2_score, mean_absolute_error"
   ]
  },
  {
   "cell_type": "markdown",
   "id": "465d69f3",
   "metadata": {
    "papermill": {
     "duration": 0.013736,
     "end_time": "2025-07-04T23:22:19.134322",
     "exception": false,
     "start_time": "2025-07-04T23:22:19.120586",
     "status": "completed"
    },
    "tags": []
   },
   "source": [
    "### max depth \n",
    "How big should the tree be? Max_depth is one of the most important parameters. Increasing the value makes the model more complex which could overfit. Range is typical between 2 and 10. A tree rarely goes beyond five. \n",
    "\n",
    "Four for max depth shows the least amount of error and highest accuracy. Four was picked by GridSearchCV when tunned with other parameters. Sometimes, a number near four was picked like three. "
   ]
  },
  {
   "cell_type": "code",
   "execution_count": 16,
   "id": "50dad673",
   "metadata": {
    "execution": {
     "iopub.execute_input": "2025-07-04T23:22:19.164541Z",
     "iopub.status.busy": "2025-07-04T23:22:19.164131Z",
     "iopub.status.idle": "2025-07-04T23:22:22.801818Z",
     "shell.execute_reply": "2025-07-04T23:22:22.800704Z"
    },
    "papermill": {
     "duration": 3.656252,
     "end_time": "2025-07-04T23:22:22.805130",
     "exception": false,
     "start_time": "2025-07-04T23:22:19.148878",
     "status": "completed"
    },
    "tags": []
   },
   "outputs": [
    {
     "data": {
      "image/png": "[encoded data removed]",
      "text/plain": [
       "<Figure size 432x288 with 1 Axes>"
      ]
     },
     "metadata": {
      "needs_background": "light"
     },
     "output_type": "display_data"
    },
    {
     "data": {
      "image/png": "[encoded data removed]",
      "text/plain": [
       "<Figure size 432x288 with 1 Axes>"
      ]
     },
     "metadata": {
      "needs_background": "light"
     },
     "output_type": "display_data"
    }
   ],
   "source": [
    "maxDepth=[2, 3, 4, 5, 6, 7, 8, 9, 10]\n",
    "listMSE=[]\n",
    "listR2=[]\n",
    "\n",
    "for d in maxDepth:\n",
    "    regressor = xgb.XGBRegressor(\n",
    "        max_depth=d\n",
    "    )\n",
    "    regressor.fit(X_train, y_train)\n",
    "    #regressor.fit(X_train, y_train, early_stopping_rounds=5, eval_metric=\"rmse\", eval_set=[(X_test, y_test)], verbose=False)\n",
    "    y_pred = regressor.predict(X_test)\n",
    "\n",
    "    xgMSE=mean_absolute_error(y_test, y_pred)\n",
    "    xgR2 = r2_score(y_test, y_pred).round(4)\n",
    "    listMSE.append(xgMSE)\n",
    "    listR2.append(xgR2)\n",
    "plt.plot(maxDepth, listMSE)\n",
    "plt.title('MaxDepth Error')\n",
    "plt.ylabel('Error')\n",
    "plt.xlabel('Max Depth')\n",
    "plt.show()\n",
    "\n",
    "plt.plot(maxDepth, listR2)\n",
    "plt.title('MaxDepth Accuracy')\n",
    "plt.ylabel('Accuracy')\n",
    "plt.xlabel('MaxDepth')\n",
    "plt.show()"
   ]
  },
  {
   "cell_type": "markdown",
   "id": "1838da39",
   "metadata": {
    "papermill": {
     "duration": 0.014942,
     "end_time": "2025-07-04T23:22:22.841653",
     "exception": false,
     "start_time": "2025-07-04T23:22:22.826711",
     "status": "completed"
    },
    "tags": []
   },
   "source": [
    "### n_estimators\n",
    "In random forest, generally 128 is the 'magic' number to reduce overfitting. Typically, after 128 trees the amount of error flatlines. \n"
   ]
  },
  {
   "cell_type": "code",
   "execution_count": 17,
   "id": "90403f59",
   "metadata": {
    "_kg_hide-input": true,
    "execution": {
     "iopub.execute_input": "2025-07-04T23:22:22.872769Z",
     "iopub.status.busy": "2025-07-04T23:22:22.872389Z",
     "iopub.status.idle": "2025-07-04T23:22:25.617931Z",
     "shell.execute_reply": "2025-07-04T23:22:25.616723Z"
    },
    "papermill": {
     "duration": 2.76399,
     "end_time": "2025-07-04T23:22:25.620580",
     "exception": false,
     "start_time": "2025-07-04T23:22:22.856590",
     "status": "completed"
    },
    "tags": []
   },
   "outputs": [
    {
     "data": {
      "image/png": "[encoded data removed]",
      "text/plain": [
       "<Figure size 432x288 with 1 Axes>"
      ]
     },
     "metadata": {
      "needs_background": "light"
     },
     "output_type": "display_data"
    },
    {
     "data": {
      "image/png": "[encoded data removed]",
      "text/plain": [
       "<Figure size 432x288 with 1 Axes>"
      ]
     },
     "metadata": {
      "needs_background": "light"
     },
     "output_type": "display_data"
    }
   ],
   "source": [
    "def xgEst():\n",
    "    numbers=[2, 20, 30, 40, 50, 60, 70, 80, 90, 100, 150]\n",
    "    listMSE=[]\n",
    "    listR2=[]\n",
    "\n",
    "    for n in numbers:\n",
    "        regressor = xgb.XGBRegressor(\n",
    "            n_estimators=n,\n",
    "        )\n",
    "        regressor.fit(X_train, y_train)\n",
    "        y_pred = regressor.predict(X_test)\n",
    "\n",
    "        xgMSE=mean_absolute_error(y_test, y_pred)\n",
    "        xgR2 = r2_score(y_test, y_pred).round(4)\n",
    "        listMSE.append(xgMSE)\n",
    "        listR2.append(xgR2)\n",
    "    plt.plot(numbers, listMSE)\n",
    "    plt.title('n_stimators Error')\n",
    "    plt.ylabel('Error')\n",
    "    plt.xlabel('n_estimators')\n",
    "    plt.show()\n",
    "\n",
    "    plt.plot(numbers, listR2)\n",
    "    plt.title('n_estimators Accuracy')\n",
    "    plt.ylabel('Accurate')\n",
    "    plt.xlabel('n_estimators')\n",
    "    plt.show()\n",
    "xgEst()"
   ]
  },
  {
   "cell_type": "markdown",
   "id": "10f76dd2",
   "metadata": {
    "papermill": {
     "duration": 0.015248,
     "end_time": "2025-07-04T23:22:25.651387",
     "exception": false,
     "start_time": "2025-07-04T23:22:25.636139",
     "status": "completed"
    },
    "tags": []
   },
   "source": [
    "### min_child_weight\n",
    "Increasing value will make model more conservative. Typically, a number between 0 and 10 is used."
   ]
  },
  {
   "cell_type": "code",
   "execution_count": 18,
   "id": "e1e9e24e",
   "metadata": {
    "execution": {
     "iopub.execute_input": "2025-07-04T23:22:25.684630Z",
     "iopub.status.busy": "2025-07-04T23:22:25.683608Z",
     "iopub.status.idle": "2025-07-04T23:22:25.691968Z",
     "shell.execute_reply": "2025-07-04T23:22:25.690765Z"
    },
    "papermill": {
     "duration": 0.027471,
     "end_time": "2025-07-04T23:22:25.694256",
     "exception": false,
     "start_time": "2025-07-04T23:22:25.666785",
     "status": "completed"
    },
    "tags": []
   },
   "outputs": [],
   "source": [
    "def child_weight():\n",
    "    weight=[1, 2, 3, 5, 7, 9, 10, 15]\n",
    "    listMSE=[]\n",
    "    listR2=[]\n",
    "\n",
    "    for w in weight:\n",
    "        regressor = xgb.XGBRegressor(\n",
    "            min_child_weight=w\n",
    "        )\n",
    "        regressor.fit(X_train, y_train)\n",
    "        y_pred = regressor.predict(X_test)\n",
    "\n",
    "        xgMSE=mean_absolute_error(y_test, y_pred)\n",
    "        xgR2 = r2_score(y_test, y_pred).round(4)\n",
    "        listMSE.append(xgMSE)\n",
    "        listR2.append(xgR2)\n",
    "    plt.plot(weight, listMSE)\n",
    "    plt.title('xgBoost')\n",
    "    plt.ylabel('Error')\n",
    "    plt.xlabel('Weight')\n",
    "    plt.legend()\n",
    "    plt.show()\n",
    "\n",
    "    plt.plot(weight, listR2)\n",
    "    plt.title('xgBoost')\n",
    "    plt.ylabel('Accurate')\n",
    "    plt.xlabel('Weight')\n",
    "    plt.legend()\n",
    "    plt.show()\n",
    "#child_weight()"
   ]
  },
  {
   "cell_type": "markdown",
   "id": "79688a6b",
   "metadata": {
    "papermill": {
     "duration": 0.015239,
     "end_time": "2025-07-04T23:22:25.725001",
     "exception": false,
     "start_time": "2025-07-04T23:22:25.709762",
     "status": "completed"
    },
    "tags": []
   },
   "source": [
    "### gamma\n",
    "Increasing gamma makes model more conservative by causing more shallow trees. Higher gamma will cause less splits. \n",
    "\n",
    "In predicting house predices, increasing Gamma makes almost no difference. It takes gamma to be 1000 to notice a slight decrease in error. This is because house prices have such a high price. Therefore, I do not use gamma in this particular case but maybe I will change my mind later.  "
   ]
  },
  {
   "cell_type": "code",
   "execution_count": 19,
   "id": "db758179",
   "metadata": {
    "execution": {
     "iopub.execute_input": "2025-07-04T23:22:25.757107Z",
     "iopub.status.busy": "2025-07-04T23:22:25.756730Z",
     "iopub.status.idle": "2025-07-04T23:22:25.764770Z",
     "shell.execute_reply": "2025-07-04T23:22:25.763738Z"
    },
    "papermill": {
     "duration": 0.02636,
     "end_time": "2025-07-04T23:22:25.766743",
     "exception": false,
     "start_time": "2025-07-04T23:22:25.740383",
     "status": "completed"
    },
    "tags": []
   },
   "outputs": [],
   "source": [
    "def runGamma():\n",
    "    gammas=[0, 0.25, 0.5, 1.0, 3, 5, 10]\n",
    "    listMSE=[]\n",
    "    listR2=[]\n",
    "    \n",
    "    for g in gammas:\n",
    "        regressor = xgb.XGBRegressor(\n",
    "            min_split_loss=g\n",
    "        )\n",
    "        regressor.fit(X_train, y_train)\n",
    "        y_pred = regressor.predict(X_test)\n",
    "    \n",
    "        xgMSE=mean_absolute_error(y_test, y_pred)\n",
    "        xgR2 = r2_score(y_test, y_pred).round(4)\n",
    "        listMSE.append(xgMSE)\n",
    "        listR2.append(xgR2)\n",
    "        \n",
    "    plt.plot(gammas, listMSE)\n",
    "    plt.title('Gamma Error')\n",
    "    plt.ylabel('Error')\n",
    "    plt.xlabel('Gammas')\n",
    "    plt.legend()\n",
    "    plt.show()\n",
    "    \n",
    "    plt.plot(gammas, listR2)\n",
    "    plt.title('Gamma R2')\n",
    "    plt.ylabel('Accurate')\n",
    "    plt.xlabel('Gammas')\n",
    "    plt.legend()\n",
    "    plt.show()\n",
    "#runGamma()"
   ]
  },
  {
   "cell_type": "markdown",
   "id": "d5b6447d",
   "metadata": {
    "papermill": {
     "duration": 0.015303,
     "end_time": "2025-07-04T23:22:25.797527",
     "exception": false,
     "start_time": "2025-07-04T23:22:25.782224",
     "status": "completed"
    },
    "tags": []
   },
   "source": [
    "### learning_rate\n",
    "Learning rate is how fast the model learns. A smaller number is generally used as it produces less error. Typically, a number between 0 and .3 is used. However, the full range is between 0 and 1. "
   ]
  },
  {
   "cell_type": "code",
   "execution_count": 20,
   "id": "bc3c16f8",
   "metadata": {
    "execution": {
     "iopub.execute_input": "2025-07-04T23:22:25.830308Z",
     "iopub.status.busy": "2025-07-04T23:22:25.829938Z",
     "iopub.status.idle": "2025-07-04T23:22:29.187587Z",
     "shell.execute_reply": "2025-07-04T23:22:29.186472Z"
    },
    "papermill": {
     "duration": 3.377002,
     "end_time": "2025-07-04T23:22:29.190007",
     "exception": false,
     "start_time": "2025-07-04T23:22:25.813005",
     "status": "completed"
    },
    "tags": []
   },
   "outputs": [
    {
     "data": {
      "image/png": "[encoded data removed]",
      "text/plain": [
       "<Figure size 432x288 with 1 Axes>"
      ]
     },
     "metadata": {
      "needs_background": "light"
     },
     "output_type": "display_data"
    },
    {
     "data": {
      "image/png": "[encoded data removed]",
      "text/plain": [
       "<Figure size 432x288 with 1 Axes>"
      ]
     },
     "metadata": {
      "needs_background": "light"
     },
     "output_type": "display_data"
    }
   ],
   "source": [
    "learning_rate = [0.01, 0.1, 0.2, 0.3, .5, .6, .7, .8, .9]\n",
    "listMSE=[]\n",
    "listR2=[]\n",
    "\n",
    "for l in learning_rate:\n",
    "    regressor = xgb.XGBRegressor(\n",
    "        learning_rate=l\n",
    "    )\n",
    "    regressor.fit(X_train, y_train)\n",
    "    y_pred = regressor.predict(X_test)\n",
    "\n",
    "    xgMSE=mean_absolute_error(y_test, y_pred)\n",
    "    xgR2 = r2_score(y_test, y_pred).round(4)\n",
    "    listMSE.append(xgMSE)\n",
    "    listR2.append(xgR2)\n",
    "    \n",
    "plt.plot(learning_rate, listMSE)\n",
    "plt.title('Learning_rate Error')\n",
    "plt.ylabel('Error')\n",
    "plt.xlabel('Learning_rate')\n",
    "plt.legend()\n",
    "plt.show()\n",
    "\n",
    "plt.plot(learning_rate, listR2)\n",
    "plt.title('Learning_rate R2')\n",
    "plt.ylabel('Accurate')\n",
    "plt.xlabel('Learning_rate')\n",
    "plt.legend()\n",
    "plt.show()"
   ]
  },
  {
   "cell_type": "markdown",
   "id": "9d685c95",
   "metadata": {
    "papermill": {
     "duration": 0.015809,
     "end_time": "2025-07-04T23:22:29.221946",
     "exception": false,
     "start_time": "2025-07-04T23:22:29.206137",
     "status": "completed"
    },
    "tags": []
   },
   "source": [
    "### reg_lambda\n",
    "Reg_lambda uses L2 regularization. Typical range is generally 0 to 10."
   ]
  },
  {
   "cell_type": "code",
   "execution_count": 21,
   "id": "53f6d865",
   "metadata": {
    "execution": {
     "iopub.execute_input": "2025-07-04T23:22:29.256100Z",
     "iopub.status.busy": "2025-07-04T23:22:29.255295Z",
     "iopub.status.idle": "2025-07-04T23:22:29.263652Z",
     "shell.execute_reply": "2025-07-04T23:22:29.262552Z"
    },
    "papermill": {
     "duration": 0.028108,
     "end_time": "2025-07-04T23:22:29.266162",
     "exception": false,
     "start_time": "2025-07-04T23:22:29.238054",
     "status": "completed"
    },
    "tags": []
   },
   "outputs": [],
   "source": [
    "def runRegLam():\n",
    "    regLam = [0, 1.0, 5.0, 10.0] #0 is default\n",
    "    listMSE=[]\n",
    "    listR2=[]\n",
    "    \n",
    "    for r in regLam:\n",
    "        regressor = xgb.XGBRegressor(\n",
    "            reg_lambda=r,\n",
    "        )\n",
    "        regressor.fit(X_train, y_train)\n",
    "        y_pred = regressor.predict(X_test)\n",
    "    \n",
    "        xgMSE=mean_absolute_error(y_test, y_pred)\n",
    "        xgR2 = r2_score(y_test, y_pred).round(4)\n",
    "        listMSE.append(xgMSE)\n",
    "        listR2.append(xgR2)\n",
    "        \n",
    "    plt.plot(regLam, listMSE)\n",
    "    plt.title('RegLam Error')\n",
    "    plt.ylabel('Error')\n",
    "    plt.xlabel('RegLam')\n",
    "    plt.legend()\n",
    "    plt.show()\n",
    "    \n",
    "    plt.plot(regLam, listR2)\n",
    "    plt.title('RegLam R2')\n",
    "    plt.ylabel('Accurate')\n",
    "    plt.xlabel('RegLam')\n",
    "    plt.legend()\n",
    "    plt.show()\n",
    "#runRegLam()"
   ]
  },
  {
   "cell_type": "markdown",
   "id": "b563a5dd",
   "metadata": {
    "papermill": {
     "duration": 0.015576,
     "end_time": "2025-07-04T23:22:29.297873",
     "exception": false,
     "start_time": "2025-07-04T23:22:29.282297",
     "status": "completed"
    },
    "tags": []
   },
   "source": [
    "### reg_alpha\n",
    "Reg_alpha uses L1 regularization. Increasing the value makes the model more conservative. Reg_alpha can have a bigger range up to 80."
   ]
  },
  {
   "cell_type": "code",
   "execution_count": 22,
   "id": "f084c773",
   "metadata": {
    "execution": {
     "iopub.execute_input": "2025-07-04T23:22:29.331474Z",
     "iopub.status.busy": "2025-07-04T23:22:29.330543Z",
     "iopub.status.idle": "2025-07-04T23:22:29.338681Z",
     "shell.execute_reply": "2025-07-04T23:22:29.337620Z"
    },
    "papermill": {
     "duration": 0.027396,
     "end_time": "2025-07-04T23:22:29.341063",
     "exception": false,
     "start_time": "2025-07-04T23:22:29.313667",
     "status": "completed"
    },
    "tags": []
   },
   "outputs": [],
   "source": [
    "def regAlpha():\n",
    "    numbers = [0, 5.0, 10.0, 20, 30, 40, 50, 60, 70, 80]  #0 is default\n",
    "    listMSE=[]\n",
    "    listR2=[]\n",
    "\n",
    "    for n in numbers:\n",
    "        regressor = xgb.XGBRegressor(\n",
    "            reg_alpha=n,\n",
    "        )\n",
    "        regressor.fit(X_train, y_train)\n",
    "        y_pred = regressor.predict(X_test)\n",
    "\n",
    "        xgMSE=mean_absolute_error(y_test, y_pred)\n",
    "        xgR2 = r2_score(y_test, y_pred).round(4)\n",
    "        listMSE.append(xgMSE)\n",
    "        listR2.append(xgR2)\n",
    "\n",
    "    plt.plot(numbers, listMSE)\n",
    "    plt.title('regAlpha')\n",
    "    plt.ylabel('Error')\n",
    "    plt.xlabel('RegAlpha')\n",
    "    plt.legend()\n",
    "    plt.show()\n",
    "\n",
    "    plt.plot(numbers, listR2)\n",
    "    plt.title('regAlpha')\n",
    "    plt.ylabel('Accurate')\n",
    "    plt.xlabel('RegAlpha')\n",
    "    plt.legend()\n",
    "    plt.show()\n",
    "#regAlpha()"
   ]
  },
  {
   "cell_type": "markdown",
   "id": "99e9d0be",
   "metadata": {
    "papermill": {
     "duration": 0.016314,
     "end_time": "2025-07-04T23:22:29.373508",
     "exception": false,
     "start_time": "2025-07-04T23:22:29.357194",
     "status": "completed"
    },
    "tags": []
   },
   "source": [
    "### colsample_bytree\n",
    "Subsample, colsample_by_tree and colsample_bylevel idea comes from random forest. Generally, at least one of the features should be less than 1 so it randomizes the features. "
   ]
  },
  {
   "cell_type": "code",
   "execution_count": 23,
   "id": "bcc161b2",
   "metadata": {
    "execution": {
     "iopub.execute_input": "2025-07-04T23:22:29.407691Z",
     "iopub.status.busy": "2025-07-04T23:22:29.407280Z",
     "iopub.status.idle": "2025-07-04T23:22:29.415561Z",
     "shell.execute_reply": "2025-07-04T23:22:29.414477Z"
    },
    "papermill": {
     "duration": 0.027942,
     "end_time": "2025-07-04T23:22:29.417718",
     "exception": false,
     "start_time": "2025-07-04T23:22:29.389776",
     "status": "completed"
    },
    "tags": []
   },
   "outputs": [],
   "source": [
    "def sample_bytree():\n",
    "    numbers = [0.1, 0.5, 0.9, 1]\n",
    "    listMSE=[]\n",
    "    listR2=[]\n",
    "\n",
    "    for n in numbers:\n",
    "        regressor = xgb.XGBRegressor(\n",
    "            colsample_bytree=n\n",
    "        )\n",
    "        regressor.fit(X_train, y_train)\n",
    "        y_pred = regressor.predict(X_test)\n",
    "\n",
    "        xgMSE=mean_absolute_error(y_test, y_pred)\n",
    "        xgR2 = r2_score(y_test, y_pred).round(4)\n",
    "        listMSE.append(xgMSE)\n",
    "        listR2.append(xgR2)\n",
    "\n",
    "    plt.plot(numbers, listMSE)\n",
    "    plt.title('ColSample Error')\n",
    "    plt.ylabel('Error')\n",
    "    plt.xlabel('ColSample')\n",
    "    plt.legend()\n",
    "    plt.show()\n",
    "\n",
    "    plt.plot(numbers, listR2)\n",
    "    plt.title('ColSample R2')\n",
    "    plt.ylabel('Accurate')\n",
    "    plt.xlabel('ColSample')\n",
    "    plt.legend()\n",
    "    plt.show()\n",
    "#sample_bytree()"
   ]
  },
  {
   "cell_type": "markdown",
   "id": "cee8b665",
   "metadata": {
    "papermill": {
     "duration": 0.01583,
     "end_time": "2025-07-04T23:22:29.449892",
     "exception": false,
     "start_time": "2025-07-04T23:22:29.434062",
     "status": "completed"
    },
    "tags": []
   },
   "source": [
    "### Subsample"
   ]
  },
  {
   "cell_type": "code",
   "execution_count": 24,
   "id": "06c03de5",
   "metadata": {
    "execution": {
     "iopub.execute_input": "2025-07-04T23:22:29.484526Z",
     "iopub.status.busy": "2025-07-04T23:22:29.484140Z",
     "iopub.status.idle": "2025-07-04T23:22:29.492062Z",
     "shell.execute_reply": "2025-07-04T23:22:29.491022Z"
    },
    "papermill": {
     "duration": 0.028522,
     "end_time": "2025-07-04T23:22:29.494404",
     "exception": false,
     "start_time": "2025-07-04T23:22:29.465882",
     "status": "completed"
    },
    "tags": []
   },
   "outputs": [],
   "source": [
    "def subSample():\n",
    "    numbers = [0.1, .2, .3, .4, 0.5, .6, .7, .8, .9, 1]\n",
    "    listMSE=[]\n",
    "    listR2=[]\n",
    "\n",
    "    for n in numbers:\n",
    "        regressor = xgb.XGBRegressor(\n",
    "            subample=n\n",
    "        )\n",
    "        regressor.fit(X_train, y_train)\n",
    "        y_pred = regressor.predict(X_test)\n",
    "\n",
    "        xgMSE=mean_absolute_error(y_test, y_pred)\n",
    "        xgR2 = r2_score(y_test, y_pred).round(4)\n",
    "        listMSE.append(xgMSE)\n",
    "        listR2.append(xgR2)\n",
    "\n",
    "    plt.plot(numbers, listMSE)\n",
    "    plt.title('ColSample Error')\n",
    "    plt.ylabel('Error')\n",
    "    plt.xlabel('subsample')\n",
    "    plt.show()\n",
    "\n",
    "    plt.plot(numbers, listR2)\n",
    "    plt.title('subsample')\n",
    "    plt.ylabel('Accurate')\n",
    "    plt.xlabel('ColSample')\n",
    "    plt.show()\n",
    "#subSample()"
   ]
  },
  {
   "cell_type": "markdown",
   "id": "8e2c6af9",
   "metadata": {
    "papermill": {
     "duration": 0.0158,
     "end_time": "2025-07-04T23:22:29.526148",
     "exception": false,
     "start_time": "2025-07-04T23:22:29.510348",
     "status": "completed"
    },
    "tags": []
   },
   "source": [
    "# Grid Search XGBoost\n",
    "Colsample and subsample gives the features randomization like random forest to avoid overfiting. Typically, at least one of them should be less than 1. When tunning all three with either 0.9 or 1, GridSearch prefers colsample by tree and subsample to be 0.9. Colsample_bynode is at 1. "
   ]
  },
  {
   "cell_type": "code",
   "execution_count": 25,
   "id": "b18ba158",
   "metadata": {
    "execution": {
     "iopub.execute_input": "2025-07-04T23:22:29.560463Z",
     "iopub.status.busy": "2025-07-04T23:22:29.559290Z",
     "iopub.status.idle": "2025-07-04T23:23:00.296436Z",
     "shell.execute_reply": "2025-07-04T23:23:00.295203Z"
    },
    "papermill": {
     "duration": 30.772034,
     "end_time": "2025-07-04T23:23:00.313967",
     "exception": false,
     "start_time": "2025-07-04T23:22:29.541933",
     "status": "completed"
    },
    "tags": []
   },
   "outputs": [
    {
     "name": "stdout",
     "output_type": "stream",
     "text": [
      "Start\n",
      "{'colsample_bynode': 1, 'colsample_bytree': 0.9, 'learning_rate': 0.1, 'max_depth': 2, 'min_child_weight': 10, 'n_estimators': 150, 'reg_alpha': 50, 'reg_lambda': 0, 'subsample': 0.9}\n",
      "Done.  30.726609468460083  seconds\n"
     ]
    }
   ],
   "source": [
    "from sklearn.model_selection import GridSearchCV, RandomizedSearchCV, KFold, StratifiedKFold\n",
    "from sklearn.metrics import f1_score, max_error\n",
    "from xgboost import cv\n",
    "from scipy import stats\n",
    "import time\n",
    "\n",
    "def gridSearch():\n",
    "    start=time.time()\n",
    "    print(\"Start\")\n",
    "\n",
    "    params = {\n",
    "        'learning_rate':[.1, .3],\n",
    "        'n_estimators':[150], #150 best; 100 better than 50 \n",
    "        'max_depth':[2, 3, 4], #Typically picks 2 or 3\n",
    "        'min_child_weight':[10], #10 over 5\n",
    "        'reg_lambda':[0],\n",
    "        'reg_alpha':[50], #Chooses 50 over 20, 30, 40, 70, 100\n",
    "        'colsample_bytree':[.9],\n",
    "        'colsample_bynode':[1],  \n",
    "        'subsample': [.9]\n",
    "    }\n",
    "\n",
    "    boost_gs=xgb.XGBRegressor()\n",
    "    kfold = KFold(n_splits=10, shuffle=True, random_state=7)\n",
    "    boost_gs=GridSearchCV(boost_gs, param_grid=params, scoring='neg_mean_squared_error', cv=kfold)\n",
    "    #boost_gs.fit(X_train, y_train)\n",
    "    boost_gs.fit(X_train, y_train, early_stopping_rounds=10, eval_metric=\"rmse\", eval_set=[(X_test, y_test)], verbose=False)\n",
    "\n",
    "    print(boost_gs.best_params_)\n",
    "    print(\"Done. \", time.time()-start, \" seconds\")\n",
    "gridSearch()"
   ]
  },
  {
   "cell_type": "markdown",
   "id": "a0e1d371",
   "metadata": {
    "papermill": {
     "duration": 0.015756,
     "end_time": "2025-07-04T23:23:00.345584",
     "exception": false,
     "start_time": "2025-07-04T23:23:00.329828",
     "status": "completed"
    },
    "tags": []
   },
   "source": [
    "# Final Predictions\n",
    "Here the best models found by using GridSearch:\n",
    "* kFold=10 {'colsample_bytree': 0.9, 'eta': 0.01, 'learning_rate': 0.1, 'max_depth': 3, 'min_child_weight': 10, 'n_estimators': 100, 'reg_alpha': 30, 'reg_lambda': 0}\n",
    "* Using cv=10 {'colsample_bytree': 0.9, 'learning_rate': 0.1, 'max_depth': 3, 'min_child_weight': 10, 'n_estimators': 100, 'reg_alpha': 0, 'reg_lambda': 5}\n",
    "* {'colsample_bytree': 0.9, 'learning_rate': 0.1, 'max_depth': 4, 'min_child_weight': 10, 'n_estimators': 100, 'reg_alpha': 0, 'reg_lambda': 5}\n",
    "* {'colsample_bytree': 0.9, 'learning_rate': 0.1, 'max_depth': 4, 'min_child_weight': 10, 'n_estimators': 50, 'reg_alpha': 0, 'reg_lambda': 0}\n",
    "* Using MSE with cv=10 {'learning_rate': 0.3, 'max_depth': 2, 'min_child_weight': 5, 'n_estimators': 50, 'reg_lambda': 0.5}\n",
    "* Top 47% {'eta': 0.1, 'learning_rate': 0.01, 'max_depth': 4, 'min_child_weight': 10, 'n_estimators': 50, 'reg_lambda': 0.01}\n",
    "* Using Kfold=5 {'colsample_bytree': 0.5, 'learning_rate': 0.5, 'max_depth': 3, 'min_child_weight': 10, 'n_estimators': 50, 'reg_lambda': 0.5}"
   ]
  },
  {
   "cell_type": "code",
   "execution_count": 26,
   "id": "71e39c3f",
   "metadata": {
    "execution": {
     "iopub.execute_input": "2025-07-04T23:23:00.379692Z",
     "iopub.status.busy": "2025-07-04T23:23:00.379258Z",
     "iopub.status.idle": "2025-07-04T23:23:08.544976Z",
     "shell.execute_reply": "2025-07-04T23:23:08.542868Z"
    },
    "papermill": {
     "duration": 8.185384,
     "end_time": "2025-07-04T23:23:08.547079",
     "exception": false,
     "start_time": "2025-07-04T23:23:00.361695",
     "status": "completed"
    },
    "tags": []
   },
   "outputs": [
    {
     "name": "stdout",
     "output_type": "stream",
     "text": [
      "r2  0.7544 0.754 || cross validate:  0.0004\n",
      "mae error  0.13  ||  0.1352 cross validate:  -0.0052\n"
     ]
    }
   ],
   "source": [
    "xgbFinal = xgb.XGBRegressor(\n",
    "        n_estimators=150,\n",
    "        max_depth=4,\n",
    "        reg_lambda=0,\n",
    "        reg_alpha=50,\n",
    "        min_child_weight=10,\n",
    "        learning_rate=.1,\n",
    "        colsample_bynode=1,\n",
    "        colsample_bytree=.9,\n",
    "        subsample=.9\n",
    "    )\n",
    "\n",
    "#Note: no early stop provides better score:\n",
    "xgbFinal.fit(X_train, y_train)\n",
    "#xgbFinal.fit(X_train, y_train, early_stopping_rounds=10, eval_metric=\"rmse\", eval_set=[(X_test, y_test)], verbose=False)\n",
    "y_pred = xgbFinal.predict(X_test)\n",
    "\n",
    "#Metrics\n",
    "xgMSE=mean_absolute_error(y_test, y_pred).round(2)\n",
    "xgR2 = r2_score(y_test, y_pred).round(4)\n",
    "\n",
    "xgScore = xgbFinal.score(X_test, y_test).round(4)  \n",
    "xgCV = cross_validate(xgbFinal, X, y, cv = 10, scoring='r2')\n",
    "xgCV=xgCV['test_score'].mean().round(4)\n",
    "print(\"r2 \", xgScore, xgCV, \"|| cross validate: \", (xgScore-xgCV).round(4))\n",
    "\n",
    "xgCVerr = cross_validate(xgbFinal, X, y, cv = 10, scoring='neg_mean_absolute_error')\n",
    "xgCVerr=xgCVerr['test_score'].mean().round(4)\n",
    "print(\"mae error \", xgMSE, \" || \", abs(xgCVerr), \"cross validate: \", (xgMSE-abs(xgCVerr)).round(4))"
   ]
  },
  {
   "cell_type": "markdown",
   "id": "adffae0e",
   "metadata": {
    "papermill": {
     "duration": 0.0157,
     "end_time": "2025-07-04T23:23:08.579095",
     "exception": false,
     "start_time": "2025-07-04T23:23:08.563395",
     "status": "completed"
    },
    "tags": []
   },
   "source": [
    "### Graph"
   ]
  },
  {
   "cell_type": "code",
   "execution_count": 27,
   "id": "90cf3271",
   "metadata": {
    "execution": {
     "iopub.execute_input": "2025-07-04T23:23:08.615060Z",
     "iopub.status.busy": "2025-07-04T23:23:08.613849Z",
     "iopub.status.idle": "2025-07-04T23:23:09.755079Z",
     "shell.execute_reply": "2025-07-04T23:23:09.753691Z"
    },
    "papermill": {
     "duration": 1.162426,
     "end_time": "2025-07-04T23:23:09.757828",
     "exception": false,
     "start_time": "2025-07-04T23:23:08.595402",
     "status": "completed"
    },
    "tags": []
   },
   "outputs": [
    {
     "data": {
      "image/svg+xml": [
       "<?xml version=\"1.0\" encoding=\"UTF-8\" standalone=\"no\"?>\n",
       "<!DOCTYPE svg PUBLIC \"-//W3C//DTD SVG 1.1//EN\"\n",
       " \"http://www.w3.org/Graphics/SVG/1.1/DTD/svg11.dtd\">\n",
       "<!-- Generated by graphviz version 5.0.0 (20220707.2338)\n",
       " -->\n",
       "<!-- Pages: 1 -->\n",
       "<svg width=\"190pt\" height=\"44pt\"\n",
       " viewBox=\"0.00 0.00 189.98 44.00\" xmlns=\"http://www.w3.org/2000/svg\" xmlns:xlink=\"http://www.w3.org/1999/xlink\">\n",
       "<g id=\"graph0\" class=\"graph\" transform=\"scale(1 1) rotate(0) translate(4 40)\">\n",
       "<polygon fill=\"white\" stroke=\"transparent\" points=\"-4,4 -4,-40 185.98,-40 185.98,4 -4,4\"/>\n",
       "<!-- 0 -->\n",
       "<g id=\"node1\" class=\"node\">\n",
       "<title>0</title>\n",
       "<ellipse fill=\"none\" stroke=\"black\" cx=\"90.99\" cy=\"-18\" rx=\"90.98\" ry=\"18\"/>\n",
       "<text text-anchor=\"middle\" x=\"90.99\" y=\"-14.3\" font-family=\"Times,serif\" font-size=\"14.00\">leaf=1.14855492</text>\n",
       "</g>\n",
       "</g>\n",
       "</svg>\n"
      ],
      "text/plain": [
       "<graphviz.files.Source at 0x7e3507d1d2d0>"
      ]
     },
     "execution_count": 27,
     "metadata": {},
     "output_type": "execute_result"
    }
   ],
   "source": [
    "import graphviz\n",
    "xgb.to_graphviz(xgbFinal)"
   ]
  },
  {
   "cell_type": "markdown",
   "id": "3d437279",
   "metadata": {
    "papermill": {
     "duration": 0.016153,
     "end_time": "2025-07-04T23:23:09.790882",
     "exception": false,
     "start_time": "2025-07-04T23:23:09.774729",
     "status": "completed"
    },
    "tags": []
   },
   "source": [
    "# Feature Importance"
   ]
  },
  {
   "cell_type": "code",
   "execution_count": 28,
   "id": "dfb8cf6d",
   "metadata": {
    "execution": {
     "iopub.execute_input": "2025-07-04T23:23:09.827386Z",
     "iopub.status.busy": "2025-07-04T23:23:09.826335Z",
     "iopub.status.idle": "2025-07-04T23:23:10.098174Z",
     "shell.execute_reply": "2025-07-04T23:23:10.096818Z"
    },
    "papermill": {
     "duration": 0.293373,
     "end_time": "2025-07-04T23:23:10.100749",
     "exception": false,
     "start_time": "2025-07-04T23:23:09.807376",
     "status": "completed"
    },
    "tags": []
   },
   "outputs": [
    {
     "data": {
      "image/png": "[encoded data removed]",
      "text/plain": [
       "<Figure size 432x288 with 1 Axes>"
      ]
     },
     "metadata": {
      "needs_background": "light"
     },
     "output_type": "display_data"
    },
    {
     "data": {
      "text/plain": [
       "<Figure size 1440x1440 with 0 Axes>"
      ]
     },
     "metadata": {},
     "output_type": "display_data"
    }
   ],
   "source": [
    "xgb.plot_importance(xgbFinal, max_num_features=12, title='XGBoost Top Features Importance')\n",
    "plt.figure(figsize = (20, 20))\n",
    "plt.show()"
   ]
  },
  {
   "cell_type": "code",
   "execution_count": 29,
   "id": "2d7b4592",
   "metadata": {
    "execution": {
     "iopub.execute_input": "2025-07-04T23:23:10.137888Z",
     "iopub.status.busy": "2025-07-04T23:23:10.137444Z",
     "iopub.status.idle": "2025-07-04T23:23:10.147060Z",
     "shell.execute_reply": "2025-07-04T23:23:10.145808Z"
    },
    "papermill": {
     "duration": 0.031411,
     "end_time": "2025-07-04T23:23:10.149293",
     "exception": false,
     "start_time": "2025-07-04T23:23:10.117882",
     "status": "completed"
    },
    "tags": []
   },
   "outputs": [
    {
     "name": "stdout",
     "output_type": "stream",
     "text": [
      "Feature Importance:\n",
      "0.085   OverallQual\n",
      "0.002   YearBuilt\n",
      "0.0375   YearRemodAdd\n",
      "0.0   BsmtFinSF1\n",
      "0.2322   CentralAir\n",
      "0.0236   KitchenAbvGr\n",
      "0.0082   Fireplaces\n",
      "0.3258   GarageCars\n",
      "0.0808   totalSQ\n",
      "0.203   bathrooms\n",
      "0.0   NewConstruction\n",
      "0.0019   home_age_when_sold\n"
     ]
    }
   ],
   "source": [
    "importance=xgbFinal.feature_importances_\n",
    "name=xgbFinal.feature_names_in_\n",
    "print(\"Feature Importance:\")\n",
    "for num in range(len(name)):\n",
    "    print(round(importance[num],4), \" \", name[num])"
   ]
  },
  {
   "cell_type": "code",
   "execution_count": 30,
   "id": "614aa22d",
   "metadata": {
    "execution": {
     "iopub.execute_input": "2025-07-04T23:23:10.188030Z",
     "iopub.status.busy": "2025-07-04T23:23:10.186992Z",
     "iopub.status.idle": "2025-07-04T23:23:10.629954Z",
     "shell.execute_reply": "2025-07-04T23:23:10.628718Z"
    },
    "papermill": {
     "duration": 0.464816,
     "end_time": "2025-07-04T23:23:10.632286",
     "exception": false,
     "start_time": "2025-07-04T23:23:10.167470",
     "status": "completed"
    },
    "tags": []
   },
   "outputs": [
    {
     "data": {
      "image/png": "[encoded data removed]",
      "text/plain": [
       "<Figure size 720x432 with 1 Axes>"
      ]
     },
     "metadata": {
      "needs_background": "light"
     },
     "output_type": "display_data"
    }
   ],
   "source": [
    "import matplotlib.pyplot as plt\n",
    "\n",
    "# Get feature importances and names from trained XGBoost model\n",
    "importance = xgbFinal.feature_importances_\n",
    "names = xgbFinal.feature_names_in_\n",
    "\n",
    "# Zip them together and sort by importance (descending)\n",
    "feature_importance = sorted(zip(importance, names), reverse=True)\n",
    "\n",
    "# Plot the top N features\n",
    "top_n = 20\n",
    "scores, top_names = zip(*feature_importance[:top_n])\n",
    "\n",
    "plt.figure(figsize=(10, 6))\n",
    "plt.barh(top_names[::-1], scores[::-1])  # Reverse to show top at top\n",
    "plt.xlabel(\"Feature Importance\")\n",
    "plt.title(\"Top 20 Features from XGBoost\")\n",
    "plt.tight_layout()\n",
    "plt.show()"
   ]
  },
  {
   "cell_type": "code",
   "execution_count": 31,
   "id": "f305133a",
   "metadata": {
    "execution": {
     "iopub.execute_input": "2025-07-04T23:23:10.671469Z",
     "iopub.status.busy": "2025-07-04T23:23:10.671059Z",
     "iopub.status.idle": "2025-07-04T23:23:10.681077Z",
     "shell.execute_reply": "2025-07-04T23:23:10.679934Z"
    },
    "papermill": {
     "duration": 0.03255,
     "end_time": "2025-07-04T23:23:10.683566",
     "exception": false,
     "start_time": "2025-07-04T23:23:10.651016",
     "status": "completed"
    },
    "tags": []
   },
   "outputs": [],
   "source": [
    "#RandSearch is a good way to find what parameters are good and which ones are not:\n",
    "def randSearch():\n",
    "    clf_xgb = xgb.XGBRegressor()\n",
    "    param_dist = {'n_estimators': stats.randint(50, 130),\n",
    "                  'learning_rate': stats.uniform(0.01, 0.07),\n",
    "                  'subsample': stats.uniform(0.3, 0.7),\n",
    "                  'max_depth': [3, 4, 5, 6],\n",
    "                  'colsample_bytree': stats.uniform(0.5, 0.45),\n",
    "                  'min_child_weight': [1, 10]\n",
    "                 }\n",
    "    clf = RandomizedSearchCV(\n",
    "        clf_xgb, param_distributions = param_dist, n_iter = 10, \n",
    "     scoring = 'r2', error_score = 0, verbose = 3, n_jobs = -1)\n",
    "\n",
    "    numFolds = 5\n",
    "    folds = KFold(n_splits = numFolds, shuffle = True)\n",
    "\n",
    "    estimators = []\n",
    "    results = np.zeros(len(X))\n",
    "    score = 0.0\n",
    "    for train_index, test_index in folds.split(X):\n",
    "        X_train, X_test = X.iloc[train_index,:], X.iloc[test_index,:]\n",
    "        y_train, y_test = y.iloc[train_index].values.ravel(), y.iloc[test_index].values.ravel()\n",
    "        clf.fit(X_train, y_train)\n",
    "\n",
    "        estimators.append(clf.best_estimator_)\n",
    "        results[test_index] = clf.predict(X_test)\n",
    "        score += r2_score(y_test, results[test_index])\n",
    "    score /= numFolds"
   ]
  },
  {
   "cell_type": "markdown",
   "id": "278e029b",
   "metadata": {
    "execution": {
     "iopub.execute_input": "2022-09-19T21:09:40.310967Z",
     "iopub.status.busy": "2022-09-19T21:09:40.31024Z",
     "iopub.status.idle": "2022-09-19T21:09:40.328174Z",
     "shell.execute_reply": "2022-09-19T21:09:40.326914Z",
     "shell.execute_reply.started": "2022-09-19T21:09:40.310928Z"
    },
    "papermill": {
     "duration": 0.018564,
     "end_time": "2025-07-04T23:23:10.721001",
     "exception": false,
     "start_time": "2025-07-04T23:23:10.702437",
     "status": "completed"
    },
    "tags": []
   },
   "source": [
    "# Test Dataset\n",
    "Make final predictions on unknown house price value using features from Train data"
   ]
  },
  {
   "cell_type": "code",
   "execution_count": 32,
   "id": "94a85072",
   "metadata": {
    "execution": {
     "iopub.execute_input": "2025-07-04T23:23:10.761244Z",
     "iopub.status.busy": "2025-07-04T23:23:10.760871Z",
     "iopub.status.idle": "2025-07-04T23:23:10.815772Z",
     "shell.execute_reply": "2025-07-04T23:23:10.814584Z"
    },
    "papermill": {
     "duration": 0.07742,
     "end_time": "2025-07-04T23:23:10.818034",
     "exception": false,
     "start_time": "2025-07-04T23:23:10.740614",
     "status": "completed"
    },
    "tags": []
   },
   "outputs": [
    {
     "name": "stdout",
     "output_type": "stream",
     "text": [
      "(1459, 80)\n"
     ]
    }
   ],
   "source": [
    "test='/kaggle/input/house-prices-advanced-regression-techniques/test.csv'\n",
    "testDF=pd.read_csv(test)\n",
    "print(testDF.shape)\n",
    "\n",
    "#Missing Values\n",
    "testDF=testDF.drop_duplicates()\n",
    "testDF['MiscFeature']=testDF['MiscFeature'].fillna(0)\n",
    "testDF['Alley']=testDF['Alley'].fillna(0)\n",
    "testDF['Fence']=testDF['Fence'].fillna(0)\n",
    "testDF['FireplaceQu']=testDF['FireplaceQu'].fillna(0)\n",
    "testDF=testDF.fillna(df.mean())"
   ]
  },
  {
   "cell_type": "code",
   "execution_count": 33,
   "id": "a63be7a9",
   "metadata": {
    "execution": {
     "iopub.execute_input": "2025-07-04T23:23:10.858826Z",
     "iopub.status.busy": "2025-07-04T23:23:10.857807Z",
     "iopub.status.idle": "2025-07-04T23:23:10.895591Z",
     "shell.execute_reply": "2025-07-04T23:23:10.894437Z"
    },
    "papermill": {
     "duration": 0.060313,
     "end_time": "2025-07-04T23:23:10.897854",
     "exception": false,
     "start_time": "2025-07-04T23:23:10.837541",
     "status": "completed"
    },
    "tags": []
   },
   "outputs": [
    {
     "data": {
      "text/html": [
       "<div>\n",
       "<style scoped>\n",
       "    .dataframe tbody tr th:only-of-type {\n",
       "        vertical-align: middle;\n",
       "    }\n",
       "\n",
       "    .dataframe tbody tr th {\n",
       "        vertical-align: top;\n",
       "    }\n",
       "\n",
       "    .dataframe thead th {\n",
       "        text-align: right;\n",
       "    }\n",
       "</style>\n",
       "<table border=\"1\" class=\"dataframe\">\n",
       "  <thead>\n",
       "    <tr style=\"text-align: right;\">\n",
       "      <th></th>\n",
       "      <th>Id</th>\n",
       "      <th>MSSubClass</th>\n",
       "      <th>LotFrontage</th>\n",
       "      <th>LotArea</th>\n",
       "      <th>OverallQual</th>\n",
       "      <th>OverallCond</th>\n",
       "      <th>YearBuilt</th>\n",
       "      <th>YearRemodAdd</th>\n",
       "      <th>MasVnrArea</th>\n",
       "      <th>BsmtFinSF1</th>\n",
       "      <th>...</th>\n",
       "      <th>ScreenPorch</th>\n",
       "      <th>PoolArea</th>\n",
       "      <th>MiscVal</th>\n",
       "      <th>MoSold</th>\n",
       "      <th>YrSold</th>\n",
       "      <th>totalSQ</th>\n",
       "      <th>bathrooms</th>\n",
       "      <th>NewConstruction</th>\n",
       "      <th>home_age_when_sold</th>\n",
       "      <th>total_porch_area</th>\n",
       "    </tr>\n",
       "  </thead>\n",
       "  <tbody>\n",
       "    <tr>\n",
       "      <th>0</th>\n",
       "      <td>1461</td>\n",
       "      <td>20</td>\n",
       "      <td>80.0</td>\n",
       "      <td>11622</td>\n",
       "      <td>5</td>\n",
       "      <td>6</td>\n",
       "      <td>1961</td>\n",
       "      <td>1961</td>\n",
       "      <td>0.0</td>\n",
       "      <td>468.0</td>\n",
       "      <td>...</td>\n",
       "      <td>120</td>\n",
       "      <td>0</td>\n",
       "      <td>0</td>\n",
       "      <td>6</td>\n",
       "      <td>2010</td>\n",
       "      <td>1778.0</td>\n",
       "      <td>1.0</td>\n",
       "      <td>0</td>\n",
       "      <td>49</td>\n",
       "      <td>260</td>\n",
       "    </tr>\n",
       "    <tr>\n",
       "      <th>1</th>\n",
       "      <td>1462</td>\n",
       "      <td>20</td>\n",
       "      <td>81.0</td>\n",
       "      <td>14267</td>\n",
       "      <td>6</td>\n",
       "      <td>6</td>\n",
       "      <td>1958</td>\n",
       "      <td>1958</td>\n",
       "      <td>108.0</td>\n",
       "      <td>923.0</td>\n",
       "      <td>...</td>\n",
       "      <td>0</td>\n",
       "      <td>0</td>\n",
       "      <td>12500</td>\n",
       "      <td>6</td>\n",
       "      <td>2010</td>\n",
       "      <td>2658.0</td>\n",
       "      <td>1.5</td>\n",
       "      <td>0</td>\n",
       "      <td>52</td>\n",
       "      <td>429</td>\n",
       "    </tr>\n",
       "    <tr>\n",
       "      <th>2</th>\n",
       "      <td>1463</td>\n",
       "      <td>60</td>\n",
       "      <td>74.0</td>\n",
       "      <td>13830</td>\n",
       "      <td>5</td>\n",
       "      <td>5</td>\n",
       "      <td>1997</td>\n",
       "      <td>1998</td>\n",
       "      <td>0.0</td>\n",
       "      <td>791.0</td>\n",
       "      <td>...</td>\n",
       "      <td>0</td>\n",
       "      <td>0</td>\n",
       "      <td>0</td>\n",
       "      <td>3</td>\n",
       "      <td>2010</td>\n",
       "      <td>2557.0</td>\n",
       "      <td>2.5</td>\n",
       "      <td>0</td>\n",
       "      <td>13</td>\n",
       "      <td>246</td>\n",
       "    </tr>\n",
       "    <tr>\n",
       "      <th>3</th>\n",
       "      <td>1464</td>\n",
       "      <td>60</td>\n",
       "      <td>78.0</td>\n",
       "      <td>9978</td>\n",
       "      <td>6</td>\n",
       "      <td>6</td>\n",
       "      <td>1998</td>\n",
       "      <td>1998</td>\n",
       "      <td>20.0</td>\n",
       "      <td>602.0</td>\n",
       "      <td>...</td>\n",
       "      <td>0</td>\n",
       "      <td>0</td>\n",
       "      <td>0</td>\n",
       "      <td>6</td>\n",
       "      <td>2010</td>\n",
       "      <td>2530.0</td>\n",
       "      <td>2.5</td>\n",
       "      <td>0</td>\n",
       "      <td>12</td>\n",
       "      <td>396</td>\n",
       "    </tr>\n",
       "    <tr>\n",
       "      <th>4</th>\n",
       "      <td>1465</td>\n",
       "      <td>120</td>\n",
       "      <td>43.0</td>\n",
       "      <td>5005</td>\n",
       "      <td>8</td>\n",
       "      <td>5</td>\n",
       "      <td>1992</td>\n",
       "      <td>1992</td>\n",
       "      <td>0.0</td>\n",
       "      <td>263.0</td>\n",
       "      <td>...</td>\n",
       "      <td>144</td>\n",
       "      <td>0</td>\n",
       "      <td>0</td>\n",
       "      <td>1</td>\n",
       "      <td>2010</td>\n",
       "      <td>2560.0</td>\n",
       "      <td>2.0</td>\n",
       "      <td>0</td>\n",
       "      <td>18</td>\n",
       "      <td>226</td>\n",
       "    </tr>\n",
       "  </tbody>\n",
       "</table>\n",
       "<p>5 rows × 43 columns</p>\n",
       "</div>"
      ],
      "text/plain": [
       "     Id  MSSubClass  LotFrontage  LotArea  OverallQual  OverallCond  \\\n",
       "0  1461          20         80.0    11622            5            6   \n",
       "1  1462          20         81.0    14267            6            6   \n",
       "2  1463          60         74.0    13830            5            5   \n",
       "3  1464          60         78.0     9978            6            6   \n",
       "4  1465         120         43.0     5005            8            5   \n",
       "\n",
       "   YearBuilt  YearRemodAdd  MasVnrArea  BsmtFinSF1  ...  ScreenPorch  \\\n",
       "0       1961          1961         0.0       468.0  ...          120   \n",
       "1       1958          1958       108.0       923.0  ...            0   \n",
       "2       1997          1998         0.0       791.0  ...            0   \n",
       "3       1998          1998        20.0       602.0  ...            0   \n",
       "4       1992          1992         0.0       263.0  ...          144   \n",
       "\n",
       "   PoolArea  MiscVal  MoSold  YrSold  totalSQ  bathrooms  NewConstruction  \\\n",
       "0         0        0       6    2010   1778.0        1.0                0   \n",
       "1         0    12500       6    2010   2658.0        1.5                0   \n",
       "2         0        0       3    2010   2557.0        2.5                0   \n",
       "3         0        0       6    2010   2530.0        2.5                0   \n",
       "4         0        0       1    2010   2560.0        2.0                0   \n",
       "\n",
       "   home_age_when_sold  total_porch_area  \n",
       "0                  49               260  \n",
       "1                  52               429  \n",
       "2                  13               246  \n",
       "3                  12               396  \n",
       "4                  18               226  \n",
       "\n",
       "[5 rows x 43 columns]"
      ]
     },
     "execution_count": 33,
     "metadata": {},
     "output_type": "execute_result"
    }
   ],
   "source": [
    "# Feature Engineer\n",
    "testDF['totalSQ']=testDF['1stFlrSF']+testDF['2ndFlrSF']+testDF['TotalBsmtSF']\n",
    "testDF['bathrooms']=testDF['FullBath']+testDF['BsmtFullBath']+(0.5 * testDF['BsmtHalfBath'])+(0.5 * testDF['HalfBath'])\n",
    "testDF['CentralAir'] = testDF['CentralAir'].replace({'Y':0, 'N':1})\n",
    "testDF['NewConstruction'] = (testDF['SaleType'] == 'New').astype('int64')\n",
    "testDF[\"PoolScore\"] = testDF[\"PoolArea\"] * testDF[\"PoolQC\"]\n",
    "testDF['home_age_when_sold']=testDF['YrSold']-testDF['YearBuilt']\n",
    "testDF['total_porch_area'] = testDF['WoodDeckSF'] + testDF['OpenPorchSF'] + testDF['EnclosedPorch'] + testDF['3SsnPorch'] + testDF['ScreenPorch'] \n",
    "\n",
    "#testDF['SaleCondition']=testDF['SaleCondition'].apply(lambda x:1 if x == 'Normal' else 0)\n",
    "#testDF['Condition1']=testDF['Condition1'].apply(lambda x: 1 if x=='Norm' else 0)\n",
    "\n",
    "testDF = testDF.select_dtypes(include=['int16', 'int32', 'int64', 'float16', 'float32', 'float64'])\n",
    "testDF.head()"
   ]
  },
  {
   "cell_type": "code",
   "execution_count": 34,
   "id": "3ae7fd53",
   "metadata": {
    "execution": {
     "iopub.execute_input": "2025-07-04T23:23:10.938648Z",
     "iopub.status.busy": "2025-07-04T23:23:10.938242Z",
     "iopub.status.idle": "2025-07-04T23:23:10.945060Z",
     "shell.execute_reply": "2025-07-04T23:23:10.943882Z"
    },
    "papermill": {
     "duration": 0.029904,
     "end_time": "2025-07-04T23:23:10.947261",
     "exception": false,
     "start_time": "2025-07-04T23:23:10.917357",
     "status": "completed"
    },
    "tags": []
   },
   "outputs": [],
   "source": [
    "testIDs = testDF['Id']         # Save test IDs for submission\n",
    "cols = X_test.columns          # Get column names used during model training\n",
    "testDF = testDF[cols]          # Keep only those columns in testDF\n"
   ]
  },
  {
   "cell_type": "code",
   "execution_count": 35,
   "id": "52c83d20",
   "metadata": {
    "execution": {
     "iopub.execute_input": "2025-07-04T23:23:10.988410Z",
     "iopub.status.busy": "2025-07-04T23:23:10.987998Z",
     "iopub.status.idle": "2025-07-04T23:23:10.998636Z",
     "shell.execute_reply": "2025-07-04T23:23:10.997765Z"
    },
    "papermill": {
     "duration": 0.03424,
     "end_time": "2025-07-04T23:23:11.001418",
     "exception": false,
     "start_time": "2025-07-04T23:23:10.967178",
     "status": "completed"
    },
    "tags": []
   },
   "outputs": [],
   "source": [
    "#Final Prediction\n",
    "finalPred=xgbFinal.predict(testDF).round(2)\n",
    "tupDF=list(zip(testIDs,finalPred))"
   ]
  },
  {
   "cell_type": "code",
   "execution_count": 36,
   "id": "c5b72400",
   "metadata": {
    "execution": {
     "iopub.execute_input": "2025-07-04T23:23:11.041843Z",
     "iopub.status.busy": "2025-07-04T23:23:11.041435Z",
     "iopub.status.idle": "2025-07-04T23:23:11.054835Z",
     "shell.execute_reply": "2025-07-04T23:23:11.053845Z"
    },
    "papermill": {
     "duration": 0.03682,
     "end_time": "2025-07-04T23:23:11.057276",
     "exception": false,
     "start_time": "2025-07-04T23:23:11.020456",
     "status": "completed"
    },
    "tags": []
   },
   "outputs": [
    {
     "data": {
      "text/html": [
       "<div>\n",
       "<style scoped>\n",
       "    .dataframe tbody tr th:only-of-type {\n",
       "        vertical-align: middle;\n",
       "    }\n",
       "\n",
       "    .dataframe tbody tr th {\n",
       "        vertical-align: top;\n",
       "    }\n",
       "\n",
       "    .dataframe thead th {\n",
       "        text-align: right;\n",
       "    }\n",
       "</style>\n",
       "<table border=\"1\" class=\"dataframe\">\n",
       "  <thead>\n",
       "    <tr style=\"text-align: right;\">\n",
       "      <th></th>\n",
       "      <th>Id</th>\n",
       "      <th>SalePrice</th>\n",
       "    </tr>\n",
       "  </thead>\n",
       "  <tbody>\n",
       "    <tr>\n",
       "      <th>0</th>\n",
       "      <td>1461</td>\n",
       "      <td>11.59</td>\n",
       "    </tr>\n",
       "    <tr>\n",
       "      <th>1</th>\n",
       "      <td>1462</td>\n",
       "      <td>11.95</td>\n",
       "    </tr>\n",
       "    <tr>\n",
       "      <th>2</th>\n",
       "      <td>1463</td>\n",
       "      <td>12.07</td>\n",
       "    </tr>\n",
       "    <tr>\n",
       "      <th>3</th>\n",
       "      <td>1464</td>\n",
       "      <td>12.13</td>\n",
       "    </tr>\n",
       "    <tr>\n",
       "      <th>4</th>\n",
       "      <td>1465</td>\n",
       "      <td>12.16</td>\n",
       "    </tr>\n",
       "  </tbody>\n",
       "</table>\n",
       "</div>"
      ],
      "text/plain": [
       "     Id  SalePrice\n",
       "0  1461      11.59\n",
       "1  1462      11.95\n",
       "2  1463      12.07\n",
       "3  1464      12.13\n",
       "4  1465      12.16"
      ]
     },
     "execution_count": 36,
     "metadata": {},
     "output_type": "execute_result"
    }
   ],
   "source": [
    "output=pd.DataFrame(tupDF, columns=['Id','SalePrice']).sort_values(by='Id').reset_index(drop=True)\n",
    "output.head()"
   ]
  },
  {
   "cell_type": "markdown",
   "id": "523a5ecd",
   "metadata": {
    "papermill": {
     "duration": 0.018982,
     "end_time": "2025-07-04T23:23:11.095687",
     "exception": false,
     "start_time": "2025-07-04T23:23:11.076705",
     "status": "completed"
    },
    "tags": []
   },
   "source": [
    "### Final Prediction"
   ]
  },
  {
   "cell_type": "code",
   "execution_count": 37,
   "id": "9c4ac23c",
   "metadata": {
    "execution": {
     "iopub.execute_input": "2025-07-04T23:23:11.136407Z",
     "iopub.status.busy": "2025-07-04T23:23:11.135586Z",
     "iopub.status.idle": "2025-07-04T23:23:11.147092Z",
     "shell.execute_reply": "2025-07-04T23:23:11.146017Z"
    },
    "papermill": {
     "duration": 0.034226,
     "end_time": "2025-07-04T23:23:11.149202",
     "exception": false,
     "start_time": "2025-07-04T23:23:11.114976",
     "status": "completed"
    },
    "tags": []
   },
   "outputs": [
    {
     "name": "stdout",
     "output_type": "stream",
     "text": [
      "(1459, 2)\n",
      "Output Created\n"
     ]
    }
   ],
   "source": [
    "print(output.shape)\n",
    "output.to_csv('submission.csv', index=False)\n",
    "print(\"Output Created\")"
   ]
  }
 ],
 "metadata": {
  "kaggle": {
   "accelerator": "none",
   "dataSources": [
    {
     "databundleVersionId": 868283,
     "sourceId": 5407,
     "sourceType": "competition"
    }
   ],
   "dockerImageVersionId": 30260,
   "isGpuEnabled": false,
   "isInternetEnabled": true,
   "language": "python",
   "sourceType": "notebook"
  },
  "kernelspec": {
   "display_name": "Python 3",
   "language": "python",
   "name": "python3"
  },
  "language_info": {
   "codemirror_mode": {
    "name": "ipython",
    "version": 3
   },
   "file_extension": ".py",
   "mimetype": "text/x-python",
   "name": "python",
   "nbconvert_exporter": "python",
   "pygments_lexer": "ipython3",
   "version": "3.7.12"
  },
  "papermill": {
   "default_parameters": {},
   "duration": 65.955263,
   "end_time": "2025-07-04T23:23:11.991179",
   "environment_variables": {},
   "exception": null,
   "input_path": "__notebook__.ipynb",
   "output_path": "__notebook__.ipynb",
   "parameters": {},
   "start_time": "2025-07-04T23:22:06.035916",
   "version": "2.3.4"
  }
 },
 "nbformat": 4,
 "nbformat_minor": 5
}
