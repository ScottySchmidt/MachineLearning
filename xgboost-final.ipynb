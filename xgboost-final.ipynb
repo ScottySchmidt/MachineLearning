{
 "cells": [
  {
   "cell_type": "markdown",
   "id": "12783db9",
   "metadata": {
    "papermill": {
     "duration": 0.011974,
     "end_time": "2025-07-04T19:30:14.689906",
     "exception": false,
     "start_time": "2025-07-04T19:30:14.677932",
     "status": "completed"
    },
    "tags": []
   },
   "source": [
    "# Predict House Price\n",
    "* Score top 39% in 2022 (pre AI) with 174 attempts:\n",
    "  github.com/ScottySchmidt/Kaggle/blob/main/PredictHousePrices.ipynb\n",
    "\n",
    "Score is currently 47% in 2025. ChatGPT recommends the following for an improved score:\n",
    "1. Stack models together (LightGBM + Ridge + Neural Nets)\n",
    "2. Feature Engineering\n",
    "3. Sale Price Skewed (apply log1p transform)\n",
    "4. Too many weak features\n",
    "5. Do not remove outlier house prices, use log1p.\n",
    "6. Mean encoding"
   ]
  },
  {
   "cell_type": "markdown",
   "id": "ea8e59d0",
   "metadata": {
    "papermill": {
     "duration": 0.01002,
     "end_time": "2025-07-04T19:30:14.710545",
     "exception": false,
     "start_time": "2025-07-04T19:30:14.700525",
     "status": "completed"
    },
    "tags": []
   },
   "source": [
    "## XG Boost Predictive Model\n",
    "Decision trees are common and powerful, but they tend to overfit—clearly demonstrated in my YouTube video:  \n",
    "🎥 https://www.youtube.com/watch?v=offRb9fBOuw&t=11s  \n",
    "\n",
    "While XGBoost often delivers higher accuracy, it comes with a trade-off: it’s less interpretable.  \n",
    "If you're working with a regulator or stakeholder who needs transparency, use Logistic or Linear Regression instead.\n",
    "\n",
    "To optimize accuracy and reduce overfitting, tune these key parameters:\n",
    "* **Max depth:** Controls model complexity, similar to a decision tree.\n",
    "* **N_estimators:** Number of trees—around 100 often yields strong performance.\n",
    "* **Gamma:** Controls the minimum loss reduction for a split; higher values make the model more conservative.\n",
    "* **Learning rate (`eta`):** Slows down learning to prevent overfitting; commonly set around 0.1.\n",
    "* **Subsample:** Builds each tree using a random fraction of the data to add regularization.\n",
    "\n",
    "XGBoost starts with a basic decision tree and then adds more trees in a sequential, boosting fashion—each new tree corrects the errors of the previous one.\n",
    "\n",
    "✅ Always validate with a test set or cross-validation to ensure your model generalizes well."
   ]
  },
  {
   "cell_type": "markdown",
   "id": "5ab4c68a",
   "metadata": {
    "papermill": {
     "duration": 0.010078,
     "end_time": "2025-07-04T19:30:14.732741",
     "exception": false,
     "start_time": "2025-07-04T19:30:14.722663",
     "status": "completed"
    },
    "tags": []
   },
   "source": [
    "#### Special Notes:\n",
    "* Using .20 for test and kFold=10 improves 3% better score\n",
    "* Removing feature importance with less than .003% makes tunning more consisent with significant results\n",
    "* Tunning learning_rate improved 8% better score\n",
    "* Removing outliers improved 4% better score\n",
    "* Removing similiar features makes couple percent better score\n",
    "* Encoding condition1 improved score by less than 1%"
   ]
  },
  {
   "cell_type": "code",
   "execution_count": 1,
   "id": "169a5c6e",
   "metadata": {
    "execution": {
     "iopub.execute_input": "2025-07-04T19:30:14.755418Z",
     "iopub.status.busy": "2025-07-04T19:30:14.754945Z",
     "iopub.status.idle": "2025-07-04T19:30:14.837189Z",
     "shell.execute_reply": "2025-07-04T19:30:14.835879Z"
    },
    "papermill": {
     "duration": 0.096773,
     "end_time": "2025-07-04T19:30:14.839870",
     "exception": false,
     "start_time": "2025-07-04T19:30:14.743097",
     "status": "completed"
    },
    "tags": []
   },
   "outputs": [
    {
     "name": "stdout",
     "output_type": "stream",
     "text": [
      "(1460, 81)\n"
     ]
    },
    {
     "data": {
      "text/html": [
       "<div>\n",
       "<style scoped>\n",
       "    .dataframe tbody tr th:only-of-type {\n",
       "        vertical-align: middle;\n",
       "    }\n",
       "\n",
       "    .dataframe tbody tr th {\n",
       "        vertical-align: top;\n",
       "    }\n",
       "\n",
       "    .dataframe thead th {\n",
       "        text-align: right;\n",
       "    }\n",
       "</style>\n",
       "<table border=\"1\" class=\"dataframe\">\n",
       "  <thead>\n",
       "    <tr style=\"text-align: right;\">\n",
       "      <th></th>\n",
       "      <th>Id</th>\n",
       "      <th>MSSubClass</th>\n",
       "      <th>MSZoning</th>\n",
       "      <th>LotFrontage</th>\n",
       "      <th>LotArea</th>\n",
       "      <th>Street</th>\n",
       "      <th>Alley</th>\n",
       "      <th>LotShape</th>\n",
       "      <th>LandContour</th>\n",
       "      <th>Utilities</th>\n",
       "      <th>...</th>\n",
       "      <th>PoolArea</th>\n",
       "      <th>PoolQC</th>\n",
       "      <th>Fence</th>\n",
       "      <th>MiscFeature</th>\n",
       "      <th>MiscVal</th>\n",
       "      <th>MoSold</th>\n",
       "      <th>YrSold</th>\n",
       "      <th>SaleType</th>\n",
       "      <th>SaleCondition</th>\n",
       "      <th>SalePrice</th>\n",
       "    </tr>\n",
       "  </thead>\n",
       "  <tbody>\n",
       "    <tr>\n",
       "      <th>0</th>\n",
       "      <td>1</td>\n",
       "      <td>60</td>\n",
       "      <td>RL</td>\n",
       "      <td>65.0</td>\n",
       "      <td>8450</td>\n",
       "      <td>Pave</td>\n",
       "      <td>NaN</td>\n",
       "      <td>Reg</td>\n",
       "      <td>Lvl</td>\n",
       "      <td>AllPub</td>\n",
       "      <td>...</td>\n",
       "      <td>0</td>\n",
       "      <td>NaN</td>\n",
       "      <td>NaN</td>\n",
       "      <td>NaN</td>\n",
       "      <td>0</td>\n",
       "      <td>2</td>\n",
       "      <td>2008</td>\n",
       "      <td>WD</td>\n",
       "      <td>Normal</td>\n",
       "      <td>208500</td>\n",
       "    </tr>\n",
       "    <tr>\n",
       "      <th>1</th>\n",
       "      <td>2</td>\n",
       "      <td>20</td>\n",
       "      <td>RL</td>\n",
       "      <td>80.0</td>\n",
       "      <td>9600</td>\n",
       "      <td>Pave</td>\n",
       "      <td>NaN</td>\n",
       "      <td>Reg</td>\n",
       "      <td>Lvl</td>\n",
       "      <td>AllPub</td>\n",
       "      <td>...</td>\n",
       "      <td>0</td>\n",
       "      <td>NaN</td>\n",
       "      <td>NaN</td>\n",
       "      <td>NaN</td>\n",
       "      <td>0</td>\n",
       "      <td>5</td>\n",
       "      <td>2007</td>\n",
       "      <td>WD</td>\n",
       "      <td>Normal</td>\n",
       "      <td>181500</td>\n",
       "    </tr>\n",
       "    <tr>\n",
       "      <th>2</th>\n",
       "      <td>3</td>\n",
       "      <td>60</td>\n",
       "      <td>RL</td>\n",
       "      <td>68.0</td>\n",
       "      <td>11250</td>\n",
       "      <td>Pave</td>\n",
       "      <td>NaN</td>\n",
       "      <td>IR1</td>\n",
       "      <td>Lvl</td>\n",
       "      <td>AllPub</td>\n",
       "      <td>...</td>\n",
       "      <td>0</td>\n",
       "      <td>NaN</td>\n",
       "      <td>NaN</td>\n",
       "      <td>NaN</td>\n",
       "      <td>0</td>\n",
       "      <td>9</td>\n",
       "      <td>2008</td>\n",
       "      <td>WD</td>\n",
       "      <td>Normal</td>\n",
       "      <td>223500</td>\n",
       "    </tr>\n",
       "    <tr>\n",
       "      <th>3</th>\n",
       "      <td>4</td>\n",
       "      <td>70</td>\n",
       "      <td>RL</td>\n",
       "      <td>60.0</td>\n",
       "      <td>9550</td>\n",
       "      <td>Pave</td>\n",
       "      <td>NaN</td>\n",
       "      <td>IR1</td>\n",
       "      <td>Lvl</td>\n",
       "      <td>AllPub</td>\n",
       "      <td>...</td>\n",
       "      <td>0</td>\n",
       "      <td>NaN</td>\n",
       "      <td>NaN</td>\n",
       "      <td>NaN</td>\n",
       "      <td>0</td>\n",
       "      <td>2</td>\n",
       "      <td>2006</td>\n",
       "      <td>WD</td>\n",
       "      <td>Abnorml</td>\n",
       "      <td>140000</td>\n",
       "    </tr>\n",
       "    <tr>\n",
       "      <th>4</th>\n",
       "      <td>5</td>\n",
       "      <td>60</td>\n",
       "      <td>RL</td>\n",
       "      <td>84.0</td>\n",
       "      <td>14260</td>\n",
       "      <td>Pave</td>\n",
       "      <td>NaN</td>\n",
       "      <td>IR1</td>\n",
       "      <td>Lvl</td>\n",
       "      <td>AllPub</td>\n",
       "      <td>...</td>\n",
       "      <td>0</td>\n",
       "      <td>NaN</td>\n",
       "      <td>NaN</td>\n",
       "      <td>NaN</td>\n",
       "      <td>0</td>\n",
       "      <td>12</td>\n",
       "      <td>2008</td>\n",
       "      <td>WD</td>\n",
       "      <td>Normal</td>\n",
       "      <td>250000</td>\n",
       "    </tr>\n",
       "  </tbody>\n",
       "</table>\n",
       "<p>5 rows × 81 columns</p>\n",
       "</div>"
      ],
      "text/plain": [
       "   Id  MSSubClass MSZoning  LotFrontage  LotArea Street Alley LotShape  \\\n",
       "0   1          60       RL         65.0     8450   Pave   NaN      Reg   \n",
       "1   2          20       RL         80.0     9600   Pave   NaN      Reg   \n",
       "2   3          60       RL         68.0    11250   Pave   NaN      IR1   \n",
       "3   4          70       RL         60.0     9550   Pave   NaN      IR1   \n",
       "4   5          60       RL         84.0    14260   Pave   NaN      IR1   \n",
       "\n",
       "  LandContour Utilities  ... PoolArea PoolQC Fence MiscFeature MiscVal MoSold  \\\n",
       "0         Lvl    AllPub  ...        0    NaN   NaN         NaN       0      2   \n",
       "1         Lvl    AllPub  ...        0    NaN   NaN         NaN       0      5   \n",
       "2         Lvl    AllPub  ...        0    NaN   NaN         NaN       0      9   \n",
       "3         Lvl    AllPub  ...        0    NaN   NaN         NaN       0      2   \n",
       "4         Lvl    AllPub  ...        0    NaN   NaN         NaN       0     12   \n",
       "\n",
       "  YrSold  SaleType  SaleCondition  SalePrice  \n",
       "0   2008        WD         Normal     208500  \n",
       "1   2007        WD         Normal     181500  \n",
       "2   2008        WD         Normal     223500  \n",
       "3   2006        WD        Abnorml     140000  \n",
       "4   2008        WD         Normal     250000  \n",
       "\n",
       "[5 rows x 81 columns]"
      ]
     },
     "execution_count": 1,
     "metadata": {},
     "output_type": "execute_result"
    }
   ],
   "source": [
    "import pandas as pd\n",
    "import numpy as np\n",
    "import sys\n",
    "import matplotlib.pyplot as plt\n",
    "import warnings\n",
    "import warnings\n",
    "warnings.filterwarnings('ignore')\n",
    "\n",
    "data='/kaggle/input/house-prices-advanced-regression-techniques/train.csv'\n",
    "df=pd.read_csv(data)\n",
    "print(df.shape)\n",
    "df.head()"
   ]
  },
  {
   "cell_type": "markdown",
   "id": "474ebb93",
   "metadata": {
    "papermill": {
     "duration": 0.010871,
     "end_time": "2025-07-04T19:30:14.862777",
     "exception": false,
     "start_time": "2025-07-04T19:30:14.851906",
     "status": "completed"
    },
    "tags": []
   },
   "source": [
    "# Missing Values"
   ]
  },
  {
   "cell_type": "code",
   "execution_count": 2,
   "id": "c7534ce0",
   "metadata": {
    "execution": {
     "iopub.execute_input": "2025-07-04T19:30:14.886042Z",
     "iopub.status.busy": "2025-07-04T19:30:14.885638Z",
     "iopub.status.idle": "2025-07-04T19:30:14.900428Z",
     "shell.execute_reply": "2025-07-04T19:30:14.899139Z"
    },
    "papermill": {
     "duration": 0.02921,
     "end_time": "2025-07-04T19:30:14.902790",
     "exception": false,
     "start_time": "2025-07-04T19:30:14.873580",
     "status": "completed"
    },
    "tags": []
   },
   "outputs": [
    {
     "name": "stdout",
     "output_type": "stream",
     "text": [
      "Missing data by column as a percent:\n",
      "PoolQC          21.686567\n",
      "MiscFeature     20.985075\n",
      "Alley           20.432836\n",
      "Fence           17.597015\n",
      "FireplaceQu     10.298507\n",
      "LotFrontage      3.865672\n",
      "GarageYrBlt      1.208955\n",
      "GarageCond       1.208955\n",
      "GarageType       1.208955\n",
      "GarageFinish     1.208955\n",
      "dtype: float64\n"
     ]
    }
   ],
   "source": [
    "#search for columns with missing values:\n",
    "def findNA():\n",
    "    print(\"Missing data by column as a percent:\")\n",
    "    findNA=df.isnull().sum().sort_values(ascending=False)/len(data)\n",
    "    print(findNA.head(10))\n",
    "findNA() "
   ]
  },
  {
   "cell_type": "code",
   "execution_count": 3,
   "id": "56480117",
   "metadata": {
    "execution": {
     "iopub.execute_input": "2025-07-04T19:30:14.926626Z",
     "iopub.status.busy": "2025-07-04T19:30:14.926208Z",
     "iopub.status.idle": "2025-07-04T19:30:14.967804Z",
     "shell.execute_reply": "2025-07-04T19:30:14.966599Z"
    },
    "papermill": {
     "duration": 0.056288,
     "end_time": "2025-07-04T19:30:14.970194",
     "exception": false,
     "start_time": "2025-07-04T19:30:14.913906",
     "status": "completed"
    },
    "tags": []
   },
   "outputs": [
    {
     "name": "stdout",
     "output_type": "stream",
     "text": [
      "(1460, 81)\n"
     ]
    }
   ],
   "source": [
    "df['MiscFeature']=df['MiscFeature'].fillna(0)\n",
    "df['Alley']=df['Alley'].fillna(0)\n",
    "df['Fence']=df['Fence'].fillna(0)\n",
    "df['FireplaceQu']=df['FireplaceQu'].fillna(0)\n",
    "df=df.fillna(df.mean())\n",
    "#df=df.drop(columns=['MiscFeature', 'Alley', 'Fence', 'FireplaceQu'])\n",
    "print(df.shape)"
   ]
  },
  {
   "cell_type": "code",
   "execution_count": 4,
   "id": "fd18d596",
   "metadata": {
    "execution": {
     "iopub.execute_input": "2025-07-04T19:30:14.994211Z",
     "iopub.status.busy": "2025-07-04T19:30:14.993816Z",
     "iopub.status.idle": "2025-07-04T19:30:15.001537Z",
     "shell.execute_reply": "2025-07-04T19:30:15.000410Z"
    },
    "papermill": {
     "duration": 0.022586,
     "end_time": "2025-07-04T19:30:15.003756",
     "exception": false,
     "start_time": "2025-07-04T19:30:14.981170",
     "status": "completed"
    },
    "tags": []
   },
   "outputs": [
    {
     "data": {
      "text/plain": [
       "Index(['Id', 'MSSubClass', 'MSZoning', 'LotFrontage', 'LotArea', 'Street',\n",
       "       'Alley', 'LotShape', 'LandContour', 'Utilities', 'LotConfig',\n",
       "       'LandSlope', 'Neighborhood', 'Condition1', 'Condition2', 'BldgType',\n",
       "       'HouseStyle', 'OverallQual', 'OverallCond', 'YearBuilt', 'YearRemodAdd',\n",
       "       'RoofStyle', 'RoofMatl', 'Exterior1st', 'Exterior2nd', 'MasVnrType',\n",
       "       'MasVnrArea', 'ExterQual', 'ExterCond', 'Foundation', 'BsmtQual',\n",
       "       'BsmtCond', 'BsmtExposure', 'BsmtFinType1', 'BsmtFinSF1',\n",
       "       'BsmtFinType2', 'BsmtFinSF2', 'BsmtUnfSF', 'TotalBsmtSF', 'Heating',\n",
       "       'HeatingQC', 'CentralAir', 'Electrical', '1stFlrSF', '2ndFlrSF',\n",
       "       'LowQualFinSF', 'GrLivArea', 'BsmtFullBath', 'BsmtHalfBath', 'FullBath',\n",
       "       'HalfBath', 'BedroomAbvGr', 'KitchenAbvGr', 'KitchenQual',\n",
       "       'TotRmsAbvGrd', 'Functional', 'Fireplaces', 'FireplaceQu', 'GarageType',\n",
       "       'GarageYrBlt', 'GarageFinish', 'GarageCars', 'GarageArea', 'GarageQual',\n",
       "       'GarageCond', 'PavedDrive', 'WoodDeckSF', 'OpenPorchSF',\n",
       "       'EnclosedPorch', '3SsnPorch', 'ScreenPorch', 'PoolArea', 'PoolQC',\n",
       "       'Fence', 'MiscFeature', 'MiscVal', 'MoSold', 'YrSold', 'SaleType',\n",
       "       'SaleCondition', 'SalePrice'],\n",
       "      dtype='object')"
      ]
     },
     "execution_count": 4,
     "metadata": {},
     "output_type": "execute_result"
    }
   ],
   "source": [
    "df.columns"
   ]
  },
  {
   "cell_type": "markdown",
   "id": "71f86487",
   "metadata": {
    "papermill": {
     "duration": 0.01069,
     "end_time": "2025-07-04T19:30:15.025906",
     "exception": false,
     "start_time": "2025-07-04T19:30:15.015216",
     "status": "completed"
    },
    "tags": []
   },
   "source": [
    "# Feature Engineer"
   ]
  },
  {
   "cell_type": "code",
   "execution_count": 5,
   "id": "df9f4823",
   "metadata": {
    "execution": {
     "iopub.execute_input": "2025-07-04T19:30:15.049791Z",
     "iopub.status.busy": "2025-07-04T19:30:15.049391Z",
     "iopub.status.idle": "2025-07-04T19:30:15.083226Z",
     "shell.execute_reply": "2025-07-04T19:30:15.082084Z"
    },
    "papermill": {
     "duration": 0.048696,
     "end_time": "2025-07-04T19:30:15.085557",
     "exception": false,
     "start_time": "2025-07-04T19:30:15.036861",
     "status": "completed"
    },
    "tags": []
   },
   "outputs": [
    {
     "data": {
      "text/html": [
       "<div>\n",
       "<style scoped>\n",
       "    .dataframe tbody tr th:only-of-type {\n",
       "        vertical-align: middle;\n",
       "    }\n",
       "\n",
       "    .dataframe tbody tr th {\n",
       "        vertical-align: top;\n",
       "    }\n",
       "\n",
       "    .dataframe thead th {\n",
       "        text-align: right;\n",
       "    }\n",
       "</style>\n",
       "<table border=\"1\" class=\"dataframe\">\n",
       "  <thead>\n",
       "    <tr style=\"text-align: right;\">\n",
       "      <th></th>\n",
       "      <th>bathrooms</th>\n",
       "      <th>totalSQ</th>\n",
       "      <th>CentralAir</th>\n",
       "      <th>NewConstruction</th>\n",
       "      <th>PoolScore</th>\n",
       "    </tr>\n",
       "  </thead>\n",
       "  <tbody>\n",
       "    <tr>\n",
       "      <th>0</th>\n",
       "      <td>3.5</td>\n",
       "      <td>2566</td>\n",
       "      <td>0</td>\n",
       "      <td>0</td>\n",
       "      <td>NaN</td>\n",
       "    </tr>\n",
       "    <tr>\n",
       "      <th>1</th>\n",
       "      <td>2.5</td>\n",
       "      <td>2524</td>\n",
       "      <td>0</td>\n",
       "      <td>0</td>\n",
       "      <td>NaN</td>\n",
       "    </tr>\n",
       "    <tr>\n",
       "      <th>2</th>\n",
       "      <td>3.5</td>\n",
       "      <td>2706</td>\n",
       "      <td>0</td>\n",
       "      <td>0</td>\n",
       "      <td>NaN</td>\n",
       "    </tr>\n",
       "    <tr>\n",
       "      <th>3</th>\n",
       "      <td>2.0</td>\n",
       "      <td>2473</td>\n",
       "      <td>0</td>\n",
       "      <td>0</td>\n",
       "      <td>NaN</td>\n",
       "    </tr>\n",
       "    <tr>\n",
       "      <th>4</th>\n",
       "      <td>3.5</td>\n",
       "      <td>3343</td>\n",
       "      <td>0</td>\n",
       "      <td>0</td>\n",
       "      <td>NaN</td>\n",
       "    </tr>\n",
       "  </tbody>\n",
       "</table>\n",
       "</div>"
      ],
      "text/plain": [
       "   bathrooms  totalSQ  CentralAir  NewConstruction PoolScore\n",
       "0        3.5     2566           0                0       NaN\n",
       "1        2.5     2524           0                0       NaN\n",
       "2        3.5     2706           0                0       NaN\n",
       "3        2.0     2473           0                0       NaN\n",
       "4        3.5     3343           0                0       NaN"
      ]
     },
     "execution_count": 5,
     "metadata": {},
     "output_type": "execute_result"
    }
   ],
   "source": [
    "df['totalSQ']=df['1stFlrSF']+df['2ndFlrSF']+df['TotalBsmtSF']\n",
    "df['bathrooms']=df['FullBath']+df['BsmtFullBath']+(0.5 * df['BsmtHalfBath'])+(0.5 * df['HalfBath'])\n",
    "df['CentralAir'] = df['CentralAir'].replace({'Y':0, 'N':1})\n",
    "df['NewConstruction'] = (df['SaleType'] == 'New').astype('int64')\n",
    "df[\"PoolScore\"] = df[\"PoolArea\"] * df[\"PoolQC\"]\n",
    "df['home_age_when_sold']=df['YrSold']-df['YearBuilt']\n",
    "df['total_porch_area'] = df['WoodDeckSF'] + df['OpenPorchSF'] + df['EnclosedPorch'] + df['3SsnPorch'] + df['ScreenPorch'] \n",
    "#df['hasPool']=df['PoolArea'].apply(lambda x: 1 if x>0 else 0).fillna(0)\n",
    "#df['SaleCondition']=df['SaleCondition'].apply(lambda x:1 if x == 'Normal' else 0)\n",
    "#df['Condition1']=df['Condition1'].apply(lambda x: 1 if x=='Norm' else 0)\n",
    "\n",
    "#Newly created features. No longer need:\n",
    "df=df.drop(columns=['1stFlrSF', '2ndFlrSF','TotalBsmtSF'])\n",
    "df=df.drop(columns=['FullBath','BsmtFullBath', 'BsmtHalfBath','HalfBath', 'BsmtHalfBath'])\n",
    "\n",
    "#View newly created data:\n",
    "df[['bathrooms', 'totalSQ', 'CentralAir', 'NewConstruction', 'PoolScore']].head()"
   ]
  },
  {
   "cell_type": "code",
   "execution_count": 6,
   "id": "99120f17",
   "metadata": {
    "execution": {
     "iopub.execute_input": "2025-07-04T19:30:15.109489Z",
     "iopub.status.busy": "2025-07-04T19:30:15.109091Z",
     "iopub.status.idle": "2025-07-04T19:30:15.118399Z",
     "shell.execute_reply": "2025-07-04T19:30:15.117213Z"
    },
    "papermill": {
     "duration": 0.023824,
     "end_time": "2025-07-04T19:30:15.120550",
     "exception": false,
     "start_time": "2025-07-04T19:30:15.096726",
     "status": "completed"
    },
    "tags": []
   },
   "outputs": [],
   "source": [
    "#Had 0% feature importance:\n",
    "#df['Condition2']=df['Condition2'].apply(lambda x: 1 if x=='Norm' else 0)\n",
    "#df['Street']=df['Street'].fillna(0).apply(lambda x:0 if x =='Grvl' else 1)\n",
    "df=df.drop(['BsmtFinSF2','LowQualFinSF', \n",
    "            '3SsnPorch', 'ScreenPorch','MiscVal', \n",
    "            'MoSold', 'EnclosedPorch', 'MasVnrArea', 'YrSold',\n",
    "             'BedroomAbvGr', 'PoolArea'], axis=1)\n",
    "\n",
    "#After removing above, these had less than .004 feature importance:\n",
    "df=df.drop(['MSSubClass', 'LotFrontage', 'TotRmsAbvGrd', 'BsmtUnfSF', 'OpenPorchSF'], axis=1)"
   ]
  },
  {
   "cell_type": "code",
   "execution_count": 7,
   "id": "6fb77ee0",
   "metadata": {
    "execution": {
     "iopub.execute_input": "2025-07-04T19:30:15.144228Z",
     "iopub.status.busy": "2025-07-04T19:30:15.143847Z",
     "iopub.status.idle": "2025-07-04T19:30:15.168306Z",
     "shell.execute_reply": "2025-07-04T19:30:15.167128Z"
    },
    "papermill": {
     "duration": 0.038994,
     "end_time": "2025-07-04T19:30:15.170509",
     "exception": false,
     "start_time": "2025-07-04T19:30:15.131515",
     "status": "completed"
    },
    "tags": []
   },
   "outputs": [
    {
     "data": {
      "text/html": [
       "<div>\n",
       "<style scoped>\n",
       "    .dataframe tbody tr th:only-of-type {\n",
       "        vertical-align: middle;\n",
       "    }\n",
       "\n",
       "    .dataframe tbody tr th {\n",
       "        vertical-align: top;\n",
       "    }\n",
       "\n",
       "    .dataframe thead th {\n",
       "        text-align: right;\n",
       "    }\n",
       "</style>\n",
       "<table border=\"1\" class=\"dataframe\">\n",
       "  <thead>\n",
       "    <tr style=\"text-align: right;\">\n",
       "      <th></th>\n",
       "      <th>Id</th>\n",
       "      <th>LotArea</th>\n",
       "      <th>OverallQual</th>\n",
       "      <th>OverallCond</th>\n",
       "      <th>YearBuilt</th>\n",
       "      <th>YearRemodAdd</th>\n",
       "      <th>BsmtFinSF1</th>\n",
       "      <th>CentralAir</th>\n",
       "      <th>GrLivArea</th>\n",
       "      <th>KitchenAbvGr</th>\n",
       "      <th>...</th>\n",
       "      <th>GarageYrBlt</th>\n",
       "      <th>GarageCars</th>\n",
       "      <th>GarageArea</th>\n",
       "      <th>WoodDeckSF</th>\n",
       "      <th>SalePrice</th>\n",
       "      <th>totalSQ</th>\n",
       "      <th>bathrooms</th>\n",
       "      <th>NewConstruction</th>\n",
       "      <th>home_age_when_sold</th>\n",
       "      <th>total_porch_area</th>\n",
       "    </tr>\n",
       "  </thead>\n",
       "  <tbody>\n",
       "    <tr>\n",
       "      <th>0</th>\n",
       "      <td>1</td>\n",
       "      <td>8450</td>\n",
       "      <td>7</td>\n",
       "      <td>5</td>\n",
       "      <td>2003</td>\n",
       "      <td>2003</td>\n",
       "      <td>706</td>\n",
       "      <td>0</td>\n",
       "      <td>1710</td>\n",
       "      <td>1</td>\n",
       "      <td>...</td>\n",
       "      <td>2003.0</td>\n",
       "      <td>2</td>\n",
       "      <td>548</td>\n",
       "      <td>0</td>\n",
       "      <td>208500</td>\n",
       "      <td>2566</td>\n",
       "      <td>3.5</td>\n",
       "      <td>0</td>\n",
       "      <td>5</td>\n",
       "      <td>61</td>\n",
       "    </tr>\n",
       "    <tr>\n",
       "      <th>1</th>\n",
       "      <td>2</td>\n",
       "      <td>9600</td>\n",
       "      <td>6</td>\n",
       "      <td>8</td>\n",
       "      <td>1976</td>\n",
       "      <td>1976</td>\n",
       "      <td>978</td>\n",
       "      <td>0</td>\n",
       "      <td>1262</td>\n",
       "      <td>1</td>\n",
       "      <td>...</td>\n",
       "      <td>1976.0</td>\n",
       "      <td>2</td>\n",
       "      <td>460</td>\n",
       "      <td>298</td>\n",
       "      <td>181500</td>\n",
       "      <td>2524</td>\n",
       "      <td>2.5</td>\n",
       "      <td>0</td>\n",
       "      <td>31</td>\n",
       "      <td>298</td>\n",
       "    </tr>\n",
       "    <tr>\n",
       "      <th>2</th>\n",
       "      <td>3</td>\n",
       "      <td>11250</td>\n",
       "      <td>7</td>\n",
       "      <td>5</td>\n",
       "      <td>2001</td>\n",
       "      <td>2002</td>\n",
       "      <td>486</td>\n",
       "      <td>0</td>\n",
       "      <td>1786</td>\n",
       "      <td>1</td>\n",
       "      <td>...</td>\n",
       "      <td>2001.0</td>\n",
       "      <td>2</td>\n",
       "      <td>608</td>\n",
       "      <td>0</td>\n",
       "      <td>223500</td>\n",
       "      <td>2706</td>\n",
       "      <td>3.5</td>\n",
       "      <td>0</td>\n",
       "      <td>7</td>\n",
       "      <td>42</td>\n",
       "    </tr>\n",
       "    <tr>\n",
       "      <th>3</th>\n",
       "      <td>4</td>\n",
       "      <td>9550</td>\n",
       "      <td>7</td>\n",
       "      <td>5</td>\n",
       "      <td>1915</td>\n",
       "      <td>1970</td>\n",
       "      <td>216</td>\n",
       "      <td>0</td>\n",
       "      <td>1717</td>\n",
       "      <td>1</td>\n",
       "      <td>...</td>\n",
       "      <td>1998.0</td>\n",
       "      <td>3</td>\n",
       "      <td>642</td>\n",
       "      <td>0</td>\n",
       "      <td>140000</td>\n",
       "      <td>2473</td>\n",
       "      <td>2.0</td>\n",
       "      <td>0</td>\n",
       "      <td>91</td>\n",
       "      <td>307</td>\n",
       "    </tr>\n",
       "    <tr>\n",
       "      <th>4</th>\n",
       "      <td>5</td>\n",
       "      <td>14260</td>\n",
       "      <td>8</td>\n",
       "      <td>5</td>\n",
       "      <td>2000</td>\n",
       "      <td>2000</td>\n",
       "      <td>655</td>\n",
       "      <td>0</td>\n",
       "      <td>2198</td>\n",
       "      <td>1</td>\n",
       "      <td>...</td>\n",
       "      <td>2000.0</td>\n",
       "      <td>3</td>\n",
       "      <td>836</td>\n",
       "      <td>192</td>\n",
       "      <td>250000</td>\n",
       "      <td>3343</td>\n",
       "      <td>3.5</td>\n",
       "      <td>0</td>\n",
       "      <td>8</td>\n",
       "      <td>276</td>\n",
       "    </tr>\n",
       "  </tbody>\n",
       "</table>\n",
       "<p>5 rows × 21 columns</p>\n",
       "</div>"
      ],
      "text/plain": [
       "   Id  LotArea  OverallQual  OverallCond  YearBuilt  YearRemodAdd  BsmtFinSF1  \\\n",
       "0   1     8450            7            5       2003          2003         706   \n",
       "1   2     9600            6            8       1976          1976         978   \n",
       "2   3    11250            7            5       2001          2002         486   \n",
       "3   4     9550            7            5       1915          1970         216   \n",
       "4   5    14260            8            5       2000          2000         655   \n",
       "\n",
       "   CentralAir  GrLivArea  KitchenAbvGr  ...  GarageYrBlt  GarageCars  \\\n",
       "0           0       1710             1  ...       2003.0           2   \n",
       "1           0       1262             1  ...       1976.0           2   \n",
       "2           0       1786             1  ...       2001.0           2   \n",
       "3           0       1717             1  ...       1998.0           3   \n",
       "4           0       2198             1  ...       2000.0           3   \n",
       "\n",
       "   GarageArea  WoodDeckSF  SalePrice  totalSQ  bathrooms  NewConstruction  \\\n",
       "0         548           0     208500     2566        3.5                0   \n",
       "1         460         298     181500     2524        2.5                0   \n",
       "2         608           0     223500     2706        3.5                0   \n",
       "3         642           0     140000     2473        2.0                0   \n",
       "4         836         192     250000     3343        3.5                0   \n",
       "\n",
       "   home_age_when_sold  total_porch_area  \n",
       "0                   5                61  \n",
       "1                  31               298  \n",
       "2                   7                42  \n",
       "3                  91               307  \n",
       "4                   8               276  \n",
       "\n",
       "[5 rows x 21 columns]"
      ]
     },
     "execution_count": 7,
     "metadata": {},
     "output_type": "execute_result"
    }
   ],
   "source": [
    "df = df.select_dtypes(include=['int16', 'int32', 'int64', 'float16', 'float32', 'float64'])\n",
    "df.head()"
   ]
  },
  {
   "cell_type": "markdown",
   "id": "e8ff540d",
   "metadata": {
    "papermill": {
     "duration": 0.011323,
     "end_time": "2025-07-04T19:30:15.193283",
     "exception": false,
     "start_time": "2025-07-04T19:30:15.181960",
     "status": "completed"
    },
    "tags": []
   },
   "source": [
    "# Outliers"
   ]
  },
  {
   "cell_type": "code",
   "execution_count": 8,
   "id": "5e4221b0",
   "metadata": {
    "execution": {
     "iopub.execute_input": "2025-07-04T19:30:15.218151Z",
     "iopub.status.busy": "2025-07-04T19:30:15.217749Z",
     "iopub.status.idle": "2025-07-04T19:30:17.198409Z",
     "shell.execute_reply": "2025-07-04T19:30:17.197154Z"
    },
    "papermill": {
     "duration": 1.996207,
     "end_time": "2025-07-04T19:30:17.201110",
     "exception": false,
     "start_time": "2025-07-04T19:30:15.204903",
     "status": "completed"
    },
    "tags": []
   },
   "outputs": [
    {
     "data": {
      "text/plain": [
       "<seaborn.axisgrid.FacetGrid at 0x78657ea41810>"
      ]
     },
     "execution_count": 8,
     "metadata": {},
     "output_type": "execute_result"
    },
    {
     "data": {
      "image/png": "[encoded data removed]",
      "text/plain": [
       "<Figure size 360x360 with 1 Axes>"
      ]
     },
     "metadata": {
      "needs_background": "light"
     },
     "output_type": "display_data"
    },
    {
     "data": {
      "image/png": "[encoded data removed]",
      "text/plain": [
       "<Figure size 360x360 with 1 Axes>"
      ]
     },
     "metadata": {
      "needs_background": "light"
     },
     "output_type": "display_data"
    }
   ],
   "source": [
    "import seaborn as sns\n",
    "sns.displot(df, x='SalePrice')\n",
    "sns.displot(df, x='totalSQ')"
   ]
  },
  {
   "cell_type": "code",
   "execution_count": 9,
   "id": "25a163f9",
   "metadata": {
    "execution": {
     "iopub.execute_input": "2025-07-04T19:30:17.227084Z",
     "iopub.status.busy": "2025-07-04T19:30:17.226666Z",
     "iopub.status.idle": "2025-07-04T19:30:17.241147Z",
     "shell.execute_reply": "2025-07-04T19:30:17.239803Z"
    },
    "papermill": {
     "duration": 0.030159,
     "end_time": "2025-07-04T19:30:17.243580",
     "exception": false,
     "start_time": "2025-07-04T19:30:17.213421",
     "status": "completed"
    },
    "tags": []
   },
   "outputs": [],
   "source": [
    "from scipy import stats\n",
    "\n",
    "outliers=[]\n",
    "def detect_outlier(data_1):\n",
    "    threshold=3\n",
    "    mean_1 = np.mean(data_1)\n",
    "    std_1 =np.std(data_1)\n",
    "    \n",
    "    for y in data_1:\n",
    "        z_score= (y - mean_1)/std_1 \n",
    "        if np.abs(z_score) > threshold:\n",
    "            outliers.append(y)\n",
    "    return outliers\n",
    "priceOutlier=list(detect_outlier(df['SalePrice']))\n",
    "#print(priceOutlier)\n",
    "sqOutlier=list(detect_outlier(df['totalSQ']))\n",
    "#print(sqOutlier)"
   ]
  },
  {
   "cell_type": "code",
   "execution_count": 10,
   "id": "b97850e3",
   "metadata": {
    "execution": {
     "iopub.execute_input": "2025-07-04T19:30:17.269584Z",
     "iopub.status.busy": "2025-07-04T19:30:17.269172Z",
     "iopub.status.idle": "2025-07-04T19:30:17.277814Z",
     "shell.execute_reply": "2025-07-04T19:30:17.276603Z"
    },
    "papermill": {
     "duration": 0.024456,
     "end_time": "2025-07-04T19:30:17.280171",
     "exception": false,
     "start_time": "2025-07-04T19:30:17.255715",
     "status": "completed"
    },
    "tags": []
   },
   "outputs": [],
   "source": [
    "#Remove Outliers:\n",
    "df=df.loc[df['SalePrice']<500_000]\n",
    "df=df.loc[df['totalSQ']<5000]\n",
    "#print(df.shape) "
   ]
  },
  {
   "cell_type": "markdown",
   "id": "21501850",
   "metadata": {
    "papermill": {
     "duration": 0.011773,
     "end_time": "2025-07-04T19:30:17.304099",
     "exception": false,
     "start_time": "2025-07-04T19:30:17.292326",
     "status": "completed"
    },
    "tags": []
   },
   "source": [
    "# Correlations"
   ]
  },
  {
   "cell_type": "code",
   "execution_count": 11,
   "id": "ce0e7a8c",
   "metadata": {
    "execution": {
     "iopub.execute_input": "2025-07-04T19:30:17.331149Z",
     "iopub.status.busy": "2025-07-04T19:30:17.330611Z",
     "iopub.status.idle": "2025-07-04T19:30:18.887514Z",
     "shell.execute_reply": "2025-07-04T19:30:18.886237Z"
    },
    "papermill": {
     "duration": 1.575249,
     "end_time": "2025-07-04T19:30:18.892137",
     "exception": false,
     "start_time": "2025-07-04T19:30:17.316888",
     "status": "completed"
    },
    "tags": []
   },
   "outputs": [
    {
     "data": {
      "text/plain": [
       "<AxesSubplot:>"
      ]
     },
     "execution_count": 11,
     "metadata": {},
     "output_type": "execute_result"
    },
    {
     "data": {
      "image/png": "[encoded data removed]",
      "text/plain": [
       "<Figure size 1440x1440 with 2 Axes>"
      ]
     },
     "metadata": {
      "needs_background": "light"
     },
     "output_type": "display_data"
    }
   ],
   "source": [
    "import seaborn as sns\n",
    "corr= df.corr()\n",
    "matrix = np.triu(corr)\n",
    "fig, ax = plt.subplots(figsize=(20,20))    \n",
    "sns.heatmap(corr, annot=True, mask=matrix)"
   ]
  },
  {
   "cell_type": "code",
   "execution_count": 12,
   "id": "7fcdefa5",
   "metadata": {
    "execution": {
     "iopub.execute_input": "2025-07-04T19:30:18.926220Z",
     "iopub.status.busy": "2025-07-04T19:30:18.925099Z",
     "iopub.status.idle": "2025-07-04T19:30:18.932076Z",
     "shell.execute_reply": "2025-07-04T19:30:18.930858Z"
    },
    "papermill": {
     "duration": 0.025887,
     "end_time": "2025-07-04T19:30:18.934440",
     "exception": false,
     "start_time": "2025-07-04T19:30:18.908553",
     "status": "completed"
    },
    "tags": []
   },
   "outputs": [],
   "source": [
    "#Too similiar variables:\n",
    "df=df.drop(['GarageYrBlt'], axis=1) \n",
    "#GarageYrBlt and houseYear too similiar"
   ]
  },
  {
   "cell_type": "markdown",
   "id": "d43efa68",
   "metadata": {
    "papermill": {
     "duration": 0.015267,
     "end_time": "2025-07-04T19:30:18.964957",
     "exception": false,
     "start_time": "2025-07-04T19:30:18.949690",
     "status": "completed"
    },
    "tags": []
   },
   "source": [
    "# Split Data"
   ]
  },
  {
   "cell_type": "code",
   "execution_count": 13,
   "id": "3fc5cfe9",
   "metadata": {
    "execution": {
     "iopub.execute_input": "2025-07-04T19:30:18.997511Z",
     "iopub.status.busy": "2025-07-04T19:30:18.997109Z",
     "iopub.status.idle": "2025-07-04T19:30:19.214771Z",
     "shell.execute_reply": "2025-07-04T19:30:19.213577Z"
    },
    "papermill": {
     "duration": 0.237391,
     "end_time": "2025-07-04T19:30:19.217568",
     "exception": false,
     "start_time": "2025-07-04T19:30:18.980177",
     "status": "completed"
    },
    "tags": []
   },
   "outputs": [],
   "source": [
    "from sklearn.model_selection import train_test_split, cross_validate\n",
    "\n",
    "X=df.drop(\"SalePrice\", axis='columns')\n",
    "y=df['SalePrice']\n",
    "\n",
    "X_train, X_test, y_train, y_test = train_test_split(\n",
    "X, y, test_size=.20, random_state=42)"
   ]
  },
  {
   "cell_type": "markdown",
   "id": "d6a0efe4",
   "metadata": {
    "papermill": {
     "duration": 0.015009,
     "end_time": "2025-07-04T19:30:19.247988",
     "exception": false,
     "start_time": "2025-07-04T19:30:19.232979",
     "status": "completed"
    },
    "tags": []
   },
   "source": [
    "# XGBoost\n",
    "Extreme Graidennt Boosting (XGBoost) is typically the best model to use on structured data on Kaggle competitions. "
   ]
  },
  {
   "cell_type": "code",
   "execution_count": 14,
   "id": "9e18361b",
   "metadata": {
    "execution": {
     "iopub.execute_input": "2025-07-04T19:30:19.280492Z",
     "iopub.status.busy": "2025-07-04T19:30:19.280104Z",
     "iopub.status.idle": "2025-07-04T19:30:19.409238Z",
     "shell.execute_reply": "2025-07-04T19:30:19.407971Z"
    },
    "papermill": {
     "duration": 0.148514,
     "end_time": "2025-07-04T19:30:19.412095",
     "exception": false,
     "start_time": "2025-07-04T19:30:19.263581",
     "status": "completed"
    },
    "tags": []
   },
   "outputs": [],
   "source": [
    "import xgboost as xgb\n",
    "from sklearn.metrics import mean_squared_error, r2_score, mean_absolute_error"
   ]
  },
  {
   "cell_type": "markdown",
   "id": "9377ff61",
   "metadata": {
    "papermill": {
     "duration": 0.014877,
     "end_time": "2025-07-04T19:30:19.442370",
     "exception": false,
     "start_time": "2025-07-04T19:30:19.427493",
     "status": "completed"
    },
    "tags": []
   },
   "source": [
    "### max depth \n",
    "How big should the tree be? Max_depth is one of the most important parameters. Increasing the value makes the model more complex which could overfit. Range is typical between 2 and 10. A tree rarely goes beyond five. \n",
    "\n",
    "Four for max depth shows the least amount of error and highest accuracy. Four was picked by GridSearchCV when tunned with other parameters. Sometimes, a number near four was picked like three. "
   ]
  },
  {
   "cell_type": "code",
   "execution_count": 15,
   "id": "69051f52",
   "metadata": {
    "execution": {
     "iopub.execute_input": "2025-07-04T19:30:19.476284Z",
     "iopub.status.busy": "2025-07-04T19:30:19.475870Z",
     "iopub.status.idle": "2025-07-04T19:30:24.112067Z",
     "shell.execute_reply": "2025-07-04T19:30:24.110890Z"
    },
    "papermill": {
     "duration": 4.655979,
     "end_time": "2025-07-04T19:30:24.114349",
     "exception": false,
     "start_time": "2025-07-04T19:30:19.458370",
     "status": "completed"
    },
    "tags": []
   },
   "outputs": [
    {
     "data": {
      "image/png": "[encoded data removed]",
      "text/plain": [
       "<Figure size 432x288 with 1 Axes>"
      ]
     },
     "metadata": {
      "needs_background": "light"
     },
     "output_type": "display_data"
    },
    {
     "data": {
      "image/png": "[encoded data removed]",
      "text/plain": [
       "<Figure size 432x288 with 1 Axes>"
      ]
     },
     "metadata": {
      "needs_background": "light"
     },
     "output_type": "display_data"
    }
   ],
   "source": [
    "maxDepth=[2, 3, 4, 5, 6, 7, 8, 9, 10]\n",
    "listMSE=[]\n",
    "listR2=[]\n",
    "\n",
    "for d in maxDepth:\n",
    "    regressor = xgb.XGBRegressor(\n",
    "        max_depth=d\n",
    "    )\n",
    "    regressor.fit(X_train, y_train)\n",
    "    #regressor.fit(X_train, y_train, early_stopping_rounds=5, eval_metric=\"rmse\", eval_set=[(X_test, y_test)], verbose=False)\n",
    "    y_pred = regressor.predict(X_test)\n",
    "\n",
    "    xgMSE=mean_absolute_error(y_test, y_pred)\n",
    "    xgR2 = r2_score(y_test, y_pred).round(4)\n",
    "    listMSE.append(xgMSE)\n",
    "    listR2.append(xgR2)\n",
    "plt.plot(maxDepth, listMSE)\n",
    "plt.title('MaxDepth Error')\n",
    "plt.ylabel('Error')\n",
    "plt.xlabel('Max Depth')\n",
    "plt.show()\n",
    "\n",
    "plt.plot(maxDepth, listR2)\n",
    "plt.title('MaxDepth Accuracy')\n",
    "plt.ylabel('Accuracy')\n",
    "plt.xlabel('MaxDepth')\n",
    "plt.show()"
   ]
  },
  {
   "cell_type": "markdown",
   "id": "3630a7ee",
   "metadata": {
    "papermill": {
     "duration": 0.016646,
     "end_time": "2025-07-04T19:30:24.147142",
     "exception": false,
     "start_time": "2025-07-04T19:30:24.130496",
     "status": "completed"
    },
    "tags": []
   },
   "source": [
    "### n_estimators\n",
    "In random forest, generally 128 is the 'magic' number to reduce overfitting. Typically, after 128 trees the amount of error flatlines. \n"
   ]
  },
  {
   "cell_type": "code",
   "execution_count": 16,
   "id": "ff0eeaf1",
   "metadata": {
    "_kg_hide-input": true,
    "execution": {
     "iopub.execute_input": "2025-07-04T19:30:24.183442Z",
     "iopub.status.busy": "2025-07-04T19:30:24.183060Z",
     "iopub.status.idle": "2025-07-04T19:30:29.242208Z",
     "shell.execute_reply": "2025-07-04T19:30:29.240808Z"
    },
    "papermill": {
     "duration": 5.080305,
     "end_time": "2025-07-04T19:30:29.244897",
     "exception": false,
     "start_time": "2025-07-04T19:30:24.164592",
     "status": "completed"
    },
    "tags": []
   },
   "outputs": [
    {
     "data": {
      "image/png": "[encoded data removed]",
      "text/plain": [
       "<Figure size 432x288 with 1 Axes>"
      ]
     },
     "metadata": {
      "needs_background": "light"
     },
     "output_type": "display_data"
    },
    {
     "data": {
      "image/png": "[encoded data removed]",
      "text/plain": [
       "<Figure size 432x288 with 1 Axes>"
      ]
     },
     "metadata": {
      "needs_background": "light"
     },
     "output_type": "display_data"
    }
   ],
   "source": [
    "def xgEst():\n",
    "    numbers=[2, 20, 30, 40, 50, 60, 70, 80, 90, 100, 150]\n",
    "    listMSE=[]\n",
    "    listR2=[]\n",
    "\n",
    "    for n in numbers:\n",
    "        regressor = xgb.XGBRegressor(\n",
    "            n_estimators=n,\n",
    "        )\n",
    "        regressor.fit(X_train, y_train)\n",
    "        y_pred = regressor.predict(X_test)\n",
    "\n",
    "        xgMSE=mean_absolute_error(y_test, y_pred)\n",
    "        xgR2 = r2_score(y_test, y_pred).round(4)\n",
    "        listMSE.append(xgMSE)\n",
    "        listR2.append(xgR2)\n",
    "    plt.plot(numbers, listMSE)\n",
    "    plt.title('n_stimators Error')\n",
    "    plt.ylabel('Error')\n",
    "    plt.xlabel('n_estimators')\n",
    "    plt.show()\n",
    "\n",
    "    plt.plot(numbers, listR2)\n",
    "    plt.title('n_estimators Accuracy')\n",
    "    plt.ylabel('Accurate')\n",
    "    plt.xlabel('n_estimators')\n",
    "    plt.show()\n",
    "xgEst()"
   ]
  },
  {
   "cell_type": "markdown",
   "id": "f49bbded",
   "metadata": {
    "papermill": {
     "duration": 0.018521,
     "end_time": "2025-07-04T19:30:29.282977",
     "exception": false,
     "start_time": "2025-07-04T19:30:29.264456",
     "status": "completed"
    },
    "tags": []
   },
   "source": [
    "### min_child_weight\n",
    "Increasing value will make model more conservative. Typically, a number between 0 and 10 is used."
   ]
  },
  {
   "cell_type": "code",
   "execution_count": 17,
   "id": "80a2e001",
   "metadata": {
    "execution": {
     "iopub.execute_input": "2025-07-04T19:30:29.321096Z",
     "iopub.status.busy": "2025-07-04T19:30:29.320203Z",
     "iopub.status.idle": "2025-07-04T19:30:29.328641Z",
     "shell.execute_reply": "2025-07-04T19:30:29.327579Z"
    },
    "papermill": {
     "duration": 0.029845,
     "end_time": "2025-07-04T19:30:29.330860",
     "exception": false,
     "start_time": "2025-07-04T19:30:29.301015",
     "status": "completed"
    },
    "tags": []
   },
   "outputs": [],
   "source": [
    "def child_weight():\n",
    "    weight=[1, 2, 3, 5, 7, 9, 10, 15]\n",
    "    listMSE=[]\n",
    "    listR2=[]\n",
    "\n",
    "    for w in weight:\n",
    "        regressor = xgb.XGBRegressor(\n",
    "            min_child_weight=w\n",
    "        )\n",
    "        regressor.fit(X_train, y_train)\n",
    "        y_pred = regressor.predict(X_test)\n",
    "\n",
    "        xgMSE=mean_absolute_error(y_test, y_pred)\n",
    "        xgR2 = r2_score(y_test, y_pred).round(4)\n",
    "        listMSE.append(xgMSE)\n",
    "        listR2.append(xgR2)\n",
    "    plt.plot(weight, listMSE)\n",
    "    plt.title('xgBoost')\n",
    "    plt.ylabel('Error')\n",
    "    plt.xlabel('Weight')\n",
    "    plt.legend()\n",
    "    plt.show()\n",
    "\n",
    "    plt.plot(weight, listR2)\n",
    "    plt.title('xgBoost')\n",
    "    plt.ylabel('Accurate')\n",
    "    plt.xlabel('Weight')\n",
    "    plt.legend()\n",
    "    plt.show()\n",
    "#child_weight()"
   ]
  },
  {
   "cell_type": "markdown",
   "id": "2fac13f4",
   "metadata": {
    "papermill": {
     "duration": 0.017685,
     "end_time": "2025-07-04T19:30:29.366837",
     "exception": false,
     "start_time": "2025-07-04T19:30:29.349152",
     "status": "completed"
    },
    "tags": []
   },
   "source": [
    "### gamma\n",
    "Increasing gamma makes model more conservative by causing more shallow trees. Higher gamma will cause less splits. \n",
    "\n",
    "In predicting house predices, increasing Gamma makes almost no difference. It takes gamma to be 1000 to notice a slight decrease in error. This is because house prices have such a high price. Therefore, I do not use gamma in this particular case but maybe I will change my mind later.  "
   ]
  },
  {
   "cell_type": "code",
   "execution_count": 18,
   "id": "8f92d0ab",
   "metadata": {
    "execution": {
     "iopub.execute_input": "2025-07-04T19:30:29.404135Z",
     "iopub.status.busy": "2025-07-04T19:30:29.403756Z",
     "iopub.status.idle": "2025-07-04T19:30:29.412226Z",
     "shell.execute_reply": "2025-07-04T19:30:29.410919Z"
    },
    "papermill": {
     "duration": 0.029918,
     "end_time": "2025-07-04T19:30:29.414603",
     "exception": false,
     "start_time": "2025-07-04T19:30:29.384685",
     "status": "completed"
    },
    "tags": []
   },
   "outputs": [],
   "source": [
    "def runGamma():\n",
    "    gammas=[0, 0.25, 0.5, 1.0, 3, 5, 10]\n",
    "    listMSE=[]\n",
    "    listR2=[]\n",
    "    \n",
    "    for g in gammas:\n",
    "        regressor = xgb.XGBRegressor(\n",
    "            min_split_loss=g\n",
    "        )\n",
    "        regressor.fit(X_train, y_train)\n",
    "        y_pred = regressor.predict(X_test)\n",
    "    \n",
    "        xgMSE=mean_absolute_error(y_test, y_pred)\n",
    "        xgR2 = r2_score(y_test, y_pred).round(4)\n",
    "        listMSE.append(xgMSE)\n",
    "        listR2.append(xgR2)\n",
    "        \n",
    "    plt.plot(gammas, listMSE)\n",
    "    plt.title('Gamma Error')\n",
    "    plt.ylabel('Error')\n",
    "    plt.xlabel('Gammas')\n",
    "    plt.legend()\n",
    "    plt.show()\n",
    "    \n",
    "    plt.plot(gammas, listR2)\n",
    "    plt.title('Gamma R2')\n",
    "    plt.ylabel('Accurate')\n",
    "    plt.xlabel('Gammas')\n",
    "    plt.legend()\n",
    "    plt.show()\n",
    "#runGamma()"
   ]
  },
  {
   "cell_type": "markdown",
   "id": "f9a01ecf",
   "metadata": {
    "papermill": {
     "duration": 0.017198,
     "end_time": "2025-07-04T19:30:29.449626",
     "exception": false,
     "start_time": "2025-07-04T19:30:29.432428",
     "status": "completed"
    },
    "tags": []
   },
   "source": [
    "### learning_rate\n",
    "Learning rate is how fast the model learns. A smaller number is generally used as it produces less error. Typically, a number between 0 and .3 is used. However, the full range is between 0 and 1. "
   ]
  },
  {
   "cell_type": "code",
   "execution_count": 19,
   "id": "7d060ef6",
   "metadata": {
    "execution": {
     "iopub.execute_input": "2025-07-04T19:30:29.488680Z",
     "iopub.status.busy": "2025-07-04T19:30:29.487887Z",
     "iopub.status.idle": "2025-07-04T19:30:33.828685Z",
     "shell.execute_reply": "2025-07-04T19:30:33.827464Z"
    },
    "papermill": {
     "duration": 4.363644,
     "end_time": "2025-07-04T19:30:33.831093",
     "exception": false,
     "start_time": "2025-07-04T19:30:29.467449",
     "status": "completed"
    },
    "tags": []
   },
   "outputs": [
    {
     "data": {
      "image/png": "[encoded data removed]",
      "text/plain": [
       "<Figure size 432x288 with 1 Axes>"
      ]
     },
     "metadata": {
      "needs_background": "light"
     },
     "output_type": "display_data"
    },
    {
     "data": {
      "image/png": "[encoded data removed]",
      "text/plain": [
       "<Figure size 432x288 with 1 Axes>"
      ]
     },
     "metadata": {
      "needs_background": "light"
     },
     "output_type": "display_data"
    }
   ],
   "source": [
    "learning_rate = [0.01, 0.1, 0.2, 0.3, .5, .6, .7, .8, .9]\n",
    "listMSE=[]\n",
    "listR2=[]\n",
    "\n",
    "for l in learning_rate:\n",
    "    regressor = xgb.XGBRegressor(\n",
    "        learning_rate=l\n",
    "    )\n",
    "    regressor.fit(X_train, y_train)\n",
    "    y_pred = regressor.predict(X_test)\n",
    "\n",
    "    xgMSE=mean_absolute_error(y_test, y_pred)\n",
    "    xgR2 = r2_score(y_test, y_pred).round(4)\n",
    "    listMSE.append(xgMSE)\n",
    "    listR2.append(xgR2)\n",
    "    \n",
    "plt.plot(learning_rate, listMSE)\n",
    "plt.title('Learning_rate Error')\n",
    "plt.ylabel('Error')\n",
    "plt.xlabel('Learning_rate')\n",
    "plt.legend()\n",
    "plt.show()\n",
    "\n",
    "plt.plot(learning_rate, listR2)\n",
    "plt.title('Learning_rate R2')\n",
    "plt.ylabel('Accurate')\n",
    "plt.xlabel('Learning_rate')\n",
    "plt.legend()\n",
    "plt.show()"
   ]
  },
  {
   "cell_type": "markdown",
   "id": "948bddb4",
   "metadata": {
    "papermill": {
     "duration": 0.018175,
     "end_time": "2025-07-04T19:30:33.868134",
     "exception": false,
     "start_time": "2025-07-04T19:30:33.849959",
     "status": "completed"
    },
    "tags": []
   },
   "source": [
    "### reg_lambda\n",
    "Reg_lambda uses L2 regularization. Typical range is generally 0 to 10."
   ]
  },
  {
   "cell_type": "code",
   "execution_count": 20,
   "id": "5c6bbfe0",
   "metadata": {
    "execution": {
     "iopub.execute_input": "2025-07-04T19:30:33.908498Z",
     "iopub.status.busy": "2025-07-04T19:30:33.907319Z",
     "iopub.status.idle": "2025-07-04T19:30:35.995049Z",
     "shell.execute_reply": "2025-07-04T19:30:35.993731Z"
    },
    "papermill": {
     "duration": 2.11074,
     "end_time": "2025-07-04T19:30:35.997460",
     "exception": false,
     "start_time": "2025-07-04T19:30:33.886720",
     "status": "completed"
    },
    "tags": []
   },
   "outputs": [
    {
     "data": {
      "image/png": "[encoded data removed]",
      "text/plain": [
       "<Figure size 432x288 with 1 Axes>"
      ]
     },
     "metadata": {
      "needs_background": "light"
     },
     "output_type": "display_data"
    },
    {
     "data": {
      "image/png": "[encoded data removed]",
      "text/plain": [
       "<Figure size 432x288 with 1 Axes>"
      ]
     },
     "metadata": {
      "needs_background": "light"
     },
     "output_type": "display_data"
    }
   ],
   "source": [
    "regLam = [0, 1.0, 5.0, 10.0] #0 is default\n",
    "listMSE=[]\n",
    "listR2=[]\n",
    "\n",
    "for r in regLam:\n",
    "    regressor = xgb.XGBRegressor(\n",
    "        reg_lambda=r,\n",
    "    )\n",
    "    regressor.fit(X_train, y_train)\n",
    "    y_pred = regressor.predict(X_test)\n",
    "\n",
    "    xgMSE=mean_absolute_error(y_test, y_pred)\n",
    "    xgR2 = r2_score(y_test, y_pred).round(4)\n",
    "    listMSE.append(xgMSE)\n",
    "    listR2.append(xgR2)\n",
    "    \n",
    "plt.plot(regLam, listMSE)\n",
    "plt.title('RegLam Error')\n",
    "plt.ylabel('Error')\n",
    "plt.xlabel('RegLam')\n",
    "plt.legend()\n",
    "plt.show()\n",
    "\n",
    "plt.plot(regLam, listR2)\n",
    "plt.title('RegLam R2')\n",
    "plt.ylabel('Accurate')\n",
    "plt.xlabel('RegLam')\n",
    "plt.legend()\n",
    "plt.show()"
   ]
  },
  {
   "cell_type": "markdown",
   "id": "0171f547",
   "metadata": {
    "papermill": {
     "duration": 0.020226,
     "end_time": "2025-07-04T19:30:36.038537",
     "exception": false,
     "start_time": "2025-07-04T19:30:36.018311",
     "status": "completed"
    },
    "tags": []
   },
   "source": [
    "### reg_alpha\n",
    "Reg_alpha uses L1 regularization. Increasing the value makes the model more conservative. Reg_alpha can have a bigger range up to 80."
   ]
  },
  {
   "cell_type": "code",
   "execution_count": 21,
   "id": "4d4f032f",
   "metadata": {
    "execution": {
     "iopub.execute_input": "2025-07-04T19:30:36.079902Z",
     "iopub.status.busy": "2025-07-04T19:30:36.079488Z",
     "iopub.status.idle": "2025-07-04T19:30:36.088352Z",
     "shell.execute_reply": "2025-07-04T19:30:36.087034Z"
    },
    "papermill": {
     "duration": 0.032251,
     "end_time": "2025-07-04T19:30:36.090824",
     "exception": false,
     "start_time": "2025-07-04T19:30:36.058573",
     "status": "completed"
    },
    "tags": []
   },
   "outputs": [],
   "source": [
    "def regAlpha():\n",
    "    numbers = [0, 5.0, 10.0, 20, 30, 40, 50, 60, 70, 80]  #0 is default\n",
    "    listMSE=[]\n",
    "    listR2=[]\n",
    "\n",
    "    for n in numbers:\n",
    "        regressor = xgb.XGBRegressor(\n",
    "            reg_alpha=n,\n",
    "        )\n",
    "        regressor.fit(X_train, y_train)\n",
    "        y_pred = regressor.predict(X_test)\n",
    "\n",
    "        xgMSE=mean_absolute_error(y_test, y_pred)\n",
    "        xgR2 = r2_score(y_test, y_pred).round(4)\n",
    "        listMSE.append(xgMSE)\n",
    "        listR2.append(xgR2)\n",
    "\n",
    "    plt.plot(numbers, listMSE)\n",
    "    plt.title('regAlpha')\n",
    "    plt.ylabel('Error')\n",
    "    plt.xlabel('RegAlpha')\n",
    "    plt.legend()\n",
    "    plt.show()\n",
    "\n",
    "    plt.plot(numbers, listR2)\n",
    "    plt.title('regAlpha')\n",
    "    plt.ylabel('Accurate')\n",
    "    plt.xlabel('RegAlpha')\n",
    "    plt.legend()\n",
    "    plt.show()\n",
    "#regAlpha()"
   ]
  },
  {
   "cell_type": "markdown",
   "id": "1e19e88b",
   "metadata": {
    "papermill": {
     "duration": 0.020617,
     "end_time": "2025-07-04T19:30:36.131952",
     "exception": false,
     "start_time": "2025-07-04T19:30:36.111335",
     "status": "completed"
    },
    "tags": []
   },
   "source": [
    "### colsample_bytree\n",
    "Subsample, colsample_by_tree and colsample_bylevel idea comes from random forest. Generally, at least one of the features should be less than 1 so it randomizes the features. "
   ]
  },
  {
   "cell_type": "code",
   "execution_count": 22,
   "id": "0b333774",
   "metadata": {
    "execution": {
     "iopub.execute_input": "2025-07-04T19:30:36.173676Z",
     "iopub.status.busy": "2025-07-04T19:30:36.172883Z",
     "iopub.status.idle": "2025-07-04T19:30:36.181174Z",
     "shell.execute_reply": "2025-07-04T19:30:36.180031Z"
    },
    "papermill": {
     "duration": 0.031619,
     "end_time": "2025-07-04T19:30:36.183635",
     "exception": false,
     "start_time": "2025-07-04T19:30:36.152016",
     "status": "completed"
    },
    "tags": []
   },
   "outputs": [],
   "source": [
    "def sample_bytree():\n",
    "    numbers = [0.1, 0.5, 0.9, 1]\n",
    "    listMSE=[]\n",
    "    listR2=[]\n",
    "\n",
    "    for n in numbers:\n",
    "        regressor = xgb.XGBRegressor(\n",
    "            colsample_bytree=n\n",
    "        )\n",
    "        regressor.fit(X_train, y_train)\n",
    "        y_pred = regressor.predict(X_test)\n",
    "\n",
    "        xgMSE=mean_absolute_error(y_test, y_pred)\n",
    "        xgR2 = r2_score(y_test, y_pred).round(4)\n",
    "        listMSE.append(xgMSE)\n",
    "        listR2.append(xgR2)\n",
    "\n",
    "    plt.plot(numbers, listMSE)\n",
    "    plt.title('ColSample Error')\n",
    "    plt.ylabel('Error')\n",
    "    plt.xlabel('ColSample')\n",
    "    plt.legend()\n",
    "    plt.show()\n",
    "\n",
    "    plt.plot(numbers, listR2)\n",
    "    plt.title('ColSample R2')\n",
    "    plt.ylabel('Accurate')\n",
    "    plt.xlabel('ColSample')\n",
    "    plt.legend()\n",
    "    plt.show()\n",
    "#sample_bytree()"
   ]
  },
  {
   "cell_type": "markdown",
   "id": "1e494e69",
   "metadata": {
    "papermill": {
     "duration": 0.019144,
     "end_time": "2025-07-04T19:30:36.222432",
     "exception": false,
     "start_time": "2025-07-04T19:30:36.203288",
     "status": "completed"
    },
    "tags": []
   },
   "source": [
    "### Subsample"
   ]
  },
  {
   "cell_type": "code",
   "execution_count": 23,
   "id": "e08c7e05",
   "metadata": {
    "execution": {
     "iopub.execute_input": "2025-07-04T19:30:36.264283Z",
     "iopub.status.busy": "2025-07-04T19:30:36.263496Z",
     "iopub.status.idle": "2025-07-04T19:30:36.271872Z",
     "shell.execute_reply": "2025-07-04T19:30:36.270613Z"
    },
    "papermill": {
     "duration": 0.032204,
     "end_time": "2025-07-04T19:30:36.274514",
     "exception": false,
     "start_time": "2025-07-04T19:30:36.242310",
     "status": "completed"
    },
    "tags": []
   },
   "outputs": [],
   "source": [
    "def subSample():\n",
    "    numbers = [0.1, .2, .3, .4, 0.5, .6, .7, .8, .9, 1]\n",
    "    listMSE=[]\n",
    "    listR2=[]\n",
    "\n",
    "    for n in numbers:\n",
    "        regressor = xgb.XGBRegressor(\n",
    "            subample=n\n",
    "        )\n",
    "        regressor.fit(X_train, y_train)\n",
    "        y_pred = regressor.predict(X_test)\n",
    "\n",
    "        xgMSE=mean_absolute_error(y_test, y_pred)\n",
    "        xgR2 = r2_score(y_test, y_pred).round(4)\n",
    "        listMSE.append(xgMSE)\n",
    "        listR2.append(xgR2)\n",
    "\n",
    "    plt.plot(numbers, listMSE)\n",
    "    plt.title('ColSample Error')\n",
    "    plt.ylabel('Error')\n",
    "    plt.xlabel('subsample')\n",
    "    plt.show()\n",
    "\n",
    "    plt.plot(numbers, listR2)\n",
    "    plt.title('subsample')\n",
    "    plt.ylabel('Accurate')\n",
    "    plt.xlabel('ColSample')\n",
    "    plt.show()\n",
    "#subSample()"
   ]
  },
  {
   "cell_type": "markdown",
   "id": "0dc2a394",
   "metadata": {
    "papermill": {
     "duration": 0.019344,
     "end_time": "2025-07-04T19:30:36.313782",
     "exception": false,
     "start_time": "2025-07-04T19:30:36.294438",
     "status": "completed"
    },
    "tags": []
   },
   "source": [
    "# Grid Search XGBoost\n",
    "Colsample and subsample gives the features randomization like random forest to avoid overfiting. Typically, at least one of them should be less than 1. When tunning all three with either 0.9 or 1, GridSearch prefers colsample by tree and subsample to be 0.9. Colsample_bynode is at 1. "
   ]
  },
  {
   "cell_type": "code",
   "execution_count": 24,
   "id": "c12afb1e",
   "metadata": {
    "execution": {
     "iopub.execute_input": "2025-07-04T19:30:36.354771Z",
     "iopub.status.busy": "2025-07-04T19:30:36.354359Z",
     "iopub.status.idle": "2025-07-04T19:31:01.028761Z",
     "shell.execute_reply": "2025-07-04T19:31:01.027347Z"
    },
    "papermill": {
     "duration": 24.69788,
     "end_time": "2025-07-04T19:31:01.031171",
     "exception": false,
     "start_time": "2025-07-04T19:30:36.333291",
     "status": "completed"
    },
    "tags": []
   },
   "outputs": [
    {
     "name": "stdout",
     "output_type": "stream",
     "text": [
      "Start\n",
      "{'colsample_bynode': 1, 'colsample_bytree': 0.9, 'learning_rate': 0.1, 'max_depth': 4, 'min_child_weight': 10, 'n_estimators': 150, 'reg_alpha': 50, 'reg_lambda': 0, 'subsample': 0.9}\n",
      "Done.  24.66299343109131  seconds\n"
     ]
    }
   ],
   "source": [
    "from sklearn.model_selection import GridSearchCV, RandomizedSearchCV, KFold, StratifiedKFold\n",
    "from sklearn.metrics import f1_score, max_error\n",
    "from xgboost import cv\n",
    "from scipy import stats\n",
    "import time\n",
    "\n",
    "def gridSearch():\n",
    "    start=time.time()\n",
    "    print(\"Start\")\n",
    "\n",
    "    params = {\n",
    "        'learning_rate':[.1, .3],\n",
    "        'n_estimators':[150], #150 best; 100 better than 50 \n",
    "        'max_depth':[2, 3, 4], #Typically picks 2 or 3\n",
    "        'min_child_weight':[10], #10 over 5\n",
    "        'reg_lambda':[0],\n",
    "        'reg_alpha':[50], #Chooses 50 over 20, 30, 40, 70, 100\n",
    "        'colsample_bytree':[.9],\n",
    "        'colsample_bynode':[1],  \n",
    "        'subsample': [.9]\n",
    "    }\n",
    "\n",
    "    boost_gs=xgb.XGBRegressor()\n",
    "    kfold = KFold(n_splits=10, shuffle=True, random_state=7)\n",
    "    boost_gs=GridSearchCV(boost_gs, param_grid=params, scoring='neg_mean_squared_error', cv=kfold)\n",
    "    #boost_gs.fit(X_train, y_train)\n",
    "    boost_gs.fit(X_train, y_train, early_stopping_rounds=10, eval_metric=\"rmse\", eval_set=[(X_test, y_test)], verbose=False)\n",
    "\n",
    "    print(boost_gs.best_params_)\n",
    "    print(\"Done. \", time.time()-start, \" seconds\")\n",
    "gridSearch()"
   ]
  },
  {
   "cell_type": "markdown",
   "id": "b4e1bb9f",
   "metadata": {
    "papermill": {
     "duration": 0.019876,
     "end_time": "2025-07-04T19:31:01.070703",
     "exception": false,
     "start_time": "2025-07-04T19:31:01.050827",
     "status": "completed"
    },
    "tags": []
   },
   "source": [
    "# Final Predictions\n",
    "Here the best models found by using GridSearch:\n",
    "* kFold=10 {'colsample_bytree': 0.9, 'eta': 0.01, 'learning_rate': 0.1, 'max_depth': 3, 'min_child_weight': 10, 'n_estimators': 100, 'reg_alpha': 30, 'reg_lambda': 0}\n",
    "* Using cv=10 {'colsample_bytree': 0.9, 'learning_rate': 0.1, 'max_depth': 3, 'min_child_weight': 10, 'n_estimators': 100, 'reg_alpha': 0, 'reg_lambda': 5}\n",
    "* {'colsample_bytree': 0.9, 'learning_rate': 0.1, 'max_depth': 4, 'min_child_weight': 10, 'n_estimators': 100, 'reg_alpha': 0, 'reg_lambda': 5}\n",
    "* {'colsample_bytree': 0.9, 'learning_rate': 0.1, 'max_depth': 4, 'min_child_weight': 10, 'n_estimators': 50, 'reg_alpha': 0, 'reg_lambda': 0}\n",
    "* Using MSE with cv=10 {'learning_rate': 0.3, 'max_depth': 2, 'min_child_weight': 5, 'n_estimators': 50, 'reg_lambda': 0.5}\n",
    "* Top 47% {'eta': 0.1, 'learning_rate': 0.01, 'max_depth': 4, 'min_child_weight': 10, 'n_estimators': 50, 'reg_lambda': 0.01}\n",
    "* Using Kfold=5 {'colsample_bytree': 0.5, 'learning_rate': 0.5, 'max_depth': 3, 'min_child_weight': 10, 'n_estimators': 50, 'reg_lambda': 0.5}"
   ]
  },
  {
   "cell_type": "code",
   "execution_count": 25,
   "id": "ae85a0d3",
   "metadata": {
    "execution": {
     "iopub.execute_input": "2025-07-04T19:31:01.111638Z",
     "iopub.status.busy": "2025-07-04T19:31:01.111126Z",
     "iopub.status.idle": "2025-07-04T19:31:12.217930Z",
     "shell.execute_reply": "2025-07-04T19:31:12.217052Z"
    },
    "papermill": {
     "duration": 11.130412,
     "end_time": "2025-07-04T19:31:12.220621",
     "exception": false,
     "start_time": "2025-07-04T19:31:01.090209",
     "status": "completed"
    },
    "tags": []
   },
   "outputs": [
    {
     "name": "stdout",
     "output_type": "stream",
     "text": [
      "r2  0.9017 0.9071 || cross validate:  -0.0054\n",
      "mae error  14770.67  ||  14648.2257 cross validate:  122.4443\n"
     ]
    }
   ],
   "source": [
    "xgbFinal = xgb.XGBRegressor(\n",
    "        n_estimators=150,\n",
    "        max_depth=4,\n",
    "        reg_lambda=0,\n",
    "        reg_alpha=50,\n",
    "        min_child_weight=10,\n",
    "        learning_rate=.1,\n",
    "        colsample_bynode=1,\n",
    "        colsample_bytree=.9,\n",
    "        subsample=.9\n",
    "    )\n",
    "\n",
    "#Note: no early stop provides better score:\n",
    "xgbFinal.fit(X_train, y_train)\n",
    "#xgbFinal.fit(X_train, y_train, early_stopping_rounds=10, eval_metric=\"rmse\", eval_set=[(X_test, y_test)], verbose=False)\n",
    "y_pred = xgbFinal.predict(X_test)\n",
    "\n",
    "#Metrics\n",
    "xgMSE=mean_absolute_error(y_test, y_pred).round(2)\n",
    "xgR2 = r2_score(y_test, y_pred).round(4)\n",
    "\n",
    "xgScore = xgbFinal.score(X_test, y_test).round(4)  \n",
    "xgCV = cross_validate(xgbFinal, X, y, cv = 10, scoring='r2')\n",
    "xgCV=xgCV['test_score'].mean().round(4)\n",
    "print(\"r2 \", xgScore, xgCV, \"|| cross validate: \", (xgScore-xgCV).round(4))\n",
    "\n",
    "xgCVerr = cross_validate(xgbFinal, X, y, cv = 10, scoring='neg_mean_absolute_error')\n",
    "xgCVerr=xgCVerr['test_score'].mean().round(4)\n",
    "print(\"mae error \", xgMSE, \" || \", abs(xgCVerr), \"cross validate: \", (xgMSE-abs(xgCVerr)).round(4))"
   ]
  },
  {
   "cell_type": "markdown",
   "id": "e17a3c7b",
   "metadata": {
    "papermill": {
     "duration": 0.019846,
     "end_time": "2025-07-04T19:31:12.260473",
     "exception": false,
     "start_time": "2025-07-04T19:31:12.240627",
     "status": "completed"
    },
    "tags": []
   },
   "source": [
    "### Graph"
   ]
  },
  {
   "cell_type": "code",
   "execution_count": 26,
   "id": "ba0142df",
   "metadata": {
    "execution": {
     "iopub.execute_input": "2025-07-04T19:31:12.302199Z",
     "iopub.status.busy": "2025-07-04T19:31:12.301851Z",
     "iopub.status.idle": "2025-07-04T19:31:13.477178Z",
     "shell.execute_reply": "2025-07-04T19:31:13.475539Z"
    },
    "papermill": {
     "duration": 1.19962,
     "end_time": "2025-07-04T19:31:13.480068",
     "exception": false,
     "start_time": "2025-07-04T19:31:12.280448",
     "status": "completed"
    },
    "tags": []
   },
   "outputs": [
    {
     "data": {
      "image/svg+xml": [
       "<?xml version=\"1.0\" encoding=\"UTF-8\" standalone=\"no\"?>\n",
       "<!DOCTYPE svg PUBLIC \"-//W3C//DTD SVG 1.1//EN\"\n",
       " \"http://www.w3.org/Graphics/SVG/1.1/DTD/svg11.dtd\">\n",
       "<!-- Generated by graphviz version 5.0.0 (20220707.2338)\n",
       " -->\n",
       "<!-- Pages: 1 -->\n",
       "<svg width=\"3178pt\" height=\"392pt\"\n",
       " viewBox=\"0.00 0.00 3177.98 392.00\" xmlns=\"http://www.w3.org/2000/svg\" xmlns:xlink=\"http://www.w3.org/1999/xlink\">\n",
       "<g id=\"graph0\" class=\"graph\" transform=\"scale(1 1) rotate(0) translate(4 388)\">\n",
       "<polygon fill=\"white\" stroke=\"transparent\" points=\"-4,4 -4,-388 3173.98,-388 3173.98,4 -4,4\"/>\n",
       "<!-- 0 -->\n",
       "<g id=\"node1\" class=\"node\">\n",
       "<title>0</title>\n",
       "<ellipse fill=\"none\" stroke=\"black\" cx=\"1597.99\" cy=\"-366\" rx=\"88.28\" ry=\"18\"/>\n",
       "<text text-anchor=\"middle\" x=\"1597.99\" y=\"-362.3\" font-family=\"Times,serif\" font-size=\"14.00\">OverallQual&lt;6.5</text>\n",
       "</g>\n",
       "<!-- 1 -->\n",
       "<g id=\"node2\" class=\"node\">\n",
       "<title>1</title>\n",
       "<ellipse fill=\"none\" stroke=\"black\" cx=\"1189.99\" cy=\"-279\" rx=\"85.59\" ry=\"18\"/>\n",
       "<text text-anchor=\"middle\" x=\"1189.99\" y=\"-275.3\" font-family=\"Times,serif\" font-size=\"14.00\">totalSQ&lt;2175.5</text>\n",
       "</g>\n",
       "<!-- 0&#45;&gt;1 -->\n",
       "<g id=\"edge1\" class=\"edge\">\n",
       "<title>0&#45;&gt;1</title>\n",
       "<path fill=\"none\" stroke=\"#0000ff\" d=\"M1538.67,-352.64C1464.27,-337.14 1336.99,-310.63 1258.52,-294.28\"/>\n",
       "<polygon fill=\"#0000ff\" stroke=\"#0000ff\" points=\"1259.23,-290.85 1248.73,-292.24 1257.8,-297.7 1259.23,-290.85\"/>\n",
       "<text text-anchor=\"middle\" x=\"1463.49\" y=\"-318.8\" font-family=\"Times,serif\" font-size=\"14.00\">yes, missing</text>\n",
       "</g>\n",
       "<!-- 2 -->\n",
       "<g id=\"node3\" class=\"node\">\n",
       "<title>2</title>\n",
       "<ellipse fill=\"none\" stroke=\"black\" cx=\"1990.99\" cy=\"-279\" rx=\"85.59\" ry=\"18\"/>\n",
       "<text text-anchor=\"middle\" x=\"1990.99\" y=\"-275.3\" font-family=\"Times,serif\" font-size=\"14.00\">totalSQ&lt;3233.5</text>\n",
       "</g>\n",
       "<!-- 0&#45;&gt;2 -->\n",
       "<g id=\"edge2\" class=\"edge\">\n",
       "<title>0&#45;&gt;2</title>\n",
       "<path fill=\"none\" stroke=\"#ff0000\" d=\"M1656.4,-352.37C1727.82,-336.92 1848.45,-310.83 1923.69,-294.56\"/>\n",
       "<polygon fill=\"#ff0000\" stroke=\"#ff0000\" points=\"1924.51,-297.96 1933.54,-292.43 1923.03,-291.12 1924.51,-297.96\"/>\n",
       "<text text-anchor=\"middle\" x=\"1827.99\" y=\"-318.8\" font-family=\"Times,serif\" font-size=\"14.00\">no</text>\n",
       "</g>\n",
       "<!-- 3 -->\n",
       "<g id=\"node4\" class=\"node\">\n",
       "<title>3</title>\n",
       "<ellipse fill=\"none\" stroke=\"black\" cx=\"618.99\" cy=\"-192\" rx=\"77.19\" ry=\"18\"/>\n",
       "<text text-anchor=\"middle\" x=\"618.99\" y=\"-188.3\" font-family=\"Times,serif\" font-size=\"14.00\">totalSQ&lt;1594</text>\n",
       "</g>\n",
       "<!-- 1&#45;&gt;3 -->\n",
       "<g id=\"edge3\" class=\"edge\">\n",
       "<title>1&#45;&gt;3</title>\n",
       "<path fill=\"none\" stroke=\"#0000ff\" d=\"M1122.25,-267.92C1014.25,-251.84 803.9,-220.53 692.42,-203.93\"/>\n",
       "<polygon fill=\"#0000ff\" stroke=\"#0000ff\" points=\"692.68,-200.43 682.28,-202.42 691.65,-207.35 692.68,-200.43\"/>\n",
       "<text text-anchor=\"middle\" x=\"983.49\" y=\"-231.8\" font-family=\"Times,serif\" font-size=\"14.00\">yes, missing</text>\n",
       "</g>\n",
       "<!-- 4 -->\n",
       "<g id=\"node5\" class=\"node\">\n",
       "<title>4</title>\n",
       "<ellipse fill=\"none\" stroke=\"black\" cx=\"1189.99\" cy=\"-192\" rx=\"88.28\" ry=\"18\"/>\n",
       "<text text-anchor=\"middle\" x=\"1189.99\" y=\"-188.3\" font-family=\"Times,serif\" font-size=\"14.00\">OverallQual&lt;5.5</text>\n",
       "</g>\n",
       "<!-- 1&#45;&gt;4 -->\n",
       "<g id=\"edge4\" class=\"edge\">\n",
       "<title>1&#45;&gt;4</title>\n",
       "<path fill=\"none\" stroke=\"#ff0000\" d=\"M1189.99,-260.8C1189.99,-249.16 1189.99,-233.55 1189.99,-220.24\"/>\n",
       "<polygon fill=\"#ff0000\" stroke=\"#ff0000\" points=\"1193.49,-220.18 1189.99,-210.18 1186.49,-220.18 1193.49,-220.18\"/>\n",
       "<text text-anchor=\"middle\" x=\"1198.99\" y=\"-231.8\" font-family=\"Times,serif\" font-size=\"14.00\">no</text>\n",
       "</g>\n",
       "<!-- 5 -->\n",
       "<g id=\"node18\" class=\"node\">\n",
       "<title>5</title>\n",
       "<ellipse fill=\"none\" stroke=\"black\" cx=\"1990.99\" cy=\"-192\" rx=\"85.59\" ry=\"18\"/>\n",
       "<text text-anchor=\"middle\" x=\"1990.99\" y=\"-188.3\" font-family=\"Times,serif\" font-size=\"14.00\">totalSQ&lt;2888.5</text>\n",
       "</g>\n",
       "<!-- 2&#45;&gt;5 -->\n",
       "<g id=\"edge17\" class=\"edge\">\n",
       "<title>2&#45;&gt;5</title>\n",
       "<path fill=\"none\" stroke=\"#0000ff\" d=\"M1990.99,-260.8C1990.99,-249.16 1990.99,-233.55 1990.99,-220.24\"/>\n",
       "<polygon fill=\"#0000ff\" stroke=\"#0000ff\" points=\"1994.49,-220.18 1990.99,-210.18 1987.49,-220.18 1994.49,-220.18\"/>\n",
       "<text text-anchor=\"middle\" x=\"2035.49\" y=\"-231.8\" font-family=\"Times,serif\" font-size=\"14.00\">yes, missing</text>\n",
       "</g>\n",
       "<!-- 6 -->\n",
       "<g id=\"node19\" class=\"node\">\n",
       "<title>6</title>\n",
       "<ellipse fill=\"none\" stroke=\"black\" cx=\"2554.99\" cy=\"-192\" rx=\"77.19\" ry=\"18\"/>\n",
       "<text text-anchor=\"middle\" x=\"2554.99\" y=\"-188.3\" font-family=\"Times,serif\" font-size=\"14.00\">totalSQ&lt;3732</text>\n",
       "</g>\n",
       "<!-- 2&#45;&gt;6 -->\n",
       "<g id=\"edge18\" class=\"edge\">\n",
       "<title>2&#45;&gt;6</title>\n",
       "<path fill=\"none\" stroke=\"#ff0000\" d=\"M2058.46,-267.83C2165.07,-251.76 2371.65,-220.63 2481.75,-204.04\"/>\n",
       "<polygon fill=\"#ff0000\" stroke=\"#ff0000\" points=\"2482.41,-207.48 2491.77,-202.53 2481.36,-200.56 2482.41,-207.48\"/>\n",
       "<text text-anchor=\"middle\" x=\"2315.99\" y=\"-231.8\" font-family=\"Times,serif\" font-size=\"14.00\">no</text>\n",
       "</g>\n",
       "<!-- 7 -->\n",
       "<g id=\"node6\" class=\"node\">\n",
       "<title>7</title>\n",
       "<ellipse fill=\"none\" stroke=\"black\" cx=\"290.99\" cy=\"-105\" rx=\"81.49\" ry=\"18\"/>\n",
       "<text text-anchor=\"middle\" x=\"290.99\" y=\"-101.3\" font-family=\"Times,serif\" font-size=\"14.00\">CentralAir&lt;0.5</text>\n",
       "</g>\n",
       "<!-- 3&#45;&gt;7 -->\n",
       "<g id=\"edge5\" class=\"edge\">\n",
       "<title>3&#45;&gt;7</title>\n",
       "<path fill=\"none\" stroke=\"#0000ff\" d=\"M569.18,-178.09C510.74,-162.95 413.92,-137.86 351.29,-121.63\"/>\n",
       "<polygon fill=\"#0000ff\" stroke=\"#0000ff\" points=\"352.11,-118.22 341.55,-119.1 350.35,-125 352.11,-118.22\"/>\n",
       "<text text-anchor=\"middle\" x=\"519.49\" y=\"-144.8\" font-family=\"Times,serif\" font-size=\"14.00\">yes, missing</text>\n",
       "</g>\n",
       "<!-- 8 -->\n",
       "<g id=\"node7\" class=\"node\">\n",
       "<title>8</title>\n",
       "<ellipse fill=\"none\" stroke=\"black\" cx=\"618.99\" cy=\"-105\" rx=\"93.68\" ry=\"18\"/>\n",
       "<text text-anchor=\"middle\" x=\"618.99\" y=\"-101.3\" font-family=\"Times,serif\" font-size=\"14.00\">YearBuilt&lt;1943.5</text>\n",
       "</g>\n",
       "<!-- 3&#45;&gt;8 -->\n",
       "<g id=\"edge6\" class=\"edge\">\n",
       "<title>3&#45;&gt;8</title>\n",
       "<path fill=\"none\" stroke=\"#ff0000\" d=\"M618.99,-173.8C618.99,-162.16 618.99,-146.55 618.99,-133.24\"/>\n",
       "<polygon fill=\"#ff0000\" stroke=\"#ff0000\" points=\"622.49,-133.18 618.99,-123.18 615.49,-133.18 622.49,-133.18\"/>\n",
       "<text text-anchor=\"middle\" x=\"627.99\" y=\"-144.8\" font-family=\"Times,serif\" font-size=\"14.00\">no</text>\n",
       "</g>\n",
       "<!-- 9 -->\n",
       "<g id=\"node12\" class=\"node\">\n",
       "<title>9</title>\n",
       "<ellipse fill=\"none\" stroke=\"black\" cx=\"1081.99\" cy=\"-105\" rx=\"113.18\" ry=\"18\"/>\n",
       "<text text-anchor=\"middle\" x=\"1081.99\" y=\"-101.3\" font-family=\"Times,serif\" font-size=\"14.00\">total_porch_area&lt;315</text>\n",
       "</g>\n",
       "<!-- 4&#45;&gt;9 -->\n",
       "<g id=\"edge11\" class=\"edge\">\n",
       "<title>4&#45;&gt;9</title>\n",
       "<path fill=\"none\" stroke=\"#0000ff\" d=\"M1163,-174.79C1154.17,-169.15 1144.46,-162.58 1135.99,-156 1125.75,-148.03 1115.13,-138.52 1106.05,-129.94\"/>\n",
       "<polygon fill=\"#0000ff\" stroke=\"#0000ff\" points=\"1108.47,-127.4 1098.83,-123 1103.62,-132.45 1108.47,-127.4\"/>\n",
       "<text text-anchor=\"middle\" x=\"1180.49\" y=\"-144.8\" font-family=\"Times,serif\" font-size=\"14.00\">yes, missing</text>\n",
       "</g>\n",
       "<!-- 10 -->\n",
       "<g id=\"node13\" class=\"node\">\n",
       "<title>10</title>\n",
       "<ellipse fill=\"none\" stroke=\"black\" cx=\"1298.99\" cy=\"-105\" rx=\"85.59\" ry=\"18\"/>\n",
       "<text text-anchor=\"middle\" x=\"1298.99\" y=\"-101.3\" font-family=\"Times,serif\" font-size=\"14.00\">totalSQ&lt;3219.5</text>\n",
       "</g>\n",
       "<!-- 4&#45;&gt;10 -->\n",
       "<g id=\"edge12\" class=\"edge\">\n",
       "<title>4&#45;&gt;10</title>\n",
       "<path fill=\"none\" stroke=\"#ff0000\" d=\"M1211.27,-174.41C1227.92,-161.42 1251.27,-143.21 1269.69,-128.85\"/>\n",
       "<polygon fill=\"#ff0000\" stroke=\"#ff0000\" points=\"1272.04,-131.46 1277.77,-122.55 1267.73,-125.94 1272.04,-131.46\"/>\n",
       "<text text-anchor=\"middle\" x=\"1260.99\" y=\"-144.8\" font-family=\"Times,serif\" font-size=\"14.00\">no</text>\n",
       "</g>\n",
       "<!-- 15 -->\n",
       "<g id=\"node8\" class=\"node\">\n",
       "<title>15</title>\n",
       "<ellipse fill=\"none\" stroke=\"black\" cx=\"90.99\" cy=\"-18\" rx=\"90.98\" ry=\"18\"/>\n",
       "<text text-anchor=\"middle\" x=\"90.99\" y=\"-14.3\" font-family=\"Times,serif\" font-size=\"14.00\">leaf=9872.53418</text>\n",
       "</g>\n",
       "<!-- 7&#45;&gt;15 -->\n",
       "<g id=\"edge7\" class=\"edge\">\n",
       "<title>7&#45;&gt;15</title>\n",
       "<path fill=\"none\" stroke=\"#0000ff\" d=\"M249.98,-89.34C233.69,-83.32 214.85,-76.1 197.99,-69 176.23,-59.84 152.4,-48.8 132.76,-39.43\"/>\n",
       "<polygon fill=\"#0000ff\" stroke=\"#0000ff\" points=\"134.01,-36.15 123.48,-34.98 130.98,-42.46 134.01,-36.15\"/>\n",
       "<text text-anchor=\"middle\" x=\"242.49\" y=\"-57.8\" font-family=\"Times,serif\" font-size=\"14.00\">yes, missing</text>\n",
       "</g>\n",
       "<!-- 16 -->\n",
       "<g id=\"node9\" class=\"node\">\n",
       "<title>16</title>\n",
       "<ellipse fill=\"none\" stroke=\"black\" cx=\"290.99\" cy=\"-18\" rx=\"90.98\" ry=\"18\"/>\n",
       "<text text-anchor=\"middle\" x=\"290.99\" y=\"-14.3\" font-family=\"Times,serif\" font-size=\"14.00\">leaf=7304.96875</text>\n",
       "</g>\n",
       "<!-- 7&#45;&gt;16 -->\n",
       "<g id=\"edge8\" class=\"edge\">\n",
       "<title>7&#45;&gt;16</title>\n",
       "<path fill=\"none\" stroke=\"#ff0000\" d=\"M290.99,-86.8C290.99,-75.16 290.99,-59.55 290.99,-46.24\"/>\n",
       "<polygon fill=\"#ff0000\" stroke=\"#ff0000\" points=\"294.49,-46.18 290.99,-36.18 287.49,-46.18 294.49,-46.18\"/>\n",
       "<text text-anchor=\"middle\" x=\"299.99\" y=\"-57.8\" font-family=\"Times,serif\" font-size=\"14.00\">no</text>\n",
       "</g>\n",
       "<!-- 17 -->\n",
       "<g id=\"node10\" class=\"node\">\n",
       "<title>17</title>\n",
       "<ellipse fill=\"none\" stroke=\"black\" cx=\"490.99\" cy=\"-18\" rx=\"90.98\" ry=\"18\"/>\n",
       "<text text-anchor=\"middle\" x=\"490.99\" y=\"-14.3\" font-family=\"Times,serif\" font-size=\"14.00\">leaf=11061.5195</text>\n",
       "</g>\n",
       "<!-- 8&#45;&gt;17 -->\n",
       "<g id=\"edge9\" class=\"edge\">\n",
       "<title>8&#45;&gt;17</title>\n",
       "<path fill=\"none\" stroke=\"#0000ff\" d=\"M589.09,-87.79C579.05,-82.1 567.89,-75.5 557.99,-69 545.2,-60.6 531.59,-50.64 519.99,-41.83\"/>\n",
       "<polygon fill=\"#0000ff\" stroke=\"#0000ff\" points=\"522.01,-38.97 511.95,-35.66 517.75,-44.52 522.01,-38.97\"/>\n",
       "<text text-anchor=\"middle\" x=\"602.49\" y=\"-57.8\" font-family=\"Times,serif\" font-size=\"14.00\">yes, missing</text>\n",
       "</g>\n",
       "<!-- 18 -->\n",
       "<g id=\"node11\" class=\"node\">\n",
       "<title>18</title>\n",
       "<ellipse fill=\"none\" stroke=\"black\" cx=\"690.99\" cy=\"-18\" rx=\"90.98\" ry=\"18\"/>\n",
       "<text text-anchor=\"middle\" x=\"690.99\" y=\"-14.3\" font-family=\"Times,serif\" font-size=\"14.00\">leaf=13130.9639</text>\n",
       "</g>\n",
       "<!-- 8&#45;&gt;18 -->\n",
       "<g id=\"edge10\" class=\"edge\">\n",
       "<title>8&#45;&gt;18</title>\n",
       "<path fill=\"none\" stroke=\"#ff0000\" d=\"M633.22,-87.21C643.7,-74.83 658.13,-57.8 669.94,-43.85\"/>\n",
       "<polygon fill=\"#ff0000\" stroke=\"#ff0000\" points=\"672.76,-45.94 676.55,-36.05 667.42,-41.42 672.76,-45.94\"/>\n",
       "<text text-anchor=\"middle\" x=\"668.99\" y=\"-57.8\" font-family=\"Times,serif\" font-size=\"14.00\">no</text>\n",
       "</g>\n",
       "<!-- 19 -->\n",
       "<g id=\"node14\" class=\"node\">\n",
       "<title>19</title>\n",
       "<ellipse fill=\"none\" stroke=\"black\" cx=\"890.99\" cy=\"-18\" rx=\"90.98\" ry=\"18\"/>\n",
       "<text text-anchor=\"middle\" x=\"890.99\" y=\"-14.3\" font-family=\"Times,serif\" font-size=\"14.00\">leaf=13932.6162</text>\n",
       "</g>\n",
       "<!-- 9&#45;&gt;19 -->\n",
       "<g id=\"edge13\" class=\"edge\">\n",
       "<title>9&#45;&gt;19</title>\n",
       "<path fill=\"none\" stroke=\"#0000ff\" d=\"M1039.6,-88.14C1024.75,-82.37 1008.03,-75.63 992.99,-69 972.31,-59.88 949.69,-48.9 931.03,-39.56\"/>\n",
       "<polygon fill=\"#0000ff\" stroke=\"#0000ff\" points=\"932.44,-36.35 921.93,-34.98 929.29,-42.6 932.44,-36.35\"/>\n",
       "<text text-anchor=\"middle\" x=\"1037.49\" y=\"-57.8\" font-family=\"Times,serif\" font-size=\"14.00\">yes, missing</text>\n",
       "</g>\n",
       "<!-- 20 -->\n",
       "<g id=\"node15\" class=\"node\">\n",
       "<title>20</title>\n",
       "<ellipse fill=\"none\" stroke=\"black\" cx=\"1090.99\" cy=\"-18\" rx=\"90.98\" ry=\"18\"/>\n",
       "<text text-anchor=\"middle\" x=\"1090.99\" y=\"-14.3\" font-family=\"Times,serif\" font-size=\"14.00\">leaf=16701.5625</text>\n",
       "</g>\n",
       "<!-- 9&#45;&gt;20 -->\n",
       "<g id=\"edge14\" class=\"edge\">\n",
       "<title>9&#45;&gt;20</title>\n",
       "<path fill=\"none\" stroke=\"#ff0000\" d=\"M1083.81,-86.8C1085.05,-75.16 1086.7,-59.55 1088.11,-46.24\"/>\n",
       "<polygon fill=\"#ff0000\" stroke=\"#ff0000\" points=\"1091.6,-46.49 1089.17,-36.18 1084.64,-45.75 1091.6,-46.49\"/>\n",
       "<text text-anchor=\"middle\" x=\"1096.99\" y=\"-57.8\" font-family=\"Times,serif\" font-size=\"14.00\">no</text>\n",
       "</g>\n",
       "<!-- 21 -->\n",
       "<g id=\"node16\" class=\"node\">\n",
       "<title>21</title>\n",
       "<ellipse fill=\"none\" stroke=\"black\" cx=\"1290.99\" cy=\"-18\" rx=\"90.98\" ry=\"18\"/>\n",
       "<text text-anchor=\"middle\" x=\"1290.99\" y=\"-14.3\" font-family=\"Times,serif\" font-size=\"14.00\">leaf=16922.9395</text>\n",
       "</g>\n",
       "<!-- 10&#45;&gt;21 -->\n",
       "<g id=\"edge15\" class=\"edge\">\n",
       "<title>10&#45;&gt;21</title>\n",
       "<path fill=\"none\" stroke=\"#0000ff\" d=\"M1297.37,-86.8C1296.28,-75.16 1294.81,-59.55 1293.56,-46.24\"/>\n",
       "<polygon fill=\"#0000ff\" stroke=\"#0000ff\" points=\"1297.03,-45.8 1292.61,-36.18 1290.06,-46.46 1297.03,-45.8\"/>\n",
       "<text text-anchor=\"middle\" x=\"1340.49\" y=\"-57.8\" font-family=\"Times,serif\" font-size=\"14.00\">yes, missing</text>\n",
       "</g>\n",
       "<!-- 22 -->\n",
       "<g id=\"node17\" class=\"node\">\n",
       "<title>22</title>\n",
       "<ellipse fill=\"none\" stroke=\"black\" cx=\"1490.99\" cy=\"-18\" rx=\"90.98\" ry=\"18\"/>\n",
       "<text text-anchor=\"middle\" x=\"1490.99\" y=\"-14.3\" font-family=\"Times,serif\" font-size=\"14.00\">leaf=21443.4453</text>\n",
       "</g>\n",
       "<!-- 10&#45;&gt;22 -->\n",
       "<g id=\"edge16\" class=\"edge\">\n",
       "<title>10&#45;&gt;22</title>\n",
       "<path fill=\"none\" stroke=\"#ff0000\" d=\"M1339.61,-89.04C1355.18,-83.09 1373.02,-76 1388.99,-69 1409.7,-59.92 1432.31,-48.95 1450.97,-39.59\"/>\n",
       "<polygon fill=\"#ff0000\" stroke=\"#ff0000\" points=\"1452.71,-42.64 1460.06,-35.01 1449.56,-36.39 1452.71,-42.64\"/>\n",
       "<text text-anchor=\"middle\" x=\"1429.99\" y=\"-57.8\" font-family=\"Times,serif\" font-size=\"14.00\">no</text>\n",
       "</g>\n",
       "<!-- 11 -->\n",
       "<g id=\"node20\" class=\"node\">\n",
       "<title>11</title>\n",
       "<ellipse fill=\"none\" stroke=\"black\" cx=\"1890.99\" cy=\"-105\" rx=\"85.59\" ry=\"18\"/>\n",
       "<text text-anchor=\"middle\" x=\"1890.99\" y=\"-101.3\" font-family=\"Times,serif\" font-size=\"14.00\">totalSQ&lt;2475.5</text>\n",
       "</g>\n",
       "<!-- 5&#45;&gt;11 -->\n",
       "<g id=\"edge19\" class=\"edge\">\n",
       "<title>5&#45;&gt;11</title>\n",
       "<path fill=\"none\" stroke=\"#0000ff\" d=\"M1962.55,-174.95C1953.69,-169.42 1944.11,-162.87 1935.99,-156 1927.07,-148.45 1918.26,-139.17 1910.82,-130.66\"/>\n",
       "<polygon fill=\"#0000ff\" stroke=\"#0000ff\" points=\"1913.3,-128.17 1904.16,-122.82 1907.96,-132.71 1913.3,-128.17\"/>\n",
       "<text text-anchor=\"middle\" x=\"1980.49\" y=\"-144.8\" font-family=\"Times,serif\" font-size=\"14.00\">yes, missing</text>\n",
       "</g>\n",
       "<!-- 12 -->\n",
       "<g id=\"node21\" class=\"node\">\n",
       "<title>12</title>\n",
       "<ellipse fill=\"none\" stroke=\"black\" cx=\"2090.99\" cy=\"-105\" rx=\"88.28\" ry=\"18\"/>\n",
       "<text text-anchor=\"middle\" x=\"2090.99\" y=\"-101.3\" font-family=\"Times,serif\" font-size=\"14.00\">OverallQual&lt;7.5</text>\n",
       "</g>\n",
       "<!-- 5&#45;&gt;12 -->\n",
       "<g id=\"edge20\" class=\"edge\">\n",
       "<title>5&#45;&gt;12</title>\n",
       "<path fill=\"none\" stroke=\"#ff0000\" d=\"M2010.75,-174.21C2025.81,-161.4 2046.75,-143.61 2063.46,-129.4\"/>\n",
       "<polygon fill=\"#ff0000\" stroke=\"#ff0000\" points=\"2065.92,-131.9 2071.28,-122.76 2061.39,-126.57 2065.92,-131.9\"/>\n",
       "<text text-anchor=\"middle\" x=\"2055.99\" y=\"-144.8\" font-family=\"Times,serif\" font-size=\"14.00\">no</text>\n",
       "</g>\n",
       "<!-- 13 -->\n",
       "<g id=\"node26\" class=\"node\">\n",
       "<title>13</title>\n",
       "<ellipse fill=\"none\" stroke=\"black\" cx=\"2554.99\" cy=\"-105\" rx=\"94.48\" ry=\"18\"/>\n",
       "<text text-anchor=\"middle\" x=\"2554.99\" y=\"-101.3\" font-family=\"Times,serif\" font-size=\"14.00\">BsmtFinSF1&lt;866</text>\n",
       "</g>\n",
       "<!-- 6&#45;&gt;13 -->\n",
       "<g id=\"edge25\" class=\"edge\">\n",
       "<title>6&#45;&gt;13</title>\n",
       "<path fill=\"none\" stroke=\"#0000ff\" d=\"M2554.99,-173.8C2554.99,-162.16 2554.99,-146.55 2554.99,-133.24\"/>\n",
       "<polygon fill=\"#0000ff\" stroke=\"#0000ff\" points=\"2558.49,-133.18 2554.99,-123.18 2551.49,-133.18 2558.49,-133.18\"/>\n",
       "<text text-anchor=\"middle\" x=\"2599.49\" y=\"-144.8\" font-family=\"Times,serif\" font-size=\"14.00\">yes, missing</text>\n",
       "</g>\n",
       "<!-- 14 -->\n",
       "<g id=\"node27\" class=\"node\">\n",
       "<title>14</title>\n",
       "<ellipse fill=\"none\" stroke=\"black\" cx=\"2878.99\" cy=\"-105\" rx=\"93.68\" ry=\"18\"/>\n",
       "<text text-anchor=\"middle\" x=\"2878.99\" y=\"-101.3\" font-family=\"Times,serif\" font-size=\"14.00\">YearBuilt&lt;2004.5</text>\n",
       "</g>\n",
       "<!-- 6&#45;&gt;14 -->\n",
       "<g id=\"edge26\" class=\"edge\">\n",
       "<title>6&#45;&gt;14</title>\n",
       "<path fill=\"none\" stroke=\"#ff0000\" d=\"M2604.2,-178.09C2660.88,-163.22 2754.13,-138.76 2816.05,-122.51\"/>\n",
       "<polygon fill=\"#ff0000\" stroke=\"#ff0000\" points=\"2817.3,-125.8 2826.08,-119.88 2815.52,-119.03 2817.3,-125.8\"/>\n",
       "<text text-anchor=\"middle\" x=\"2745.99\" y=\"-144.8\" font-family=\"Times,serif\" font-size=\"14.00\">no</text>\n",
       "</g>\n",
       "<!-- 23 -->\n",
       "<g id=\"node22\" class=\"node\">\n",
       "<title>23</title>\n",
       "<ellipse fill=\"none\" stroke=\"black\" cx=\"1690.99\" cy=\"-18\" rx=\"90.98\" ry=\"18\"/>\n",
       "<text text-anchor=\"middle\" x=\"1690.99\" y=\"-14.3\" font-family=\"Times,serif\" font-size=\"14.00\">leaf=16836.7168</text>\n",
       "</g>\n",
       "<!-- 11&#45;&gt;23 -->\n",
       "<g id=\"edge21\" class=\"edge\">\n",
       "<title>11&#45;&gt;23</title>\n",
       "<path fill=\"none\" stroke=\"#0000ff\" d=\"M1849.52,-89.17C1833.33,-83.18 1814.69,-76.03 1797.99,-69 1776.23,-59.84 1752.4,-48.8 1732.76,-39.43\"/>\n",
       "<polygon fill=\"#0000ff\" stroke=\"#0000ff\" points=\"1734.01,-36.15 1723.48,-34.98 1730.98,-42.46 1734.01,-36.15\"/>\n",
       "<text text-anchor=\"middle\" x=\"1842.49\" y=\"-57.8\" font-family=\"Times,serif\" font-size=\"14.00\">yes, missing</text>\n",
       "</g>\n",
       "<!-- 24 -->\n",
       "<g id=\"node23\" class=\"node\">\n",
       "<title>24</title>\n",
       "<ellipse fill=\"none\" stroke=\"black\" cx=\"1890.99\" cy=\"-18\" rx=\"90.98\" ry=\"18\"/>\n",
       "<text text-anchor=\"middle\" x=\"1890.99\" y=\"-14.3\" font-family=\"Times,serif\" font-size=\"14.00\">leaf=20238.9629</text>\n",
       "</g>\n",
       "<!-- 11&#45;&gt;24 -->\n",
       "<g id=\"edge22\" class=\"edge\">\n",
       "<title>11&#45;&gt;24</title>\n",
       "<path fill=\"none\" stroke=\"#ff0000\" d=\"M1890.99,-86.8C1890.99,-75.16 1890.99,-59.55 1890.99,-46.24\"/>\n",
       "<polygon fill=\"#ff0000\" stroke=\"#ff0000\" points=\"1894.49,-46.18 1890.99,-36.18 1887.49,-46.18 1894.49,-46.18\"/>\n",
       "<text text-anchor=\"middle\" x=\"1899.99\" y=\"-57.8\" font-family=\"Times,serif\" font-size=\"14.00\">no</text>\n",
       "</g>\n",
       "<!-- 25 -->\n",
       "<g id=\"node24\" class=\"node\">\n",
       "<title>25</title>\n",
       "<ellipse fill=\"none\" stroke=\"black\" cx=\"2090.99\" cy=\"-18\" rx=\"90.98\" ry=\"18\"/>\n",
       "<text text-anchor=\"middle\" x=\"2090.99\" y=\"-14.3\" font-family=\"Times,serif\" font-size=\"14.00\">leaf=22780.6855</text>\n",
       "</g>\n",
       "<!-- 12&#45;&gt;25 -->\n",
       "<g id=\"edge23\" class=\"edge\">\n",
       "<title>12&#45;&gt;25</title>\n",
       "<path fill=\"none\" stroke=\"#0000ff\" d=\"M2090.99,-86.8C2090.99,-75.16 2090.99,-59.55 2090.99,-46.24\"/>\n",
       "<polygon fill=\"#0000ff\" stroke=\"#0000ff\" points=\"2094.49,-46.18 2090.99,-36.18 2087.49,-46.18 2094.49,-46.18\"/>\n",
       "<text text-anchor=\"middle\" x=\"2135.49\" y=\"-57.8\" font-family=\"Times,serif\" font-size=\"14.00\">yes, missing</text>\n",
       "</g>\n",
       "<!-- 26 -->\n",
       "<g id=\"node25\" class=\"node\">\n",
       "<title>26</title>\n",
       "<ellipse fill=\"none\" stroke=\"black\" cx=\"2290.99\" cy=\"-18\" rx=\"90.98\" ry=\"18\"/>\n",
       "<text text-anchor=\"middle\" x=\"2290.99\" y=\"-14.3\" font-family=\"Times,serif\" font-size=\"14.00\">leaf=25272.2871</text>\n",
       "</g>\n",
       "<!-- 12&#45;&gt;26 -->\n",
       "<g id=\"edge24\" class=\"edge\">\n",
       "<title>12&#45;&gt;26</title>\n",
       "<path fill=\"none\" stroke=\"#ff0000\" d=\"M2132.93,-89C2149.01,-83.04 2167.46,-75.96 2183.99,-69 2205.75,-59.84 2229.59,-48.8 2249.23,-39.43\"/>\n",
       "<polygon fill=\"#ff0000\" stroke=\"#ff0000\" points=\"2251,-42.46 2258.5,-34.98 2247.97,-36.15 2251,-42.46\"/>\n",
       "<text text-anchor=\"middle\" x=\"2225.99\" y=\"-57.8\" font-family=\"Times,serif\" font-size=\"14.00\">no</text>\n",
       "</g>\n",
       "<!-- 27 -->\n",
       "<g id=\"node28\" class=\"node\">\n",
       "<title>27</title>\n",
       "<ellipse fill=\"none\" stroke=\"black\" cx=\"2484.99\" cy=\"-18\" rx=\"85.29\" ry=\"18\"/>\n",
       "<text text-anchor=\"middle\" x=\"2484.99\" y=\"-14.3\" font-family=\"Times,serif\" font-size=\"14.00\">leaf=25679.127</text>\n",
       "</g>\n",
       "<!-- 13&#45;&gt;27 -->\n",
       "<g id=\"edge27\" class=\"edge\">\n",
       "<title>13&#45;&gt;27</title>\n",
       "<path fill=\"none\" stroke=\"#0000ff\" d=\"M2540.83,-86.8C2530.61,-74.39 2516.66,-57.46 2505.27,-43.62\"/>\n",
       "<polygon fill=\"#0000ff\" stroke=\"#0000ff\" points=\"2507.96,-41.38 2498.9,-35.89 2502.55,-45.83 2507.96,-41.38\"/>\n",
       "<text text-anchor=\"middle\" x=\"2569.49\" y=\"-57.8\" font-family=\"Times,serif\" font-size=\"14.00\">yes, missing</text>\n",
       "</g>\n",
       "<!-- 28 -->\n",
       "<g id=\"node29\" class=\"node\">\n",
       "<title>28</title>\n",
       "<ellipse fill=\"none\" stroke=\"black\" cx=\"2678.99\" cy=\"-18\" rx=\"90.98\" ry=\"18\"/>\n",
       "<text text-anchor=\"middle\" x=\"2678.99\" y=\"-14.3\" font-family=\"Times,serif\" font-size=\"14.00\">leaf=31317.0527</text>\n",
       "</g>\n",
       "<!-- 13&#45;&gt;28 -->\n",
       "<g id=\"edge28\" class=\"edge\">\n",
       "<title>13&#45;&gt;28</title>\n",
       "<path fill=\"none\" stroke=\"#ff0000\" d=\"M2586.42,-87.99C2596.71,-82.36 2608.06,-75.75 2617.99,-69 2629.91,-60.9 2642.33,-51.02 2652.83,-42.18\"/>\n",
       "<polygon fill=\"#ff0000\" stroke=\"#ff0000\" points=\"2655.11,-44.83 2660.44,-35.68 2650.57,-39.51 2655.11,-44.83\"/>\n",
       "<text text-anchor=\"middle\" x=\"2646.99\" y=\"-57.8\" font-family=\"Times,serif\" font-size=\"14.00\">no</text>\n",
       "</g>\n",
       "<!-- 29 -->\n",
       "<g id=\"node30\" class=\"node\">\n",
       "<title>29</title>\n",
       "<ellipse fill=\"none\" stroke=\"black\" cx=\"2878.99\" cy=\"-18\" rx=\"90.98\" ry=\"18\"/>\n",
       "<text text-anchor=\"middle\" x=\"2878.99\" y=\"-14.3\" font-family=\"Times,serif\" font-size=\"14.00\">leaf=31987.9414</text>\n",
       "</g>\n",
       "<!-- 14&#45;&gt;29 -->\n",
       "<g id=\"edge29\" class=\"edge\">\n",
       "<title>14&#45;&gt;29</title>\n",
       "<path fill=\"none\" stroke=\"#0000ff\" d=\"M2878.99,-86.8C2878.99,-75.16 2878.99,-59.55 2878.99,-46.24\"/>\n",
       "<polygon fill=\"#0000ff\" stroke=\"#0000ff\" points=\"2882.49,-46.18 2878.99,-36.18 2875.49,-46.18 2882.49,-46.18\"/>\n",
       "<text text-anchor=\"middle\" x=\"2923.49\" y=\"-57.8\" font-family=\"Times,serif\" font-size=\"14.00\">yes, missing</text>\n",
       "</g>\n",
       "<!-- 30 -->\n",
       "<g id=\"node31\" class=\"node\">\n",
       "<title>30</title>\n",
       "<ellipse fill=\"none\" stroke=\"black\" cx=\"3078.99\" cy=\"-18\" rx=\"90.98\" ry=\"18\"/>\n",
       "<text text-anchor=\"middle\" x=\"3078.99\" y=\"-14.3\" font-family=\"Times,serif\" font-size=\"14.00\">leaf=37954.9141</text>\n",
       "</g>\n",
       "<!-- 14&#45;&gt;30 -->\n",
       "<g id=\"edge30\" class=\"edge\">\n",
       "<title>14&#45;&gt;30</title>\n",
       "<path fill=\"none\" stroke=\"#ff0000\" d=\"M2921.39,-88.83C2937.36,-82.91 2955.62,-75.9 2971.99,-69 2993.75,-59.84 3017.59,-48.8 3037.23,-39.43\"/>\n",
       "<polygon fill=\"#ff0000\" stroke=\"#ff0000\" points=\"3039,-42.46 3046.5,-34.98 3035.97,-36.15 3039,-42.46\"/>\n",
       "<text text-anchor=\"middle\" x=\"3012.99\" y=\"-57.8\" font-family=\"Times,serif\" font-size=\"14.00\">no</text>\n",
       "</g>\n",
       "</g>\n",
       "</svg>\n"
      ],
      "text/plain": [
       "<graphviz.files.Source at 0x78657ecd2890>"
      ]
     },
     "execution_count": 26,
     "metadata": {},
     "output_type": "execute_result"
    }
   ],
   "source": [
    "import graphviz\n",
    "xgb.to_graphviz(xgbFinal)"
   ]
  },
  {
   "cell_type": "markdown",
   "id": "80525cbe",
   "metadata": {
    "papermill": {
     "duration": 0.021182,
     "end_time": "2025-07-04T19:31:13.522651",
     "exception": false,
     "start_time": "2025-07-04T19:31:13.501469",
     "status": "completed"
    },
    "tags": []
   },
   "source": [
    "# Feature Importance"
   ]
  },
  {
   "cell_type": "code",
   "execution_count": 27,
   "id": "f3759a73",
   "metadata": {
    "execution": {
     "iopub.execute_input": "2025-07-04T19:31:13.567435Z",
     "iopub.status.busy": "2025-07-04T19:31:13.566959Z",
     "iopub.status.idle": "2025-07-04T19:31:13.826788Z",
     "shell.execute_reply": "2025-07-04T19:31:13.825640Z"
    },
    "papermill": {
     "duration": 0.284847,
     "end_time": "2025-07-04T19:31:13.829108",
     "exception": false,
     "start_time": "2025-07-04T19:31:13.544261",
     "status": "completed"
    },
    "tags": []
   },
   "outputs": [
    {
     "data": {
      "image/png": "[encoded data removed]",
      "text/plain": [
       "<Figure size 432x288 with 1 Axes>"
      ]
     },
     "metadata": {
      "needs_background": "light"
     },
     "output_type": "display_data"
    },
    {
     "data": {
      "text/plain": [
       "<Figure size 1440x1440 with 0 Axes>"
      ]
     },
     "metadata": {},
     "output_type": "display_data"
    }
   ],
   "source": [
    "xgb.plot_importance(xgbFinal, max_num_features=12, title='XGBoost Top Features Importance')\n",
    "plt.figure(figsize = (20, 20))\n",
    "plt.show()"
   ]
  },
  {
   "cell_type": "code",
   "execution_count": 28,
   "id": "05c2fbf7",
   "metadata": {
    "execution": {
     "iopub.execute_input": "2025-07-04T19:31:13.874085Z",
     "iopub.status.busy": "2025-07-04T19:31:13.873280Z",
     "iopub.status.idle": "2025-07-04T19:31:13.882299Z",
     "shell.execute_reply": "2025-07-04T19:31:13.881090Z"
    },
    "papermill": {
     "duration": 0.033752,
     "end_time": "2025-07-04T19:31:13.884385",
     "exception": false,
     "start_time": "2025-07-04T19:31:13.850633",
     "status": "completed"
    },
    "tags": []
   },
   "outputs": [
    {
     "name": "stdout",
     "output_type": "stream",
     "text": [
      "Feature Importance:\n",
      "0.0028   Id\n",
      "0.0094   LotArea\n",
      "0.4945   OverallQual\n",
      "0.0115   OverallCond\n",
      "0.013   YearBuilt\n",
      "0.0225   YearRemodAdd\n",
      "0.018   BsmtFinSF1\n",
      "0.0216   CentralAir\n",
      "0.0081   GrLivArea\n",
      "0.0407   KitchenAbvGr\n",
      "0.0232   Fireplaces\n",
      "0.0542   GarageCars\n",
      "0.0095   GarageArea\n",
      "0.004   WoodDeckSF\n",
      "0.1769   totalSQ\n",
      "0.0496   bathrooms\n",
      "0.0209   NewConstruction\n",
      "0.0142   home_age_when_sold\n",
      "0.0054   total_porch_area\n"
     ]
    }
   ],
   "source": [
    "importance=xgbFinal.feature_importances_\n",
    "name=xgbFinal.feature_names_in_\n",
    "print(\"Feature Importance:\")\n",
    "for num in range(len(name)):\n",
    "    print(round(importance[num],4), \" \", name[num])"
   ]
  },
  {
   "cell_type": "code",
   "execution_count": 29,
   "id": "0c8d5588",
   "metadata": {
    "execution": {
     "iopub.execute_input": "2025-07-04T19:31:13.930062Z",
     "iopub.status.busy": "2025-07-04T19:31:13.929091Z",
     "iopub.status.idle": "2025-07-04T19:31:13.939426Z",
     "shell.execute_reply": "2025-07-04T19:31:13.938279Z"
    },
    "papermill": {
     "duration": 0.03585,
     "end_time": "2025-07-04T19:31:13.941776",
     "exception": false,
     "start_time": "2025-07-04T19:31:13.905926",
     "status": "completed"
    },
    "tags": []
   },
   "outputs": [],
   "source": [
    "#RandSearch is a good way to find what parameters are good and which ones are not:\n",
    "def randSearch():\n",
    "    clf_xgb = xgb.XGBRegressor()\n",
    "    param_dist = {'n_estimators': stats.randint(50, 130),\n",
    "                  'learning_rate': stats.uniform(0.01, 0.07),\n",
    "                  'subsample': stats.uniform(0.3, 0.7),\n",
    "                  'max_depth': [3, 4, 5, 6],\n",
    "                  'colsample_bytree': stats.uniform(0.5, 0.45),\n",
    "                  'min_child_weight': [1, 10]\n",
    "                 }\n",
    "    clf = RandomizedSearchCV(\n",
    "        clf_xgb, param_distributions = param_dist, n_iter = 10, \n",
    "     scoring = 'r2', error_score = 0, verbose = 3, n_jobs = -1)\n",
    "\n",
    "    numFolds = 5\n",
    "    folds = KFold(n_splits = numFolds, shuffle = True)\n",
    "\n",
    "    estimators = []\n",
    "    results = np.zeros(len(X))\n",
    "    score = 0.0\n",
    "    for train_index, test_index in folds.split(X):\n",
    "        X_train, X_test = X.iloc[train_index,:], X.iloc[test_index,:]\n",
    "        y_train, y_test = y.iloc[train_index].values.ravel(), y.iloc[test_index].values.ravel()\n",
    "        clf.fit(X_train, y_train)\n",
    "\n",
    "        estimators.append(clf.best_estimator_)\n",
    "        results[test_index] = clf.predict(X_test)\n",
    "        score += r2_score(y_test, results[test_index])\n",
    "    score /= numFolds"
   ]
  },
  {
   "cell_type": "markdown",
   "id": "099404ab",
   "metadata": {
    "execution": {
     "iopub.execute_input": "2022-09-19T21:09:40.310967Z",
     "iopub.status.busy": "2022-09-19T21:09:40.31024Z",
     "iopub.status.idle": "2022-09-19T21:09:40.328174Z",
     "shell.execute_reply": "2022-09-19T21:09:40.326914Z",
     "shell.execute_reply.started": "2022-09-19T21:09:40.310928Z"
    },
    "papermill": {
     "duration": 0.021206,
     "end_time": "2025-07-04T19:31:13.984583",
     "exception": false,
     "start_time": "2025-07-04T19:31:13.963377",
     "status": "completed"
    },
    "tags": []
   },
   "source": [
    "# Test Dataset\n",
    "Make final predictions on unknown house price value using features from Train data"
   ]
  },
  {
   "cell_type": "code",
   "execution_count": 30,
   "id": "26c973c7",
   "metadata": {
    "execution": {
     "iopub.execute_input": "2025-07-04T19:31:14.030056Z",
     "iopub.status.busy": "2025-07-04T19:31:14.029664Z",
     "iopub.status.idle": "2025-07-04T19:31:14.130439Z",
     "shell.execute_reply": "2025-07-04T19:31:14.129231Z"
    },
    "papermill": {
     "duration": 0.126614,
     "end_time": "2025-07-04T19:31:14.132831",
     "exception": false,
     "start_time": "2025-07-04T19:31:14.006217",
     "status": "completed"
    },
    "tags": []
   },
   "outputs": [
    {
     "name": "stdout",
     "output_type": "stream",
     "text": [
      "(1459, 80)\n"
     ]
    },
    {
     "data": {
      "text/html": [
       "<div>\n",
       "<style scoped>\n",
       "    .dataframe tbody tr th:only-of-type {\n",
       "        vertical-align: middle;\n",
       "    }\n",
       "\n",
       "    .dataframe tbody tr th {\n",
       "        vertical-align: top;\n",
       "    }\n",
       "\n",
       "    .dataframe thead th {\n",
       "        text-align: right;\n",
       "    }\n",
       "</style>\n",
       "<table border=\"1\" class=\"dataframe\">\n",
       "  <thead>\n",
       "    <tr style=\"text-align: right;\">\n",
       "      <th></th>\n",
       "      <th>Id</th>\n",
       "      <th>MSSubClass</th>\n",
       "      <th>LotFrontage</th>\n",
       "      <th>LotArea</th>\n",
       "      <th>OverallQual</th>\n",
       "      <th>OverallCond</th>\n",
       "      <th>YearBuilt</th>\n",
       "      <th>YearRemodAdd</th>\n",
       "      <th>MasVnrArea</th>\n",
       "      <th>BsmtFinSF1</th>\n",
       "      <th>...</th>\n",
       "      <th>ScreenPorch</th>\n",
       "      <th>PoolArea</th>\n",
       "      <th>MiscVal</th>\n",
       "      <th>MoSold</th>\n",
       "      <th>YrSold</th>\n",
       "      <th>totalSQ</th>\n",
       "      <th>bathrooms</th>\n",
       "      <th>NewConstruction</th>\n",
       "      <th>home_age_when_sold</th>\n",
       "      <th>total_porch_area</th>\n",
       "    </tr>\n",
       "  </thead>\n",
       "  <tbody>\n",
       "    <tr>\n",
       "      <th>0</th>\n",
       "      <td>1461</td>\n",
       "      <td>20</td>\n",
       "      <td>80.0</td>\n",
       "      <td>11622</td>\n",
       "      <td>5</td>\n",
       "      <td>6</td>\n",
       "      <td>1961</td>\n",
       "      <td>1961</td>\n",
       "      <td>0.0</td>\n",
       "      <td>468.0</td>\n",
       "      <td>...</td>\n",
       "      <td>120</td>\n",
       "      <td>0</td>\n",
       "      <td>0</td>\n",
       "      <td>6</td>\n",
       "      <td>2010</td>\n",
       "      <td>1778.0</td>\n",
       "      <td>1.0</td>\n",
       "      <td>0</td>\n",
       "      <td>49</td>\n",
       "      <td>260</td>\n",
       "    </tr>\n",
       "    <tr>\n",
       "      <th>1</th>\n",
       "      <td>1462</td>\n",
       "      <td>20</td>\n",
       "      <td>81.0</td>\n",
       "      <td>14267</td>\n",
       "      <td>6</td>\n",
       "      <td>6</td>\n",
       "      <td>1958</td>\n",
       "      <td>1958</td>\n",
       "      <td>108.0</td>\n",
       "      <td>923.0</td>\n",
       "      <td>...</td>\n",
       "      <td>0</td>\n",
       "      <td>0</td>\n",
       "      <td>12500</td>\n",
       "      <td>6</td>\n",
       "      <td>2010</td>\n",
       "      <td>2658.0</td>\n",
       "      <td>1.5</td>\n",
       "      <td>0</td>\n",
       "      <td>52</td>\n",
       "      <td>429</td>\n",
       "    </tr>\n",
       "    <tr>\n",
       "      <th>2</th>\n",
       "      <td>1463</td>\n",
       "      <td>60</td>\n",
       "      <td>74.0</td>\n",
       "      <td>13830</td>\n",
       "      <td>5</td>\n",
       "      <td>5</td>\n",
       "      <td>1997</td>\n",
       "      <td>1998</td>\n",
       "      <td>0.0</td>\n",
       "      <td>791.0</td>\n",
       "      <td>...</td>\n",
       "      <td>0</td>\n",
       "      <td>0</td>\n",
       "      <td>0</td>\n",
       "      <td>3</td>\n",
       "      <td>2010</td>\n",
       "      <td>2557.0</td>\n",
       "      <td>2.5</td>\n",
       "      <td>0</td>\n",
       "      <td>13</td>\n",
       "      <td>246</td>\n",
       "    </tr>\n",
       "    <tr>\n",
       "      <th>3</th>\n",
       "      <td>1464</td>\n",
       "      <td>60</td>\n",
       "      <td>78.0</td>\n",
       "      <td>9978</td>\n",
       "      <td>6</td>\n",
       "      <td>6</td>\n",
       "      <td>1998</td>\n",
       "      <td>1998</td>\n",
       "      <td>20.0</td>\n",
       "      <td>602.0</td>\n",
       "      <td>...</td>\n",
       "      <td>0</td>\n",
       "      <td>0</td>\n",
       "      <td>0</td>\n",
       "      <td>6</td>\n",
       "      <td>2010</td>\n",
       "      <td>2530.0</td>\n",
       "      <td>2.5</td>\n",
       "      <td>0</td>\n",
       "      <td>12</td>\n",
       "      <td>396</td>\n",
       "    </tr>\n",
       "    <tr>\n",
       "      <th>4</th>\n",
       "      <td>1465</td>\n",
       "      <td>120</td>\n",
       "      <td>43.0</td>\n",
       "      <td>5005</td>\n",
       "      <td>8</td>\n",
       "      <td>5</td>\n",
       "      <td>1992</td>\n",
       "      <td>1992</td>\n",
       "      <td>0.0</td>\n",
       "      <td>263.0</td>\n",
       "      <td>...</td>\n",
       "      <td>144</td>\n",
       "      <td>0</td>\n",
       "      <td>0</td>\n",
       "      <td>1</td>\n",
       "      <td>2010</td>\n",
       "      <td>2560.0</td>\n",
       "      <td>2.0</td>\n",
       "      <td>0</td>\n",
       "      <td>18</td>\n",
       "      <td>226</td>\n",
       "    </tr>\n",
       "  </tbody>\n",
       "</table>\n",
       "<p>5 rows × 43 columns</p>\n",
       "</div>"
      ],
      "text/plain": [
       "     Id  MSSubClass  LotFrontage  LotArea  OverallQual  OverallCond  \\\n",
       "0  1461          20         80.0    11622            5            6   \n",
       "1  1462          20         81.0    14267            6            6   \n",
       "2  1463          60         74.0    13830            5            5   \n",
       "3  1464          60         78.0     9978            6            6   \n",
       "4  1465         120         43.0     5005            8            5   \n",
       "\n",
       "   YearBuilt  YearRemodAdd  MasVnrArea  BsmtFinSF1  ...  ScreenPorch  \\\n",
       "0       1961          1961         0.0       468.0  ...          120   \n",
       "1       1958          1958       108.0       923.0  ...            0   \n",
       "2       1997          1998         0.0       791.0  ...            0   \n",
       "3       1998          1998        20.0       602.0  ...            0   \n",
       "4       1992          1992         0.0       263.0  ...          144   \n",
       "\n",
       "   PoolArea  MiscVal  MoSold  YrSold  totalSQ  bathrooms  NewConstruction  \\\n",
       "0         0        0       6    2010   1778.0        1.0                0   \n",
       "1         0    12500       6    2010   2658.0        1.5                0   \n",
       "2         0        0       3    2010   2557.0        2.5                0   \n",
       "3         0        0       6    2010   2530.0        2.5                0   \n",
       "4         0        0       1    2010   2560.0        2.0                0   \n",
       "\n",
       "   home_age_when_sold  total_porch_area  \n",
       "0                  49               260  \n",
       "1                  52               429  \n",
       "2                  13               246  \n",
       "3                  12               396  \n",
       "4                  18               226  \n",
       "\n",
       "[5 rows x 43 columns]"
      ]
     },
     "execution_count": 30,
     "metadata": {},
     "output_type": "execute_result"
    }
   ],
   "source": [
    "test='/kaggle/input/house-prices-advanced-regression-techniques/test.csv'\n",
    "testDF=pd.read_csv(test)\n",
    "print(testDF.shape)\n",
    "\n",
    "#Missing Values\n",
    "testDF=testDF.drop_duplicates()\n",
    "testDF['MiscFeature']=testDF['MiscFeature'].fillna(0)\n",
    "testDF['Alley']=testDF['Alley'].fillna(0)\n",
    "testDF['Fence']=testDF['Fence'].fillna(0)\n",
    "testDF['FireplaceQu']=testDF['FireplaceQu'].fillna(0)\n",
    "testDF=testDF.fillna(df.mean())\n",
    "\n",
    "# Feature Engineer\n",
    "testDF['totalSQ']=testDF['1stFlrSF']+testDF['2ndFlrSF']+testDF['TotalBsmtSF']\n",
    "testDF['bathrooms']=testDF['FullBath']+testDF['BsmtFullBath']+(0.5 * testDF['BsmtHalfBath'])+(0.5 * testDF['HalfBath'])\n",
    "testDF['CentralAir'] = testDF['CentralAir'].replace({'Y':0, 'N':1})\n",
    "testDF['NewConstruction'] = (testDF['SaleType'] == 'New').astype('int64')\n",
    "testDF[\"PoolScore\"] = testDF[\"PoolArea\"] * testDF[\"PoolQC\"]\n",
    "testDF['home_age_when_sold']=testDF['YrSold']-testDF['YearBuilt']\n",
    "testDF['total_porch_area'] = testDF['WoodDeckSF'] + testDF['OpenPorchSF'] + testDF['EnclosedPorch'] + testDF['3SsnPorch'] + testDF['ScreenPorch'] \n",
    "\n",
    "#testDF['SaleCondition']=testDF['SaleCondition'].apply(lambda x:1 if x == 'Normal' else 0)\n",
    "#testDF['Condition1']=testDF['Condition1'].apply(lambda x: 1 if x=='Norm' else 0)\n",
    "\n",
    "testDF = testDF.select_dtypes(include=['int16', 'int32', 'int64', 'float16', 'float32', 'float64'])\n",
    "testDF.head()"
   ]
  },
  {
   "cell_type": "code",
   "execution_count": 31,
   "id": "cd45e376",
   "metadata": {
    "execution": {
     "iopub.execute_input": "2025-07-04T19:31:14.178452Z",
     "iopub.status.busy": "2025-07-04T19:31:14.178042Z",
     "iopub.status.idle": "2025-07-04T19:31:14.184882Z",
     "shell.execute_reply": "2025-07-04T19:31:14.183664Z"
    },
    "papermill": {
     "duration": 0.032769,
     "end_time": "2025-07-04T19:31:14.187370",
     "exception": false,
     "start_time": "2025-07-04T19:31:14.154601",
     "status": "completed"
    },
    "tags": []
   },
   "outputs": [],
   "source": [
    "testIDs=testDF['Id']\n",
    "cols=X_test.columns\n",
    "testDF=testDF[cols]"
   ]
  },
  {
   "cell_type": "code",
   "execution_count": 32,
   "id": "ac615397",
   "metadata": {
    "execution": {
     "iopub.execute_input": "2025-07-04T19:31:14.233203Z",
     "iopub.status.busy": "2025-07-04T19:31:14.232220Z",
     "iopub.status.idle": "2025-07-04T19:31:14.245404Z",
     "shell.execute_reply": "2025-07-04T19:31:14.244513Z"
    },
    "papermill": {
     "duration": 0.03917,
     "end_time": "2025-07-04T19:31:14.248283",
     "exception": false,
     "start_time": "2025-07-04T19:31:14.209113",
     "status": "completed"
    },
    "tags": []
   },
   "outputs": [],
   "source": [
    "#Final Prediction\n",
    "finalPred=xgbFinal.predict(testDF).round(2)\n",
    "tupDF=list(zip(testIDs,finalPred))"
   ]
  },
  {
   "cell_type": "code",
   "execution_count": 33,
   "id": "44d70510",
   "metadata": {
    "execution": {
     "iopub.execute_input": "2025-07-04T19:31:14.293847Z",
     "iopub.status.busy": "2025-07-04T19:31:14.293431Z",
     "iopub.status.idle": "2025-07-04T19:31:14.307384Z",
     "shell.execute_reply": "2025-07-04T19:31:14.306170Z"
    },
    "papermill": {
     "duration": 0.039514,
     "end_time": "2025-07-04T19:31:14.309883",
     "exception": false,
     "start_time": "2025-07-04T19:31:14.270369",
     "status": "completed"
    },
    "tags": []
   },
   "outputs": [
    {
     "data": {
      "text/html": [
       "<div>\n",
       "<style scoped>\n",
       "    .dataframe tbody tr th:only-of-type {\n",
       "        vertical-align: middle;\n",
       "    }\n",
       "\n",
       "    .dataframe tbody tr th {\n",
       "        vertical-align: top;\n",
       "    }\n",
       "\n",
       "    .dataframe thead th {\n",
       "        text-align: right;\n",
       "    }\n",
       "</style>\n",
       "<table border=\"1\" class=\"dataframe\">\n",
       "  <thead>\n",
       "    <tr style=\"text-align: right;\">\n",
       "      <th></th>\n",
       "      <th>Id</th>\n",
       "      <th>SalePrice</th>\n",
       "    </tr>\n",
       "  </thead>\n",
       "  <tbody>\n",
       "    <tr>\n",
       "      <th>0</th>\n",
       "      <td>1461</td>\n",
       "      <td>135014.109375</td>\n",
       "    </tr>\n",
       "    <tr>\n",
       "      <th>1</th>\n",
       "      <td>1462</td>\n",
       "      <td>168482.093750</td>\n",
       "    </tr>\n",
       "    <tr>\n",
       "      <th>2</th>\n",
       "      <td>1463</td>\n",
       "      <td>181199.875000</td>\n",
       "    </tr>\n",
       "    <tr>\n",
       "      <th>3</th>\n",
       "      <td>1464</td>\n",
       "      <td>193157.078125</td>\n",
       "    </tr>\n",
       "    <tr>\n",
       "      <th>4</th>\n",
       "      <td>1465</td>\n",
       "      <td>177578.593750</td>\n",
       "    </tr>\n",
       "  </tbody>\n",
       "</table>\n",
       "</div>"
      ],
      "text/plain": [
       "     Id      SalePrice\n",
       "0  1461  135014.109375\n",
       "1  1462  168482.093750\n",
       "2  1463  181199.875000\n",
       "3  1464  193157.078125\n",
       "4  1465  177578.593750"
      ]
     },
     "execution_count": 33,
     "metadata": {},
     "output_type": "execute_result"
    }
   ],
   "source": [
    "output=pd.DataFrame(tupDF, columns=['Id','SalePrice']).sort_values(by='Id').reset_index(drop=True)\n",
    "output.head()"
   ]
  },
  {
   "cell_type": "markdown",
   "id": "7f964143",
   "metadata": {
    "papermill": {
     "duration": 0.02216,
     "end_time": "2025-07-04T19:31:14.354694",
     "exception": false,
     "start_time": "2025-07-04T19:31:14.332534",
     "status": "completed"
    },
    "tags": []
   },
   "source": [
    "### Final Prediction"
   ]
  },
  {
   "cell_type": "code",
   "execution_count": 34,
   "id": "61959f0c",
   "metadata": {
    "execution": {
     "iopub.execute_input": "2025-07-04T19:31:14.401596Z",
     "iopub.status.busy": "2025-07-04T19:31:14.401163Z",
     "iopub.status.idle": "2025-07-04T19:31:14.412688Z",
     "shell.execute_reply": "2025-07-04T19:31:14.411488Z"
    },
    "papermill": {
     "duration": 0.037821,
     "end_time": "2025-07-04T19:31:14.414859",
     "exception": false,
     "start_time": "2025-07-04T19:31:14.377038",
     "status": "completed"
    },
    "tags": []
   },
   "outputs": [
    {
     "name": "stdout",
     "output_type": "stream",
     "text": [
      "(1459, 2)\n",
      "Output Created\n"
     ]
    }
   ],
   "source": [
    "print(output.shape)\n",
    "output.to_csv('submission.csv', index=False)\n",
    "print(\"Output Created\")"
   ]
  }
 ],
 "metadata": {
  "kaggle": {
   "accelerator": "none",
   "dataSources": [
    {
     "databundleVersionId": 868283,
     "sourceId": 5407,
     "sourceType": "competition"
    }
   ],
   "dockerImageVersionId": 30260,
   "isGpuEnabled": false,
   "isInternetEnabled": true,
   "language": "python",
   "sourceType": "notebook"
  },
  "kernelspec": {
   "display_name": "Python 3",
   "language": "python",
   "name": "python3"
  },
  "language_info": {
   "codemirror_mode": {
    "name": "ipython",
    "version": 3
   },
   "file_extension": ".py",
   "mimetype": "text/x-python",
   "name": "python",
   "nbconvert_exporter": "python",
   "pygments_lexer": "ipython3",
   "version": "3.7.12"
  },
  "papermill": {
   "default_parameters": {},
   "duration": 69.824127,
   "end_time": "2025-07-04T19:31:15.259841",
   "environment_variables": {},
   "exception": null,
   "input_path": "__notebook__.ipynb",
   "output_path": "__notebook__.ipynb",
   "parameters": {},
   "start_time": "2025-07-04T19:30:05.435714",
   "version": "2.3.4"
  }
 },
 "nbformat": 4,
 "nbformat_minor": 5
}
