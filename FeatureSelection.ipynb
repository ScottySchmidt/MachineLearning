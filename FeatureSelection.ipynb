{
 "cells": [
  {
   "attachments": {
    "5cdcdc9b-434a-4ccd-a0b1-9f5173667724.png": {
     "image/png": "[encoded data removed]"
    }
   },
   "cell_type": "markdown",
   "id": "c04be796",
   "metadata": {
    "papermill": {
     "duration": 0.030053,
     "end_time": "2025-07-09T02:24:57.306491",
     "exception": false,
     "start_time": "2025-07-09T02:24:57.276438",
     "status": "completed"
    },
    "tags": []
   },
   "source": [
    "# Feature Selection Visually Explained on Titanic 🎯\n",
    "\n",
    "Welcome back! This video continues my Titanic machine learning series. If you're new here, check out the earlier tutorials:\n",
    "- [Decision Tree Overfitting Visualized](https://www.youtube.com/watch?v=offRb9fBOuw&t=29s)\n",
    "- [Grid Search with Random Forest (Top 6% Kaggle Score)](https://www.youtube.com/watch?v=yVul279EMlA&t=45s)\n",
    "- [Why your model looks perfet.. then fails: Random Forest vs Decision Tree](https://www.youtube.com/watch?v=m4YGczrVueI&t=4s) \n",
    "- [Overfitting Explained Visually | Decision Tree on Titanic Data](https://www.youtube.com/watch?v=Pt14X7j-sbY&t=4s)\n",
    "\n",
    "---\n",
    "### 🔍 What is Cross-Validation?\n",
    "Imagine if you split your data just once — what if your model got lucky?\n",
    "Cross-validation gives a **more reliable estimate** of model performance by:\n",
    "- Creating 'Buckets' (we called it at investment firm)\n",
    "- Repeating the train/test split multiple times\n",
    "- Reducing the chance of **overfitting**\n",
    "- Showing how your model performs across **multiple \"buckets\" of data**\n",
    "\n",
    "Here is the Titanic dataset again and to how 5-fold cross-validation works with real Python code and visuals.\n",
    "\n",
    "![image.png](attachment:5cdcdc9b-434a-4ccd-a0b1-9f5173667724.png)\n",
    "\n",
    "Instead of splitting the data just once, we divide it into 5 equal buckets. The model trains and tests 5 times and then averages the result."
   ]
  },
  {
   "cell_type": "markdown",
   "id": "17cdd85f",
   "metadata": {
    "papermill": {
     "duration": 0.023261,
     "end_time": "2025-07-09T02:24:57.354600",
     "exception": false,
     "start_time": "2025-07-09T02:24:57.331339",
     "status": "completed"
    },
    "tags": []
   },
   "source": [
    "# Train Data\n",
    "Train.csv will contain the details of a subset of the passengers on board (891 to be exact) and whether they survive or not. The shape of the train data is (891, 12). "
   ]
  },
  {
   "cell_type": "code",
   "execution_count": 1,
   "id": "ffcf23e2",
   "metadata": {
    "execution": {
     "iopub.execute_input": "2025-07-09T02:24:57.404029Z",
     "iopub.status.busy": "2025-07-09T02:24:57.403550Z",
     "iopub.status.idle": "2025-07-09T02:24:58.666211Z",
     "shell.execute_reply": "2025-07-09T02:24:58.665310Z"
    },
    "papermill": {
     "duration": 1.289193,
     "end_time": "2025-07-09T02:24:58.668447",
     "exception": false,
     "start_time": "2025-07-09T02:24:57.379254",
     "status": "completed"
    },
    "tags": []
   },
   "outputs": [
    {
     "data": {
      "text/html": [
       "<div>\n",
       "<style scoped>\n",
       "    .dataframe tbody tr th:only-of-type {\n",
       "        vertical-align: middle;\n",
       "    }\n",
       "\n",
       "    .dataframe tbody tr th {\n",
       "        vertical-align: top;\n",
       "    }\n",
       "\n",
       "    .dataframe thead th {\n",
       "        text-align: right;\n",
       "    }\n",
       "</style>\n",
       "<table border=\"1\" class=\"dataframe\">\n",
       "  <thead>\n",
       "    <tr style=\"text-align: right;\">\n",
       "      <th></th>\n",
       "      <th>PassengerId</th>\n",
       "      <th>Survived</th>\n",
       "      <th>Pclass</th>\n",
       "      <th>Name</th>\n",
       "      <th>Sex</th>\n",
       "      <th>Age</th>\n",
       "      <th>SibSp</th>\n",
       "      <th>Parch</th>\n",
       "      <th>Ticket</th>\n",
       "      <th>Fare</th>\n",
       "      <th>Cabin</th>\n",
       "      <th>Embarked</th>\n",
       "    </tr>\n",
       "  </thead>\n",
       "  <tbody>\n",
       "    <tr>\n",
       "      <th>0</th>\n",
       "      <td>1</td>\n",
       "      <td>0</td>\n",
       "      <td>3</td>\n",
       "      <td>Braund, Mr. Owen Harris</td>\n",
       "      <td>male</td>\n",
       "      <td>22.0</td>\n",
       "      <td>1</td>\n",
       "      <td>0</td>\n",
       "      <td>A/5 21171</td>\n",
       "      <td>7.2500</td>\n",
       "      <td>NaN</td>\n",
       "      <td>S</td>\n",
       "    </tr>\n",
       "    <tr>\n",
       "      <th>1</th>\n",
       "      <td>2</td>\n",
       "      <td>1</td>\n",
       "      <td>1</td>\n",
       "      <td>Cumings, Mrs. John Bradley (Florence Briggs Th...</td>\n",
       "      <td>female</td>\n",
       "      <td>38.0</td>\n",
       "      <td>1</td>\n",
       "      <td>0</td>\n",
       "      <td>PC 17599</td>\n",
       "      <td>71.2833</td>\n",
       "      <td>C85</td>\n",
       "      <td>C</td>\n",
       "    </tr>\n",
       "    <tr>\n",
       "      <th>2</th>\n",
       "      <td>3</td>\n",
       "      <td>1</td>\n",
       "      <td>3</td>\n",
       "      <td>Heikkinen, Miss. Laina</td>\n",
       "      <td>female</td>\n",
       "      <td>26.0</td>\n",
       "      <td>0</td>\n",
       "      <td>0</td>\n",
       "      <td>STON/O2. 3101282</td>\n",
       "      <td>7.9250</td>\n",
       "      <td>NaN</td>\n",
       "      <td>S</td>\n",
       "    </tr>\n",
       "    <tr>\n",
       "      <th>3</th>\n",
       "      <td>4</td>\n",
       "      <td>1</td>\n",
       "      <td>1</td>\n",
       "      <td>Futrelle, Mrs. Jacques Heath (Lily May Peel)</td>\n",
       "      <td>female</td>\n",
       "      <td>35.0</td>\n",
       "      <td>1</td>\n",
       "      <td>0</td>\n",
       "      <td>113803</td>\n",
       "      <td>53.1000</td>\n",
       "      <td>C123</td>\n",
       "      <td>S</td>\n",
       "    </tr>\n",
       "    <tr>\n",
       "      <th>4</th>\n",
       "      <td>5</td>\n",
       "      <td>0</td>\n",
       "      <td>3</td>\n",
       "      <td>Allen, Mr. William Henry</td>\n",
       "      <td>male</td>\n",
       "      <td>35.0</td>\n",
       "      <td>0</td>\n",
       "      <td>0</td>\n",
       "      <td>373450</td>\n",
       "      <td>8.0500</td>\n",
       "      <td>NaN</td>\n",
       "      <td>S</td>\n",
       "    </tr>\n",
       "  </tbody>\n",
       "</table>\n",
       "</div>"
      ],
      "text/plain": [
       "   PassengerId  Survived  Pclass  \\\n",
       "0            1         0       3   \n",
       "1            2         1       1   \n",
       "2            3         1       3   \n",
       "3            4         1       1   \n",
       "4            5         0       3   \n",
       "\n",
       "                                                Name     Sex   Age  SibSp  \\\n",
       "0                            Braund, Mr. Owen Harris    male  22.0      1   \n",
       "1  Cumings, Mrs. John Bradley (Florence Briggs Th...  female  38.0      1   \n",
       "2                             Heikkinen, Miss. Laina  female  26.0      0   \n",
       "3       Futrelle, Mrs. Jacques Heath (Lily May Peel)  female  35.0      1   \n",
       "4                           Allen, Mr. William Henry    male  35.0      0   \n",
       "\n",
       "   Parch            Ticket     Fare Cabin Embarked  \n",
       "0      0         A/5 21171   7.2500   NaN        S  \n",
       "1      0          PC 17599  71.2833   C85        C  \n",
       "2      0  STON/O2. 3101282   7.9250   NaN        S  \n",
       "3      0            113803  53.1000  C123        S  \n",
       "4      0            373450   8.0500   NaN        S  "
      ]
     },
     "execution_count": 1,
     "metadata": {},
     "output_type": "execute_result"
    }
   ],
   "source": [
    "import pandas as pd\n",
    "import matplotlib.pyplot as plt\n",
    "from sklearn.datasets import make_classification\n",
    "from sklearn.tree import DecisionTreeClassifier\n",
    "from sklearn.ensemble import RandomForestClassifier\n",
    "from sklearn.model_selection import train_test_split\n",
    "import numpy as np\n",
    "\n",
    "df = pd.read_csv('/kaggle/input/titanic/train.csv')\n",
    "test_df = pd.read_csv('/kaggle/input/titanic/test.csv')\n",
    "\n",
    "df.head()"
   ]
  },
  {
   "cell_type": "markdown",
   "id": "b5952545",
   "metadata": {
    "papermill": {
     "duration": 0.022947,
     "end_time": "2025-07-09T02:24:58.715156",
     "exception": false,
     "start_time": "2025-07-09T02:24:58.692209",
     "status": "completed"
    },
    "tags": []
   },
   "source": [
    "# Feature Engineer\n",
    "Must match columns for both the train and test dataset. Encode Categorical Variables is needed for this dataset since there are many important variables that are not numeric yet. There are three classes C, Q, and S. Class C seems to have the highest chance of survival. Class S has the lowest chance of survival. Unfornately this would tend to show that economic status seems to played a part in the decision if someone survived or not. Embarked does not play role major role in feature importance. "
   ]
  },
  {
   "cell_type": "code",
   "execution_count": 2,
   "id": "e94be682",
   "metadata": {
    "execution": {
     "iopub.execute_input": "2025-07-09T02:24:58.763698Z",
     "iopub.status.busy": "2025-07-09T02:24:58.763034Z",
     "iopub.status.idle": "2025-07-09T02:24:58.791263Z",
     "shell.execute_reply": "2025-07-09T02:24:58.790499Z"
    },
    "papermill": {
     "duration": 0.054357,
     "end_time": "2025-07-09T02:24:58.793309",
     "exception": false,
     "start_time": "2025-07-09T02:24:58.738952",
     "status": "completed"
    },
    "tags": []
   },
   "outputs": [],
   "source": [
    "# Preprocessing:\n",
    "df['Sex'] = df['Sex'].map({'male': 0, 'female': 1})\n",
    "test_df['Sex'] = test_df['Sex'].map({'male': 0, 'female': 1})\n",
    "passID=test_df['PassengerId']\n",
    "\n",
    "# Fill missing Age and Fare values using the train set's median\n",
    "df['Age'] = df['Age'].fillna(df['Age'].median())\n",
    "df['Fare'] = df['Fare'].fillna(df['Fare'].median())\n",
    "\n",
    "test_df['Age'] = test_df['Age'].fillna(df['Age'].median())\n",
    "test_df['Fare'] = test_df['Fare'].fillna(df['Fare'].median())\n",
    "\n",
    "# Fill missing first\n",
    "df['Embarked'] = df['Embarked'].fillna('S')  # 'S' is most common\n",
    "df['Embarked'] = df['Embarked'].map({'S': 0, 'C': 1, 'Q': 2})\n",
    "\n",
    "# Map to numbers\n",
    "test_df['Embarked'] = test_df['Embarked'].fillna('S')\n",
    "test_df['Embarked'] = test_df['Embarked'].map({'S': 0, 'C': 1, 'Q': 2})\n",
    "\n",
    "# Now select features (after filling)\n",
    "df = df[['Survived', 'Pclass', 'Sex', 'Age', 'Fare','Embarked']]\n",
    "test_df = test_df[['Pclass', 'Sex', 'Age', 'Fare', 'Embarked']]\n",
    "\n",
    "# Split features and target\n",
    "X = df.drop('Survived', axis=1)\n",
    "y = df['Survived']\n",
    "\n",
    "from sklearn.model_selection import train_test_split\n",
    "X_train, X_test, y_train, y_test = train_test_split(X, y, random_state=42)"
   ]
  },
  {
   "cell_type": "markdown",
   "id": "5296d05a",
   "metadata": {
    "papermill": {
     "duration": 0.022846,
     "end_time": "2025-07-09T02:24:58.839761",
     "exception": false,
     "start_time": "2025-07-09T02:24:58.816915",
     "status": "completed"
    },
    "tags": []
   },
   "source": [
    "# Step 2: Train models"
   ]
  },
  {
   "cell_type": "code",
   "execution_count": 3,
   "id": "cae9a749",
   "metadata": {
    "execution": {
     "iopub.execute_input": "2025-07-09T02:24:58.889924Z",
     "iopub.status.busy": "2025-07-09T02:24:58.889290Z",
     "iopub.status.idle": "2025-07-09T02:25:00.711914Z",
     "shell.execute_reply": "2025-07-09T02:25:00.711061Z"
    },
    "papermill": {
     "duration": 1.849266,
     "end_time": "2025-07-09T02:25:00.714197",
     "exception": false,
     "start_time": "2025-07-09T02:24:58.864931",
     "status": "completed"
    },
    "tags": []
   },
   "outputs": [
    {
     "name": "stdout",
     "output_type": "stream",
     "text": [
      "Cross-validation scores: [0.78888889 0.83146067 0.7752809  0.84269663 0.86516854 0.82022472\n",
      " 0.85393258 0.7752809  0.84269663 0.85393258]\n",
      "Average CV accuracy: 0.825\n"
     ]
    }
   ],
   "source": [
    "from sklearn.model_selection import cross_val_score\n",
    "model = RandomForestClassifier(n_estimators=100, random_state=42)\n",
    "cv_scores = cross_val_score(model, X, y, cv=10, scoring='accuracy')\n",
    "\n",
    "print(\"Cross-validation scores:\", cv_scores)\n",
    "print(\"Average CV accuracy:\", round(cv_scores.mean(), 4))"
   ]
  },
  {
   "cell_type": "code",
   "execution_count": 4,
   "id": "f18f1933",
   "metadata": {
    "execution": {
     "iopub.execute_input": "2025-07-09T02:25:00.763129Z",
     "iopub.status.busy": "2025-07-09T02:25:00.762391Z",
     "iopub.status.idle": "2025-07-09T02:25:00.968427Z",
     "shell.execute_reply": "2025-07-09T02:25:00.967415Z"
    },
    "papermill": {
     "duration": 0.232737,
     "end_time": "2025-07-09T02:25:00.970434",
     "exception": false,
     "start_time": "2025-07-09T02:25:00.737697",
     "status": "completed"
    },
    "tags": []
   },
   "outputs": [
    {
     "name": "stdout",
     "output_type": "stream",
     "text": [
      "Random Forest Train Accuracy: 0.979\n",
      "Random Forest Test Accuracy: 0.785\n"
     ]
    }
   ],
   "source": [
    "from sklearn.tree import DecisionTreeClassifier\n",
    "from sklearn.ensemble import RandomForestClassifier\n",
    "from sklearn.metrics import accuracy_score\n",
    "import matplotlib.pyplot as plt\n",
    "\n",
    "# Define model\n",
    "model = RandomForestClassifier()\n",
    "\n",
    "# Fit model (this is required)\n",
    "model.fit(X_train, y_train)\n",
    "\n",
    "# Now you can use the model\n",
    "y_pred = model.predict(X_test)\n",
    "\n",
    "# Accuracy\n",
    "print(\"Random Forest Train Accuracy:\", round(model.score(X_train, y_train), 3))\n",
    "print(\"Random Forest Test Accuracy:\", round(accuracy_score(y_test, y_pred), 3))"
   ]
  },
  {
   "cell_type": "code",
   "execution_count": 5,
   "id": "a96bd2b4",
   "metadata": {
    "execution": {
     "iopub.execute_input": "2025-07-09T02:25:01.019296Z",
     "iopub.status.busy": "2025-07-09T02:25:01.019018Z",
     "iopub.status.idle": "2025-07-09T02:25:01.025772Z",
     "shell.execute_reply": "2025-07-09T02:25:01.025031Z"
    },
    "papermill": {
     "duration": 0.033719,
     "end_time": "2025-07-09T02:25:01.027895",
     "exception": false,
     "start_time": "2025-07-09T02:25:00.994176",
     "status": "completed"
    },
    "tags": []
   },
   "outputs": [
    {
     "data": {
      "text/plain": [
       "Survived      int64\n",
       "Pclass        int64\n",
       "Sex           int64\n",
       "Age         float64\n",
       "Fare        float64\n",
       "Embarked      int64\n",
       "dtype: object"
      ]
     },
     "execution_count": 5,
     "metadata": {},
     "output_type": "execute_result"
    }
   ],
   "source": [
    "df.dtypes"
   ]
  },
  {
   "cell_type": "markdown",
   "id": "c1df15f9",
   "metadata": {
    "papermill": {
     "duration": 0.023787,
     "end_time": "2025-07-09T02:25:01.075891",
     "exception": false,
     "start_time": "2025-07-09T02:25:01.052104",
     "status": "completed"
    },
    "tags": []
   },
   "source": [
    "## Check Duplicates and Missing Values"
   ]
  },
  {
   "cell_type": "code",
   "execution_count": 6,
   "id": "59ef9848",
   "metadata": {
    "execution": {
     "iopub.execute_input": "2025-07-09T02:25:01.125380Z",
     "iopub.status.busy": "2025-07-09T02:25:01.125106Z",
     "iopub.status.idle": "2025-07-09T02:25:01.142278Z",
     "shell.execute_reply": "2025-07-09T02:25:01.141300Z"
    },
    "papermill": {
     "duration": 0.044423,
     "end_time": "2025-07-09T02:25:01.144349",
     "exception": false,
     "start_time": "2025-07-09T02:25:01.099926",
     "status": "completed"
    },
    "tags": []
   },
   "outputs": [
    {
     "name": "stdout",
     "output_type": "stream",
     "text": [
      "Total no of duplicate values in Training Dataset = 125\n"
     ]
    },
    {
     "data": {
      "text/html": [
       "<div>\n",
       "<style scoped>\n",
       "    .dataframe tbody tr th:only-of-type {\n",
       "        vertical-align: middle;\n",
       "    }\n",
       "\n",
       "    .dataframe tbody tr th {\n",
       "        vertical-align: top;\n",
       "    }\n",
       "\n",
       "    .dataframe thead th {\n",
       "        text-align: right;\n",
       "    }\n",
       "</style>\n",
       "<table border=\"1\" class=\"dataframe\">\n",
       "  <thead>\n",
       "    <tr style=\"text-align: right;\">\n",
       "      <th></th>\n",
       "      <th>Survived</th>\n",
       "      <th>Pclass</th>\n",
       "      <th>Sex</th>\n",
       "      <th>Age</th>\n",
       "      <th>Fare</th>\n",
       "      <th>Embarked</th>\n",
       "    </tr>\n",
       "  </thead>\n",
       "  <tbody>\n",
       "    <tr>\n",
       "      <th>47</th>\n",
       "      <td>1</td>\n",
       "      <td>3</td>\n",
       "      <td>1</td>\n",
       "      <td>28.0</td>\n",
       "      <td>7.7500</td>\n",
       "      <td>2</td>\n",
       "    </tr>\n",
       "    <tr>\n",
       "      <th>55</th>\n",
       "      <td>1</td>\n",
       "      <td>1</td>\n",
       "      <td>0</td>\n",
       "      <td>28.0</td>\n",
       "      <td>35.5000</td>\n",
       "      <td>0</td>\n",
       "    </tr>\n",
       "    <tr>\n",
       "      <th>76</th>\n",
       "      <td>0</td>\n",
       "      <td>3</td>\n",
       "      <td>0</td>\n",
       "      <td>28.0</td>\n",
       "      <td>7.8958</td>\n",
       "      <td>0</td>\n",
       "    </tr>\n",
       "    <tr>\n",
       "      <th>77</th>\n",
       "      <td>0</td>\n",
       "      <td>3</td>\n",
       "      <td>0</td>\n",
       "      <td>28.0</td>\n",
       "      <td>8.0500</td>\n",
       "      <td>0</td>\n",
       "    </tr>\n",
       "    <tr>\n",
       "      <th>87</th>\n",
       "      <td>0</td>\n",
       "      <td>3</td>\n",
       "      <td>0</td>\n",
       "      <td>28.0</td>\n",
       "      <td>8.0500</td>\n",
       "      <td>0</td>\n",
       "    </tr>\n",
       "    <tr>\n",
       "      <th>95</th>\n",
       "      <td>0</td>\n",
       "      <td>3</td>\n",
       "      <td>0</td>\n",
       "      <td>28.0</td>\n",
       "      <td>8.0500</td>\n",
       "      <td>0</td>\n",
       "    </tr>\n",
       "    <tr>\n",
       "      <th>101</th>\n",
       "      <td>0</td>\n",
       "      <td>3</td>\n",
       "      <td>0</td>\n",
       "      <td>28.0</td>\n",
       "      <td>7.8958</td>\n",
       "      <td>0</td>\n",
       "    </tr>\n",
       "    <tr>\n",
       "      <th>105</th>\n",
       "      <td>0</td>\n",
       "      <td>3</td>\n",
       "      <td>0</td>\n",
       "      <td>28.0</td>\n",
       "      <td>7.8958</td>\n",
       "      <td>0</td>\n",
       "    </tr>\n",
       "    <tr>\n",
       "      <th>120</th>\n",
       "      <td>0</td>\n",
       "      <td>2</td>\n",
       "      <td>0</td>\n",
       "      <td>21.0</td>\n",
       "      <td>73.5000</td>\n",
       "      <td>0</td>\n",
       "    </tr>\n",
       "    <tr>\n",
       "      <th>121</th>\n",
       "      <td>0</td>\n",
       "      <td>3</td>\n",
       "      <td>0</td>\n",
       "      <td>28.0</td>\n",
       "      <td>8.0500</td>\n",
       "      <td>0</td>\n",
       "    </tr>\n",
       "  </tbody>\n",
       "</table>\n",
       "</div>"
      ],
      "text/plain": [
       "     Survived  Pclass  Sex   Age     Fare  Embarked\n",
       "47          1       3    1  28.0   7.7500         2\n",
       "55          1       1    0  28.0  35.5000         0\n",
       "76          0       3    0  28.0   7.8958         0\n",
       "77          0       3    0  28.0   8.0500         0\n",
       "87          0       3    0  28.0   8.0500         0\n",
       "95          0       3    0  28.0   8.0500         0\n",
       "101         0       3    0  28.0   7.8958         0\n",
       "105         0       3    0  28.0   7.8958         0\n",
       "120         0       2    0  21.0  73.5000         0\n",
       "121         0       3    0  28.0   8.0500         0"
      ]
     },
     "execution_count": 6,
     "metadata": {},
     "output_type": "execute_result"
    }
   ],
   "source": [
    "#Check Duplicates:\n",
    "dupstr = df.duplicated()\n",
    "print('Total no of duplicate values in Training Dataset = %d' % (dupstr.sum()))\n",
    "df[dupstr].head(10)"
   ]
  },
  {
   "cell_type": "code",
   "execution_count": 7,
   "id": "42f4dee6",
   "metadata": {
    "execution": {
     "iopub.execute_input": "2025-07-09T02:25:01.197090Z",
     "iopub.status.busy": "2025-07-09T02:25:01.196797Z",
     "iopub.status.idle": "2025-07-09T02:25:01.205724Z",
     "shell.execute_reply": "2025-07-09T02:25:01.204742Z"
    },
    "papermill": {
     "duration": 0.037568,
     "end_time": "2025-07-09T02:25:01.207657",
     "exception": false,
     "start_time": "2025-07-09T02:25:01.170089",
     "status": "completed"
    },
    "tags": []
   },
   "outputs": [
    {
     "name": "stdout",
     "output_type": "stream",
     "text": [
      "Missing data by column as a percent:\n",
      "Survived    0.0\n",
      "Pclass      0.0\n",
      "Sex         0.0\n",
      "Age         0.0\n",
      "Fare        0.0\n",
      "dtype: float64\n"
     ]
    }
   ],
   "source": [
    "#search for columns with missing values:\n",
    "def findNA():\n",
    "    print(\"Missing data by column as a percent:\")\n",
    "    findNA=df.isnull().sum().sort_values(ascending=False)/len(df)\n",
    "    print(findNA.head())\n",
    "findNA() "
   ]
  },
  {
   "cell_type": "markdown",
   "id": "407ad75b",
   "metadata": {
    "papermill": {
     "duration": 0.025306,
     "end_time": "2025-07-09T02:25:01.258339",
     "exception": false,
     "start_time": "2025-07-09T02:25:01.233033",
     "status": "completed"
    },
    "tags": []
   },
   "source": [
    "## Confusion Matrix\n",
    "Males (Sex = 0) had a much lower survival rate than females (Sex = 1).\n",
    "As we’ll see later in feature importance, gender is one of the most predictive features."
   ]
  },
  {
   "cell_type": "code",
   "execution_count": 8,
   "id": "3cd14b67",
   "metadata": {
    "execution": {
     "iopub.execute_input": "2025-07-09T02:25:01.310646Z",
     "iopub.status.busy": "2025-07-09T02:25:01.310388Z",
     "iopub.status.idle": "2025-07-09T02:25:01.338120Z",
     "shell.execute_reply": "2025-07-09T02:25:01.337262Z"
    },
    "papermill": {
     "duration": 0.056687,
     "end_time": "2025-07-09T02:25:01.340304",
     "exception": false,
     "start_time": "2025-07-09T02:25:01.283617",
     "status": "completed"
    },
    "tags": []
   },
   "outputs": [
    {
     "data": {
      "text/html": [
       "<div>\n",
       "<style scoped>\n",
       "    .dataframe tbody tr th:only-of-type {\n",
       "        vertical-align: middle;\n",
       "    }\n",
       "\n",
       "    .dataframe tbody tr th {\n",
       "        vertical-align: top;\n",
       "    }\n",
       "\n",
       "    .dataframe thead th {\n",
       "        text-align: right;\n",
       "    }\n",
       "</style>\n",
       "<table border=\"1\" class=\"dataframe\">\n",
       "  <thead>\n",
       "    <tr style=\"text-align: right;\">\n",
       "      <th></th>\n",
       "      <th>Male</th>\n",
       "      <th>Female</th>\n",
       "    </tr>\n",
       "  </thead>\n",
       "  <tbody>\n",
       "    <tr>\n",
       "      <th>Did Not Survive</th>\n",
       "      <td>0.85</td>\n",
       "      <td>0.15</td>\n",
       "    </tr>\n",
       "    <tr>\n",
       "      <th>Survived</th>\n",
       "      <td>0.32</td>\n",
       "      <td>0.68</td>\n",
       "    </tr>\n",
       "  </tbody>\n",
       "</table>\n",
       "</div>"
      ],
      "text/plain": [
       "                 Male  Female\n",
       "Did Not Survive  0.85    0.15\n",
       "Survived         0.32    0.68"
      ]
     },
     "execution_count": 8,
     "metadata": {},
     "output_type": "execute_result"
    }
   ],
   "source": [
    "genderTable = pd.crosstab(df['Survived'],df['Sex'])\n",
    "genderTable.columns = ['Male', 'Female']\n",
    "genderTable.index = ['Did Not Survive', 'Survived']\n",
    "gender_percent = genderTable.div(genderTable.sum(axis=1), axis=0).round(2)\n",
    "gender_percent"
   ]
  },
  {
   "cell_type": "markdown",
   "id": "91693359",
   "metadata": {
    "papermill": {
     "duration": 0.025689,
     "end_time": "2025-07-09T02:25:01.391968",
     "exception": false,
     "start_time": "2025-07-09T02:25:01.366279",
     "status": "completed"
    },
    "tags": []
   },
   "source": [
    "# Examine Target Variable\n",
    "Survived is the Y variable we will be analyzing. Since the survival rete is 0.384 the data is not considered unbalanced. "
   ]
  },
  {
   "cell_type": "code",
   "execution_count": 9,
   "id": "9475f5b8",
   "metadata": {
    "execution": {
     "iopub.execute_input": "2025-07-09T02:25:01.446719Z",
     "iopub.status.busy": "2025-07-09T02:25:01.446458Z",
     "iopub.status.idle": "2025-07-09T02:25:01.453658Z",
     "shell.execute_reply": "2025-07-09T02:25:01.452750Z"
    },
    "papermill": {
     "duration": 0.036987,
     "end_time": "2025-07-09T02:25:01.455793",
     "exception": false,
     "start_time": "2025-07-09T02:25:01.418806",
     "status": "completed"
    },
    "tags": []
   },
   "outputs": [
    {
     "name": "stdout",
     "output_type": "stream",
     "text": [
      "0    549\n",
      "1    342\n",
      "Name: Survived, dtype: int64\n",
      "Percent that survived:  0.384\n"
     ]
    }
   ],
   "source": [
    "temp=df['Survived'].value_counts()\n",
    "print(temp)\n",
    "no=temp[0]\n",
    "yes=temp[1]\n",
    "percent=round(yes/(yes+no),3)\n",
    "print(\"Percent that survived: \", percent)"
   ]
  },
  {
   "cell_type": "markdown",
   "id": "229b8812",
   "metadata": {
    "papermill": {
     "duration": 0.025776,
     "end_time": "2025-07-09T02:25:01.507675",
     "exception": false,
     "start_time": "2025-07-09T02:25:01.481899",
     "status": "completed"
    },
    "tags": []
   },
   "source": [
    "# Numeric DataFrame\n",
    "For now, we will analyze only numeric values. Categorical values will need to be encoded or analyzed individually."
   ]
  },
  {
   "cell_type": "code",
   "execution_count": 10,
   "id": "ad4f6276",
   "metadata": {
    "execution": {
     "iopub.execute_input": "2025-07-09T02:25:01.560916Z",
     "iopub.status.busy": "2025-07-09T02:25:01.560654Z",
     "iopub.status.idle": "2025-07-09T02:25:01.573611Z",
     "shell.execute_reply": "2025-07-09T02:25:01.572781Z"
    },
    "papermill": {
     "duration": 0.041904,
     "end_time": "2025-07-09T02:25:01.575522",
     "exception": false,
     "start_time": "2025-07-09T02:25:01.533618",
     "status": "completed"
    },
    "tags": []
   },
   "outputs": [
    {
     "data": {
      "text/html": [
       "<div>\n",
       "<style scoped>\n",
       "    .dataframe tbody tr th:only-of-type {\n",
       "        vertical-align: middle;\n",
       "    }\n",
       "\n",
       "    .dataframe tbody tr th {\n",
       "        vertical-align: top;\n",
       "    }\n",
       "\n",
       "    .dataframe thead th {\n",
       "        text-align: right;\n",
       "    }\n",
       "</style>\n",
       "<table border=\"1\" class=\"dataframe\">\n",
       "  <thead>\n",
       "    <tr style=\"text-align: right;\">\n",
       "      <th></th>\n",
       "      <th>Survived</th>\n",
       "      <th>Pclass</th>\n",
       "      <th>Sex</th>\n",
       "      <th>Age</th>\n",
       "      <th>Fare</th>\n",
       "      <th>Embarked</th>\n",
       "    </tr>\n",
       "  </thead>\n",
       "  <tbody>\n",
       "    <tr>\n",
       "      <th>0</th>\n",
       "      <td>0</td>\n",
       "      <td>3</td>\n",
       "      <td>0</td>\n",
       "      <td>22.0</td>\n",
       "      <td>7.2500</td>\n",
       "      <td>0</td>\n",
       "    </tr>\n",
       "    <tr>\n",
       "      <th>1</th>\n",
       "      <td>1</td>\n",
       "      <td>1</td>\n",
       "      <td>1</td>\n",
       "      <td>38.0</td>\n",
       "      <td>71.2833</td>\n",
       "      <td>1</td>\n",
       "    </tr>\n",
       "    <tr>\n",
       "      <th>2</th>\n",
       "      <td>1</td>\n",
       "      <td>3</td>\n",
       "      <td>1</td>\n",
       "      <td>26.0</td>\n",
       "      <td>7.9250</td>\n",
       "      <td>0</td>\n",
       "    </tr>\n",
       "    <tr>\n",
       "      <th>3</th>\n",
       "      <td>1</td>\n",
       "      <td>1</td>\n",
       "      <td>1</td>\n",
       "      <td>35.0</td>\n",
       "      <td>53.1000</td>\n",
       "      <td>0</td>\n",
       "    </tr>\n",
       "    <tr>\n",
       "      <th>4</th>\n",
       "      <td>0</td>\n",
       "      <td>3</td>\n",
       "      <td>0</td>\n",
       "      <td>35.0</td>\n",
       "      <td>8.0500</td>\n",
       "      <td>0</td>\n",
       "    </tr>\n",
       "  </tbody>\n",
       "</table>\n",
       "</div>"
      ],
      "text/plain": [
       "   Survived  Pclass  Sex   Age     Fare  Embarked\n",
       "0         0       3    0  22.0   7.2500         0\n",
       "1         1       1    1  38.0  71.2833         1\n",
       "2         1       3    1  26.0   7.9250         0\n",
       "3         1       1    1  35.0  53.1000         0\n",
       "4         0       3    0  35.0   8.0500         0"
      ]
     },
     "execution_count": 10,
     "metadata": {},
     "output_type": "execute_result"
    }
   ],
   "source": [
    "numerics = ['int16', 'int32', 'int64', 'float16', 'float32', 'float64']\n",
    "df = df.select_dtypes(include=numerics)\n",
    "df.head()"
   ]
  },
  {
   "cell_type": "markdown",
   "id": "bbbd633a",
   "metadata": {
    "papermill": {
     "duration": 0.026594,
     "end_time": "2025-07-09T02:25:01.630486",
     "exception": false,
     "start_time": "2025-07-09T02:25:01.603892",
     "status": "completed"
    },
    "tags": []
   },
   "source": [
    "# Check for missing values\n",
    "Age is missing around 20% of values.Therefore, we can simply fill in the mean for that one column."
   ]
  },
  {
   "cell_type": "code",
   "execution_count": 11,
   "id": "af4c74a0",
   "metadata": {
    "execution": {
     "iopub.execute_input": "2025-07-09T02:25:01.685106Z",
     "iopub.status.busy": "2025-07-09T02:25:01.684833Z",
     "iopub.status.idle": "2025-07-09T02:25:01.692954Z",
     "shell.execute_reply": "2025-07-09T02:25:01.692025Z"
    },
    "papermill": {
     "duration": 0.038092,
     "end_time": "2025-07-09T02:25:01.695237",
     "exception": false,
     "start_time": "2025-07-09T02:25:01.657145",
     "status": "completed"
    },
    "tags": []
   },
   "outputs": [
    {
     "name": "stdout",
     "output_type": "stream",
     "text": [
      "Missing data by column as a percent:\n",
      "Survived    0.0\n",
      "Pclass      0.0\n",
      "Sex         0.0\n",
      "Age         0.0\n",
      "Fare        0.0\n",
      "dtype: float64\n"
     ]
    }
   ],
   "source": [
    "#search for columns with missing values:\n",
    "def findNA():\n",
    "    print(\"Missing data by column as a percent:\")\n",
    "    findNA=df.isnull().sum().sort_values(ascending=False)/len(df)\n",
    "    print(findNA.head())\n",
    "findNA() "
   ]
  },
  {
   "cell_type": "code",
   "execution_count": 12,
   "id": "7d63ae88",
   "metadata": {
    "execution": {
     "iopub.execute_input": "2025-07-09T02:25:01.749645Z",
     "iopub.status.busy": "2025-07-09T02:25:01.749380Z",
     "iopub.status.idle": "2025-07-09T02:25:01.757484Z",
     "shell.execute_reply": "2025-07-09T02:25:01.756677Z"
    },
    "papermill": {
     "duration": 0.037733,
     "end_time": "2025-07-09T02:25:01.759489",
     "exception": false,
     "start_time": "2025-07-09T02:25:01.721756",
     "status": "completed"
    },
    "tags": []
   },
   "outputs": [],
   "source": [
    "df= df.fillna(df.mean())"
   ]
  },
  {
   "cell_type": "markdown",
   "id": "8a0a386a",
   "metadata": {
    "papermill": {
     "duration": 0.026587,
     "end_time": "2025-07-09T02:25:01.813165",
     "exception": false,
     "start_time": "2025-07-09T02:25:01.786578",
     "status": "completed"
    },
    "tags": []
   },
   "source": [
    "# Split Data"
   ]
  },
  {
   "cell_type": "code",
   "execution_count": 13,
   "id": "642775b8",
   "metadata": {
    "execution": {
     "iopub.execute_input": "2025-07-09T02:25:01.867852Z",
     "iopub.status.busy": "2025-07-09T02:25:01.867570Z",
     "iopub.status.idle": "2025-07-09T02:25:01.875454Z",
     "shell.execute_reply": "2025-07-09T02:25:01.874744Z"
    },
    "papermill": {
     "duration": 0.037625,
     "end_time": "2025-07-09T02:25:01.877430",
     "exception": false,
     "start_time": "2025-07-09T02:25:01.839805",
     "status": "completed"
    },
    "tags": []
   },
   "outputs": [],
   "source": [
    "X=df.drop('Survived', axis=1)\n",
    "y=df['Survived']\n",
    "\n",
    "X_train, X_test, y_train, y_test = train_test_split(\n",
    "    X, y, test_size = 0.30, random_state = 42)"
   ]
  },
  {
   "cell_type": "markdown",
   "id": "19d0a3cf",
   "metadata": {
    "papermill": {
     "duration": 0.026355,
     "end_time": "2025-07-09T02:25:01.930170",
     "exception": false,
     "start_time": "2025-07-09T02:25:01.903815",
     "status": "completed"
    },
    "tags": []
   },
   "source": [
    "# Highly Correlated Features\n",
    "There are no highly correlated variables above 80%. Therefore, we do not need to be concerned about removing variables that are too highly correlated. "
   ]
  },
  {
   "cell_type": "markdown",
   "id": "5f2a034e",
   "metadata": {
    "_kg_hide-output": true,
    "papermill": {
     "duration": 0.026191,
     "end_time": "2025-07-09T02:25:01.983095",
     "exception": false,
     "start_time": "2025-07-09T02:25:01.956904",
     "status": "completed"
    },
    "tags": []
   },
   "source": [
    "# Tunning Forest\n",
    "Random forest AUC:  0.8503 which is good results considering forest does not overfit data."
   ]
  },
  {
   "cell_type": "code",
   "execution_count": 14,
   "id": "ccd81c6c",
   "metadata": {
    "execution": {
     "iopub.execute_input": "2025-07-09T02:25:02.037887Z",
     "iopub.status.busy": "2025-07-09T02:25:02.037191Z",
     "iopub.status.idle": "2025-07-09T02:25:02.045439Z",
     "shell.execute_reply": "2025-07-09T02:25:02.044582Z"
    },
    "papermill": {
     "duration": 0.037887,
     "end_time": "2025-07-09T02:25:02.047376",
     "exception": false,
     "start_time": "2025-07-09T02:25:02.009489",
     "status": "completed"
    },
    "tags": []
   },
   "outputs": [],
   "source": [
    "from sklearn.ensemble import RandomForestRegressor, RandomForestClassifier\n",
    "\n",
    "#Check for Error and find Best n_estimators:\n",
    "def forestNumEst():\n",
    "    numbers= [2, 20, 40, 50, 60, 100]\n",
    "    maeList=[] #error\n",
    "    accList=[]\n",
    "    \n",
    "    for n in numbers:\n",
    "        forest = RandomForestClassifier(n_estimators=n, oob_score = True)\n",
    "        forest.fit(X_train, y_train)\n",
    "        y_pred = forest.predict(X_test)\n",
    "        mae=metrics.mean_absolute_error(y_test, y_pred).round(2)\n",
    "        forest_auc = round( metrics.roc_auc_score(y_test, y_pred), 4 ) \n",
    "        #print(\"Random forest AUC: \", forest_auc) \n",
    "      \n",
    "        accList.append(forest_auc)\n",
    "        maeList.append(mae)\n",
    "        \n",
    "    plt.plot(numbers,accList)\n",
    "    plt.title(\"Forest Estimators\" )\n",
    "    plt.xlabel(\"Estimators\")\n",
    "    plt.ylabel('Accuracy')\n",
    "    plt.legend()\n",
    "    plt.show() \n",
    "    \n",
    "    plt.plot(numbers, maeList)\n",
    "    plt.title(\"Forest Estimators\" )\n",
    "    plt.xlabel(\"Estimators\")\n",
    "    plt.ylabel('error')\n",
    "    plt.legend()\n",
    "    plt.show() \n",
    "\n",
    "#forestNumEst() "
   ]
  },
  {
   "cell_type": "markdown",
   "id": "c0a32b97",
   "metadata": {
    "papermill": {
     "duration": 0.027851,
     "end_time": "2025-07-09T02:25:02.101667",
     "exception": false,
     "start_time": "2025-07-09T02:25:02.073816",
     "status": "completed"
    },
    "tags": []
   },
   "source": [
    "# GridSearch CV\n",
    "GridSearchCV helps find the best combination of model parameters by testing all possible combinations from a grid you define. It trains the model multiple times using cross-validation and returns the settings that give the highest accuracy (or lowest error). This helps automate model tuning and improves performance by avoiding guesswork."
   ]
  },
  {
   "cell_type": "code",
   "execution_count": 15,
   "id": "44f4a5d6",
   "metadata": {
    "execution": {
     "iopub.execute_input": "2025-07-09T02:25:02.156539Z",
     "iopub.status.busy": "2025-07-09T02:25:02.155958Z",
     "iopub.status.idle": "2025-07-09T02:25:28.117258Z",
     "shell.execute_reply": "2025-07-09T02:25:28.116426Z"
    },
    "papermill": {
     "duration": 25.991341,
     "end_time": "2025-07-09T02:25:28.119601",
     "exception": false,
     "start_time": "2025-07-09T02:25:02.128260",
     "status": "completed"
    },
    "tags": []
   },
   "outputs": [],
   "source": [
    "from sklearn.model_selection import GridSearchCV, StratifiedKFold, cross_val_score\n",
    "\n",
    "def runGridSearch():\n",
    "    params = {\n",
    "        'n_estimators':[50, 60, 70],\n",
    "        'max_depth':[6, 9, 12],\n",
    "        'min_samples_split':[2, 3],  #2 is default\n",
    "        'min_samples_leaf':[1, 3, 5]   #1 is default\n",
    "        #'max_features':['auto', 'sqrt', 'log2'],\n",
    "        #'criterion':['gini', 'entropy'],\n",
    "    }\n",
    "    \n",
    "    #kfold = StratifiedKFold(n_splits=5, shuffle=True, random_state=7)\n",
    "    forestGrid=GridSearchCV(estimator=RandomForestClassifier(), param_grid=params, cv=5, scoring='accuracy')\n",
    "    forestGrid.fit(X_train, y_train)\n",
    "    forestGrid.best_params_\n",
    "runGridSearch()"
   ]
  },
  {
   "cell_type": "markdown",
   "id": "eaca0fbf",
   "metadata": {
    "papermill": {
     "duration": 0.026159,
     "end_time": "2025-07-09T02:25:28.172399",
     "exception": false,
     "start_time": "2025-07-09T02:25:28.146240",
     "status": "completed"
    },
    "tags": []
   },
   "source": [
    "#### Final Random Forest Prediction\n",
    "* Top 5% Using {'max_depth': 5, 'n_estimators': 60} 0.79425"
   ]
  },
  {
   "cell_type": "markdown",
   "id": "ac743f5b",
   "metadata": {
    "papermill": {
     "duration": 0.026942,
     "end_time": "2025-07-09T02:25:28.225872",
     "exception": false,
     "start_time": "2025-07-09T02:25:28.198930",
     "status": "completed"
    },
    "tags": []
   },
   "source": [
    "# Test Data"
   ]
  },
  {
   "cell_type": "code",
   "execution_count": 16,
   "id": "56b13890",
   "metadata": {
    "execution": {
     "iopub.execute_input": "2025-07-09T02:25:28.280457Z",
     "iopub.status.busy": "2025-07-09T02:25:28.280178Z",
     "iopub.status.idle": "2025-07-09T02:25:28.292171Z",
     "shell.execute_reply": "2025-07-09T02:25:28.291328Z"
    },
    "papermill": {
     "duration": 0.041693,
     "end_time": "2025-07-09T02:25:28.294168",
     "exception": false,
     "start_time": "2025-07-09T02:25:28.252475",
     "status": "completed"
    },
    "tags": []
   },
   "outputs": [
    {
     "data": {
      "text/html": [
       "<div>\n",
       "<style scoped>\n",
       "    .dataframe tbody tr th:only-of-type {\n",
       "        vertical-align: middle;\n",
       "    }\n",
       "\n",
       "    .dataframe tbody tr th {\n",
       "        vertical-align: top;\n",
       "    }\n",
       "\n",
       "    .dataframe thead th {\n",
       "        text-align: right;\n",
       "    }\n",
       "</style>\n",
       "<table border=\"1\" class=\"dataframe\">\n",
       "  <thead>\n",
       "    <tr style=\"text-align: right;\">\n",
       "      <th></th>\n",
       "      <th>Pclass</th>\n",
       "      <th>Sex</th>\n",
       "      <th>Age</th>\n",
       "      <th>Fare</th>\n",
       "      <th>Embarked</th>\n",
       "    </tr>\n",
       "  </thead>\n",
       "  <tbody>\n",
       "    <tr>\n",
       "      <th>0</th>\n",
       "      <td>3</td>\n",
       "      <td>0</td>\n",
       "      <td>34.5</td>\n",
       "      <td>7.8292</td>\n",
       "      <td>2</td>\n",
       "    </tr>\n",
       "    <tr>\n",
       "      <th>1</th>\n",
       "      <td>3</td>\n",
       "      <td>1</td>\n",
       "      <td>47.0</td>\n",
       "      <td>7.0000</td>\n",
       "      <td>0</td>\n",
       "    </tr>\n",
       "    <tr>\n",
       "      <th>2</th>\n",
       "      <td>2</td>\n",
       "      <td>0</td>\n",
       "      <td>62.0</td>\n",
       "      <td>9.6875</td>\n",
       "      <td>2</td>\n",
       "    </tr>\n",
       "    <tr>\n",
       "      <th>3</th>\n",
       "      <td>3</td>\n",
       "      <td>0</td>\n",
       "      <td>27.0</td>\n",
       "      <td>8.6625</td>\n",
       "      <td>0</td>\n",
       "    </tr>\n",
       "    <tr>\n",
       "      <th>4</th>\n",
       "      <td>3</td>\n",
       "      <td>1</td>\n",
       "      <td>22.0</td>\n",
       "      <td>12.2875</td>\n",
       "      <td>0</td>\n",
       "    </tr>\n",
       "  </tbody>\n",
       "</table>\n",
       "</div>"
      ],
      "text/plain": [
       "   Pclass  Sex   Age     Fare  Embarked\n",
       "0       3    0  34.5   7.8292         2\n",
       "1       3    1  47.0   7.0000         0\n",
       "2       2    0  62.0   9.6875         2\n",
       "3       3    0  27.0   8.6625         0\n",
       "4       3    1  22.0  12.2875         0"
      ]
     },
     "execution_count": 16,
     "metadata": {},
     "output_type": "execute_result"
    }
   ],
   "source": [
    "col_features=list(X.columns)\n",
    "test_df=test_df[col_features]\n",
    "test_df.head()"
   ]
  },
  {
   "cell_type": "markdown",
   "id": "491ae57b",
   "metadata": {
    "papermill": {
     "duration": 0.026809,
     "end_time": "2025-07-09T02:25:28.348180",
     "exception": false,
     "start_time": "2025-07-09T02:25:28.321371",
     "status": "completed"
    },
    "tags": []
   },
   "source": [
    "# Final Prediction"
   ]
  },
  {
   "cell_type": "code",
   "execution_count": 17,
   "id": "ffd3ad74",
   "metadata": {
    "execution": {
     "iopub.execute_input": "2025-07-09T02:25:28.403479Z",
     "iopub.status.busy": "2025-07-09T02:25:28.403210Z",
     "iopub.status.idle": "2025-07-09T02:25:28.431823Z",
     "shell.execute_reply": "2025-07-09T02:25:28.430957Z"
    },
    "papermill": {
     "duration": 0.058739,
     "end_time": "2025-07-09T02:25:28.433816",
     "exception": false,
     "start_time": "2025-07-09T02:25:28.375077",
     "status": "completed"
    },
    "tags": []
   },
   "outputs": [
    {
     "data": {
      "text/html": [
       "<div>\n",
       "<style scoped>\n",
       "    .dataframe tbody tr th:only-of-type {\n",
       "        vertical-align: middle;\n",
       "    }\n",
       "\n",
       "    .dataframe tbody tr th {\n",
       "        vertical-align: top;\n",
       "    }\n",
       "\n",
       "    .dataframe thead th {\n",
       "        text-align: right;\n",
       "    }\n",
       "</style>\n",
       "<table border=\"1\" class=\"dataframe\">\n",
       "  <thead>\n",
       "    <tr style=\"text-align: right;\">\n",
       "      <th></th>\n",
       "      <th>PassengerId</th>\n",
       "      <th>Survived</th>\n",
       "    </tr>\n",
       "  </thead>\n",
       "  <tbody>\n",
       "    <tr>\n",
       "      <th>0</th>\n",
       "      <td>892</td>\n",
       "      <td>0</td>\n",
       "    </tr>\n",
       "    <tr>\n",
       "      <th>1</th>\n",
       "      <td>893</td>\n",
       "      <td>0</td>\n",
       "    </tr>\n",
       "    <tr>\n",
       "      <th>2</th>\n",
       "      <td>894</td>\n",
       "      <td>0</td>\n",
       "    </tr>\n",
       "    <tr>\n",
       "      <th>3</th>\n",
       "      <td>895</td>\n",
       "      <td>1</td>\n",
       "    </tr>\n",
       "    <tr>\n",
       "      <th>4</th>\n",
       "      <td>896</td>\n",
       "      <td>1</td>\n",
       "    </tr>\n",
       "  </tbody>\n",
       "</table>\n",
       "</div>"
      ],
      "text/plain": [
       "   PassengerId  Survived\n",
       "0          892         0\n",
       "1          893         0\n",
       "2          894         0\n",
       "3          895         1\n",
       "4          896         1"
      ]
     },
     "execution_count": 17,
     "metadata": {},
     "output_type": "execute_result"
    }
   ],
   "source": [
    "test_predictions = model.predict(test_df)\n",
    "tupleData = list(zip(passID, test_predictions))\n",
    "output = pd.DataFrame(tupleData, columns = ['PassengerId', 'Survived'])\n",
    "output.head()"
   ]
  },
  {
   "cell_type": "code",
   "execution_count": 18,
   "id": "36374186",
   "metadata": {
    "execution": {
     "iopub.execute_input": "2025-07-09T02:25:28.490832Z",
     "iopub.status.busy": "2025-07-09T02:25:28.490573Z",
     "iopub.status.idle": "2025-07-09T02:25:28.497886Z",
     "shell.execute_reply": "2025-07-09T02:25:28.497031Z"
    },
    "papermill": {
     "duration": 0.038073,
     "end_time": "2025-07-09T02:25:28.499765",
     "exception": false,
     "start_time": "2025-07-09T02:25:28.461692",
     "status": "completed"
    },
    "tags": []
   },
   "outputs": [
    {
     "name": "stdout",
     "output_type": "stream",
     "text": [
      "Your submission was successfully saved!\n"
     ]
    }
   ],
   "source": [
    "output.to_csv('submission.csv', index=False)\n",
    "print(\"Your submission was successfully saved!\")"
   ]
  },
  {
   "cell_type": "code",
   "execution_count": 19,
   "id": "9e15c512",
   "metadata": {
    "execution": {
     "iopub.execute_input": "2025-07-09T02:25:28.556633Z",
     "iopub.status.busy": "2025-07-09T02:25:28.556371Z",
     "iopub.status.idle": "2025-07-09T02:25:28.561479Z",
     "shell.execute_reply": "2025-07-09T02:25:28.560611Z"
    },
    "papermill": {
     "duration": 0.035856,
     "end_time": "2025-07-09T02:25:28.563404",
     "exception": false,
     "start_time": "2025-07-09T02:25:28.527548",
     "status": "completed"
    },
    "tags": []
   },
   "outputs": [
    {
     "name": "stdout",
     "output_type": "stream",
     "text": [
      "Files in current directory: ['__notebook__.ipynb', 'submission.csv']\n"
     ]
    }
   ],
   "source": [
    "import os\n",
    "print(\"Files in current directory:\", os.listdir())"
   ]
  }
 ],
 "metadata": {
  "kaggle": {
   "accelerator": "none",
   "dataSources": [
    {
     "databundleVersionId": 26502,
     "sourceId": 3136,
     "sourceType": "competition"
    }
   ],
   "dockerImageVersionId": 30184,
   "isGpuEnabled": false,
   "isInternetEnabled": true,
   "language": "python",
   "sourceType": "notebook"
  },
  "kernelspec": {
   "display_name": "Python 3",
   "language": "python",
   "name": "python3"
  },
  "language_info": {
   "codemirror_mode": {
    "name": "ipython",
    "version": 3
   },
   "file_extension": ".py",
   "mimetype": "text/x-python",
   "name": "python",
   "nbconvert_exporter": "python",
   "pygments_lexer": "ipython3",
   "version": "3.7.12"
  },
  "papermill": {
   "default_parameters": {},
   "duration": 40.597173,
   "end_time": "2025-07-09T02:25:29.312333",
   "environment_variables": {},
   "exception": null,
   "input_path": "__notebook__.ipynb",
   "output_path": "__notebook__.ipynb",
   "parameters": {},
   "start_time": "2025-07-09T02:24:48.715160",
   "version": "2.3.4"
  }
 },
 "nbformat": 4,
 "nbformat_minor": 5
}
